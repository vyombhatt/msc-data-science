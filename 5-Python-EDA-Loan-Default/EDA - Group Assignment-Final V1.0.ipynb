{
 "cells": [
  {
   "cell_type": "code",
   "execution_count": 1,
   "metadata": {},
   "outputs": [],
   "source": [
    "import warnings\n",
    "warnings.filterwarnings('ignore')\n",
    "# Importing Libraries required\n",
    "import numpy as np\n",
    "import pandas as pd\n",
    "import matplotlib.pyplot as plt\n",
    "import seaborn as sns\n",
    "import statistics as stats\n",
    "import datetime\n",
    "from datetime import date as dt\n",
    "from datetime import time\n",
    "from datetime import timedelta"
   ]
  },
  {
   "cell_type": "markdown",
   "metadata": {},
   "source": [
    "## Business Objectives\n",
    "\n",
    "This is exploratory data Analysis of one of the Lending Firms. This company is the largest online loan marketplace, facilitating personal loans, business loans, and financing of medical procedures. Borrowers can easily access lower interest rate loans through a fast online interface. \n",
    "\n",
    "    \"Like most other lending companies, lending loans to ‘risky’ applicants is the largest source of financial loss (called credit loss). The credit loss is the amount of money lost by the lender when the borrower refuses to pay or runs away with the money owed. In other words, borrowers who default cause the largest amount of loss to the lenders. In this case, the customers labelled as 'charged-off' are the 'defaulters'.\"\n",
    "\n",
    "If one is able to identify these risky loan applicants, then such loans can be reduced thereby cutting down the amount of credit loss.\n",
    "\n",
    "Here we are trying to identify the driving factors behind being a loan defaulters. This can help the firm use its prior knowledge, do a proper risk assessment and reduce the credit loss as much as possible."
   ]
  },
  {
   "cell_type": "markdown",
   "metadata": {},
   "source": [
    "## Loading and Inspecting the Data Set"
   ]
  },
  {
   "cell_type": "code",
   "execution_count": 2,
   "metadata": {},
   "outputs": [],
   "source": [
    "loans = pd.read_csv('./loan.csv',sep=\",\",quotechar='\"')"
   ]
  },
  {
   "cell_type": "code",
   "execution_count": 3,
   "metadata": {
    "scrolled": true
   },
   "outputs": [
    {
     "name": "stdout",
     "output_type": "stream",
     "text": [
      "39717\n",
      "(39717, 111)\n",
      "<class 'pandas.core.frame.DataFrame'>\n",
      "RangeIndex: 39717 entries, 0 to 39716\n",
      "Columns: 111 entries, id to total_il_high_credit_limit\n",
      "dtypes: float64(74), int64(13), object(24)\n",
      "memory usage: 33.6+ MB\n"
     ]
    }
   ],
   "source": [
    "print(len(loans.index))\n",
    "print(loans.shape)\n",
    "loans.info()"
   ]
  },
  {
   "cell_type": "markdown",
   "metadata": {},
   "source": [
    "## Data Cleaning"
   ]
  },
  {
   "cell_type": "code",
   "execution_count": 4,
   "metadata": {},
   "outputs": [
    {
     "data": {
      "text/plain": [
       "id                                39717\n",
       "member_id                         39717\n",
       "loan_amnt                           885\n",
       "funded_amnt                        1041\n",
       "funded_amnt_inv                    8205\n",
       "term                                  2\n",
       "int_rate                            371\n",
       "installment                       15383\n",
       "grade                                 7\n",
       "sub_grade                            35\n",
       "emp_title                         28820\n",
       "emp_length                           11\n",
       "home_ownership                        5\n",
       "annual_inc                         5318\n",
       "verification_status                   3\n",
       "issue_d                              55\n",
       "loan_status                           3\n",
       "pymnt_plan                            1\n",
       "url                               39717\n",
       "desc                              26527\n",
       "purpose                              14\n",
       "title                             19615\n",
       "zip_code                            823\n",
       "addr_state                           50\n",
       "dti                                2868\n",
       "delinq_2yrs                          11\n",
       "earliest_cr_line                    526\n",
       "inq_last_6mths                        9\n",
       "mths_since_last_delinq               95\n",
       "mths_since_last_record              111\n",
       "                                  ...  \n",
       "mo_sin_old_rev_tl_op                  0\n",
       "mo_sin_rcnt_rev_tl_op                 0\n",
       "mo_sin_rcnt_tl                        0\n",
       "mort_acc                              0\n",
       "mths_since_recent_bc                  0\n",
       "mths_since_recent_bc_dlq              0\n",
       "mths_since_recent_inq                 0\n",
       "mths_since_recent_revol_delinq        0\n",
       "num_accts_ever_120_pd                 0\n",
       "num_actv_bc_tl                        0\n",
       "num_actv_rev_tl                       0\n",
       "num_bc_sats                           0\n",
       "num_bc_tl                             0\n",
       "num_il_tl                             0\n",
       "num_op_rev_tl                         0\n",
       "num_rev_accts                         0\n",
       "num_rev_tl_bal_gt_0                   0\n",
       "num_sats                              0\n",
       "num_tl_120dpd_2m                      0\n",
       "num_tl_30dpd                          0\n",
       "num_tl_90g_dpd_24m                    0\n",
       "num_tl_op_past_12m                    0\n",
       "pct_tl_nvr_dlq                        0\n",
       "percent_bc_gt_75                      0\n",
       "pub_rec_bankruptcies                  3\n",
       "tax_liens                             1\n",
       "tot_hi_cred_lim                       0\n",
       "total_bal_ex_mort                     0\n",
       "total_bc_limit                        0\n",
       "total_il_high_credit_limit            0\n",
       "Length: 111, dtype: int64"
      ]
     },
     "execution_count": 4,
     "metadata": {},
     "output_type": "execute_result"
    }
   ],
   "source": [
    "# Unique values in Each Column\n",
    "loans.nunique()"
   ]
  },
  {
   "cell_type": "code",
   "execution_count": 5,
   "metadata": {
    "scrolled": true
   },
   "outputs": [
    {
     "data": {
      "text/plain": [
       "total_il_high_credit_limit     100.0\n",
       "mo_sin_old_rev_tl_op           100.0\n",
       "bc_util                        100.0\n",
       "bc_open_to_buy                 100.0\n",
       "avg_cur_bal                    100.0\n",
       "acc_open_past_24mths           100.0\n",
       "inq_last_12m                   100.0\n",
       "total_cu_tl                    100.0\n",
       "inq_fi                         100.0\n",
       "total_rev_hi_lim               100.0\n",
       "all_util                       100.0\n",
       "max_bal_bc                     100.0\n",
       "open_rv_24m                    100.0\n",
       "open_rv_12m                    100.0\n",
       "il_util                        100.0\n",
       "total_bal_il                   100.0\n",
       "mths_since_rcnt_il             100.0\n",
       "open_il_24m                    100.0\n",
       "open_il_12m                    100.0\n",
       "open_il_6m                     100.0\n",
       "open_acc_6m                    100.0\n",
       "tot_cur_bal                    100.0\n",
       "tot_coll_amt                   100.0\n",
       "total_bc_limit                 100.0\n",
       "dti_joint                      100.0\n",
       "annual_inc_joint               100.0\n",
       "mths_since_last_major_derog    100.0\n",
       "mo_sin_old_il_acct             100.0\n",
       "verification_status_joint      100.0\n",
       "mo_sin_rcnt_rev_tl_op          100.0\n",
       "                               ...  \n",
       "term                             0.0\n",
       "funded_amnt_inv                  0.0\n",
       "addr_state                       0.0\n",
       "loan_amnt                        0.0\n",
       "member_id                        0.0\n",
       "zip_code                         0.0\n",
       "total_rec_prncp                  0.0\n",
       "dti                              0.0\n",
       "total_pymnt_inv                  0.0\n",
       "delinq_amnt                      0.0\n",
       "acc_now_delinq                   0.0\n",
       "application_type                 0.0\n",
       "policy_code                      0.0\n",
       "last_pymnt_amnt                  0.0\n",
       "collection_recovery_fee          0.0\n",
       "recoveries                       0.0\n",
       "total_rec_late_fee               0.0\n",
       "total_rec_int                    0.0\n",
       "total_pymnt                      0.0\n",
       "delinq_2yrs                      0.0\n",
       "out_prncp_inv                    0.0\n",
       "out_prncp                        0.0\n",
       "initial_list_status              0.0\n",
       "total_acc                        0.0\n",
       "revol_bal                        0.0\n",
       "pub_rec                          0.0\n",
       "open_acc                         0.0\n",
       "inq_last_6mths                   0.0\n",
       "earliest_cr_line                 0.0\n",
       "id                               0.0\n",
       "Length: 111, dtype: float64"
      ]
     },
     "execution_count": 5,
     "metadata": {},
     "output_type": "execute_result"
    }
   ],
   "source": [
    "# Check % of Nulls in Each Column\n",
    "round(100*loans.isnull().sum()/len(loans.index),2).sort_values(ascending = False)"
   ]
  },
  {
   "cell_type": "markdown",
   "metadata": {},
   "source": [
    "#### Dropping columns with Null values of 90%"
   ]
  },
  {
   "cell_type": "code",
   "execution_count": 6,
   "metadata": {},
   "outputs": [],
   "source": [
    "loans_drop = loans.loc[:,(100*loans.isnull().sum()/len(loans.index)) >= 90].columns"
   ]
  },
  {
   "cell_type": "code",
   "execution_count": 7,
   "metadata": {},
   "outputs": [
    {
     "data": {
      "text/html": [
       "<div>\n",
       "<style scoped>\n",
       "    .dataframe tbody tr th:only-of-type {\n",
       "        vertical-align: middle;\n",
       "    }\n",
       "\n",
       "    .dataframe tbody tr th {\n",
       "        vertical-align: top;\n",
       "    }\n",
       "\n",
       "    .dataframe thead th {\n",
       "        text-align: right;\n",
       "    }\n",
       "</style>\n",
       "<table border=\"1\" class=\"dataframe\">\n",
       "  <thead>\n",
       "    <tr style=\"text-align: right;\">\n",
       "      <th></th>\n",
       "      <th>id</th>\n",
       "      <th>member_id</th>\n",
       "      <th>loan_amnt</th>\n",
       "      <th>funded_amnt</th>\n",
       "      <th>funded_amnt_inv</th>\n",
       "      <th>term</th>\n",
       "      <th>int_rate</th>\n",
       "      <th>installment</th>\n",
       "      <th>grade</th>\n",
       "      <th>sub_grade</th>\n",
       "      <th>...</th>\n",
       "      <th>last_pymnt_amnt</th>\n",
       "      <th>last_credit_pull_d</th>\n",
       "      <th>collections_12_mths_ex_med</th>\n",
       "      <th>policy_code</th>\n",
       "      <th>application_type</th>\n",
       "      <th>acc_now_delinq</th>\n",
       "      <th>chargeoff_within_12_mths</th>\n",
       "      <th>delinq_amnt</th>\n",
       "      <th>pub_rec_bankruptcies</th>\n",
       "      <th>tax_liens</th>\n",
       "    </tr>\n",
       "  </thead>\n",
       "  <tbody>\n",
       "    <tr>\n",
       "      <th>0</th>\n",
       "      <td>1077501</td>\n",
       "      <td>1296599</td>\n",
       "      <td>5000</td>\n",
       "      <td>5000</td>\n",
       "      <td>4975.0</td>\n",
       "      <td>36 months</td>\n",
       "      <td>10.65%</td>\n",
       "      <td>162.87</td>\n",
       "      <td>B</td>\n",
       "      <td>B2</td>\n",
       "      <td>...</td>\n",
       "      <td>171.62</td>\n",
       "      <td>May-16</td>\n",
       "      <td>0.0</td>\n",
       "      <td>1</td>\n",
       "      <td>INDIVIDUAL</td>\n",
       "      <td>0</td>\n",
       "      <td>0.0</td>\n",
       "      <td>0</td>\n",
       "      <td>0.0</td>\n",
       "      <td>0.0</td>\n",
       "    </tr>\n",
       "    <tr>\n",
       "      <th>1</th>\n",
       "      <td>1077430</td>\n",
       "      <td>1314167</td>\n",
       "      <td>2500</td>\n",
       "      <td>2500</td>\n",
       "      <td>2500.0</td>\n",
       "      <td>60 months</td>\n",
       "      <td>15.27%</td>\n",
       "      <td>59.83</td>\n",
       "      <td>C</td>\n",
       "      <td>C4</td>\n",
       "      <td>...</td>\n",
       "      <td>119.66</td>\n",
       "      <td>Sep-13</td>\n",
       "      <td>0.0</td>\n",
       "      <td>1</td>\n",
       "      <td>INDIVIDUAL</td>\n",
       "      <td>0</td>\n",
       "      <td>0.0</td>\n",
       "      <td>0</td>\n",
       "      <td>0.0</td>\n",
       "      <td>0.0</td>\n",
       "    </tr>\n",
       "    <tr>\n",
       "      <th>2</th>\n",
       "      <td>1077175</td>\n",
       "      <td>1313524</td>\n",
       "      <td>2400</td>\n",
       "      <td>2400</td>\n",
       "      <td>2400.0</td>\n",
       "      <td>36 months</td>\n",
       "      <td>15.96%</td>\n",
       "      <td>84.33</td>\n",
       "      <td>C</td>\n",
       "      <td>C5</td>\n",
       "      <td>...</td>\n",
       "      <td>649.91</td>\n",
       "      <td>May-16</td>\n",
       "      <td>0.0</td>\n",
       "      <td>1</td>\n",
       "      <td>INDIVIDUAL</td>\n",
       "      <td>0</td>\n",
       "      <td>0.0</td>\n",
       "      <td>0</td>\n",
       "      <td>0.0</td>\n",
       "      <td>0.0</td>\n",
       "    </tr>\n",
       "    <tr>\n",
       "      <th>3</th>\n",
       "      <td>1076863</td>\n",
       "      <td>1277178</td>\n",
       "      <td>10000</td>\n",
       "      <td>10000</td>\n",
       "      <td>10000.0</td>\n",
       "      <td>36 months</td>\n",
       "      <td>13.49%</td>\n",
       "      <td>339.31</td>\n",
       "      <td>C</td>\n",
       "      <td>C1</td>\n",
       "      <td>...</td>\n",
       "      <td>357.48</td>\n",
       "      <td>Apr-16</td>\n",
       "      <td>0.0</td>\n",
       "      <td>1</td>\n",
       "      <td>INDIVIDUAL</td>\n",
       "      <td>0</td>\n",
       "      <td>0.0</td>\n",
       "      <td>0</td>\n",
       "      <td>0.0</td>\n",
       "      <td>0.0</td>\n",
       "    </tr>\n",
       "    <tr>\n",
       "      <th>4</th>\n",
       "      <td>1075358</td>\n",
       "      <td>1311748</td>\n",
       "      <td>3000</td>\n",
       "      <td>3000</td>\n",
       "      <td>3000.0</td>\n",
       "      <td>60 months</td>\n",
       "      <td>12.69%</td>\n",
       "      <td>67.79</td>\n",
       "      <td>B</td>\n",
       "      <td>B5</td>\n",
       "      <td>...</td>\n",
       "      <td>67.79</td>\n",
       "      <td>May-16</td>\n",
       "      <td>0.0</td>\n",
       "      <td>1</td>\n",
       "      <td>INDIVIDUAL</td>\n",
       "      <td>0</td>\n",
       "      <td>0.0</td>\n",
       "      <td>0</td>\n",
       "      <td>0.0</td>\n",
       "      <td>0.0</td>\n",
       "    </tr>\n",
       "  </tbody>\n",
       "</table>\n",
       "<p>5 rows × 55 columns</p>\n",
       "</div>"
      ],
      "text/plain": [
       "        id  member_id  loan_amnt  funded_amnt  funded_amnt_inv        term  \\\n",
       "0  1077501    1296599       5000         5000           4975.0   36 months   \n",
       "1  1077430    1314167       2500         2500           2500.0   60 months   \n",
       "2  1077175    1313524       2400         2400           2400.0   36 months   \n",
       "3  1076863    1277178      10000        10000          10000.0   36 months   \n",
       "4  1075358    1311748       3000         3000           3000.0   60 months   \n",
       "\n",
       "  int_rate  installment grade sub_grade    ...    last_pymnt_amnt  \\\n",
       "0   10.65%       162.87     B        B2    ...             171.62   \n",
       "1   15.27%        59.83     C        C4    ...             119.66   \n",
       "2   15.96%        84.33     C        C5    ...             649.91   \n",
       "3   13.49%       339.31     C        C1    ...             357.48   \n",
       "4   12.69%        67.79     B        B5    ...              67.79   \n",
       "\n",
       "  last_credit_pull_d collections_12_mths_ex_med  policy_code application_type  \\\n",
       "0             May-16                        0.0            1       INDIVIDUAL   \n",
       "1             Sep-13                        0.0            1       INDIVIDUAL   \n",
       "2             May-16                        0.0            1       INDIVIDUAL   \n",
       "3             Apr-16                        0.0            1       INDIVIDUAL   \n",
       "4             May-16                        0.0            1       INDIVIDUAL   \n",
       "\n",
       "  acc_now_delinq chargeoff_within_12_mths delinq_amnt pub_rec_bankruptcies  \\\n",
       "0              0                      0.0           0                  0.0   \n",
       "1              0                      0.0           0                  0.0   \n",
       "2              0                      0.0           0                  0.0   \n",
       "3              0                      0.0           0                  0.0   \n",
       "4              0                      0.0           0                  0.0   \n",
       "\n",
       "  tax_liens  \n",
       "0       0.0  \n",
       "1       0.0  \n",
       "2       0.0  \n",
       "3       0.0  \n",
       "4       0.0  \n",
       "\n",
       "[5 rows x 55 columns]"
      ]
     },
     "execution_count": 7,
     "metadata": {},
     "output_type": "execute_result"
    }
   ],
   "source": [
    "loan_data = loans.drop(loans_drop, axis=1)\n",
    "loan_data.head()"
   ]
  },
  {
   "cell_type": "code",
   "execution_count": 8,
   "metadata": {},
   "outputs": [
    {
     "data": {
      "text/plain": [
       "mths_since_last_delinq        64.66\n",
       "desc                          32.58\n",
       "emp_title                      6.19\n",
       "emp_length                     2.71\n",
       "pub_rec_bankruptcies           1.75\n",
       "last_pymnt_d                   0.18\n",
       "chargeoff_within_12_mths       0.14\n",
       "collections_12_mths_ex_med     0.14\n",
       "revol_util                     0.13\n",
       "tax_liens                      0.10\n",
       "title                          0.03\n",
       "last_credit_pull_d             0.01\n",
       "term                           0.00\n",
       "loan_status                    0.00\n",
       "purpose                        0.00\n",
       "member_id                      0.00\n",
       "loan_amnt                      0.00\n",
       "funded_amnt                    0.00\n",
       "url                            0.00\n",
       "pymnt_plan                     0.00\n",
       "funded_amnt_inv                0.00\n",
       "issue_d                        0.00\n",
       "int_rate                       0.00\n",
       "verification_status            0.00\n",
       "annual_inc                     0.00\n",
       "home_ownership                 0.00\n",
       "addr_state                     0.00\n",
       "sub_grade                      0.00\n",
       "grade                          0.00\n",
       "installment                    0.00\n",
       "zip_code                       0.00\n",
       "inq_last_6mths                 0.00\n",
       "dti                            0.00\n",
       "total_rec_prncp                0.00\n",
       "delinq_amnt                    0.00\n",
       "acc_now_delinq                 0.00\n",
       "application_type               0.00\n",
       "policy_code                    0.00\n",
       "last_pymnt_amnt                0.00\n",
       "collection_recovery_fee        0.00\n",
       "recoveries                     0.00\n",
       "total_rec_late_fee             0.00\n",
       "total_rec_int                  0.00\n",
       "total_pymnt_inv                0.00\n",
       "delinq_2yrs                    0.00\n",
       "total_pymnt                    0.00\n",
       "out_prncp_inv                  0.00\n",
       "out_prncp                      0.00\n",
       "initial_list_status            0.00\n",
       "total_acc                      0.00\n",
       "revol_bal                      0.00\n",
       "pub_rec                        0.00\n",
       "open_acc                       0.00\n",
       "earliest_cr_line               0.00\n",
       "id                             0.00\n",
       "dtype: float64"
      ]
     },
     "execution_count": 8,
     "metadata": {},
     "output_type": "execute_result"
    }
   ],
   "source": [
    "round(100*loan_data.isnull().sum()/len(loan_data.index),2).sort_values(ascending=False) "
   ]
  },
  {
   "cell_type": "markdown",
   "metadata": {},
   "source": [
    "Observing that we still have few columns with Null values. Dropping them for ease of analysis"
   ]
  },
  {
   "cell_type": "code",
   "execution_count": 9,
   "metadata": {},
   "outputs": [
    {
     "data": {
      "text/html": [
       "<div>\n",
       "<style scoped>\n",
       "    .dataframe tbody tr th:only-of-type {\n",
       "        vertical-align: middle;\n",
       "    }\n",
       "\n",
       "    .dataframe tbody tr th {\n",
       "        vertical-align: top;\n",
       "    }\n",
       "\n",
       "    .dataframe thead th {\n",
       "        text-align: right;\n",
       "    }\n",
       "</style>\n",
       "<table border=\"1\" class=\"dataframe\">\n",
       "  <thead>\n",
       "    <tr style=\"text-align: right;\">\n",
       "      <th></th>\n",
       "      <th>id</th>\n",
       "      <th>member_id</th>\n",
       "      <th>loan_amnt</th>\n",
       "      <th>funded_amnt</th>\n",
       "      <th>funded_amnt_inv</th>\n",
       "      <th>term</th>\n",
       "      <th>int_rate</th>\n",
       "      <th>installment</th>\n",
       "      <th>grade</th>\n",
       "      <th>sub_grade</th>\n",
       "      <th>...</th>\n",
       "      <th>last_pymnt_amnt</th>\n",
       "      <th>last_credit_pull_d</th>\n",
       "      <th>collections_12_mths_ex_med</th>\n",
       "      <th>policy_code</th>\n",
       "      <th>application_type</th>\n",
       "      <th>acc_now_delinq</th>\n",
       "      <th>chargeoff_within_12_mths</th>\n",
       "      <th>delinq_amnt</th>\n",
       "      <th>pub_rec_bankruptcies</th>\n",
       "      <th>tax_liens</th>\n",
       "    </tr>\n",
       "  </thead>\n",
       "  <tbody>\n",
       "    <tr>\n",
       "      <th>0</th>\n",
       "      <td>1077501</td>\n",
       "      <td>1296599</td>\n",
       "      <td>5000</td>\n",
       "      <td>5000</td>\n",
       "      <td>4975.0</td>\n",
       "      <td>36 months</td>\n",
       "      <td>10.65%</td>\n",
       "      <td>162.87</td>\n",
       "      <td>B</td>\n",
       "      <td>B2</td>\n",
       "      <td>...</td>\n",
       "      <td>171.62</td>\n",
       "      <td>May-16</td>\n",
       "      <td>0.0</td>\n",
       "      <td>1</td>\n",
       "      <td>INDIVIDUAL</td>\n",
       "      <td>0</td>\n",
       "      <td>0.0</td>\n",
       "      <td>0</td>\n",
       "      <td>0.0</td>\n",
       "      <td>0.0</td>\n",
       "    </tr>\n",
       "    <tr>\n",
       "      <th>1</th>\n",
       "      <td>1077430</td>\n",
       "      <td>1314167</td>\n",
       "      <td>2500</td>\n",
       "      <td>2500</td>\n",
       "      <td>2500.0</td>\n",
       "      <td>60 months</td>\n",
       "      <td>15.27%</td>\n",
       "      <td>59.83</td>\n",
       "      <td>C</td>\n",
       "      <td>C4</td>\n",
       "      <td>...</td>\n",
       "      <td>119.66</td>\n",
       "      <td>Sep-13</td>\n",
       "      <td>0.0</td>\n",
       "      <td>1</td>\n",
       "      <td>INDIVIDUAL</td>\n",
       "      <td>0</td>\n",
       "      <td>0.0</td>\n",
       "      <td>0</td>\n",
       "      <td>0.0</td>\n",
       "      <td>0.0</td>\n",
       "    </tr>\n",
       "    <tr>\n",
       "      <th>2</th>\n",
       "      <td>1077175</td>\n",
       "      <td>1313524</td>\n",
       "      <td>2400</td>\n",
       "      <td>2400</td>\n",
       "      <td>2400.0</td>\n",
       "      <td>36 months</td>\n",
       "      <td>15.96%</td>\n",
       "      <td>84.33</td>\n",
       "      <td>C</td>\n",
       "      <td>C5</td>\n",
       "      <td>...</td>\n",
       "      <td>649.91</td>\n",
       "      <td>May-16</td>\n",
       "      <td>0.0</td>\n",
       "      <td>1</td>\n",
       "      <td>INDIVIDUAL</td>\n",
       "      <td>0</td>\n",
       "      <td>0.0</td>\n",
       "      <td>0</td>\n",
       "      <td>0.0</td>\n",
       "      <td>0.0</td>\n",
       "    </tr>\n",
       "    <tr>\n",
       "      <th>3</th>\n",
       "      <td>1076863</td>\n",
       "      <td>1277178</td>\n",
       "      <td>10000</td>\n",
       "      <td>10000</td>\n",
       "      <td>10000.0</td>\n",
       "      <td>36 months</td>\n",
       "      <td>13.49%</td>\n",
       "      <td>339.31</td>\n",
       "      <td>C</td>\n",
       "      <td>C1</td>\n",
       "      <td>...</td>\n",
       "      <td>357.48</td>\n",
       "      <td>Apr-16</td>\n",
       "      <td>0.0</td>\n",
       "      <td>1</td>\n",
       "      <td>INDIVIDUAL</td>\n",
       "      <td>0</td>\n",
       "      <td>0.0</td>\n",
       "      <td>0</td>\n",
       "      <td>0.0</td>\n",
       "      <td>0.0</td>\n",
       "    </tr>\n",
       "    <tr>\n",
       "      <th>4</th>\n",
       "      <td>1075358</td>\n",
       "      <td>1311748</td>\n",
       "      <td>3000</td>\n",
       "      <td>3000</td>\n",
       "      <td>3000.0</td>\n",
       "      <td>60 months</td>\n",
       "      <td>12.69%</td>\n",
       "      <td>67.79</td>\n",
       "      <td>B</td>\n",
       "      <td>B5</td>\n",
       "      <td>...</td>\n",
       "      <td>67.79</td>\n",
       "      <td>May-16</td>\n",
       "      <td>0.0</td>\n",
       "      <td>1</td>\n",
       "      <td>INDIVIDUAL</td>\n",
       "      <td>0</td>\n",
       "      <td>0.0</td>\n",
       "      <td>0</td>\n",
       "      <td>0.0</td>\n",
       "      <td>0.0</td>\n",
       "    </tr>\n",
       "  </tbody>\n",
       "</table>\n",
       "<p>5 rows × 53 columns</p>\n",
       "</div>"
      ],
      "text/plain": [
       "        id  member_id  loan_amnt  funded_amnt  funded_amnt_inv        term  \\\n",
       "0  1077501    1296599       5000         5000           4975.0   36 months   \n",
       "1  1077430    1314167       2500         2500           2500.0   60 months   \n",
       "2  1077175    1313524       2400         2400           2400.0   36 months   \n",
       "3  1076863    1277178      10000        10000          10000.0   36 months   \n",
       "4  1075358    1311748       3000         3000           3000.0   60 months   \n",
       "\n",
       "  int_rate  installment grade sub_grade    ...    last_pymnt_amnt  \\\n",
       "0   10.65%       162.87     B        B2    ...             171.62   \n",
       "1   15.27%        59.83     C        C4    ...             119.66   \n",
       "2   15.96%        84.33     C        C5    ...             649.91   \n",
       "3   13.49%       339.31     C        C1    ...             357.48   \n",
       "4   12.69%        67.79     B        B5    ...              67.79   \n",
       "\n",
       "  last_credit_pull_d collections_12_mths_ex_med  policy_code application_type  \\\n",
       "0             May-16                        0.0            1       INDIVIDUAL   \n",
       "1             Sep-13                        0.0            1       INDIVIDUAL   \n",
       "2             May-16                        0.0            1       INDIVIDUAL   \n",
       "3             Apr-16                        0.0            1       INDIVIDUAL   \n",
       "4             May-16                        0.0            1       INDIVIDUAL   \n",
       "\n",
       "  acc_now_delinq chargeoff_within_12_mths delinq_amnt pub_rec_bankruptcies  \\\n",
       "0              0                      0.0           0                  0.0   \n",
       "1              0                      0.0           0                  0.0   \n",
       "2              0                      0.0           0                  0.0   \n",
       "3              0                      0.0           0                  0.0   \n",
       "4              0                      0.0           0                  0.0   \n",
       "\n",
       "  tax_liens  \n",
       "0       0.0  \n",
       "1       0.0  \n",
       "2       0.0  \n",
       "3       0.0  \n",
       "4       0.0  \n",
       "\n",
       "[5 rows x 53 columns]"
      ]
     },
     "execution_count": 9,
     "metadata": {},
     "output_type": "execute_result"
    }
   ],
   "source": [
    "# Increasing the dropping NUll % to 30%\n",
    "loans_drop = loans.loc[:,(100*loans.isnull().sum()/len(loans.index)) >= 30].columns\n",
    "loan_data = loans.drop(loans_drop, axis=1)\n",
    "loan_data.head()"
   ]
  },
  {
   "cell_type": "code",
   "execution_count": 10,
   "metadata": {},
   "outputs": [
    {
     "name": "stdout",
     "output_type": "stream",
     "text": [
      "<class 'pandas.core.frame.DataFrame'>\n",
      "RangeIndex: 39717 entries, 0 to 39716\n",
      "Data columns (total 53 columns):\n",
      "id                            39717 non-null int64\n",
      "member_id                     39717 non-null int64\n",
      "loan_amnt                     39717 non-null int64\n",
      "funded_amnt                   39717 non-null int64\n",
      "funded_amnt_inv               39717 non-null float64\n",
      "term                          39717 non-null object\n",
      "int_rate                      39717 non-null object\n",
      "installment                   39717 non-null float64\n",
      "grade                         39717 non-null object\n",
      "sub_grade                     39717 non-null object\n",
      "emp_title                     37258 non-null object\n",
      "emp_length                    38642 non-null object\n",
      "home_ownership                39717 non-null object\n",
      "annual_inc                    39717 non-null float64\n",
      "verification_status           39717 non-null object\n",
      "issue_d                       39717 non-null object\n",
      "loan_status                   39717 non-null object\n",
      "pymnt_plan                    39717 non-null object\n",
      "url                           39717 non-null object\n",
      "purpose                       39717 non-null object\n",
      "title                         39706 non-null object\n",
      "zip_code                      39717 non-null object\n",
      "addr_state                    39717 non-null object\n",
      "dti                           39717 non-null float64\n",
      "delinq_2yrs                   39717 non-null int64\n",
      "earliest_cr_line              39717 non-null object\n",
      "inq_last_6mths                39717 non-null int64\n",
      "open_acc                      39717 non-null int64\n",
      "pub_rec                       39717 non-null int64\n",
      "revol_bal                     39717 non-null int64\n",
      "revol_util                    39667 non-null object\n",
      "total_acc                     39717 non-null int64\n",
      "initial_list_status           39717 non-null object\n",
      "out_prncp                     39717 non-null float64\n",
      "out_prncp_inv                 39717 non-null float64\n",
      "total_pymnt                   39717 non-null float64\n",
      "total_pymnt_inv               39717 non-null float64\n",
      "total_rec_prncp               39717 non-null float64\n",
      "total_rec_int                 39717 non-null float64\n",
      "total_rec_late_fee            39717 non-null float64\n",
      "recoveries                    39717 non-null float64\n",
      "collection_recovery_fee       39717 non-null float64\n",
      "last_pymnt_d                  39646 non-null object\n",
      "last_pymnt_amnt               39717 non-null float64\n",
      "last_credit_pull_d            39715 non-null object\n",
      "collections_12_mths_ex_med    39661 non-null float64\n",
      "policy_code                   39717 non-null int64\n",
      "application_type              39717 non-null object\n",
      "acc_now_delinq                39717 non-null int64\n",
      "chargeoff_within_12_mths      39661 non-null float64\n",
      "delinq_amnt                   39717 non-null int64\n",
      "pub_rec_bankruptcies          39020 non-null float64\n",
      "tax_liens                     39678 non-null float64\n",
      "dtypes: float64(18), int64(13), object(22)\n",
      "memory usage: 16.1+ MB\n"
     ]
    }
   ],
   "source": [
    "loan_data.info()"
   ]
  },
  {
   "cell_type": "code",
   "execution_count": 11,
   "metadata": {},
   "outputs": [
    {
     "data": {
      "text/plain": [
       "emp_title                     6.19\n",
       "emp_length                    2.71\n",
       "pub_rec_bankruptcies          1.75\n",
       "last_pymnt_d                  0.18\n",
       "collections_12_mths_ex_med    0.14\n",
       "chargeoff_within_12_mths      0.14\n",
       "revol_util                    0.13\n",
       "tax_liens                     0.10\n",
       "title                         0.03\n",
       "last_credit_pull_d            0.01\n",
       "annual_inc                    0.00\n",
       "pymnt_plan                    0.00\n",
       "url                           0.00\n",
       "purpose                       0.00\n",
       "loan_status                   0.00\n",
       "issue_d                       0.00\n",
       "verification_status           0.00\n",
       "sub_grade                     0.00\n",
       "home_ownership                0.00\n",
       "addr_state                    0.00\n",
       "grade                         0.00\n",
       "installment                   0.00\n",
       "int_rate                      0.00\n",
       "term                          0.00\n",
       "funded_amnt_inv               0.00\n",
       "funded_amnt                   0.00\n",
       "loan_amnt                     0.00\n",
       "member_id                     0.00\n",
       "zip_code                      0.00\n",
       "inq_last_6mths                0.00\n",
       "dti                           0.00\n",
       "total_rec_prncp               0.00\n",
       "delinq_amnt                   0.00\n",
       "acc_now_delinq                0.00\n",
       "application_type              0.00\n",
       "policy_code                   0.00\n",
       "last_pymnt_amnt               0.00\n",
       "collection_recovery_fee       0.00\n",
       "recoveries                    0.00\n",
       "total_rec_late_fee            0.00\n",
       "total_rec_int                 0.00\n",
       "total_pymnt_inv               0.00\n",
       "delinq_2yrs                   0.00\n",
       "total_pymnt                   0.00\n",
       "out_prncp_inv                 0.00\n",
       "out_prncp                     0.00\n",
       "initial_list_status           0.00\n",
       "total_acc                     0.00\n",
       "revol_bal                     0.00\n",
       "pub_rec                       0.00\n",
       "open_acc                      0.00\n",
       "earliest_cr_line              0.00\n",
       "id                            0.00\n",
       "dtype: float64"
      ]
     },
     "execution_count": 11,
     "metadata": {},
     "output_type": "execute_result"
    }
   ],
   "source": [
    "round(100*loan_data.isnull().sum()/len(loan_data.index),2).sort_values(ascending=False)"
   ]
  },
  {
   "cell_type": "code",
   "execution_count": 12,
   "metadata": {},
   "outputs": [],
   "source": [
    "#loan_data.to_csv('clean_loan_data.csv')"
   ]
  },
  {
   "cell_type": "code",
   "execution_count": 13,
   "metadata": {
    "scrolled": true
   },
   "outputs": [
    {
     "data": {
      "text/plain": [
       "id                            39717\n",
       "member_id                     39717\n",
       "loan_amnt                       885\n",
       "funded_amnt                    1041\n",
       "funded_amnt_inv                8205\n",
       "term                              2\n",
       "int_rate                        371\n",
       "installment                   15383\n",
       "grade                             7\n",
       "sub_grade                        35\n",
       "emp_title                     28820\n",
       "emp_length                       11\n",
       "home_ownership                    5\n",
       "annual_inc                     5318\n",
       "verification_status               3\n",
       "issue_d                          55\n",
       "loan_status                       3\n",
       "pymnt_plan                        1\n",
       "url                           39717\n",
       "purpose                          14\n",
       "title                         19615\n",
       "zip_code                        823\n",
       "addr_state                       50\n",
       "dti                            2868\n",
       "delinq_2yrs                      11\n",
       "earliest_cr_line                526\n",
       "inq_last_6mths                    9\n",
       "open_acc                         40\n",
       "pub_rec                           5\n",
       "revol_bal                     21711\n",
       "revol_util                     1089\n",
       "total_acc                        82\n",
       "initial_list_status               1\n",
       "out_prncp                      1137\n",
       "out_prncp_inv                  1138\n",
       "total_pymnt                   37850\n",
       "total_pymnt_inv               37518\n",
       "total_rec_prncp                7976\n",
       "total_rec_int                 35148\n",
       "total_rec_late_fee             1356\n",
       "recoveries                     4040\n",
       "collection_recovery_fee        2616\n",
       "last_pymnt_d                    101\n",
       "last_pymnt_amnt               34930\n",
       "last_credit_pull_d              106\n",
       "collections_12_mths_ex_med        1\n",
       "policy_code                       1\n",
       "application_type                  1\n",
       "acc_now_delinq                    1\n",
       "chargeoff_within_12_mths          1\n",
       "delinq_amnt                       1\n",
       "pub_rec_bankruptcies              3\n",
       "tax_liens                         1\n",
       "dtype: int64"
      ]
     },
     "execution_count": 13,
     "metadata": {},
     "output_type": "execute_result"
    }
   ],
   "source": [
    "loan_data.nunique()"
   ]
  },
  {
   "cell_type": "code",
   "execution_count": 14,
   "metadata": {},
   "outputs": [],
   "source": [
    "#Check all the columns which have only 1 unique value\n",
    "loan_data.loc[:,loan_data.nunique()==1].columns\n",
    "\n",
    "#Drop these columns as they don't add any value to our dependent variables\n",
    "loan_data = loan_data.drop(loan_data.loc[:,loan_data.nunique()==1].columns, axis = 1)"
   ]
  },
  {
   "cell_type": "code",
   "execution_count": 15,
   "metadata": {},
   "outputs": [
    {
     "name": "stdout",
     "output_type": "stream",
     "text": [
      "<class 'pandas.core.frame.DataFrame'>\n",
      "RangeIndex: 39717 entries, 0 to 39716\n",
      "Data columns (total 44 columns):\n",
      "id                         39717 non-null int64\n",
      "member_id                  39717 non-null int64\n",
      "loan_amnt                  39717 non-null int64\n",
      "funded_amnt                39717 non-null int64\n",
      "funded_amnt_inv            39717 non-null float64\n",
      "term                       39717 non-null object\n",
      "int_rate                   39717 non-null object\n",
      "installment                39717 non-null float64\n",
      "grade                      39717 non-null object\n",
      "sub_grade                  39717 non-null object\n",
      "emp_title                  37258 non-null object\n",
      "emp_length                 38642 non-null object\n",
      "home_ownership             39717 non-null object\n",
      "annual_inc                 39717 non-null float64\n",
      "verification_status        39717 non-null object\n",
      "issue_d                    39717 non-null object\n",
      "loan_status                39717 non-null object\n",
      "url                        39717 non-null object\n",
      "purpose                    39717 non-null object\n",
      "title                      39706 non-null object\n",
      "zip_code                   39717 non-null object\n",
      "addr_state                 39717 non-null object\n",
      "dti                        39717 non-null float64\n",
      "delinq_2yrs                39717 non-null int64\n",
      "earliest_cr_line           39717 non-null object\n",
      "inq_last_6mths             39717 non-null int64\n",
      "open_acc                   39717 non-null int64\n",
      "pub_rec                    39717 non-null int64\n",
      "revol_bal                  39717 non-null int64\n",
      "revol_util                 39667 non-null object\n",
      "total_acc                  39717 non-null int64\n",
      "out_prncp                  39717 non-null float64\n",
      "out_prncp_inv              39717 non-null float64\n",
      "total_pymnt                39717 non-null float64\n",
      "total_pymnt_inv            39717 non-null float64\n",
      "total_rec_prncp            39717 non-null float64\n",
      "total_rec_int              39717 non-null float64\n",
      "total_rec_late_fee         39717 non-null float64\n",
      "recoveries                 39717 non-null float64\n",
      "collection_recovery_fee    39717 non-null float64\n",
      "last_pymnt_d               39646 non-null object\n",
      "last_pymnt_amnt            39717 non-null float64\n",
      "last_credit_pull_d         39715 non-null object\n",
      "pub_rec_bankruptcies       39020 non-null float64\n",
      "dtypes: float64(15), int64(10), object(19)\n",
      "memory usage: 13.3+ MB\n"
     ]
    }
   ],
   "source": [
    "loan_data.info()"
   ]
  },
  {
   "cell_type": "code",
   "execution_count": 16,
   "metadata": {
    "scrolled": true
   },
   "outputs": [
    {
     "data": {
      "text/plain": [
       "term                           2\n",
       "pub_rec_bankruptcies           3\n",
       "loan_status                    3\n",
       "verification_status            3\n",
       "pub_rec                        5\n",
       "home_ownership                 5\n",
       "grade                          7\n",
       "inq_last_6mths                 9\n",
       "delinq_2yrs                   11\n",
       "emp_length                    11\n",
       "purpose                       14\n",
       "sub_grade                     35\n",
       "open_acc                      40\n",
       "addr_state                    50\n",
       "issue_d                       55\n",
       "total_acc                     82\n",
       "last_pymnt_d                 101\n",
       "last_credit_pull_d           106\n",
       "int_rate                     371\n",
       "earliest_cr_line             526\n",
       "zip_code                     823\n",
       "loan_amnt                    885\n",
       "funded_amnt                 1041\n",
       "revol_util                  1089\n",
       "out_prncp                   1137\n",
       "out_prncp_inv               1138\n",
       "total_rec_late_fee          1356\n",
       "collection_recovery_fee     2616\n",
       "dti                         2868\n",
       "recoveries                  4040\n",
       "annual_inc                  5318\n",
       "total_rec_prncp             7976\n",
       "funded_amnt_inv             8205\n",
       "installment                15383\n",
       "title                      19615\n",
       "revol_bal                  21711\n",
       "emp_title                  28820\n",
       "last_pymnt_amnt            34930\n",
       "total_rec_int              35148\n",
       "total_pymnt_inv            37518\n",
       "total_pymnt                37850\n",
       "member_id                  39717\n",
       "url                        39717\n",
       "id                         39717\n",
       "dtype: int64"
      ]
     },
     "execution_count": 16,
     "metadata": {},
     "output_type": "execute_result"
    }
   ],
   "source": [
    "loan_data.nunique().sort_values()"
   ]
  },
  {
   "cell_type": "code",
   "execution_count": 17,
   "metadata": {},
   "outputs": [
    {
     "data": {
      "text/html": [
       "<div>\n",
       "<style scoped>\n",
       "    .dataframe tbody tr th:only-of-type {\n",
       "        vertical-align: middle;\n",
       "    }\n",
       "\n",
       "    .dataframe tbody tr th {\n",
       "        vertical-align: top;\n",
       "    }\n",
       "\n",
       "    .dataframe thead th {\n",
       "        text-align: right;\n",
       "    }\n",
       "</style>\n",
       "<table border=\"1\" class=\"dataframe\">\n",
       "  <thead>\n",
       "    <tr style=\"text-align: right;\">\n",
       "      <th></th>\n",
       "      <th>id</th>\n",
       "      <th>member_id</th>\n",
       "      <th>loan_amnt</th>\n",
       "      <th>funded_amnt</th>\n",
       "      <th>funded_amnt_inv</th>\n",
       "      <th>term</th>\n",
       "      <th>int_rate</th>\n",
       "      <th>installment</th>\n",
       "      <th>grade</th>\n",
       "      <th>sub_grade</th>\n",
       "      <th>...</th>\n",
       "      <th>total_pymnt_inv</th>\n",
       "      <th>total_rec_prncp</th>\n",
       "      <th>total_rec_int</th>\n",
       "      <th>total_rec_late_fee</th>\n",
       "      <th>recoveries</th>\n",
       "      <th>collection_recovery_fee</th>\n",
       "      <th>last_pymnt_d</th>\n",
       "      <th>last_pymnt_amnt</th>\n",
       "      <th>last_credit_pull_d</th>\n",
       "      <th>pub_rec_bankruptcies</th>\n",
       "    </tr>\n",
       "  </thead>\n",
       "  <tbody>\n",
       "    <tr>\n",
       "      <th>0</th>\n",
       "      <td>1077501</td>\n",
       "      <td>1296599</td>\n",
       "      <td>5000</td>\n",
       "      <td>5000</td>\n",
       "      <td>4975.0</td>\n",
       "      <td>36 months</td>\n",
       "      <td>10.65%</td>\n",
       "      <td>162.87</td>\n",
       "      <td>B</td>\n",
       "      <td>B2</td>\n",
       "      <td>...</td>\n",
       "      <td>5833.84</td>\n",
       "      <td>5000.00</td>\n",
       "      <td>863.16</td>\n",
       "      <td>0.00</td>\n",
       "      <td>0.00</td>\n",
       "      <td>0.00</td>\n",
       "      <td>Jan-15</td>\n",
       "      <td>171.62</td>\n",
       "      <td>May-16</td>\n",
       "      <td>0.0</td>\n",
       "    </tr>\n",
       "    <tr>\n",
       "      <th>1</th>\n",
       "      <td>1077430</td>\n",
       "      <td>1314167</td>\n",
       "      <td>2500</td>\n",
       "      <td>2500</td>\n",
       "      <td>2500.0</td>\n",
       "      <td>60 months</td>\n",
       "      <td>15.27%</td>\n",
       "      <td>59.83</td>\n",
       "      <td>C</td>\n",
       "      <td>C4</td>\n",
       "      <td>...</td>\n",
       "      <td>1008.71</td>\n",
       "      <td>456.46</td>\n",
       "      <td>435.17</td>\n",
       "      <td>0.00</td>\n",
       "      <td>117.08</td>\n",
       "      <td>1.11</td>\n",
       "      <td>Apr-13</td>\n",
       "      <td>119.66</td>\n",
       "      <td>Sep-13</td>\n",
       "      <td>0.0</td>\n",
       "    </tr>\n",
       "    <tr>\n",
       "      <th>2</th>\n",
       "      <td>1077175</td>\n",
       "      <td>1313524</td>\n",
       "      <td>2400</td>\n",
       "      <td>2400</td>\n",
       "      <td>2400.0</td>\n",
       "      <td>36 months</td>\n",
       "      <td>15.96%</td>\n",
       "      <td>84.33</td>\n",
       "      <td>C</td>\n",
       "      <td>C5</td>\n",
       "      <td>...</td>\n",
       "      <td>3005.67</td>\n",
       "      <td>2400.00</td>\n",
       "      <td>605.67</td>\n",
       "      <td>0.00</td>\n",
       "      <td>0.00</td>\n",
       "      <td>0.00</td>\n",
       "      <td>Jun-14</td>\n",
       "      <td>649.91</td>\n",
       "      <td>May-16</td>\n",
       "      <td>0.0</td>\n",
       "    </tr>\n",
       "    <tr>\n",
       "      <th>3</th>\n",
       "      <td>1076863</td>\n",
       "      <td>1277178</td>\n",
       "      <td>10000</td>\n",
       "      <td>10000</td>\n",
       "      <td>10000.0</td>\n",
       "      <td>36 months</td>\n",
       "      <td>13.49%</td>\n",
       "      <td>339.31</td>\n",
       "      <td>C</td>\n",
       "      <td>C1</td>\n",
       "      <td>...</td>\n",
       "      <td>12231.89</td>\n",
       "      <td>10000.00</td>\n",
       "      <td>2214.92</td>\n",
       "      <td>16.97</td>\n",
       "      <td>0.00</td>\n",
       "      <td>0.00</td>\n",
       "      <td>Jan-15</td>\n",
       "      <td>357.48</td>\n",
       "      <td>Apr-16</td>\n",
       "      <td>0.0</td>\n",
       "    </tr>\n",
       "    <tr>\n",
       "      <th>4</th>\n",
       "      <td>1075358</td>\n",
       "      <td>1311748</td>\n",
       "      <td>3000</td>\n",
       "      <td>3000</td>\n",
       "      <td>3000.0</td>\n",
       "      <td>60 months</td>\n",
       "      <td>12.69%</td>\n",
       "      <td>67.79</td>\n",
       "      <td>B</td>\n",
       "      <td>B5</td>\n",
       "      <td>...</td>\n",
       "      <td>3513.33</td>\n",
       "      <td>2475.94</td>\n",
       "      <td>1037.39</td>\n",
       "      <td>0.00</td>\n",
       "      <td>0.00</td>\n",
       "      <td>0.00</td>\n",
       "      <td>May-16</td>\n",
       "      <td>67.79</td>\n",
       "      <td>May-16</td>\n",
       "      <td>0.0</td>\n",
       "    </tr>\n",
       "  </tbody>\n",
       "</table>\n",
       "<p>5 rows × 44 columns</p>\n",
       "</div>"
      ],
      "text/plain": [
       "        id  member_id  loan_amnt  funded_amnt  funded_amnt_inv        term  \\\n",
       "0  1077501    1296599       5000         5000           4975.0   36 months   \n",
       "1  1077430    1314167       2500         2500           2500.0   60 months   \n",
       "2  1077175    1313524       2400         2400           2400.0   36 months   \n",
       "3  1076863    1277178      10000        10000          10000.0   36 months   \n",
       "4  1075358    1311748       3000         3000           3000.0   60 months   \n",
       "\n",
       "  int_rate  installment grade sub_grade         ...          total_pymnt_inv  \\\n",
       "0   10.65%       162.87     B        B2         ...                  5833.84   \n",
       "1   15.27%        59.83     C        C4         ...                  1008.71   \n",
       "2   15.96%        84.33     C        C5         ...                  3005.67   \n",
       "3   13.49%       339.31     C        C1         ...                 12231.89   \n",
       "4   12.69%        67.79     B        B5         ...                  3513.33   \n",
       "\n",
       "  total_rec_prncp total_rec_int  total_rec_late_fee recoveries  \\\n",
       "0         5000.00        863.16                0.00       0.00   \n",
       "1          456.46        435.17                0.00     117.08   \n",
       "2         2400.00        605.67                0.00       0.00   \n",
       "3        10000.00       2214.92               16.97       0.00   \n",
       "4         2475.94       1037.39                0.00       0.00   \n",
       "\n",
       "  collection_recovery_fee last_pymnt_d last_pymnt_amnt last_credit_pull_d  \\\n",
       "0                    0.00       Jan-15          171.62             May-16   \n",
       "1                    1.11       Apr-13          119.66             Sep-13   \n",
       "2                    0.00       Jun-14          649.91             May-16   \n",
       "3                    0.00       Jan-15          357.48             Apr-16   \n",
       "4                    0.00       May-16           67.79             May-16   \n",
       "\n",
       "  pub_rec_bankruptcies  \n",
       "0                  0.0  \n",
       "1                  0.0  \n",
       "2                  0.0  \n",
       "3                  0.0  \n",
       "4                  0.0  \n",
       "\n",
       "[5 rows x 44 columns]"
      ]
     },
     "execution_count": 17,
     "metadata": {},
     "output_type": "execute_result"
    }
   ],
   "source": [
    "loan_data.head()"
   ]
  },
  {
   "cell_type": "markdown",
   "metadata": {},
   "source": [
    "### Data - Value Cleaning\n",
    "\n",
    "Looking at the data at hand, cleaning up some of the columns to make them compatible for analysis."
   ]
  },
  {
   "cell_type": "code",
   "execution_count": 18,
   "metadata": {
    "scrolled": true
   },
   "outputs": [],
   "source": [
    "# Converting date columns to Appropriate data \n",
    "from datetime import datetime\n",
    "def date_func(x):\n",
    "    return datetime.strptime(x, '%b-%y')\n",
    "loan_data['issue_d']=loan_data['issue_d'].apply(date_func)\n"
   ]
  },
  {
   "cell_type": "code",
   "execution_count": 19,
   "metadata": {},
   "outputs": [],
   "source": [
    "# Cleaning the 'term' column to remove the ' months' string from it to convert it to numeric\n",
    "loan_data['term_in_months']=loan_data['term'].replace(to_replace = ' months', value = '', regex = True)\n",
    "loan_data['term_in_months'] = pd.to_numeric(loan_data['term_in_months'])"
   ]
  },
  {
   "cell_type": "code",
   "execution_count": 20,
   "metadata": {},
   "outputs": [],
   "source": [
    "# Convert the 'int_rate' column from percentage to decimal format\n",
    "loan_data['int_rate'].replace(to_replace = '%', value = '', regex = True, inplace = True)\n",
    "loan_data['int_rate'] = pd.to_numeric(loan_data['int_rate'])/100"
   ]
  },
  {
   "cell_type": "code",
   "execution_count": 21,
   "metadata": {},
   "outputs": [
    {
     "name": "stdout",
     "output_type": "stream",
     "text": [
      "10+ years    8879\n",
      "< 1 year     4583\n",
      "2 years      4388\n",
      "3 years      4095\n",
      "4 years      3436\n",
      "5 years      3282\n",
      "1 year       3240\n",
      "6 years      2229\n",
      "7 years      1773\n",
      "8 years      1479\n",
      "9 years      1258\n",
      "Name: emp_length, dtype: int64\n",
      "10    8879\n",
      "0     4583\n",
      "2     4388\n",
      "3     4095\n",
      "4     3436\n",
      "5     3282\n",
      "1     3240\n",
      "6     2229\n",
      "7     1773\n",
      "8     1479\n",
      "9     1258\n",
      "Name: emp_len_in_yrs, dtype: int64\n"
     ]
    }
   ],
   "source": [
    "#Inspect the 'emp_length' column\n",
    "print(loan_data['emp_length'].value_counts())\n",
    "\n",
    "loan_data['emp_len_in_yrs'] = loan_data['emp_length']\n",
    "\n",
    "# Convert the column to numeric - change '< 1 year' to 0 and '10+ years' to 10\n",
    "loan_data['emp_len_in_yrs'] = loan_data['emp_len_in_yrs'].replace(to_replace = '< 1 year', value = '0', regex = True)\n",
    "loan_data['emp_len_in_yrs'] = loan_data['emp_len_in_yrs'].replace(to_replace = ' years', value = '', regex = True)\n",
    "loan_data['emp_len_in_yrs'] = loan_data['emp_len_in_yrs'].replace(to_replace = ' year', value = '', regex = True)\n",
    "loan_data['emp_len_in_yrs'] = loan_data['emp_len_in_yrs'].replace(to_replace = '[+]', value = '', regex = True)\n",
    "\n",
    "##loan_data['emp_len_in_yrs'] = pd.to_numeric(loan_data['emp_len_in_yrs'])\n",
    "print(loan_data['emp_len_in_yrs'].value_counts())\n",
    "loan_data['emp_len_in_yrs'] = pd.to_numeric(loan_data['emp_len_in_yrs'])"
   ]
  },
  {
   "cell_type": "code",
   "execution_count": 22,
   "metadata": {},
   "outputs": [],
   "source": [
    "# Convert the 'revol_util' column from percentage to decimal format\n",
    "loan_data['revol_util'].replace(to_replace = '%', value = '', regex = True, inplace = True)\n",
    "loan_data['revol_util'] = pd.to_numeric(loan_data['revol_util'])/100"
   ]
  },
  {
   "cell_type": "code",
   "execution_count": 23,
   "metadata": {},
   "outputs": [],
   "source": [
    "# Creating income groups for Annual Income\n",
    "def sal_group(sal):\n",
    "    if sal <= 50000:\n",
    "        return '< 50000'\n",
    "    elif sal > 50000 and sal <= 100000:\n",
    "        return '50 K - 1 Lakh'\n",
    "    elif sal > 100000 and sal <= 150000:\n",
    "        return '1 lakh - 1 L 50 K'\n",
    "    elif sal > 150000 and sal <= 200000:\n",
    "        return '1 L 50 K - 2 Lakhs'\n",
    "    elif sal > 200000 and sal <= 300000:\n",
    "        return '2 Lakhs - 3 Lakhs'\n",
    "    elif sal > 300000 and sal <= 400000:\n",
    "        return '3 Lakhs - 4 Lakhs'\n",
    "    elif sal > 400000 and sal <= 600000:\n",
    "        return '4 Lakhs - 6 Lakhs'\n",
    "    elif sal > 600000:\n",
    "        return '> 6 Lakhs'\n",
    "    else: \n",
    "        return 'No Sal Data'\n",
    "\n",
    "loan_data['annual_inc_group'] = loan_data.annual_inc.apply(sal_group)\n",
    "    "
   ]
  },
  {
   "cell_type": "code",
   "execution_count": 77,
   "metadata": {},
   "outputs": [
    {
     "data": {
      "text/plain": [
       "10 - 15 %    18794\n",
       "5 - 10 %     12393\n",
       "15 - 20 %     7658\n",
       "20 - 25 %      872\n",
       "Name: int_rate_group, dtype: int64"
      ]
     },
     "execution_count": 77,
     "metadata": {},
     "output_type": "execute_result"
    }
   ],
   "source": [
    "# Creating the Interest Rate Groups\n",
    "def int_group_func(x):\n",
    "    if x <= 10:\n",
    "        return '5 - 10 %'\n",
    "    elif 10 < x <= 15:\n",
    "        return '10 - 15 %'\n",
    "    elif 15 < x <= 20:\n",
    "        return '15 - 20 %'\n",
    "    elif 20 < x <= 25:\n",
    "        return '20 - 25 %'\n",
    "    else:\n",
    "        return '> 25%'\n",
    "\n",
    "loan_data['int_rate_group'] = round(loan_data['int_rate']*100,2)\n",
    "loan_data['int_rate_group'] = loan_data['int_rate_group'].apply(int_group_func)\n",
    "loan_data['int_rate_group'].value_counts()\n"
   ]
  },
  {
   "cell_type": "code",
   "execution_count": 25,
   "metadata": {},
   "outputs": [],
   "source": [
    "# Splitting Issue Date into Month and Year columns for further analysis\n",
    "loan_data[\"issue_d_mnth\"] = loan_data.issue_d.dt.month\n",
    "loan_data[\"issue_d_yr\"] =  loan_data.issue_d.dt.year"
   ]
  },
  {
   "cell_type": "code",
   "execution_count": 26,
   "metadata": {},
   "outputs": [],
   "source": [
    "# Creating the DTI Groups\n",
    "def dti_group_func(x):\n",
    "    if x <= 5:\n",
    "        return '< 5'\n",
    "    elif 5 < x <= 10:\n",
    "        return '5 - 10'\n",
    "    elif 10 < x <= 15:\n",
    "        return '10 - 15'\n",
    "    elif 15 < x <= 20:\n",
    "        return '15 - 20'\n",
    "    else:\n",
    "        return '> 20'\n",
    "\n",
    "loan_data['dti_group'] = loan_data['dti'].apply(dti_group_func)"
   ]
  },
  {
   "cell_type": "code",
   "execution_count": 27,
   "metadata": {
    "scrolled": true
   },
   "outputs": [
    {
     "data": {
      "text/html": [
       "<div>\n",
       "<style scoped>\n",
       "    .dataframe tbody tr th:only-of-type {\n",
       "        vertical-align: middle;\n",
       "    }\n",
       "\n",
       "    .dataframe tbody tr th {\n",
       "        vertical-align: top;\n",
       "    }\n",
       "\n",
       "    .dataframe thead th {\n",
       "        text-align: right;\n",
       "    }\n",
       "</style>\n",
       "<table border=\"1\" class=\"dataframe\">\n",
       "  <thead>\n",
       "    <tr style=\"text-align: right;\">\n",
       "      <th></th>\n",
       "      <th>id</th>\n",
       "      <th>member_id</th>\n",
       "      <th>loan_amnt</th>\n",
       "      <th>funded_amnt</th>\n",
       "      <th>funded_amnt_inv</th>\n",
       "      <th>term</th>\n",
       "      <th>int_rate</th>\n",
       "      <th>installment</th>\n",
       "      <th>grade</th>\n",
       "      <th>sub_grade</th>\n",
       "      <th>...</th>\n",
       "      <th>last_pymnt_amnt</th>\n",
       "      <th>last_credit_pull_d</th>\n",
       "      <th>pub_rec_bankruptcies</th>\n",
       "      <th>term_in_months</th>\n",
       "      <th>emp_len_in_yrs</th>\n",
       "      <th>annual_inc_group</th>\n",
       "      <th>int_rate_group</th>\n",
       "      <th>issue_d_mnth</th>\n",
       "      <th>issue_d_yr</th>\n",
       "      <th>dti_group</th>\n",
       "    </tr>\n",
       "  </thead>\n",
       "  <tbody>\n",
       "    <tr>\n",
       "      <th>0</th>\n",
       "      <td>1077501</td>\n",
       "      <td>1296599</td>\n",
       "      <td>5000</td>\n",
       "      <td>5000</td>\n",
       "      <td>4975.0</td>\n",
       "      <td>36 months</td>\n",
       "      <td>0.1065</td>\n",
       "      <td>162.87</td>\n",
       "      <td>B</td>\n",
       "      <td>B2</td>\n",
       "      <td>...</td>\n",
       "      <td>171.62</td>\n",
       "      <td>May-16</td>\n",
       "      <td>0.0</td>\n",
       "      <td>36</td>\n",
       "      <td>10.0</td>\n",
       "      <td>&lt; 50000</td>\n",
       "      <td>10 - 15 %</td>\n",
       "      <td>12</td>\n",
       "      <td>2011</td>\n",
       "      <td>&gt; 20</td>\n",
       "    </tr>\n",
       "    <tr>\n",
       "      <th>1</th>\n",
       "      <td>1077430</td>\n",
       "      <td>1314167</td>\n",
       "      <td>2500</td>\n",
       "      <td>2500</td>\n",
       "      <td>2500.0</td>\n",
       "      <td>60 months</td>\n",
       "      <td>0.1527</td>\n",
       "      <td>59.83</td>\n",
       "      <td>C</td>\n",
       "      <td>C4</td>\n",
       "      <td>...</td>\n",
       "      <td>119.66</td>\n",
       "      <td>Sep-13</td>\n",
       "      <td>0.0</td>\n",
       "      <td>60</td>\n",
       "      <td>0.0</td>\n",
       "      <td>&lt; 50000</td>\n",
       "      <td>15 - 20 %</td>\n",
       "      <td>12</td>\n",
       "      <td>2011</td>\n",
       "      <td>&lt; 5</td>\n",
       "    </tr>\n",
       "    <tr>\n",
       "      <th>2</th>\n",
       "      <td>1077175</td>\n",
       "      <td>1313524</td>\n",
       "      <td>2400</td>\n",
       "      <td>2400</td>\n",
       "      <td>2400.0</td>\n",
       "      <td>36 months</td>\n",
       "      <td>0.1596</td>\n",
       "      <td>84.33</td>\n",
       "      <td>C</td>\n",
       "      <td>C5</td>\n",
       "      <td>...</td>\n",
       "      <td>649.91</td>\n",
       "      <td>May-16</td>\n",
       "      <td>0.0</td>\n",
       "      <td>36</td>\n",
       "      <td>10.0</td>\n",
       "      <td>&lt; 50000</td>\n",
       "      <td>15 - 20 %</td>\n",
       "      <td>12</td>\n",
       "      <td>2011</td>\n",
       "      <td>5 - 10</td>\n",
       "    </tr>\n",
       "    <tr>\n",
       "      <th>3</th>\n",
       "      <td>1076863</td>\n",
       "      <td>1277178</td>\n",
       "      <td>10000</td>\n",
       "      <td>10000</td>\n",
       "      <td>10000.0</td>\n",
       "      <td>36 months</td>\n",
       "      <td>0.1349</td>\n",
       "      <td>339.31</td>\n",
       "      <td>C</td>\n",
       "      <td>C1</td>\n",
       "      <td>...</td>\n",
       "      <td>357.48</td>\n",
       "      <td>Apr-16</td>\n",
       "      <td>0.0</td>\n",
       "      <td>36</td>\n",
       "      <td>10.0</td>\n",
       "      <td>&lt; 50000</td>\n",
       "      <td>10 - 15 %</td>\n",
       "      <td>12</td>\n",
       "      <td>2011</td>\n",
       "      <td>15 - 20</td>\n",
       "    </tr>\n",
       "    <tr>\n",
       "      <th>4</th>\n",
       "      <td>1075358</td>\n",
       "      <td>1311748</td>\n",
       "      <td>3000</td>\n",
       "      <td>3000</td>\n",
       "      <td>3000.0</td>\n",
       "      <td>60 months</td>\n",
       "      <td>0.1269</td>\n",
       "      <td>67.79</td>\n",
       "      <td>B</td>\n",
       "      <td>B5</td>\n",
       "      <td>...</td>\n",
       "      <td>67.79</td>\n",
       "      <td>May-16</td>\n",
       "      <td>0.0</td>\n",
       "      <td>60</td>\n",
       "      <td>1.0</td>\n",
       "      <td>50 K - 1 Lakh</td>\n",
       "      <td>10 - 15 %</td>\n",
       "      <td>12</td>\n",
       "      <td>2011</td>\n",
       "      <td>15 - 20</td>\n",
       "    </tr>\n",
       "  </tbody>\n",
       "</table>\n",
       "<p>5 rows × 51 columns</p>\n",
       "</div>"
      ],
      "text/plain": [
       "        id  member_id  loan_amnt  funded_amnt  funded_amnt_inv        term  \\\n",
       "0  1077501    1296599       5000         5000           4975.0   36 months   \n",
       "1  1077430    1314167       2500         2500           2500.0   60 months   \n",
       "2  1077175    1313524       2400         2400           2400.0   36 months   \n",
       "3  1076863    1277178      10000        10000          10000.0   36 months   \n",
       "4  1075358    1311748       3000         3000           3000.0   60 months   \n",
       "\n",
       "   int_rate  installment grade sub_grade    ...    last_pymnt_amnt  \\\n",
       "0    0.1065       162.87     B        B2    ...             171.62   \n",
       "1    0.1527        59.83     C        C4    ...             119.66   \n",
       "2    0.1596        84.33     C        C5    ...             649.91   \n",
       "3    0.1349       339.31     C        C1    ...             357.48   \n",
       "4    0.1269        67.79     B        B5    ...              67.79   \n",
       "\n",
       "  last_credit_pull_d pub_rec_bankruptcies  term_in_months emp_len_in_yrs  \\\n",
       "0             May-16                  0.0              36           10.0   \n",
       "1             Sep-13                  0.0              60            0.0   \n",
       "2             May-16                  0.0              36           10.0   \n",
       "3             Apr-16                  0.0              36           10.0   \n",
       "4             May-16                  0.0              60            1.0   \n",
       "\n",
       "  annual_inc_group int_rate_group issue_d_mnth issue_d_yr dti_group  \n",
       "0          < 50000      10 - 15 %           12       2011      > 20  \n",
       "1          < 50000      15 - 20 %           12       2011       < 5  \n",
       "2          < 50000      15 - 20 %           12       2011    5 - 10  \n",
       "3          < 50000      10 - 15 %           12       2011   15 - 20  \n",
       "4    50 K - 1 Lakh      10 - 15 %           12       2011   15 - 20  \n",
       "\n",
       "[5 rows x 51 columns]"
      ]
     },
     "execution_count": 27,
     "metadata": {},
     "output_type": "execute_result"
    }
   ],
   "source": [
    "loan_data.head()"
   ]
  },
  {
   "cell_type": "markdown",
   "metadata": {},
   "source": [
    "Dropping Unnecessary Columns which are not used in the analysis."
   ]
  },
  {
   "cell_type": "code",
   "execution_count": 28,
   "metadata": {},
   "outputs": [
    {
     "name": "stdout",
     "output_type": "stream",
     "text": [
      "<class 'pandas.core.frame.DataFrame'>\n",
      "RangeIndex: 39717 entries, 0 to 39716\n",
      "Data columns (total 51 columns):\n",
      "id                         39717 non-null int64\n",
      "member_id                  39717 non-null int64\n",
      "loan_amnt                  39717 non-null int64\n",
      "funded_amnt                39717 non-null int64\n",
      "funded_amnt_inv            39717 non-null float64\n",
      "term                       39717 non-null object\n",
      "int_rate                   39717 non-null float64\n",
      "installment                39717 non-null float64\n",
      "grade                      39717 non-null object\n",
      "sub_grade                  39717 non-null object\n",
      "emp_title                  37258 non-null object\n",
      "emp_length                 38642 non-null object\n",
      "home_ownership             39717 non-null object\n",
      "annual_inc                 39717 non-null float64\n",
      "verification_status        39717 non-null object\n",
      "issue_d                    39717 non-null datetime64[ns]\n",
      "loan_status                39717 non-null object\n",
      "url                        39717 non-null object\n",
      "purpose                    39717 non-null object\n",
      "title                      39706 non-null object\n",
      "zip_code                   39717 non-null object\n",
      "addr_state                 39717 non-null object\n",
      "dti                        39717 non-null float64\n",
      "delinq_2yrs                39717 non-null int64\n",
      "earliest_cr_line           39717 non-null object\n",
      "inq_last_6mths             39717 non-null int64\n",
      "open_acc                   39717 non-null int64\n",
      "pub_rec                    39717 non-null int64\n",
      "revol_bal                  39717 non-null int64\n",
      "revol_util                 39667 non-null float64\n",
      "total_acc                  39717 non-null int64\n",
      "out_prncp                  39717 non-null float64\n",
      "out_prncp_inv              39717 non-null float64\n",
      "total_pymnt                39717 non-null float64\n",
      "total_pymnt_inv            39717 non-null float64\n",
      "total_rec_prncp            39717 non-null float64\n",
      "total_rec_int              39717 non-null float64\n",
      "total_rec_late_fee         39717 non-null float64\n",
      "recoveries                 39717 non-null float64\n",
      "collection_recovery_fee    39717 non-null float64\n",
      "last_pymnt_d               39646 non-null object\n",
      "last_pymnt_amnt            39717 non-null float64\n",
      "last_credit_pull_d         39715 non-null object\n",
      "pub_rec_bankruptcies       39020 non-null float64\n",
      "term_in_months             39717 non-null int64\n",
      "emp_len_in_yrs             38642 non-null float64\n",
      "annual_inc_group           39717 non-null object\n",
      "int_rate_group             39717 non-null object\n",
      "issue_d_mnth               39717 non-null int64\n",
      "issue_d_yr                 39717 non-null int64\n",
      "dti_group                  39717 non-null object\n",
      "dtypes: datetime64[ns](1), float64(18), int64(13), object(19)\n",
      "memory usage: 15.5+ MB\n"
     ]
    }
   ],
   "source": [
    "loan_data.info()"
   ]
  },
  {
   "cell_type": "code",
   "execution_count": 29,
   "metadata": {
    "scrolled": true
   },
   "outputs": [
    {
     "data": {
      "text/plain": [
       "Index(['id', 'member_id', 'loan_amnt', 'funded_amnt', 'funded_amnt_inv',\n",
       "       'term', 'int_rate', 'installment', 'grade', 'sub_grade', 'emp_title',\n",
       "       'emp_length', 'home_ownership', 'annual_inc', 'verification_status',\n",
       "       'issue_d', 'loan_status', 'url', 'purpose', 'title', 'zip_code',\n",
       "       'addr_state', 'dti', 'delinq_2yrs', 'earliest_cr_line',\n",
       "       'inq_last_6mths', 'open_acc', 'pub_rec', 'revol_bal', 'revol_util',\n",
       "       'total_acc', 'out_prncp', 'out_prncp_inv', 'total_pymnt',\n",
       "       'total_pymnt_inv', 'total_rec_prncp', 'total_rec_int',\n",
       "       'total_rec_late_fee', 'recoveries', 'collection_recovery_fee',\n",
       "       'last_pymnt_d', 'last_pymnt_amnt', 'last_credit_pull_d',\n",
       "       'pub_rec_bankruptcies', 'term_in_months', 'emp_len_in_yrs',\n",
       "       'annual_inc_group', 'int_rate_group', 'issue_d_mnth', 'issue_d_yr',\n",
       "       'dti_group'],\n",
       "      dtype='object')"
      ]
     },
     "execution_count": 29,
     "metadata": {},
     "output_type": "execute_result"
    }
   ],
   "source": [
    "loan_data.columns"
   ]
  },
  {
   "cell_type": "markdown",
   "metadata": {},
   "source": [
    "`Based on description, deleting unwanted columns and retaining only required columns for analysis`"
   ]
  },
  {
   "cell_type": "code",
   "execution_count": 30,
   "metadata": {},
   "outputs": [],
   "source": [
    "loan_data_req_columns = ['id', 'member_id', 'loan_amnt', 'funded_amnt', 'funded_amnt_inv',\n",
    "       'term', 'int_rate', 'installment', 'grade', 'sub_grade', \n",
    "       'emp_length', 'home_ownership', 'annual_inc', 'verification_status',\n",
    "       'issue_d', 'loan_status',  'purpose',  'zip_code',\n",
    "       'addr_state', 'dti', 'delinq_2yrs', \n",
    "        'open_acc', 'pub_rec', 'revol_bal', 'revol_util',\n",
    "       'total_acc', 'out_prncp', 'out_prncp_inv', 'total_pymnt',\n",
    "       'total_pymnt_inv', 'total_rec_prncp', 'total_rec_int',\n",
    "       'total_rec_late_fee', 'recoveries', 'collection_recovery_fee',\n",
    "       'last_pymnt_d', 'last_pymnt_amnt', \n",
    "       'pub_rec_bankruptcies', 'term_in_months', 'emp_len_in_yrs',\n",
    "       'annual_inc_group', 'int_rate_group', 'issue_d_mnth', 'issue_d_yr', 'dti_group']"
   ]
  },
  {
   "cell_type": "code",
   "execution_count": 31,
   "metadata": {},
   "outputs": [
    {
     "name": "stdout",
     "output_type": "stream",
     "text": [
      "<class 'pandas.core.frame.DataFrame'>\n",
      "RangeIndex: 39717 entries, 0 to 39716\n",
      "Data columns (total 45 columns):\n",
      "id                         39717 non-null int64\n",
      "member_id                  39717 non-null int64\n",
      "loan_amnt                  39717 non-null int64\n",
      "funded_amnt                39717 non-null int64\n",
      "funded_amnt_inv            39717 non-null float64\n",
      "term                       39717 non-null object\n",
      "int_rate                   39717 non-null float64\n",
      "installment                39717 non-null float64\n",
      "grade                      39717 non-null object\n",
      "sub_grade                  39717 non-null object\n",
      "emp_length                 38642 non-null object\n",
      "home_ownership             39717 non-null object\n",
      "annual_inc                 39717 non-null float64\n",
      "verification_status        39717 non-null object\n",
      "issue_d                    39717 non-null datetime64[ns]\n",
      "loan_status                39717 non-null object\n",
      "purpose                    39717 non-null object\n",
      "zip_code                   39717 non-null object\n",
      "addr_state                 39717 non-null object\n",
      "dti                        39717 non-null float64\n",
      "delinq_2yrs                39717 non-null int64\n",
      "open_acc                   39717 non-null int64\n",
      "pub_rec                    39717 non-null int64\n",
      "revol_bal                  39717 non-null int64\n",
      "revol_util                 39667 non-null float64\n",
      "total_acc                  39717 non-null int64\n",
      "out_prncp                  39717 non-null float64\n",
      "out_prncp_inv              39717 non-null float64\n",
      "total_pymnt                39717 non-null float64\n",
      "total_pymnt_inv            39717 non-null float64\n",
      "total_rec_prncp            39717 non-null float64\n",
      "total_rec_int              39717 non-null float64\n",
      "total_rec_late_fee         39717 non-null float64\n",
      "recoveries                 39717 non-null float64\n",
      "collection_recovery_fee    39717 non-null float64\n",
      "last_pymnt_d               39646 non-null object\n",
      "last_pymnt_amnt            39717 non-null float64\n",
      "pub_rec_bankruptcies       39020 non-null float64\n",
      "term_in_months             39717 non-null int64\n",
      "emp_len_in_yrs             38642 non-null float64\n",
      "annual_inc_group           39717 non-null object\n",
      "int_rate_group             39717 non-null object\n",
      "issue_d_mnth               39717 non-null int64\n",
      "issue_d_yr                 39717 non-null int64\n",
      "dti_group                  39717 non-null object\n",
      "dtypes: datetime64[ns](1), float64(18), int64(12), object(14)\n",
      "memory usage: 13.6+ MB\n"
     ]
    }
   ],
   "source": [
    "loan_cd = loan_data[loan_data_req_columns]\n",
    "loan_cd.info()"
   ]
  },
  {
   "cell_type": "code",
   "execution_count": 32,
   "metadata": {},
   "outputs": [],
   "source": [
    "#loan_data.to_csv('clean_loan_data.csv')"
   ]
  },
  {
   "cell_type": "code",
   "execution_count": 33,
   "metadata": {},
   "outputs": [
    {
     "name": "stdout",
     "output_type": "stream",
     "text": [
      "# of Numerical columns:  31\n",
      "--------\n",
      "# of Categorical columns:  14\n",
      "--------\n"
     ]
    }
   ],
   "source": [
    "numerical_cols = loan_cd.dtypes[loan_cd.dtypes != \"object\"].index\n",
    "print(\"# of Numerical columns: \", len(numerical_cols))\n",
    "print('--------')\n",
    "categorical_cols = loan_cd.dtypes[loan_cd.dtypes == \"object\"].index\n",
    "print(\"# of Categorical columns: \", len(categorical_cols))\n",
    "print('--------')"
   ]
  },
  {
   "cell_type": "markdown",
   "metadata": {},
   "source": [
    "Completed above is the data cleaning and preparation\n",
    "\n",
    "### Univariate Analysis\n",
    "The section below will now involve observing the variables one after the other individually"
   ]
  },
  {
   "cell_type": "code",
   "execution_count": 34,
   "metadata": {},
   "outputs": [
    {
     "data": {
      "text/plain": [
       "[Text(0,0.5,'Count'), Text(0.5,0,'DTI')]"
      ]
     },
     "execution_count": 34,
     "metadata": {},
     "output_type": "execute_result"
    },
    {
     "data": {
      "image/png": "[encoded data removed]",
      "text/plain": [
       "<Figure size 1008x360 with 1 Axes>"
      ]
     },
     "metadata": {
      "needs_background": "light"
     },
     "output_type": "display_data"
    }
   ],
   "source": [
    "# Distribution plot for dti\n",
    "plt.figure(figsize=(14,5))\n",
    "fig = sns.distplot(loan_cd['dti'])\n",
    "fig.set(xlabel='DTI',ylabel='Count')"
   ]
  },
  {
   "cell_type": "code",
   "execution_count": 35,
   "metadata": {},
   "outputs": [
    {
     "data": {
      "text/plain": [
       "<matplotlib.axes._subplots.AxesSubplot at 0x1e19c879ba8>"
      ]
     },
     "execution_count": 35,
     "metadata": {},
     "output_type": "execute_result"
    },
    {
     "data": {
      "image/png": "[encoded data removed]",
      "text/plain": [
       "<Figure size 432x288 with 1 Axes>"
      ]
     },
     "metadata": {
      "needs_background": "light"
     },
     "output_type": "display_data"
    }
   ],
   "source": [
    "sns.boxplot(y='loan_amnt',data=loan_cd)"
   ]
  },
  {
   "cell_type": "markdown",
   "metadata": {},
   "source": [
    "`We see that 75% of loans are taken less than 15000. However, there are outliers who take more 30000 loan`. We are not removing the outliers, to make sure they are also included for the analysis"
   ]
  },
  {
   "cell_type": "code",
   "execution_count": 36,
   "metadata": {},
   "outputs": [
    {
     "data": {
      "text/plain": [
       "50 K - 1 Lakh         18286\n",
       "< 50000               15744\n",
       "1 lakh - 1 L 50 K      4136\n",
       "1 L 50 K - 2 Lakhs      965\n",
       "2 Lakhs - 3 Lakhs       411\n",
       "3 Lakhs - 4 Lakhs        83\n",
       "> 6 Lakhs                49\n",
       "4 Lakhs - 6 Lakhs        43\n",
       "Name: annual_inc_group, dtype: int64"
      ]
     },
     "execution_count": 36,
     "metadata": {},
     "output_type": "execute_result"
    }
   ],
   "source": [
    "loan_cd['annual_inc_group'].value_counts()"
   ]
  },
  {
   "cell_type": "code",
   "execution_count": 37,
   "metadata": {},
   "outputs": [
    {
     "data": {
      "text/plain": [
       "<matplotlib.axes._subplots.AxesSubplot at 0x1e19cff0dd8>"
      ]
     },
     "execution_count": 37,
     "metadata": {},
     "output_type": "execute_result"
    },
    {
     "data": {
      "image/png": "[encoded data removed]",
      "text/plain": [
       "<Figure size 1008x576 with 1 Axes>"
      ]
     },
     "metadata": {
      "needs_background": "light"
     },
     "output_type": "display_data"
    }
   ],
   "source": [
    "plt.figure(figsize=(14, 8))\n",
    "sns.countplot(x='annual_inc_group',data=loan_cd)"
   ]
  },
  {
   "cell_type": "code",
   "execution_count": 38,
   "metadata": {},
   "outputs": [
    {
     "data": {
      "text/plain": [
       "10 - 15 %    18794\n",
       "5 - 10 %     12393\n",
       "15 - 20 %     7658\n",
       "20 - 25 %      872\n",
       "Name: int_rate_group, dtype: int64"
      ]
     },
     "execution_count": 38,
     "metadata": {},
     "output_type": "execute_result"
    }
   ],
   "source": [
    "loan_cd.int_rate_group.value_counts()"
   ]
  },
  {
   "cell_type": "code",
   "execution_count": 39,
   "metadata": {},
   "outputs": [
    {
     "data": {
      "text/plain": [
       "<matplotlib.axes._subplots.AxesSubplot at 0x1e19f7a3eb8>"
      ]
     },
     "execution_count": 39,
     "metadata": {},
     "output_type": "execute_result"
    },
    {
     "data": {
      "image/png": "[encoded data removed]",
      "text/plain": [
       "<Figure size 1008x576 with 1 Axes>"
      ]
     },
     "metadata": {
      "needs_background": "light"
     },
     "output_type": "display_data"
    }
   ],
   "source": [
    "plt.figure(figsize=(14, 8))\n",
    "sns.countplot(x='int_rate_group',data=loan_cd, order=['5 - 10 %','10 - 15 %','15 - 20 %','20 - 25 %'])"
   ]
  },
  {
   "cell_type": "code",
   "execution_count": 40,
   "metadata": {},
   "outputs": [
    {
     "data": {
      "text/plain": [
       "Fully Paid     82.961956\n",
       "Charged Off    14.167737\n",
       "Current         2.870307\n",
       "Name: loan_status, dtype: float64"
      ]
     },
     "execution_count": 40,
     "metadata": {},
     "output_type": "execute_result"
    }
   ],
   "source": [
    "loan_cd['loan_status'].value_counts()/len(loan_cd.index)*100"
   ]
  },
  {
   "cell_type": "code",
   "execution_count": 41,
   "metadata": {},
   "outputs": [
    {
     "name": "stdout",
     "output_type": "stream",
     "text": [
      "Fully Paid     32950\n",
      "Charged Off     5627\n",
      "Current         1140\n",
      "Name: loan_status, dtype: int64\n"
     ]
    },
    {
     "data": {
      "text/plain": [
       "<matplotlib.axes._subplots.AxesSubplot at 0x1e194398b00>"
      ]
     },
     "execution_count": 41,
     "metadata": {},
     "output_type": "execute_result"
    },
    {
     "data": {
      "image/png": "[encoded data removed]",
      "text/plain": [
       "<Figure size 432x288 with 1 Axes>"
      ]
     },
     "metadata": {
      "needs_background": "light"
     },
     "output_type": "display_data"
    }
   ],
   "source": [
    "print(loan_cd['loan_status'].value_counts())\n",
    "sns.countplot(x='loan_status', data=loan_cd)"
   ]
  },
  {
   "cell_type": "markdown",
   "metadata": {},
   "source": [
    "` As we see 14% of the loans are charged off`"
   ]
  },
  {
   "cell_type": "code",
   "execution_count": 87,
   "metadata": {},
   "outputs": [
    {
     "data": {
      "text/plain": [
       "<matplotlib.axes._subplots.AxesSubplot at 0x1e19d7d42b0>"
      ]
     },
     "execution_count": 87,
     "metadata": {},
     "output_type": "execute_result"
    },
    {
     "data": {
      "image/png": "[encoded data removed]",
      "text/plain": [
       "<Figure size 1008x576 with 1 Axes>"
      ]
     },
     "metadata": {
      "needs_background": "light"
     },
     "output_type": "display_data"
    }
   ],
   "source": [
    "plt.figure(figsize=(14, 8))\n",
    "sns.countplot(x='issue_d_mnth',hue='issue_d_yr', data=loan_cd)"
   ]
  },
  {
   "cell_type": "markdown",
   "metadata": {},
   "source": [
    "`As we see, December is the busiest month where most of the loans are applied`"
   ]
  },
  {
   "cell_type": "code",
   "execution_count": 42,
   "metadata": {},
   "outputs": [
    {
     "data": {
      "image/png": "[encoded data removed]",
      "text/plain": [
       "<Figure size 720x504 with 1 Axes>"
      ]
     },
     "metadata": {
      "needs_background": "light"
     },
     "output_type": "display_data"
    }
   ],
   "source": [
    "plt.figure(figsize=(10,7))\n",
    "plt.title(\"Distribution of Loan Amount\")\n",
    "sns.violinplot(x=\"loan_status\", y=\"loan_amnt\", data=loan_cd);\n",
    "plt.show()"
   ]
  },
  {
   "cell_type": "code",
   "execution_count": 88,
   "metadata": {},
   "outputs": [
    {
     "data": {
      "text/plain": [
       " 36 months    29096\n",
       " 60 months    10621\n",
       "Name: term, dtype: int64"
      ]
     },
     "execution_count": 88,
     "metadata": {},
     "output_type": "execute_result"
    }
   ],
   "source": [
    "loan_cd['term'].value_counts()"
   ]
  },
  {
   "cell_type": "code",
   "execution_count": 89,
   "metadata": {},
   "outputs": [],
   "source": [
    "def countplt(dim):\n",
    "    sns.countplot(x=dim,data=loan_cd)"
   ]
  },
  {
   "cell_type": "code",
   "execution_count": 45,
   "metadata": {},
   "outputs": [
    {
     "data": {
      "image/png": "[encoded data removed]",
      "text/plain": [
       "<Figure size 864x576 with 1 Axes>"
      ]
     },
     "metadata": {
      "needs_background": "light"
     },
     "output_type": "display_data"
    }
   ],
   "source": [
    "plt.figure(figsize=(12, 8))\n",
    "countplt('purpose')"
   ]
  },
  {
   "cell_type": "markdown",
   "metadata": {},
   "source": [
    "`we see that debt consolition is the purpose has majority of loans given`"
   ]
  },
  {
   "cell_type": "code",
   "execution_count": 46,
   "metadata": {},
   "outputs": [
    {
     "data": {
      "image/png": "[encoded data removed]",
      "text/plain": [
       "<Figure size 864x576 with 1 Axes>"
      ]
     },
     "metadata": {
      "needs_background": "light"
     },
     "output_type": "display_data"
    }
   ],
   "source": [
    "plt.figure(figsize=(12, 8))\n",
    "countplt('grade')"
   ]
  },
  {
   "cell_type": "markdown",
   "metadata": {},
   "source": [
    "As we see B Grade is having maximum loans given to"
   ]
  },
  {
   "cell_type": "markdown",
   "metadata": {},
   "source": [
    "## Segmented univariate"
   ]
  },
  {
   "cell_type": "code",
   "execution_count": 91,
   "metadata": {},
   "outputs": [
    {
     "data": {
      "text/plain": [
       "<matplotlib.axes._subplots.AxesSubplot at 0x1e19e97c390>"
      ]
     },
     "execution_count": 91,
     "metadata": {},
     "output_type": "execute_result"
    },
    {
     "data": {
      "image/png": "[encoded data removed]",
      "text/plain": [
       "<Figure size 1008x576 with 1 Axes>"
      ]
     },
     "metadata": {
      "needs_background": "light"
     },
     "output_type": "display_data"
    }
   ],
   "source": [
    "plt.figure(figsize=(14, 8))\n",
    "sns.countplot(x='issue_d_yr',hue ='loan_status',data=loan_cd)"
   ]
  },
  {
   "cell_type": "markdown",
   "metadata": {},
   "source": [
    " As we see fully paid is completely dwarfing the the other types, we will further not include the Fully Paid for few analysis"
   ]
  },
  {
   "cell_type": "code",
   "execution_count": 92,
   "metadata": {},
   "outputs": [],
   "source": [
    "# Count plot for charged off and current\n",
    "def countplt(dim):\n",
    "    sns.countplot(x=dim,data=loan_cd.loc[loan_cd['loan_status'] != 'Fully Paid'])"
   ]
  },
  {
   "cell_type": "code",
   "execution_count": 93,
   "metadata": {},
   "outputs": [
    {
     "data": {
      "image/png": "[encoded data removed]",
      "text/plain": [
       "<Figure size 432x288 with 1 Axes>"
      ]
     },
     "metadata": {
      "needs_background": "light"
     },
     "output_type": "display_data"
    }
   ],
   "source": [
    "countplt('grade')"
   ]
  },
  {
   "cell_type": "code",
   "execution_count": 94,
   "metadata": {},
   "outputs": [
    {
     "data": {
      "image/png": "[encoded data removed]",
      "text/plain": [
       "<Figure size 1080x576 with 1 Axes>"
      ]
     },
     "metadata": {
      "needs_background": "light"
     },
     "output_type": "display_data"
    }
   ],
   "source": [
    "plt.figure(figsize=(15, 8))\n",
    "countplt('sub_grade')"
   ]
  },
  {
   "cell_type": "markdown",
   "metadata": {},
   "source": [
    "## Creating Derived metrics\n",
    "\n",
    "These metrics will be used to plot against the purpose"
   ]
  },
  {
   "cell_type": "markdown",
   "metadata": {},
   "source": [
    "### Creating derived metrics based on Business\n",
    "Paid amount to Loan Amount Percentage Or Payback Percentage - This will be a % of amount of pricipal which is paid back,  without including the Interest rate"
   ]
  },
  {
   "cell_type": "code",
   "execution_count": 97,
   "metadata": {},
   "outputs": [],
   "source": [
    "# Creating a Function for dynamically creating the Dataframes as per our required variable.\n",
    "def pct_prncp_rcvd_func(var):\n",
    "    df = loan_cd.groupby([var], as_index=False).agg({'loan_amnt':['sum'],'total_rec_prncp':['sum']})\n",
    "    df.columns = [var,'tot_loan_amt','tot_rec_prncp_amt']\n",
    "    df['pct_prncp_rcvd'] = 100*df['tot_rec_prncp_amt']/df['tot_loan_amt']\n",
    "    return df.sort_values(by='pct_prncp_rcvd')"
   ]
  },
  {
   "cell_type": "code",
   "execution_count": 98,
   "metadata": {},
   "outputs": [
    {
     "name": "stdout",
     "output_type": "stream",
     "text": [
      "             purpose  tot_loan_amt  tot_rec_prncp_amt  pct_prncp_rcvd\n",
      "11    small_business      24800975        18938150.25       76.360507\n",
      "10  renewable_energy        897875          764922.16       85.192500\n",
      "7            medical       5726725         4968626.75       86.762098\n",
      "5              house       4980050         4324655.94       86.839609\n",
      "9              other      32213975        27986964.98       86.878335\n"
     ]
    },
    {
     "data": {
      "text/plain": [
       "<matplotlib.axes._subplots.AxesSubplot at 0x1e1a1beefd0>"
      ]
     },
     "execution_count": 98,
     "metadata": {},
     "output_type": "execute_result"
    },
    {
     "data": {
      "image/png": "[encoded data removed]",
      "text/plain": [
       "<Figure size 1080x576 with 1 Axes>"
      ]
     },
     "metadata": {
      "needs_background": "light"
     },
     "output_type": "display_data"
    }
   ],
   "source": [
    "# 1. Analysis by Purpose\n",
    "pct_prncp_rcvd_by_purpose = pct_prncp_rcvd_func('purpose')\n",
    "print(pct_prncp_rcvd_by_purpose.head())\n",
    "plt.figure(figsize=(15, 8))\n",
    "sns.barplot(pct_prncp_rcvd_by_purpose.purpose, pct_prncp_rcvd_by_purpose.pct_prncp_rcvd)"
   ]
  },
  {
   "cell_type": "markdown",
   "metadata": {},
   "source": [
    "As we see **Small Business** is having lowest Repayment percentage"
   ]
  },
  {
   "cell_type": "code",
   "execution_count": 99,
   "metadata": {},
   "outputs": [
    {
     "name": "stdout",
     "output_type": "stream",
     "text": [
      "  grade  tot_loan_amt  tot_rec_prncp_amt  pct_prncp_rcvd\n",
      "5     F      19263100       1.405985e+07       72.988502\n",
      "6     G       6391675       4.760439e+06       74.478739\n",
      "4     E      45037900       3.529321e+07       78.363353\n",
      "3     D      65160400       5.467050e+07       83.901426\n",
      "2     C      89115825       7.730818e+07       86.750230\n",
      "1     B     133651350       1.207284e+08       90.330843\n",
      "0     A      86982400       8.214186e+07       94.435036\n"
     ]
    },
    {
     "data": {
      "text/plain": [
       "<matplotlib.axes._subplots.AxesSubplot at 0x1e1a07f2828>"
      ]
     },
     "execution_count": 99,
     "metadata": {},
     "output_type": "execute_result"
    },
    {
     "data": {
      "image/png": "[encoded data removed]",
      "text/plain": [
       "<Figure size 1080x576 with 1 Axes>"
      ]
     },
     "metadata": {
      "needs_background": "light"
     },
     "output_type": "display_data"
    }
   ],
   "source": [
    "# 2. Analysis by Grade\n",
    "pct_prncp_rcvd_by_grade = pct_prncp_rcvd_func('grade')\n",
    "print(pct_prncp_rcvd_by_grade)\n",
    "plt.figure(figsize=(15, 8))\n",
    "sns.barplot(pct_prncp_rcvd_by_grade.grade, pct_prncp_rcvd_by_grade.pct_prncp_rcvd)"
   ]
  },
  {
   "cell_type": "markdown",
   "metadata": {},
   "source": [
    "F and G are having low payback percentages"
   ]
  },
  {
   "cell_type": "code",
   "execution_count": 100,
   "metadata": {},
   "outputs": [
    {
     "name": "stdout",
     "output_type": "stream",
     "text": [
      "  home_ownership  tot_loan_amt  tot_rec_prncp_amt  pct_prncp_rcvd\n",
      "2          OTHER       1044975       8.481463e+05       81.164272\n",
      "0       MORTGAGE     224094000       1.953212e+08       87.160398\n",
      "3            OWN      31365150       2.739106e+07       87.329603\n",
      "4           RENT     189081725       1.653852e+08       87.467578\n",
      "1           NONE         16800       1.679999e+04       99.999940\n"
     ]
    },
    {
     "data": {
      "text/plain": [
       "<matplotlib.axes._subplots.AxesSubplot at 0x1e1a07f2518>"
      ]
     },
     "execution_count": 100,
     "metadata": {},
     "output_type": "execute_result"
    },
    {
     "data": {
      "image/png": "[encoded data removed]",
      "text/plain": [
       "<Figure size 1080x576 with 1 Axes>"
      ]
     },
     "metadata": {
      "needs_background": "light"
     },
     "output_type": "display_data"
    }
   ],
   "source": [
    "# 3. Analysis by Home Ownership\n",
    "pct_prncp_rcvd_by_home_own = pct_prncp_rcvd_func('home_ownership')\n",
    "print(pct_prncp_rcvd_by_home_own)\n",
    "plt.figure(figsize=(15, 8))\n",
    "sns.barplot(pct_prncp_rcvd_by_home_own.home_ownership, pct_prncp_rcvd_by_home_own.pct_prncp_rcvd)"
   ]
  },
  {
   "cell_type": "markdown",
   "metadata": {},
   "source": [
    "Home Ownership shows interesting fact that Mortage, Own or Rented status of Homes almost have similar payback rate. The Other status is having lowest."
   ]
  },
  {
   "cell_type": "code",
   "execution_count": 101,
   "metadata": {},
   "outputs": [
    {
     "name": "stdout",
     "output_type": "stream",
     "text": [
      "  int_rate_group  tot_loan_amt  tot_rec_prncp_amt  pct_prncp_rcvd\n",
      "2      20 - 25 %      18214350       1.272996e+07       69.889740\n",
      "1      15 - 20 %     107317575       8.680566e+07       80.886713\n",
      "0      10 - 15 %     210184125       1.862178e+08       88.597470\n",
      "3       5 - 10 %     109886600       1.032090e+08       93.923188\n"
     ]
    },
    {
     "data": {
      "text/plain": [
       "<matplotlib.axes._subplots.AxesSubplot at 0x1e1a0affdd8>"
      ]
     },
     "execution_count": 101,
     "metadata": {},
     "output_type": "execute_result"
    },
    {
     "data": {
      "image/png": "[encoded data removed]",
      "text/plain": [
       "<Figure size 1080x576 with 1 Axes>"
      ]
     },
     "metadata": {
      "needs_background": "light"
     },
     "output_type": "display_data"
    }
   ],
   "source": [
    "# 4. Analysis by Interest Rate Group\n",
    "pct_prncp_rcvd_by_int_grp = pct_prncp_rcvd_func('int_rate_group')\n",
    "print(pct_prncp_rcvd_by_int_grp)\n",
    "plt.figure(figsize=(15, 8))\n",
    "sns.barplot(pct_prncp_rcvd_by_int_grp.int_rate_group, pct_prncp_rcvd_by_int_grp.pct_prncp_rcvd)"
   ]
  },
  {
   "cell_type": "markdown",
   "metadata": {},
   "source": [
    "People with 20 - 25% interest rate are having the lowest Payback index."
   ]
  },
  {
   "cell_type": "code",
   "execution_count": 102,
   "metadata": {},
   "outputs": [
    {
     "name": "stdout",
     "output_type": "stream",
     "text": [
      "  verification_status  tot_loan_amt  tot_rec_prncp_amt  pct_prncp_rcvd\n",
      "2            Verified     202236600       1.721134e+08       85.104960\n",
      "1     Source Verified     100867000       8.819425e+07       87.436180\n",
      "0        Not Verified     142499050       1.286548e+08       90.284676\n"
     ]
    },
    {
     "data": {
      "text/plain": [
       "<matplotlib.axes._subplots.AxesSubplot at 0x1e1a0b8ee80>"
      ]
     },
     "execution_count": 102,
     "metadata": {},
     "output_type": "execute_result"
    },
    {
     "data": {
      "image/png": "[encoded data removed]",
      "text/plain": [
       "<Figure size 1080x576 with 1 Axes>"
      ]
     },
     "metadata": {
      "needs_background": "light"
     },
     "output_type": "display_data"
    }
   ],
   "source": [
    "pct_prncp_rcvd_by_verify_stat = pct_prncp_rcvd_func('verification_status')\n",
    "print(pct_prncp_rcvd_by_verify_stat)\n",
    "plt.figure(figsize=(15, 8))\n",
    "sns.barplot(pct_prncp_rcvd_by_verify_stat.verification_status, pct_prncp_rcvd_by_verify_stat.pct_prncp_rcvd)"
   ]
  },
  {
   "cell_type": "markdown",
   "metadata": {},
   "source": [
    "**Verified** status having lowest payback percentage. This is a surprise, that though verification is done, still this group has lowest payback percentage"
   ]
  },
  {
   "cell_type": "markdown",
   "metadata": {},
   "source": [
    "#### Another Derived Metric - Charged off Index"
   ]
  },
  {
   "cell_type": "markdown",
   "metadata": {},
   "source": [
    "We're creating a new dervied metric - `Charged-Off Index`:\n",
    "This index takes into account the distribution of users that are charged off and the distribution of the total population i.e. pct_charged_off / pct_total_population.\n",
    "The reason for doing this is to ensure that we don't ignore the entire population set and just consider the charged_off/fully_paid users, as this will create a bias in case the population is skewed towards one entity"
   ]
  },
  {
   "cell_type": "code",
   "execution_count": 103,
   "metadata": {},
   "outputs": [],
   "source": [
    "# Creating function to create the data frame with charged off index\n",
    "def charged_off_ind_func(var):\n",
    "    df=loan_cd.pivot_table(values = ['id'], index = [var],columns = ['loan_status'], aggfunc = 'count').reset_index()\n",
    "    df.columns = [var,'charged_off_count','current_count','fully_paid_count']\n",
    "    df.loc[pd.isnull(df.fully_paid_count),['fully_paid_count']] = 0\n",
    "    df.loc[pd.isnull(df.charged_off_count),['charged_off_count']] = 0\n",
    "    df.loc[pd.isnull(df.current_count),['current_count']] = 0\n",
    "    df['total_pop'] = df['charged_off_count']+df['current_count']+df['fully_paid_count']\n",
    "    df['pct_charged_off'] = df['charged_off_count']/df['charged_off_count'].sum()\n",
    "    df['pct_tot_pop'] = df['total_pop']/df['total_pop'].sum()\n",
    "    df['charged_off_index'] = round(df['pct_charged_off']/df['pct_tot_pop'],2)\n",
    "    return df"
   ]
  },
  {
   "cell_type": "code",
   "execution_count": 104,
   "metadata": {},
   "outputs": [
    {
     "data": {
      "text/html": [
       "<div>\n",
       "<style scoped>\n",
       "    .dataframe tbody tr th:only-of-type {\n",
       "        vertical-align: middle;\n",
       "    }\n",
       "\n",
       "    .dataframe tbody tr th {\n",
       "        vertical-align: top;\n",
       "    }\n",
       "\n",
       "    .dataframe thead th {\n",
       "        text-align: right;\n",
       "    }\n",
       "</style>\n",
       "<table border=\"1\" class=\"dataframe\">\n",
       "  <thead>\n",
       "    <tr style=\"text-align: right;\">\n",
       "      <th></th>\n",
       "      <th>grade</th>\n",
       "      <th>charged_off_count</th>\n",
       "      <th>current_count</th>\n",
       "      <th>fully_paid_count</th>\n",
       "      <th>total_pop</th>\n",
       "      <th>pct_charged_off</th>\n",
       "      <th>pct_tot_pop</th>\n",
       "      <th>charged_off_index</th>\n",
       "    </tr>\n",
       "  </thead>\n",
       "  <tbody>\n",
       "    <tr>\n",
       "      <th>0</th>\n",
       "      <td>A</td>\n",
       "      <td>602</td>\n",
       "      <td>40</td>\n",
       "      <td>9443</td>\n",
       "      <td>10085</td>\n",
       "      <td>0.106984</td>\n",
       "      <td>0.253921</td>\n",
       "      <td>0.42</td>\n",
       "    </tr>\n",
       "    <tr>\n",
       "      <th>1</th>\n",
       "      <td>B</td>\n",
       "      <td>1425</td>\n",
       "      <td>345</td>\n",
       "      <td>10250</td>\n",
       "      <td>12020</td>\n",
       "      <td>0.253243</td>\n",
       "      <td>0.302641</td>\n",
       "      <td>0.84</td>\n",
       "    </tr>\n",
       "    <tr>\n",
       "      <th>2</th>\n",
       "      <td>C</td>\n",
       "      <td>1347</td>\n",
       "      <td>264</td>\n",
       "      <td>6487</td>\n",
       "      <td>8098</td>\n",
       "      <td>0.239382</td>\n",
       "      <td>0.203893</td>\n",
       "      <td>1.17</td>\n",
       "    </tr>\n",
       "    <tr>\n",
       "      <th>3</th>\n",
       "      <td>D</td>\n",
       "      <td>1118</td>\n",
       "      <td>222</td>\n",
       "      <td>3967</td>\n",
       "      <td>5307</td>\n",
       "      <td>0.198685</td>\n",
       "      <td>0.133620</td>\n",
       "      <td>1.49</td>\n",
       "    </tr>\n",
       "    <tr>\n",
       "      <th>4</th>\n",
       "      <td>E</td>\n",
       "      <td>715</td>\n",
       "      <td>179</td>\n",
       "      <td>1948</td>\n",
       "      <td>2842</td>\n",
       "      <td>0.127066</td>\n",
       "      <td>0.071556</td>\n",
       "      <td>1.78</td>\n",
       "    </tr>\n",
       "    <tr>\n",
       "      <th>5</th>\n",
       "      <td>F</td>\n",
       "      <td>319</td>\n",
       "      <td>73</td>\n",
       "      <td>657</td>\n",
       "      <td>1049</td>\n",
       "      <td>0.056691</td>\n",
       "      <td>0.026412</td>\n",
       "      <td>2.15</td>\n",
       "    </tr>\n",
       "    <tr>\n",
       "      <th>6</th>\n",
       "      <td>G</td>\n",
       "      <td>101</td>\n",
       "      <td>17</td>\n",
       "      <td>198</td>\n",
       "      <td>316</td>\n",
       "      <td>0.017949</td>\n",
       "      <td>0.007956</td>\n",
       "      <td>2.26</td>\n",
       "    </tr>\n",
       "  </tbody>\n",
       "</table>\n",
       "</div>"
      ],
      "text/plain": [
       "  grade  charged_off_count  current_count  fully_paid_count  total_pop  \\\n",
       "0     A                602             40              9443      10085   \n",
       "1     B               1425            345             10250      12020   \n",
       "2     C               1347            264              6487       8098   \n",
       "3     D               1118            222              3967       5307   \n",
       "4     E                715            179              1948       2842   \n",
       "5     F                319             73               657       1049   \n",
       "6     G                101             17               198        316   \n",
       "\n",
       "   pct_charged_off  pct_tot_pop  charged_off_index  \n",
       "0         0.106984     0.253921               0.42  \n",
       "1         0.253243     0.302641               0.84  \n",
       "2         0.239382     0.203893               1.17  \n",
       "3         0.198685     0.133620               1.49  \n",
       "4         0.127066     0.071556               1.78  \n",
       "5         0.056691     0.026412               2.15  \n",
       "6         0.017949     0.007956               2.26  "
      ]
     },
     "execution_count": 104,
     "metadata": {},
     "output_type": "execute_result"
    }
   ],
   "source": [
    "# 1. Analysis of Charged off index by grade\n",
    "loan_by_grade = charged_off_ind_func('grade')\n",
    "loan_by_grade"
   ]
  },
  {
   "cell_type": "code",
   "execution_count": 105,
   "metadata": {},
   "outputs": [
    {
     "data": {
      "text/plain": [
       "<matplotlib.axes._subplots.AxesSubplot at 0x1e1a0be2b70>"
      ]
     },
     "execution_count": 105,
     "metadata": {},
     "output_type": "execute_result"
    },
    {
     "data": {
      "image/png": "[encoded data removed]",
      "text/plain": [
       "<Figure size 432x288 with 1 Axes>"
      ]
     },
     "metadata": {
      "needs_background": "light"
     },
     "output_type": "display_data"
    }
   ],
   "source": [
    "sns.barplot(x='grade', y ='charged_off_index', data=loan_by_grade)"
   ]
  },
  {
   "cell_type": "markdown",
   "metadata": {},
   "source": [
    "So As the grade moves lower, the charged off index is higher, which increases the risk associated to loan repayment. Which means that the Grade G is having higher risk of being Charged Off"
   ]
  },
  {
   "cell_type": "code",
   "execution_count": 106,
   "metadata": {},
   "outputs": [
    {
     "data": {
      "text/plain": [
       "<matplotlib.axes._subplots.AxesSubplot at 0x1e1a0b8e978>"
      ]
     },
     "execution_count": 106,
     "metadata": {},
     "output_type": "execute_result"
    },
    {
     "data": {
      "image/png": "[encoded data removed]",
      "text/plain": [
       "<Figure size 1080x576 with 1 Axes>"
      ]
     },
     "metadata": {
      "needs_background": "light"
     },
     "output_type": "display_data"
    }
   ],
   "source": [
    "# 2. Analysis of Charged off index by Income group\n",
    "loan_by_inc = charged_off_ind_func('annual_inc_group')\n",
    "sort_order = ['< 50000','50 K - 1 Lakh','1 lakh - 1 L 50 K','1 L 50 K - 2 Lakhs','2 Lakhs - 3 Lakhs','3 Lakhs - 4 Lakhs','4 Lakhs - 6 Lakhs','> 6 Lakhs']\n",
    "plt.figure(figsize=(15, 8))\n",
    "sns.barplot(x='annual_inc_group', y ='charged_off_index', data=loan_by_inc, order=sort_order)"
   ]
  },
  {
   "cell_type": "markdown",
   "metadata": {},
   "source": [
    "As we see, the Trend of Income is not having impact on Charged off Index"
   ]
  },
  {
   "cell_type": "code",
   "execution_count": 113,
   "metadata": {},
   "outputs": [
    {
     "data": {
      "text/plain": [
       "<matplotlib.axes._subplots.AxesSubplot at 0x1e1a2790588>"
      ]
     },
     "execution_count": 113,
     "metadata": {},
     "output_type": "execute_result"
    },
    {
     "data": {
      "image/png": "[encoded data removed]",
      "text/plain": [
       "<Figure size 1584x360 with 1 Axes>"
      ]
     },
     "metadata": {
      "needs_background": "light"
     },
     "output_type": "display_data"
    }
   ],
   "source": [
    "# 3. Analysis of Charged off index by Purpose\n",
    "loan_by_purpose = charged_off_ind_func('purpose') \n",
    "loan_by_purpose\n",
    "plt.figure(figsize=(22,5))\n",
    "sns.barplot(x='purpose', y ='charged_off_index', data=loan_by_purpose)"
   ]
  },
  {
   "cell_type": "markdown",
   "metadata": {},
   "source": [
    "As we can see **Small Business** is seen to be having more charged off index"
   ]
  },
  {
   "cell_type": "code",
   "execution_count": 114,
   "metadata": {},
   "outputs": [
    {
     "data": {
      "text/plain": [
       "<matplotlib.axes._subplots.AxesSubplot at 0x1e1a3062b70>"
      ]
     },
     "execution_count": 114,
     "metadata": {},
     "output_type": "execute_result"
    },
    {
     "data": {
      "image/png": "[encoded data removed]",
      "text/plain": [
       "<Figure size 1008x360 with 1 Axes>"
      ]
     },
     "metadata": {
      "needs_background": "light"
     },
     "output_type": "display_data"
    }
   ],
   "source": [
    "# 4. Analysis of Charged off index by Verification Status\n",
    "loan_by_verify_stat = charged_off_ind_func('verification_status') \n",
    "plt.figure(figsize=(14,5))\n",
    "sns.barplot(x='verification_status', y ='charged_off_index', data=loan_by_verify_stat)"
   ]
  },
  {
   "cell_type": "markdown",
   "metadata": {},
   "source": [
    "The plot is showing increasing trend, for Verification status, with Highest risk of **Verified**"
   ]
  },
  {
   "cell_type": "code",
   "execution_count": 116,
   "metadata": {},
   "outputs": [
    {
     "data": {
      "text/plain": [
       "<matplotlib.axes._subplots.AxesSubplot at 0x1e1a3420a20>"
      ]
     },
     "execution_count": 116,
     "metadata": {},
     "output_type": "execute_result"
    },
    {
     "data": {
      "image/png": "[encoded data removed]",
      "text/plain": [
       "<Figure size 1008x360 with 1 Axes>"
      ]
     },
     "metadata": {
      "needs_background": "light"
     },
     "output_type": "display_data"
    }
   ],
   "source": [
    "# 5. Analysis of Charged off index by Interest Group\n",
    "loan_by_int_grp = charged_off_ind_func('int_rate_group')\n",
    "plt.figure(figsize=(14,5))\n",
    "sns.barplot(x='int_rate_group', y ='charged_off_index', data=loan_by_int_grp,order = ['5 - 10 %','10 - 15 %','15 - 20 %','20 - 25 %'])"
   ]
  },
  {
   "cell_type": "markdown",
   "metadata": {},
   "source": [
    "The highest index is for Interest rate of **20 - 25 %**"
   ]
  },
  {
   "cell_type": "code",
   "execution_count": 119,
   "metadata": {},
   "outputs": [
    {
     "data": {
      "text/plain": [
       "<matplotlib.axes._subplots.AxesSubplot at 0x1e1a38d89e8>"
      ]
     },
     "execution_count": 119,
     "metadata": {},
     "output_type": "execute_result"
    },
    {
     "data": {
      "image/png": "[encoded data removed]",
      "text/plain": [
       "<Figure size 1008x360 with 1 Axes>"
      ]
     },
     "metadata": {
      "needs_background": "light"
     },
     "output_type": "display_data"
    }
   ],
   "source": [
    "# 6. Analysis of Charged off index by Debt-Income Ratio Group\n",
    "loan_by_dti_grp = charged_off_ind_func('dti_group')\n",
    "plt.figure(figsize=(14,5))\n",
    "sns.barplot(x='dti_group', y ='charged_off_index', data=loan_by_dti_grp,order=['< 5','5 - 10','10 - 15','15 - 20','> 20'])"
   ]
  },
  {
   "cell_type": "markdown",
   "metadata": {},
   "source": [
    "The customers with Debt - Income ratio, with more than **> 20** looks to be having high charged off index, and hence can be considered as Risky category"
   ]
  },
  {
   "cell_type": "code",
   "execution_count": 123,
   "metadata": {},
   "outputs": [
    {
     "data": {
      "text/plain": [
       "<matplotlib.axes._subplots.AxesSubplot at 0x1e1a3b90860>"
      ]
     },
     "execution_count": 123,
     "metadata": {},
     "output_type": "execute_result"
    },
    {
     "data": {
      "image/png": "[encoded data removed]",
      "text/plain": [
       "<Figure size 1008x360 with 1 Axes>"
      ]
     },
     "metadata": {
      "needs_background": "light"
     },
     "output_type": "display_data"
    }
   ],
   "source": [
    "# 7. Analysis of Charged off index by Home Ownership\n",
    "loan_by_hme_own = charged_off_ind_func('home_ownership') \n",
    "plt.figure(figsize=(14,5))\n",
    "sns.barplot(x='home_ownership', y ='charged_off_index', data=loan_by_hme_own.loc[loan_by_hme_own['home_ownership']!='NONE'])\n",
    "# As customers with home ownership status of 'None' are not being charged off, ignoring it for the plot"
   ]
  },
  {
   "cell_type": "markdown",
   "metadata": {},
   "source": [
    "As we See - **Other** in the Home ownership is having highes charged off rate. Also, **Rent** category is next riskier sector"
   ]
  },
  {
   "cell_type": "code",
   "execution_count": 124,
   "metadata": {},
   "outputs": [
    {
     "data": {
      "text/plain": [
       "<matplotlib.axes._subplots.AxesSubplot at 0x1e1a4204be0>"
      ]
     },
     "execution_count": 124,
     "metadata": {},
     "output_type": "execute_result"
    },
    {
     "data": {
      "image/png": "[encoded data removed]",
      "text/plain": [
       "<Figure size 1008x360 with 1 Axes>"
      ]
     },
     "metadata": {
      "needs_background": "light"
     },
     "output_type": "display_data"
    }
   ],
   "source": [
    "# 8. Analysis of Charged off index by Employee Length\n",
    "loan_by_emp_lnth = charged_off_ind_func('emp_length')\n",
    "sort_order = ['< 1 year','1 year','2 years','3 years','4 years','5 years',\n",
    "'6 years','7 years','8 years','9 years','10+ years']\n",
    "plt.figure(figsize=(14,5))\n",
    "sns.barplot(x='emp_length', y ='charged_off_index', data=loan_by_emp_lnth,order=sort_order)"
   ]
  },
  {
   "cell_type": "markdown",
   "metadata": {},
   "source": [
    "The difference is not much between the years of experience. However, The index is at highest for **10+ Years** experience category"
   ]
  },
  {
   "cell_type": "code",
   "execution_count": 125,
   "metadata": {},
   "outputs": [
    {
     "data": {
      "text/plain": [
       "<matplotlib.axes._subplots.AxesSubplot at 0x1e1a41fa358>"
      ]
     },
     "execution_count": 125,
     "metadata": {},
     "output_type": "execute_result"
    },
    {
     "data": {
      "image/png": "[encoded data removed]",
      "text/plain": [
       "<Figure size 1008x360 with 1 Axes>"
      ]
     },
     "metadata": {
      "needs_background": "light"
     },
     "output_type": "display_data"
    }
   ],
   "source": [
    "# 9. Analysis of Charged off index by Bankruptacy\n",
    "loan_by_bnkrupt = charged_off_ind_func('pub_rec_bankruptcies')\n",
    "plt.figure(figsize=(14,5))\n",
    "sns.barplot(x='pub_rec_bankruptcies', y ='charged_off_index', data=loan_by_bnkrupt)"
   ]
  },
  {
   "cell_type": "markdown",
   "metadata": {},
   "source": [
    "The bankruptacy index of **2.0** is having highest charged off Index"
   ]
  },
  {
   "cell_type": "markdown",
   "metadata": {},
   "source": [
    "**To Summarize**\n",
    "    The variables which are having high risk of being charged off are\n",
    "        1. Grade, The lower the grade, higher the risk. `G Grade` had most risk.\n",
    "        2. Among all purposes, **Small Business** was having high risk of having loan charged off.\n",
    "        3. It is surprising that `verified` category is having most risk\n",
    "        4. The highest index is for Intrest rate of 20 - 25 %\n",
    "        5. Other in the Home ownership is having highes charged off rate. Also, Rent category is next riskier sector\n",
    "        6. **2.0** index of bankruptacy is having most risk\n",
    "    \n",
    "    The variables which are not having impact on getting loan getting charged off are\n",
    "        - Employee Experience Tenure\n",
    "        - Income groups\n",
    "\n"
   ]
  },
  {
   "cell_type": "markdown",
   "metadata": {},
   "source": [
    "## Bi-Variate Analysis"
   ]
  },
  {
   "cell_type": "code",
   "execution_count": 62,
   "metadata": {},
   "outputs": [
    {
     "data": {
      "image/png": "[encoded data removed]",
      "text/plain": [
       "<Figure size 1440x576 with 1 Axes>"
      ]
     },
     "metadata": {
      "needs_background": "light"
     },
     "output_type": "display_data"
    },
    {
     "data": {
      "image/png": "[encoded data removed]",
      "text/plain": [
       "<Figure size 1440x576 with 1 Axes>"
      ]
     },
     "metadata": {
      "needs_background": "light"
     },
     "output_type": "display_data"
    }
   ],
   "source": [
    "loan_cd_full_paid = loan_cd.loc[loan_cd[\"loan_status\"]==\"Fully Paid\"]\n",
    "loan_cd_charged_off = loan_cd.loc[loan_cd[\"loan_status\"]==\"Charged Off\"]\n",
    "\n",
    "plt.figure(figsize=(20, 8))\n",
    "plt.subplot(2,1,1)\n",
    "sns.barplot(x='purpose',y= \"loan_amnt\", hue = \"verification_status\", estimator=lambda x: len(x), data=loan_cd_full_paid, ci=None)\n",
    "plt.title(\"Fully Paid\")\n",
    "plt.ylabel(\"Number of Loans\")\n",
    "plt.show()\n",
    "\n",
    "plt.figure(figsize=(20,8))\n",
    "plt.subplot(2,1,2)\n",
    "sns.barplot(x='purpose',y= \"loan_amnt\", hue = \"verification_status\", estimator=lambda x: len(x), data=loan_cd_charged_off, ci=None)\n",
    "plt.title(\"Charged Off\")\n",
    "plt.ylabel(\"Number of Loans\")\n",
    "plt.show()"
   ]
  },
  {
   "cell_type": "code",
   "execution_count": 63,
   "metadata": {
    "scrolled": true
   },
   "outputs": [
    {
     "data": {
      "image/png": "[encoded data removed]",
      "text/plain": [
       "<Figure size 1440x576 with 1 Axes>"
      ]
     },
     "metadata": {
      "needs_background": "light"
     },
     "output_type": "display_data"
    },
    {
     "data": {
      "image/png": "[encoded data removed]",
      "text/plain": [
       "<Figure size 1440x576 with 1 Axes>"
      ]
     },
     "metadata": {
      "needs_background": "light"
     },
     "output_type": "display_data"
    }
   ],
   "source": [
    "loan_cd_full_paid = loan_cd.loc[loan_cd[\"loan_status\"]==\"Fully Paid\"]\n",
    "loan_cd_charged_off = loan_cd.loc[loan_cd[\"loan_status\"]==\"Charged Off\"]\n",
    "\n",
    "plt.figure(figsize=(20, 8))\n",
    "plt.subplot(2,1,1)\n",
    "sns.barplot(x='grade',y= \"loan_amnt\", hue = \"verification_status\", estimator=lambda x: len(x), data=loan_cd_full_paid, ci=None, order=['A','B','C','D','E','F','G'])\n",
    "plt.title(\"Fully Paid\")\n",
    "plt.ylabel(\"Number of Loans\")\n",
    "plt.show()\n",
    "\n",
    "plt.figure(figsize=(20,8))\n",
    "plt.subplot(2,1,2)\n",
    "sns.barplot(x='grade',y= \"loan_amnt\", hue = \"verification_status\", estimator=lambda x: len(x), data=loan_cd_charged_off, ci=None, order=['A','B','C','D','E','F','G'])\n",
    "plt.title(\"Charged Off\")\n",
    "plt.ylabel(\"Number of Loans\")\n",
    "plt.show()"
   ]
  },
  {
   "cell_type": "markdown",
   "metadata": {},
   "source": [
    "Next, let's look at the relationship between each and every variable in our refined dataset. Here, we'll consider the correlation between two variables to understand whether any we can identify if there is large dependency of one independent variable with another independent variable or between an independent variable and the dependent  variable"
   ]
  },
  {
   "cell_type": "code",
   "execution_count": 64,
   "metadata": {},
   "outputs": [
    {
     "data": {
      "text/html": [
       "<div>\n",
       "<style scoped>\n",
       "    .dataframe tbody tr th:only-of-type {\n",
       "        vertical-align: middle;\n",
       "    }\n",
       "\n",
       "    .dataframe tbody tr th {\n",
       "        vertical-align: top;\n",
       "    }\n",
       "\n",
       "    .dataframe thead th {\n",
       "        text-align: right;\n",
       "    }\n",
       "</style>\n",
       "<table border=\"1\" class=\"dataframe\">\n",
       "  <thead>\n",
       "    <tr style=\"text-align: right;\">\n",
       "      <th></th>\n",
       "      <th>id</th>\n",
       "      <th>member_id</th>\n",
       "      <th>loan_amnt</th>\n",
       "      <th>funded_amnt</th>\n",
       "      <th>funded_amnt_inv</th>\n",
       "      <th>term</th>\n",
       "      <th>int_rate</th>\n",
       "      <th>installment</th>\n",
       "      <th>grade</th>\n",
       "      <th>sub_grade</th>\n",
       "      <th>...</th>\n",
       "      <th>last_pymnt_amnt</th>\n",
       "      <th>last_credit_pull_d</th>\n",
       "      <th>pub_rec_bankruptcies</th>\n",
       "      <th>term_in_months</th>\n",
       "      <th>emp_len_in_yrs</th>\n",
       "      <th>annual_inc_group</th>\n",
       "      <th>int_rate_group</th>\n",
       "      <th>issue_d_mnth</th>\n",
       "      <th>issue_d_yr</th>\n",
       "      <th>dti_group</th>\n",
       "    </tr>\n",
       "  </thead>\n",
       "  <tbody>\n",
       "    <tr>\n",
       "      <th>0</th>\n",
       "      <td>1077501</td>\n",
       "      <td>1296599</td>\n",
       "      <td>5000</td>\n",
       "      <td>5000</td>\n",
       "      <td>4975.0</td>\n",
       "      <td>36 months</td>\n",
       "      <td>0.1065</td>\n",
       "      <td>162.87</td>\n",
       "      <td>B</td>\n",
       "      <td>B2</td>\n",
       "      <td>...</td>\n",
       "      <td>171.62</td>\n",
       "      <td>May-16</td>\n",
       "      <td>0.0</td>\n",
       "      <td>36</td>\n",
       "      <td>10.0</td>\n",
       "      <td>&lt; 50000</td>\n",
       "      <td>10 - 15 %</td>\n",
       "      <td>12</td>\n",
       "      <td>2011</td>\n",
       "      <td>&gt; 20</td>\n",
       "    </tr>\n",
       "    <tr>\n",
       "      <th>1</th>\n",
       "      <td>1077430</td>\n",
       "      <td>1314167</td>\n",
       "      <td>2500</td>\n",
       "      <td>2500</td>\n",
       "      <td>2500.0</td>\n",
       "      <td>60 months</td>\n",
       "      <td>0.1527</td>\n",
       "      <td>59.83</td>\n",
       "      <td>C</td>\n",
       "      <td>C4</td>\n",
       "      <td>...</td>\n",
       "      <td>119.66</td>\n",
       "      <td>Sep-13</td>\n",
       "      <td>0.0</td>\n",
       "      <td>60</td>\n",
       "      <td>0.0</td>\n",
       "      <td>&lt; 50000</td>\n",
       "      <td>15 - 20 %</td>\n",
       "      <td>12</td>\n",
       "      <td>2011</td>\n",
       "      <td>&lt; 5</td>\n",
       "    </tr>\n",
       "    <tr>\n",
       "      <th>2</th>\n",
       "      <td>1077175</td>\n",
       "      <td>1313524</td>\n",
       "      <td>2400</td>\n",
       "      <td>2400</td>\n",
       "      <td>2400.0</td>\n",
       "      <td>36 months</td>\n",
       "      <td>0.1596</td>\n",
       "      <td>84.33</td>\n",
       "      <td>C</td>\n",
       "      <td>C5</td>\n",
       "      <td>...</td>\n",
       "      <td>649.91</td>\n",
       "      <td>May-16</td>\n",
       "      <td>0.0</td>\n",
       "      <td>36</td>\n",
       "      <td>10.0</td>\n",
       "      <td>&lt; 50000</td>\n",
       "      <td>15 - 20 %</td>\n",
       "      <td>12</td>\n",
       "      <td>2011</td>\n",
       "      <td>5 - 10</td>\n",
       "    </tr>\n",
       "    <tr>\n",
       "      <th>3</th>\n",
       "      <td>1076863</td>\n",
       "      <td>1277178</td>\n",
       "      <td>10000</td>\n",
       "      <td>10000</td>\n",
       "      <td>10000.0</td>\n",
       "      <td>36 months</td>\n",
       "      <td>0.1349</td>\n",
       "      <td>339.31</td>\n",
       "      <td>C</td>\n",
       "      <td>C1</td>\n",
       "      <td>...</td>\n",
       "      <td>357.48</td>\n",
       "      <td>Apr-16</td>\n",
       "      <td>0.0</td>\n",
       "      <td>36</td>\n",
       "      <td>10.0</td>\n",
       "      <td>&lt; 50000</td>\n",
       "      <td>10 - 15 %</td>\n",
       "      <td>12</td>\n",
       "      <td>2011</td>\n",
       "      <td>15 - 20</td>\n",
       "    </tr>\n",
       "    <tr>\n",
       "      <th>4</th>\n",
       "      <td>1075358</td>\n",
       "      <td>1311748</td>\n",
       "      <td>3000</td>\n",
       "      <td>3000</td>\n",
       "      <td>3000.0</td>\n",
       "      <td>60 months</td>\n",
       "      <td>0.1269</td>\n",
       "      <td>67.79</td>\n",
       "      <td>B</td>\n",
       "      <td>B5</td>\n",
       "      <td>...</td>\n",
       "      <td>67.79</td>\n",
       "      <td>May-16</td>\n",
       "      <td>0.0</td>\n",
       "      <td>60</td>\n",
       "      <td>1.0</td>\n",
       "      <td>50 K - 1 Lakh</td>\n",
       "      <td>10 - 15 %</td>\n",
       "      <td>12</td>\n",
       "      <td>2011</td>\n",
       "      <td>15 - 20</td>\n",
       "    </tr>\n",
       "  </tbody>\n",
       "</table>\n",
       "<p>5 rows × 51 columns</p>\n",
       "</div>"
      ],
      "text/plain": [
       "        id  member_id  loan_amnt  funded_amnt  funded_amnt_inv        term  \\\n",
       "0  1077501    1296599       5000         5000           4975.0   36 months   \n",
       "1  1077430    1314167       2500         2500           2500.0   60 months   \n",
       "2  1077175    1313524       2400         2400           2400.0   36 months   \n",
       "3  1076863    1277178      10000        10000          10000.0   36 months   \n",
       "4  1075358    1311748       3000         3000           3000.0   60 months   \n",
       "\n",
       "   int_rate  installment grade sub_grade    ...    last_pymnt_amnt  \\\n",
       "0    0.1065       162.87     B        B2    ...             171.62   \n",
       "1    0.1527        59.83     C        C4    ...             119.66   \n",
       "2    0.1596        84.33     C        C5    ...             649.91   \n",
       "3    0.1349       339.31     C        C1    ...             357.48   \n",
       "4    0.1269        67.79     B        B5    ...              67.79   \n",
       "\n",
       "  last_credit_pull_d pub_rec_bankruptcies  term_in_months emp_len_in_yrs  \\\n",
       "0             May-16                  0.0              36           10.0   \n",
       "1             Sep-13                  0.0              60            0.0   \n",
       "2             May-16                  0.0              36           10.0   \n",
       "3             Apr-16                  0.0              36           10.0   \n",
       "4             May-16                  0.0              60            1.0   \n",
       "\n",
       "  annual_inc_group int_rate_group issue_d_mnth issue_d_yr dti_group  \n",
       "0          < 50000      10 - 15 %           12       2011      > 20  \n",
       "1          < 50000      15 - 20 %           12       2011       < 5  \n",
       "2          < 50000      15 - 20 %           12       2011    5 - 10  \n",
       "3          < 50000      10 - 15 %           12       2011   15 - 20  \n",
       "4    50 K - 1 Lakh      10 - 15 %           12       2011   15 - 20  \n",
       "\n",
       "[5 rows x 51 columns]"
      ]
     },
     "execution_count": 64,
     "metadata": {},
     "output_type": "execute_result"
    }
   ],
   "source": [
    "loan_data.head()"
   ]
  },
  {
   "cell_type": "code",
   "execution_count": 65,
   "metadata": {},
   "outputs": [
    {
     "data": {
      "text/plain": [
       "Index(['id', 'member_id', 'loan_amnt', 'funded_amnt', 'funded_amnt_inv',\n",
       "       'term', 'int_rate', 'installment', 'grade', 'sub_grade', 'emp_title',\n",
       "       'emp_length', 'home_ownership', 'annual_inc', 'verification_status',\n",
       "       'issue_d', 'loan_status', 'url', 'purpose', 'title', 'zip_code',\n",
       "       'addr_state', 'dti', 'delinq_2yrs', 'earliest_cr_line',\n",
       "       'inq_last_6mths', 'open_acc', 'pub_rec', 'revol_bal', 'revol_util',\n",
       "       'total_acc', 'out_prncp', 'out_prncp_inv', 'total_pymnt',\n",
       "       'total_pymnt_inv', 'total_rec_prncp', 'total_rec_int',\n",
       "       'total_rec_late_fee', 'recoveries', 'collection_recovery_fee',\n",
       "       'last_pymnt_d', 'last_pymnt_amnt', 'last_credit_pull_d',\n",
       "       'pub_rec_bankruptcies', 'term_in_months', 'emp_len_in_yrs',\n",
       "       'annual_inc_group', 'int_rate_group', 'issue_d_mnth', 'issue_d_yr',\n",
       "       'dti_group'],\n",
       "      dtype='object')"
      ]
     },
     "execution_count": 65,
     "metadata": {},
     "output_type": "execute_result"
    }
   ],
   "source": [
    "loan_data.columns"
   ]
  },
  {
   "cell_type": "code",
   "execution_count": 66,
   "metadata": {},
   "outputs": [],
   "source": [
    "# Create a new dataframe with the select variables that we have narrowed down using the analysis done above.\n",
    "# Also exclude the current loan status type, which leaves us with a binary dependent variable i.e either the loan was repayed or not\n",
    "loan_data_bivariate = loan_data.loc[loan_data['loan_status']!=\"Current\",['loan_amnt', 'funded_amnt', 'int_rate', 'installment', 'grade', 'home_ownership', 'annual_inc', 'verification_status',\n",
    "       'loan_status','purpose', 'dti','pub_rec_bankruptcies', 'term_in_months', 'emp_len_in_yrs']]"
   ]
  },
  {
   "cell_type": "code",
   "execution_count": 67,
   "metadata": {},
   "outputs": [
    {
     "data": {
      "text/html": [
       "<div>\n",
       "<style scoped>\n",
       "    .dataframe tbody tr th:only-of-type {\n",
       "        vertical-align: middle;\n",
       "    }\n",
       "\n",
       "    .dataframe tbody tr th {\n",
       "        vertical-align: top;\n",
       "    }\n",
       "\n",
       "    .dataframe thead th {\n",
       "        text-align: right;\n",
       "    }\n",
       "</style>\n",
       "<table border=\"1\" class=\"dataframe\">\n",
       "  <thead>\n",
       "    <tr style=\"text-align: right;\">\n",
       "      <th></th>\n",
       "      <th>loan_amnt</th>\n",
       "      <th>funded_amnt</th>\n",
       "      <th>int_rate</th>\n",
       "      <th>installment</th>\n",
       "      <th>grade</th>\n",
       "      <th>home_ownership</th>\n",
       "      <th>annual_inc</th>\n",
       "      <th>verification_status</th>\n",
       "      <th>loan_status</th>\n",
       "      <th>purpose</th>\n",
       "      <th>dti</th>\n",
       "      <th>pub_rec_bankruptcies</th>\n",
       "      <th>term_in_months</th>\n",
       "      <th>emp_len_in_yrs</th>\n",
       "    </tr>\n",
       "  </thead>\n",
       "  <tbody>\n",
       "    <tr>\n",
       "      <th>0</th>\n",
       "      <td>5000</td>\n",
       "      <td>5000</td>\n",
       "      <td>0.1065</td>\n",
       "      <td>162.87</td>\n",
       "      <td>B</td>\n",
       "      <td>RENT</td>\n",
       "      <td>24000.0</td>\n",
       "      <td>Verified</td>\n",
       "      <td>Fully Paid</td>\n",
       "      <td>credit_card</td>\n",
       "      <td>27.65</td>\n",
       "      <td>0.0</td>\n",
       "      <td>36</td>\n",
       "      <td>10.0</td>\n",
       "    </tr>\n",
       "    <tr>\n",
       "      <th>1</th>\n",
       "      <td>2500</td>\n",
       "      <td>2500</td>\n",
       "      <td>0.1527</td>\n",
       "      <td>59.83</td>\n",
       "      <td>C</td>\n",
       "      <td>RENT</td>\n",
       "      <td>30000.0</td>\n",
       "      <td>Source Verified</td>\n",
       "      <td>Charged Off</td>\n",
       "      <td>car</td>\n",
       "      <td>1.00</td>\n",
       "      <td>0.0</td>\n",
       "      <td>60</td>\n",
       "      <td>0.0</td>\n",
       "    </tr>\n",
       "    <tr>\n",
       "      <th>2</th>\n",
       "      <td>2400</td>\n",
       "      <td>2400</td>\n",
       "      <td>0.1596</td>\n",
       "      <td>84.33</td>\n",
       "      <td>C</td>\n",
       "      <td>RENT</td>\n",
       "      <td>12252.0</td>\n",
       "      <td>Not Verified</td>\n",
       "      <td>Fully Paid</td>\n",
       "      <td>small_business</td>\n",
       "      <td>8.72</td>\n",
       "      <td>0.0</td>\n",
       "      <td>36</td>\n",
       "      <td>10.0</td>\n",
       "    </tr>\n",
       "    <tr>\n",
       "      <th>3</th>\n",
       "      <td>10000</td>\n",
       "      <td>10000</td>\n",
       "      <td>0.1349</td>\n",
       "      <td>339.31</td>\n",
       "      <td>C</td>\n",
       "      <td>RENT</td>\n",
       "      <td>49200.0</td>\n",
       "      <td>Source Verified</td>\n",
       "      <td>Fully Paid</td>\n",
       "      <td>other</td>\n",
       "      <td>20.00</td>\n",
       "      <td>0.0</td>\n",
       "      <td>36</td>\n",
       "      <td>10.0</td>\n",
       "    </tr>\n",
       "    <tr>\n",
       "      <th>5</th>\n",
       "      <td>5000</td>\n",
       "      <td>5000</td>\n",
       "      <td>0.0790</td>\n",
       "      <td>156.46</td>\n",
       "      <td>A</td>\n",
       "      <td>RENT</td>\n",
       "      <td>36000.0</td>\n",
       "      <td>Source Verified</td>\n",
       "      <td>Fully Paid</td>\n",
       "      <td>wedding</td>\n",
       "      <td>11.20</td>\n",
       "      <td>0.0</td>\n",
       "      <td>36</td>\n",
       "      <td>3.0</td>\n",
       "    </tr>\n",
       "  </tbody>\n",
       "</table>\n",
       "</div>"
      ],
      "text/plain": [
       "   loan_amnt  funded_amnt  int_rate  installment grade home_ownership  \\\n",
       "0       5000         5000    0.1065       162.87     B           RENT   \n",
       "1       2500         2500    0.1527        59.83     C           RENT   \n",
       "2       2400         2400    0.1596        84.33     C           RENT   \n",
       "3      10000        10000    0.1349       339.31     C           RENT   \n",
       "5       5000         5000    0.0790       156.46     A           RENT   \n",
       "\n",
       "   annual_inc verification_status  loan_status         purpose    dti  \\\n",
       "0     24000.0            Verified   Fully Paid     credit_card  27.65   \n",
       "1     30000.0     Source Verified  Charged Off             car   1.00   \n",
       "2     12252.0        Not Verified   Fully Paid  small_business   8.72   \n",
       "3     49200.0     Source Verified   Fully Paid           other  20.00   \n",
       "5     36000.0     Source Verified   Fully Paid         wedding  11.20   \n",
       "\n",
       "   pub_rec_bankruptcies  term_in_months  emp_len_in_yrs  \n",
       "0                   0.0              36            10.0  \n",
       "1                   0.0              60             0.0  \n",
       "2                   0.0              36            10.0  \n",
       "3                   0.0              36            10.0  \n",
       "5                   0.0              36             3.0  "
      ]
     },
     "execution_count": 67,
     "metadata": {},
     "output_type": "execute_result"
    }
   ],
   "source": [
    "loan_data_bivariate.head()"
   ]
  },
  {
   "cell_type": "code",
   "execution_count": 68,
   "metadata": {},
   "outputs": [
    {
     "data": {
      "text/plain": [
       "loan_amnt                 int64\n",
       "funded_amnt               int64\n",
       "int_rate                float64\n",
       "installment             float64\n",
       "grade                    object\n",
       "home_ownership           object\n",
       "annual_inc              float64\n",
       "verification_status      object\n",
       "loan_status              object\n",
       "purpose                  object\n",
       "dti                     float64\n",
       "pub_rec_bankruptcies    float64\n",
       "term_in_months            int64\n",
       "emp_len_in_yrs          float64\n",
       "dtype: object"
      ]
     },
     "execution_count": 68,
     "metadata": {},
     "output_type": "execute_result"
    }
   ],
   "source": [
    "loan_data_bivariate.dtypes"
   ]
  },
  {
   "cell_type": "markdown",
   "metadata": {},
   "source": [
    "In order to find the correlation for each variable with the other variable, we will need to encode all the categorical variables - this can be done using the label encoder from the sklearn library"
   ]
  },
  {
   "cell_type": "code",
   "execution_count": 69,
   "metadata": {},
   "outputs": [],
   "source": [
    "from sklearn import preprocessing\n",
    "# One hot Encoding\n",
    "le = preprocessing.LabelEncoder()"
   ]
  },
  {
   "cell_type": "code",
   "execution_count": 70,
   "metadata": {},
   "outputs": [],
   "source": [
    "# Using the above created encoder on each of the categorical variables\n",
    "loan_data_bivariate['grade'] = le.fit_transform(loan_data_bivariate['grade'].values)\n",
    "loan_data_bivariate['home_ownership'] = le.fit_transform(loan_data_bivariate['home_ownership'].values)\n",
    "loan_data_bivariate['verification_status'] = le.fit_transform(loan_data_bivariate['verification_status'].values)\n",
    "loan_data_bivariate['loan_status'] = le.fit_transform(loan_data_bivariate['loan_status'].values)\n",
    "loan_data_bivariate['purpose'] = le.fit_transform(loan_data_bivariate['purpose'].values)"
   ]
  },
  {
   "cell_type": "code",
   "execution_count": 71,
   "metadata": {},
   "outputs": [
    {
     "data": {
      "text/html": [
       "<div>\n",
       "<style scoped>\n",
       "    .dataframe tbody tr th:only-of-type {\n",
       "        vertical-align: middle;\n",
       "    }\n",
       "\n",
       "    .dataframe tbody tr th {\n",
       "        vertical-align: top;\n",
       "    }\n",
       "\n",
       "    .dataframe thead th {\n",
       "        text-align: right;\n",
       "    }\n",
       "</style>\n",
       "<table border=\"1\" class=\"dataframe\">\n",
       "  <thead>\n",
       "    <tr style=\"text-align: right;\">\n",
       "      <th></th>\n",
       "      <th>loan_amnt</th>\n",
       "      <th>funded_amnt</th>\n",
       "      <th>int_rate</th>\n",
       "      <th>installment</th>\n",
       "      <th>grade</th>\n",
       "      <th>home_ownership</th>\n",
       "      <th>annual_inc</th>\n",
       "      <th>verification_status</th>\n",
       "      <th>loan_status</th>\n",
       "      <th>purpose</th>\n",
       "      <th>dti</th>\n",
       "      <th>pub_rec_bankruptcies</th>\n",
       "      <th>term_in_months</th>\n",
       "      <th>emp_len_in_yrs</th>\n",
       "    </tr>\n",
       "  </thead>\n",
       "  <tbody>\n",
       "    <tr>\n",
       "      <th>0</th>\n",
       "      <td>5000</td>\n",
       "      <td>5000</td>\n",
       "      <td>0.1065</td>\n",
       "      <td>162.87</td>\n",
       "      <td>1</td>\n",
       "      <td>4</td>\n",
       "      <td>24000.0</td>\n",
       "      <td>2</td>\n",
       "      <td>1</td>\n",
       "      <td>1</td>\n",
       "      <td>27.65</td>\n",
       "      <td>0.0</td>\n",
       "      <td>36</td>\n",
       "      <td>10.0</td>\n",
       "    </tr>\n",
       "    <tr>\n",
       "      <th>1</th>\n",
       "      <td>2500</td>\n",
       "      <td>2500</td>\n",
       "      <td>0.1527</td>\n",
       "      <td>59.83</td>\n",
       "      <td>2</td>\n",
       "      <td>4</td>\n",
       "      <td>30000.0</td>\n",
       "      <td>1</td>\n",
       "      <td>0</td>\n",
       "      <td>0</td>\n",
       "      <td>1.00</td>\n",
       "      <td>0.0</td>\n",
       "      <td>60</td>\n",
       "      <td>0.0</td>\n",
       "    </tr>\n",
       "    <tr>\n",
       "      <th>2</th>\n",
       "      <td>2400</td>\n",
       "      <td>2400</td>\n",
       "      <td>0.1596</td>\n",
       "      <td>84.33</td>\n",
       "      <td>2</td>\n",
       "      <td>4</td>\n",
       "      <td>12252.0</td>\n",
       "      <td>0</td>\n",
       "      <td>1</td>\n",
       "      <td>11</td>\n",
       "      <td>8.72</td>\n",
       "      <td>0.0</td>\n",
       "      <td>36</td>\n",
       "      <td>10.0</td>\n",
       "    </tr>\n",
       "    <tr>\n",
       "      <th>3</th>\n",
       "      <td>10000</td>\n",
       "      <td>10000</td>\n",
       "      <td>0.1349</td>\n",
       "      <td>339.31</td>\n",
       "      <td>2</td>\n",
       "      <td>4</td>\n",
       "      <td>49200.0</td>\n",
       "      <td>1</td>\n",
       "      <td>1</td>\n",
       "      <td>9</td>\n",
       "      <td>20.00</td>\n",
       "      <td>0.0</td>\n",
       "      <td>36</td>\n",
       "      <td>10.0</td>\n",
       "    </tr>\n",
       "    <tr>\n",
       "      <th>5</th>\n",
       "      <td>5000</td>\n",
       "      <td>5000</td>\n",
       "      <td>0.0790</td>\n",
       "      <td>156.46</td>\n",
       "      <td>0</td>\n",
       "      <td>4</td>\n",
       "      <td>36000.0</td>\n",
       "      <td>1</td>\n",
       "      <td>1</td>\n",
       "      <td>13</td>\n",
       "      <td>11.20</td>\n",
       "      <td>0.0</td>\n",
       "      <td>36</td>\n",
       "      <td>3.0</td>\n",
       "    </tr>\n",
       "  </tbody>\n",
       "</table>\n",
       "</div>"
      ],
      "text/plain": [
       "   loan_amnt  funded_amnt  int_rate  installment  grade  home_ownership  \\\n",
       "0       5000         5000    0.1065       162.87      1               4   \n",
       "1       2500         2500    0.1527        59.83      2               4   \n",
       "2       2400         2400    0.1596        84.33      2               4   \n",
       "3      10000        10000    0.1349       339.31      2               4   \n",
       "5       5000         5000    0.0790       156.46      0               4   \n",
       "\n",
       "   annual_inc  verification_status  loan_status  purpose    dti  \\\n",
       "0     24000.0                    2            1        1  27.65   \n",
       "1     30000.0                    1            0        0   1.00   \n",
       "2     12252.0                    0            1       11   8.72   \n",
       "3     49200.0                    1            1        9  20.00   \n",
       "5     36000.0                    1            1       13  11.20   \n",
       "\n",
       "   pub_rec_bankruptcies  term_in_months  emp_len_in_yrs  \n",
       "0                   0.0              36            10.0  \n",
       "1                   0.0              60             0.0  \n",
       "2                   0.0              36            10.0  \n",
       "3                   0.0              36            10.0  \n",
       "5                   0.0              36             3.0  "
      ]
     },
     "execution_count": 71,
     "metadata": {},
     "output_type": "execute_result"
    }
   ],
   "source": [
    "loan_data_bivariate.head()"
   ]
  },
  {
   "cell_type": "code",
   "execution_count": 72,
   "metadata": {},
   "outputs": [
    {
     "data": {
      "text/plain": [
       "loan_amnt                 int64\n",
       "funded_amnt               int64\n",
       "int_rate                float64\n",
       "installment             float64\n",
       "grade                     int64\n",
       "home_ownership            int64\n",
       "annual_inc              float64\n",
       "verification_status       int64\n",
       "loan_status               int64\n",
       "purpose                   int64\n",
       "dti                     float64\n",
       "pub_rec_bankruptcies    float64\n",
       "term_in_months            int64\n",
       "emp_len_in_yrs          float64\n",
       "dtype: object"
      ]
     },
     "execution_count": 72,
     "metadata": {},
     "output_type": "execute_result"
    }
   ],
   "source": [
    "loan_data_bivariate.dtypes"
   ]
  },
  {
   "cell_type": "code",
   "execution_count": 73,
   "metadata": {},
   "outputs": [
    {
     "data": {
      "text/plain": [
       "<matplotlib.axes._subplots.AxesSubplot at 0x1e19ec36b00>"
      ]
     },
     "execution_count": 73,
     "metadata": {},
     "output_type": "execute_result"
    },
    {
     "data": {
      "image/png": "[encoded data removed]",
      "text/plain": [
       "<Figure size 1440x576 with 2 Axes>"
      ]
     },
     "metadata": {
      "needs_background": "light"
     },
     "output_type": "display_data"
    }
   ],
   "source": [
    "plt.figure(figsize=(20, 8))\n",
    "corr = loan_data_bivariate.corr()\n",
    "sns.heatmap(corr, \n",
    "            xticklabels=corr.columns.values,\n",
    "            yticklabels=corr.columns.values,\n",
    "            annot=True,\n",
    "            cmap=\"Blues\")"
   ]
  },
  {
   "cell_type": "markdown",
   "metadata": {},
   "source": [
    "Looking at the correlation matrix above, we observe that the variables correlating the most with our dependent variable \"loan_status\" are: interest rate, grade, and month. However, all of these are at most mildly correlated with the dependent variable"
   ]
  },
  {
   "cell_type": "markdown",
   "metadata": {},
   "source": [
    "Also, we are observing some really strong correlations between a few variabels (over 0.9). For these variables, we can drop one and choose the other as they would have similar impact on the dependent variable"
   ]
  },
  {
   "cell_type": "markdown",
   "metadata": {},
   "source": [
    "-------------------------------------------------------------\n",
    "#### Deep-dive analysis on charged off loans\n",
    "Post the extensive univariate, segmented univariate and bi-variate analysis that we've done above, let's deep-dive into multiple combinations of data to extract more information which would help give a clearer picture of what the data is talking about"
   ]
  },
  {
   "cell_type": "markdown",
   "metadata": {},
   "source": [
    "- Understanding the impact of verification status along with the loan purposes on the charged off loans"
   ]
  },
  {
   "cell_type": "code",
   "execution_count": 74,
   "metadata": {},
   "outputs": [
    {
     "data": {
      "text/plain": [
       "debt_consolidation    2767\n",
       "other                  633\n",
       "credit_card            542\n",
       "small_business         475\n",
       "home_improvement       347\n",
       "major_purchase         222\n",
       "car                    160\n",
       "Name: purpose, dtype: int64"
      ]
     },
     "execution_count": 74,
     "metadata": {},
     "output_type": "execute_result"
    }
   ],
   "source": [
    "loan_co = loan_cd.loc[loan_cd.loan_status == 'Charged Off']\n",
    "loan_co.purpose.value_counts().head(7)"
   ]
  },
  {
   "cell_type": "code",
   "execution_count": 75,
   "metadata": {},
   "outputs": [
    {
     "data": {
      "image/png": "[encoded data removed]",
      "text/plain": [
       "<Figure size 1800x720 with 1 Axes>"
      ]
     },
     "metadata": {
      "needs_background": "light"
     },
     "output_type": "display_data"
    }
   ],
   "source": [
    "purposes = ['debt_consolidation','other','credit_card','small_business','home_improvement','major_purchase','car']\n",
    "plt.figure(figsize=(25,10))\n",
    "sns.barplot(x='purpose',y='loan_amnt',hue='verification_status', estimator=lambda x: len(x), data=loan_co.loc[loan_co.purpose.isin(purposes)])\n",
    "plt.xlabel(\"Purpose\")\n",
    "plt.ylabel(\"Number of Charged-Off Loans\")\n",
    "plt.show()"
   ]
  },
  {
   "cell_type": "markdown",
   "metadata": {},
   "source": [
    "From the above, we observe that verification status is clearly important for most of the loans given out for the purposes shown above as it reduces the risk of loans getting charged off"
   ]
  },
  {
   "cell_type": "markdown",
   "metadata": {},
   "source": [
    "- Understanding the impact of verification status along with the grade on the charged off loans"
   ]
  },
  {
   "cell_type": "code",
   "execution_count": 76,
   "metadata": {},
   "outputs": [
    {
     "data": {
      "image/png": "[encoded data removed]",
      "text/plain": [
       "<Figure size 1800x720 with 1 Axes>"
      ]
     },
     "metadata": {
      "needs_background": "light"
     },
     "output_type": "display_data"
    }
   ],
   "source": [
    "plt.figure(figsize=(25,10))\n",
    "sns.barplot(x='grade',y='loan_amnt',hue='verification_status', estimator=lambda x: len(x), data=loan_co.loc[loan_co.purpose.isin(purposes)], order = ['A','B','C','D','E','F','G'])\n",
    "plt.xlabel(\"Grade\")\n",
    "plt.ylabel(\"Number of Charged-Off Loans\")\n",
    "plt.show()"
   ]
  },
  {
   "cell_type": "markdown",
   "metadata": {},
   "source": [
    "From the above, we understand that the number of charged off loans are greates for the B and C grade for the non-verified sources"
   ]
  },
  {
   "cell_type": "markdown",
   "metadata": {},
   "source": [
    "### Summary and Insights\n",
    "\n",
    "Based on the above analysis (post data cleaning, fixing columns and rows, univariate analysis, segmented univariate analysis, bivariate analysis) and using the new derived metric that we created (the **charged-off index**)along with the existing metrics and the dependent variable \"loan status\", we can draw the following topline insights: <br>\n",
    "- among all the purposes, the 'Small Businesses' loan purpose is the riskiest with the highest Charged-off index, however the most loans are taken for the Debt Consolidation purpose\n",
    "- we observe a trend in the 'Grade' variable, as the grade reduces, the risk of the loan getting defaulted increases\n",
    "- the income levels isn't the most important variable in determing the chances of the loan getting defaulted or not as it doesn't follow any trend\n",
    "- the data for verification is one that stands out as it goes against what one would expect: the loans with a verified status have a higher risk compared to not-verified ones. _Perhaps the firm should look to make the verification process more stringent to improve this_\n",
    "- public bankruptcy level tells us that there is a high rate of loans getting defaulted for receivers who have a high number of bakruptcy. However, **94%** of the data provided was for users that had 0 numbers of public bakruptcy, hence actioning based on this wouldn't be advised due to population skewness\n",
    "- For the home ownership variable, the **other** and **rent** are the riskiest home ownership types\n",
    "- the employment length in years variable does not show to have any major impact on the chances of a loan getting charged-off\n",
    "- as the interest rate increases, the rate at which the users default also increases. This, however, could be as a result of the action that the bank takes for charging higher interest rates to users that are assumed to be of high risk\n",
    "- the DTI groups also have a direct impact on the rate at which loans get charged off. As the DTI rate increases, the loan gets morew riskier\n",
    "<br>---------------<br>\n",
    "Based on the above insights, we can narrow down to the following **most important factors** for judging whether a loan will be defaulted or not:\n",
    "1. Purpose\n",
    "2. Grade\n",
    "3. Verification Status (this process needs to be looked into by the firm)\n",
    "4. Home Ownership\n",
    "5. Interest Rate\n",
    "6. DTI\n"
   ]
  }
 ],
 "metadata": {
  "kernelspec": {
   "display_name": "Python 3",
   "language": "python",
   "name": "python3"
  },
  "language_info": {
   "codemirror_mode": {
    "name": "ipython",
    "version": 3
   },
   "file_extension": ".py",
   "mimetype": "text/x-python",
   "name": "python",
   "nbconvert_exporter": "python",
   "pygments_lexer": "ipython3",
   "version": "3.7.0"
  }
 },
 "nbformat": 4,
 "nbformat_minor": 2
}
