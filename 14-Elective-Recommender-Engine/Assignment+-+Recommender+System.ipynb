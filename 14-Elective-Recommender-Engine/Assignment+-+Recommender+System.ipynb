{
 "cells": [
  {
   "cell_type": "markdown",
   "metadata": {},
   "source": [
    "# Assignment - Recommender System"
   ]
  },
  {
   "cell_type": "markdown",
   "metadata": {},
   "source": [
    "You are the sales manager for \"BeerMart\", an online beer store in the United States. You want to build a recommendation system (collaborative) for your store, where customers will be recommended the beer that they are most likely to buy. You collect data about the ratings that the customers have given in the past. <br>\n",
    "Description: Each record includes a beer's name and the user's name, along with the ratings he/she has given to the beer. All ratings are on a scale from 1 to 5, with 5 being the best rating.<br><br>\n",
    "As you solve the case study, you need to complete the following tasks:<br>\n",
    "\n",
    "Data preparation:\n",
    "- Choose only those beers that have at least N number of reviews.\n",
    "    Figure out an appropriate value of N using EDA; this may not have one correct answer, but you should not choose beers that have an extremely low number of ratings.\n",
    "\n",
    "\n",
    "Data exploration\n",
    "- What are the unique values of ratings?\n",
    "- Visualise the rating values and notice:\n",
    "- The average beer ratings\n",
    "- The average user ratings\n",
    "- The average number of ratings given to the beers\n",
    "- The average number of ratings given by the users\n",
    "\n",
    "\n",
    "Recommendation Models\n",
    "- Divide your data into training and testing dataset.\n",
    "- Build user-based and item-based models.\n",
    "- Determine how similar the first 10 users are to each other and visualise it.\n",
    "- Compute and visualise the similarity between the first 10 beers.\n",
    "- Compare the performance of the two models using test data and suggest the one that should be deployed.\n",
    "- Give the names of the top 5 beers that you would recommend to the users 'cokes', 'genog' and 'giblet' using both the models."
   ]
  },
  {
   "cell_type": "code",
   "execution_count": 1,
   "metadata": {},
   "outputs": [],
   "source": [
    "# import libraties\n",
    "import pandas as pd\n",
    "import numpy as np\n",
    "import matplotlib.pyplot as plt\n",
    "\n",
    "# Reading ratings file\n",
    "beer = pd.read_csv('beer_data.csv')"
   ]
  },
  {
   "cell_type": "code",
   "execution_count": 2,
   "metadata": {},
   "outputs": [
    {
     "data": {
      "text/plain": [
       "(475984, 3)"
      ]
     },
     "execution_count": 2,
     "metadata": {},
     "output_type": "execute_result"
    }
   ],
   "source": [
    "beer.shape"
   ]
  },
  {
   "cell_type": "code",
   "execution_count": 3,
   "metadata": {},
   "outputs": [
    {
     "data": {
      "text/html": [
       "<div>\n",
       "<style scoped>\n",
       "    .dataframe tbody tr th:only-of-type {\n",
       "        vertical-align: middle;\n",
       "    }\n",
       "\n",
       "    .dataframe tbody tr th {\n",
       "        vertical-align: top;\n",
       "    }\n",
       "\n",
       "    .dataframe thead th {\n",
       "        text-align: right;\n",
       "    }\n",
       "</style>\n",
       "<table border=\"1\" class=\"dataframe\">\n",
       "  <thead>\n",
       "    <tr style=\"text-align: right;\">\n",
       "      <th></th>\n",
       "      <th>beer_beerid</th>\n",
       "      <th>review_profilename</th>\n",
       "      <th>review_overall</th>\n",
       "    </tr>\n",
       "  </thead>\n",
       "  <tbody>\n",
       "    <tr>\n",
       "      <th>0</th>\n",
       "      <td>48215</td>\n",
       "      <td>stcules</td>\n",
       "      <td>3.0</td>\n",
       "    </tr>\n",
       "    <tr>\n",
       "      <th>1</th>\n",
       "      <td>52159</td>\n",
       "      <td>oline73</td>\n",
       "      <td>3.0</td>\n",
       "    </tr>\n",
       "    <tr>\n",
       "      <th>2</th>\n",
       "      <td>52159</td>\n",
       "      <td>alpinebryant</td>\n",
       "      <td>3.0</td>\n",
       "    </tr>\n",
       "    <tr>\n",
       "      <th>3</th>\n",
       "      <td>52159</td>\n",
       "      <td>rawthar</td>\n",
       "      <td>4.0</td>\n",
       "    </tr>\n",
       "    <tr>\n",
       "      <th>4</th>\n",
       "      <td>52159</td>\n",
       "      <td>RangerClegg</td>\n",
       "      <td>3.5</td>\n",
       "    </tr>\n",
       "  </tbody>\n",
       "</table>\n",
       "</div>"
      ],
      "text/plain": [
       "   beer_beerid review_profilename  review_overall\n",
       "0        48215            stcules             3.0\n",
       "1        52159            oline73             3.0\n",
       "2        52159       alpinebryant             3.0\n",
       "3        52159            rawthar             4.0\n",
       "4        52159        RangerClegg             3.5"
      ]
     },
     "execution_count": 3,
     "metadata": {},
     "output_type": "execute_result"
    }
   ],
   "source": [
    "beer.head()"
   ]
  },
  {
   "cell_type": "markdown",
   "metadata": {},
   "source": [
    "### Data Preparation"
   ]
  },
  {
   "cell_type": "markdown",
   "metadata": {},
   "source": [
    "Checking for Null Values in the dataset"
   ]
  },
  {
   "cell_type": "code",
   "execution_count": 4,
   "metadata": {},
   "outputs": [
    {
     "data": {
      "text/plain": [
       "beer_beerid             0\n",
       "review_profilename    100\n",
       "review_overall          0\n",
       "dtype: int64"
      ]
     },
     "execution_count": 4,
     "metadata": {},
     "output_type": "execute_result"
    }
   ],
   "source": [
    "# Let's check for any null values in the dataset\n",
    "beer.isnull().sum()"
   ]
  },
  {
   "cell_type": "code",
   "execution_count": 5,
   "metadata": {},
   "outputs": [],
   "source": [
    "# We can see that there are a few null values in the review_profilename column of the dataset"
   ]
  },
  {
   "cell_type": "code",
   "execution_count": 6,
   "metadata": {},
   "outputs": [
    {
     "data": {
      "text/html": [
       "<div>\n",
       "<style scoped>\n",
       "    .dataframe tbody tr th:only-of-type {\n",
       "        vertical-align: middle;\n",
       "    }\n",
       "\n",
       "    .dataframe tbody tr th {\n",
       "        vertical-align: top;\n",
       "    }\n",
       "\n",
       "    .dataframe thead th {\n",
       "        text-align: right;\n",
       "    }\n",
       "</style>\n",
       "<table border=\"1\" class=\"dataframe\">\n",
       "  <thead>\n",
       "    <tr style=\"text-align: right;\">\n",
       "      <th></th>\n",
       "      <th>beer_beerid</th>\n",
       "      <th>review_profilename</th>\n",
       "      <th>review_overall</th>\n",
       "    </tr>\n",
       "  </thead>\n",
       "  <tbody>\n",
       "    <tr>\n",
       "      <th>2700</th>\n",
       "      <td>29687</td>\n",
       "      <td>NaN</td>\n",
       "      <td>4.0</td>\n",
       "    </tr>\n",
       "    <tr>\n",
       "      <th>9545</th>\n",
       "      <td>5441</td>\n",
       "      <td>NaN</td>\n",
       "      <td>4.0</td>\n",
       "    </tr>\n",
       "    <tr>\n",
       "      <th>12252</th>\n",
       "      <td>1504</td>\n",
       "      <td>NaN</td>\n",
       "      <td>4.5</td>\n",
       "    </tr>\n",
       "    <tr>\n",
       "      <th>25270</th>\n",
       "      <td>1904</td>\n",
       "      <td>NaN</td>\n",
       "      <td>4.5</td>\n",
       "    </tr>\n",
       "    <tr>\n",
       "      <th>33728</th>\n",
       "      <td>2130</td>\n",
       "      <td>NaN</td>\n",
       "      <td>2.5</td>\n",
       "    </tr>\n",
       "  </tbody>\n",
       "</table>\n",
       "</div>"
      ],
      "text/plain": [
       "       beer_beerid review_profilename  review_overall\n",
       "2700         29687                NaN             4.0\n",
       "9545          5441                NaN             4.0\n",
       "12252         1504                NaN             4.5\n",
       "25270         1904                NaN             4.5\n",
       "33728         2130                NaN             2.5"
      ]
     },
     "execution_count": 6,
     "metadata": {},
     "output_type": "execute_result"
    }
   ],
   "source": [
    "# let's have a look at those columns with the null values\n",
    "beer.loc[beer.isnull()['review_profilename'],:].head()"
   ]
  },
  {
   "cell_type": "code",
   "execution_count": 7,
   "metadata": {},
   "outputs": [],
   "source": [
    "# Let's go ahead and drop these rows with null values\n",
    "beer_refined = beer.loc[~beer.isnull()['review_profilename'],:]"
   ]
  },
  {
   "cell_type": "code",
   "execution_count": 8,
   "metadata": {},
   "outputs": [
    {
     "data": {
      "text/plain": [
       "beer_beerid           0\n",
       "review_profilename    0\n",
       "review_overall        0\n",
       "dtype: int64"
      ]
     },
     "execution_count": 8,
     "metadata": {},
     "output_type": "execute_result"
    }
   ],
   "source": [
    "# Checking presence of null values in the cleaned dataset\n",
    "beer_refined.isnull().sum()"
   ]
  },
  {
   "cell_type": "markdown",
   "metadata": {},
   "source": [
    "Let's also ensure that we don't have any duplicate values in our dataset. In case there does exist such values, let's drop them"
   ]
  },
  {
   "cell_type": "code",
   "execution_count": 9,
   "metadata": {},
   "outputs": [
    {
     "name": "stdout",
     "output_type": "stream",
     "text": [
      "original dataset shape: (475884, 3)\n",
      "dataset shape after checking and dropping duplicate values (475304, 3)\n"
     ]
    }
   ],
   "source": [
    "print('original dataset shape:', beer_refined.shape)\n",
    "print('dataset shape after checking and dropping duplicate values', beer_refined.drop_duplicates().shape)"
   ]
  },
  {
   "cell_type": "code",
   "execution_count": 10,
   "metadata": {},
   "outputs": [],
   "source": [
    "# We see that there indeed are duplicate values, let's go ahead and drop them\n",
    "beer_refined = beer_refined.drop_duplicates()"
   ]
  },
  {
   "cell_type": "markdown",
   "metadata": {},
   "source": [
    "Next, we've been asked to **choose only those beers that have at least N number of reviews**. This can be figured out post performing EDA to find out the beers that have very low number of ratings and exclude them"
   ]
  },
  {
   "cell_type": "code",
   "execution_count": 11,
   "metadata": {
    "scrolled": true
   },
   "outputs": [
    {
     "data": {
      "text/plain": [
       "40304"
      ]
     },
     "execution_count": 11,
     "metadata": {},
     "output_type": "execute_result"
    }
   ],
   "source": [
    "beer_refined['beer_beerid'].nunique()"
   ]
  },
  {
   "cell_type": "code",
   "execution_count": 12,
   "metadata": {},
   "outputs": [],
   "source": [
    "# Let's identify the distribution of the number of reviews for different beers\n",
    "beer_freq = pd.DataFrame(beer_refined.groupby('beer_beerid')['beer_beerid'].count())\n",
    "beer_freq.columns = ['freq']"
   ]
  },
  {
   "cell_type": "code",
   "execution_count": 13,
   "metadata": {},
   "outputs": [],
   "source": [
    "beer_freq = beer_freq.reset_index()"
   ]
  },
  {
   "cell_type": "code",
   "execution_count": 14,
   "metadata": {},
   "outputs": [
    {
     "data": {
      "text/plain": [
       "{'whiskers': [<matplotlib.lines.Line2D at 0x299c9ef9908>,\n",
       "  <matplotlib.lines.Line2D at 0x299c9ef9c50>],\n",
       " 'caps': [<matplotlib.lines.Line2D at 0x299c9ef9f98>,\n",
       "  <matplotlib.lines.Line2D at 0x299c9f11320>],\n",
       " 'boxes': [<matplotlib.lines.Line2D at 0x299c9ef9518>],\n",
       " 'medians': [<matplotlib.lines.Line2D at 0x299c9f11668>],\n",
       " 'fliers': [<matplotlib.lines.Line2D at 0x299c9f119b0>],\n",
       " 'means': []}"
      ]
     },
     "execution_count": 14,
     "metadata": {},
     "output_type": "execute_result"
    },
    {
     "data": {
      "image/png": "[encoded data removed]",
      "text/plain": [
       "<Figure size 432x288 with 1 Axes>"
      ]
     },
     "metadata": {},
     "output_type": "display_data"
    }
   ],
   "source": [
    "# Plotting the above distribution as a boxplot\n",
    "plt.boxplot(beer_freq.loc[:, 'freq'])"
   ]
  },
  {
   "cell_type": "code",
   "execution_count": 15,
   "metadata": {},
   "outputs": [],
   "source": [
    "# Let's identify the distribution of the number of reviews for different beers\n",
    "freq_dist = pd.DataFrame(beer_freq.groupby('freq')['freq'].count())\n",
    "freq_dist.columns = ['count']\n",
    "freq_dist = freq_dist.reset_index()"
   ]
  },
  {
   "cell_type": "code",
   "execution_count": 16,
   "metadata": {},
   "outputs": [
    {
     "data": {
      "text/plain": [
       "[<matplotlib.lines.Line2D at 0x299c9f9c8d0>]"
      ]
     },
     "execution_count": 16,
     "metadata": {},
     "output_type": "execute_result"
    },
    {
     "data": {
      "image/png": "[encoded data removed]",
      "text/plain": [
       "<Figure size 1080x288 with 1 Axes>"
      ]
     },
     "metadata": {},
     "output_type": "display_data"
    }
   ],
   "source": [
    "# Plotting the distribution of frequency against count of values for the above data in a line chart\n",
    "fig = plt.figure(figsize=(15,4))\n",
    "# plt.plot(freq_dist.loc[freq_dist['freq']<100, 'freq'], freq_dist.loc[freq_dist['freq']<100, 'count'])\n",
    "plt.plot(freq_dist['freq'], freq_dist['count'])"
   ]
  },
  {
   "cell_type": "code",
   "execution_count": 17,
   "metadata": {},
   "outputs": [
    {
     "name": "stdout",
     "output_type": "stream",
     "text": [
      "Share of beers with only 1 review 44.8243350535927\n",
      "Share of beers with at most 2 reviews 60.177649861055976\n",
      "Share of beers with at most 3 reviews 67.79972211194918\n",
      "Share of beers with at most 4 reviews 72.52878126240572\n"
     ]
    }
   ],
   "source": [
    "# Identifying the share of beers that have only 1 review\n",
    "print('Share of beers with only 1 review' , 100 * freq_dist.loc[freq_dist['freq']==1, 'count'].sum()/freq_dist['count'].sum())\n",
    "\n",
    "# Identifying the share of beers that have only <= 2 review\n",
    "print('Share of beers with at most 2 reviews' , 100 * freq_dist.loc[freq_dist['freq']<=2, 'count'].sum()/freq_dist['count'].sum())\n",
    "\n",
    "# Identifying the share of beers that have only <= 3 review\n",
    "print('Share of beers with at most 3 reviews' , 100 * freq_dist.loc[freq_dist['freq']<=3, 'count'].sum()/freq_dist['count'].sum())\n",
    "\n",
    "# Identifying the share of beers that have only <= 4 review\n",
    "print('Share of beers with at most 4 reviews' , 100 * freq_dist.loc[freq_dist['freq']<=4, 'count'].sum()/freq_dist['count'].sum())\n"
   ]
  },
  {
   "cell_type": "code",
   "execution_count": 18,
   "metadata": {},
   "outputs": [],
   "source": [
    "# We observe that ~70% of beers have at most 4 reviews. Let's go ahead and work with beers that have atleast 5 reviews or more.\n",
    "# Therefore, we'll use N = 5 (where N = minimum number of reviews for any beer to be considered for our system)\n",
    "# The value N=5 seems to be appropriate since it would be a good number of reviews to deem whether users liked the beer or not"
   ]
  },
  {
   "cell_type": "code",
   "execution_count": 19,
   "metadata": {},
   "outputs": [],
   "source": [
    "# Filtering our data so that it only has data for beers with atleast N=5 number of reviews\n",
    "\n",
    "# First, let's identify all the beer id's that have at least 3 or more reviews\n",
    "filtered_beerids = beer_freq.loc[beer_freq['freq']>=5, 'beer_beerid'].unique()\n",
    "\n",
    "# Next, let's create a subset of our original dataset so that it only has data corresponding to the above identified beer id's\n",
    "beer_refined = beer_refined.loc[beer_refined['beer_beerid'].isin(filtered_beerids), :]"
   ]
  },
  {
   "cell_type": "code",
   "execution_count": 20,
   "metadata": {},
   "outputs": [
    {
     "data": {
      "text/html": [
       "<div>\n",
       "<style scoped>\n",
       "    .dataframe tbody tr th:only-of-type {\n",
       "        vertical-align: middle;\n",
       "    }\n",
       "\n",
       "    .dataframe tbody tr th {\n",
       "        vertical-align: top;\n",
       "    }\n",
       "\n",
       "    .dataframe thead th {\n",
       "        text-align: right;\n",
       "    }\n",
       "</style>\n",
       "<table border=\"1\" class=\"dataframe\">\n",
       "  <thead>\n",
       "    <tr style=\"text-align: right;\">\n",
       "      <th></th>\n",
       "      <th>beer_beerid</th>\n",
       "      <th>freq</th>\n",
       "    </tr>\n",
       "  </thead>\n",
       "  <tbody>\n",
       "    <tr>\n",
       "      <th>9266</th>\n",
       "      <td>54568</td>\n",
       "      <td>5</td>\n",
       "    </tr>\n",
       "    <tr>\n",
       "      <th>8817</th>\n",
       "      <td>50882</td>\n",
       "      <td>5</td>\n",
       "    </tr>\n",
       "    <tr>\n",
       "      <th>8818</th>\n",
       "      <td>50885</td>\n",
       "      <td>5</td>\n",
       "    </tr>\n",
       "    <tr>\n",
       "      <th>1085</th>\n",
       "      <td>1858</td>\n",
       "      <td>5</td>\n",
       "    </tr>\n",
       "    <tr>\n",
       "      <th>2323</th>\n",
       "      <td>5155</td>\n",
       "      <td>5</td>\n",
       "    </tr>\n",
       "  </tbody>\n",
       "</table>\n",
       "</div>"
      ],
      "text/plain": [
       "      beer_beerid  freq\n",
       "9266        54568     5\n",
       "8817        50882     5\n",
       "8818        50885     5\n",
       "1085         1858     5\n",
       "2323         5155     5"
      ]
     },
     "execution_count": 20,
     "metadata": {},
     "output_type": "execute_result"
    }
   ],
   "source": [
    "# Let's check whether we now have data for beers with min number of reviews equal to 5\n",
    "beer_freq2 = pd.DataFrame(beer_refined.groupby('beer_beerid')['beer_beerid'].count())\n",
    "beer_freq2.columns = ['freq']\n",
    "beer_freq2 = beer_freq2.reset_index()\n",
    "beer_freq2.sort_values(by='freq', ascending = True).head()"
   ]
  },
  {
   "cell_type": "code",
   "execution_count": 21,
   "metadata": {},
   "outputs": [
    {
     "data": {
      "text/plain": [
       "(428022, 3)"
      ]
     },
     "execution_count": 21,
     "metadata": {},
     "output_type": "execute_result"
    }
   ],
   "source": [
    "beer_refined.shape"
   ]
  },
  {
   "cell_type": "code",
   "execution_count": 22,
   "metadata": {},
   "outputs": [
    {
     "data": {
      "text/html": [
       "<div>\n",
       "<style scoped>\n",
       "    .dataframe tbody tr th:only-of-type {\n",
       "        vertical-align: middle;\n",
       "    }\n",
       "\n",
       "    .dataframe tbody tr th {\n",
       "        vertical-align: top;\n",
       "    }\n",
       "\n",
       "    .dataframe thead th {\n",
       "        text-align: right;\n",
       "    }\n",
       "</style>\n",
       "<table border=\"1\" class=\"dataframe\">\n",
       "  <thead>\n",
       "    <tr style=\"text-align: right;\">\n",
       "      <th></th>\n",
       "      <th>beer_beerid</th>\n",
       "      <th>review_profilename</th>\n",
       "      <th>review_overall</th>\n",
       "    </tr>\n",
       "  </thead>\n",
       "  <tbody>\n",
       "    <tr>\n",
       "      <th>5</th>\n",
       "      <td>58046</td>\n",
       "      <td>mikedrinksbeer2</td>\n",
       "      <td>4.5</td>\n",
       "    </tr>\n",
       "    <tr>\n",
       "      <th>6</th>\n",
       "      <td>58046</td>\n",
       "      <td>dbmernin83</td>\n",
       "      <td>4.0</td>\n",
       "    </tr>\n",
       "    <tr>\n",
       "      <th>7</th>\n",
       "      <td>58046</td>\n",
       "      <td>Blakaeris</td>\n",
       "      <td>4.5</td>\n",
       "    </tr>\n",
       "    <tr>\n",
       "      <th>8</th>\n",
       "      <td>58046</td>\n",
       "      <td>bashiba</td>\n",
       "      <td>4.5</td>\n",
       "    </tr>\n",
       "    <tr>\n",
       "      <th>9</th>\n",
       "      <td>58046</td>\n",
       "      <td>oberon</td>\n",
       "      <td>4.0</td>\n",
       "    </tr>\n",
       "  </tbody>\n",
       "</table>\n",
       "</div>"
      ],
      "text/plain": [
       "   beer_beerid review_profilename  review_overall\n",
       "5        58046    mikedrinksbeer2             4.5\n",
       "6        58046         dbmernin83             4.0\n",
       "7        58046          Blakaeris             4.5\n",
       "8        58046            bashiba             4.5\n",
       "9        58046             oberon             4.0"
      ]
     },
     "execution_count": 22,
     "metadata": {},
     "output_type": "execute_result"
    }
   ],
   "source": [
    "beer_refined.head()"
   ]
  },
  {
   "cell_type": "markdown",
   "metadata": {},
   "source": [
    "### Data Exploration"
   ]
  },
  {
   "cell_type": "markdown",
   "metadata": {},
   "source": [
    "What are the unique values of ratings?"
   ]
  },
  {
   "cell_type": "code",
   "execution_count": 23,
   "metadata": {},
   "outputs": [
    {
     "data": {
      "text/plain": [
       "4.0    158332\n",
       "4.5     89620\n",
       "3.5     80477\n",
       "3.0     43213\n",
       "5.0     25464\n",
       "2.5     15032\n",
       "2.0      9905\n",
       "1.5      3193\n",
       "1.0      2786\n",
       "Name: review_overall, dtype: int64"
      ]
     },
     "execution_count": 23,
     "metadata": {},
     "output_type": "execute_result"
    }
   ],
   "source": [
    "beer_refined['review_overall'].value_counts()"
   ]
  },
  {
   "cell_type": "markdown",
   "metadata": {},
   "source": [
    "Visualise the rating values and notice:\n",
    "- The average beer ratings\n",
    "- The average user ratings\n",
    "- The average number of ratings given to the beers\n",
    "- The average number of ratings given by the users"
   ]
  },
  {
   "cell_type": "code",
   "execution_count": 24,
   "metadata": {},
   "outputs": [
    {
     "data": {
      "text/html": [
       "<div>\n",
       "<style scoped>\n",
       "    .dataframe tbody tr th:only-of-type {\n",
       "        vertical-align: middle;\n",
       "    }\n",
       "\n",
       "    .dataframe tbody tr th {\n",
       "        vertical-align: top;\n",
       "    }\n",
       "\n",
       "    .dataframe thead th {\n",
       "        text-align: right;\n",
       "    }\n",
       "</style>\n",
       "<table border=\"1\" class=\"dataframe\">\n",
       "  <thead>\n",
       "    <tr style=\"text-align: right;\">\n",
       "      <th></th>\n",
       "      <th>beer_beerid</th>\n",
       "      <th>review_overall</th>\n",
       "    </tr>\n",
       "  </thead>\n",
       "  <tbody>\n",
       "    <tr>\n",
       "      <th>0</th>\n",
       "      <td>4</td>\n",
       "      <td>3.666667</td>\n",
       "    </tr>\n",
       "    <tr>\n",
       "      <th>1</th>\n",
       "      <td>5</td>\n",
       "      <td>3.553097</td>\n",
       "    </tr>\n",
       "    <tr>\n",
       "      <th>2</th>\n",
       "      <td>6</td>\n",
       "      <td>3.711462</td>\n",
       "    </tr>\n",
       "    <tr>\n",
       "      <th>3</th>\n",
       "      <td>7</td>\n",
       "      <td>3.317961</td>\n",
       "    </tr>\n",
       "    <tr>\n",
       "      <th>4</th>\n",
       "      <td>8</td>\n",
       "      <td>3.543478</td>\n",
       "    </tr>\n",
       "  </tbody>\n",
       "</table>\n",
       "</div>"
      ],
      "text/plain": [
       "   beer_beerid  review_overall\n",
       "0            4        3.666667\n",
       "1            5        3.553097\n",
       "2            6        3.711462\n",
       "3            7        3.317961\n",
       "4            8        3.543478"
      ]
     },
     "execution_count": 24,
     "metadata": {},
     "output_type": "execute_result"
    }
   ],
   "source": [
    "# In order to find the average beer ratings, let's aggregate the ratings by beers and find the corresponding average\n",
    "beer_rating = beer_refined.groupby('beer_beerid')['review_overall'].mean()\n",
    "beer_rating.columns = ['average_rating']\n",
    "beer_rating = beer_rating.reset_index()\n",
    "beer_rating.head()"
   ]
  },
  {
   "cell_type": "code",
   "execution_count": 25,
   "metadata": {},
   "outputs": [
    {
     "data": {
      "text/plain": [
       "{'whiskers': [<matplotlib.lines.Line2D at 0x299ca01db00>,\n",
       "  <matplotlib.lines.Line2D at 0x299ca01deb8>],\n",
       " 'caps': [<matplotlib.lines.Line2D at 0x299ca02c240>,\n",
       "  <matplotlib.lines.Line2D at 0x299ca02c588>],\n",
       " 'boxes': [<matplotlib.lines.Line2D at 0x299ca01d9b0>],\n",
       " 'medians': [<matplotlib.lines.Line2D at 0x299ca02c8d0>],\n",
       " 'fliers': [<matplotlib.lines.Line2D at 0x299ca02cf28>],\n",
       " 'means': [<matplotlib.lines.Line2D at 0x299ca02cc18>]}"
      ]
     },
     "execution_count": 25,
     "metadata": {},
     "output_type": "execute_result"
    },
    {
     "data": {
      "image/png": "[encoded data removed]",
      "text/plain": [
       "<Figure size 432x288 with 1 Axes>"
      ]
     },
     "metadata": {},
     "output_type": "display_data"
    }
   ],
   "source": [
    "# Let's use a boxplot to visualize the beer ratings column\n",
    "plt.boxplot(beer_rating['review_overall'], showmeans=True)"
   ]
  },
  {
   "cell_type": "code",
   "execution_count": 26,
   "metadata": {},
   "outputs": [
    {
     "name": "stdout",
     "output_type": "stream",
     "text": [
      "The average beer rating is 3.72\n"
     ]
    }
   ],
   "source": [
    "# We observe that there are a few rating below ~2.75 and ratings above ~4.75 of the spectrum that act as outliers\n",
    "# From the distribution, we observe that the 50th percetile of lies close to 3.7\n",
    "# Let's confirm the average value of beer rating from our distribution\n",
    "print('The average beer rating is', round(beer_rating['review_overall'].mean(),2))"
   ]
  },
  {
   "cell_type": "code",
   "execution_count": 27,
   "metadata": {},
   "outputs": [
    {
     "data": {
      "text/html": [
       "<div>\n",
       "<style scoped>\n",
       "    .dataframe tbody tr th:only-of-type {\n",
       "        vertical-align: middle;\n",
       "    }\n",
       "\n",
       "    .dataframe tbody tr th {\n",
       "        vertical-align: top;\n",
       "    }\n",
       "\n",
       "    .dataframe thead th {\n",
       "        text-align: right;\n",
       "    }\n",
       "</style>\n",
       "<table border=\"1\" class=\"dataframe\">\n",
       "  <thead>\n",
       "    <tr style=\"text-align: right;\">\n",
       "      <th></th>\n",
       "      <th>review_profilename</th>\n",
       "      <th>review_overall</th>\n",
       "    </tr>\n",
       "  </thead>\n",
       "  <tbody>\n",
       "    <tr>\n",
       "      <th>0</th>\n",
       "      <td>0110x011</td>\n",
       "      <td>4.303030</td>\n",
       "    </tr>\n",
       "    <tr>\n",
       "      <th>1</th>\n",
       "      <td>01Ryan10</td>\n",
       "      <td>5.000000</td>\n",
       "    </tr>\n",
       "    <tr>\n",
       "      <th>2</th>\n",
       "      <td>03SVTCobra</td>\n",
       "      <td>1.000000</td>\n",
       "    </tr>\n",
       "    <tr>\n",
       "      <th>3</th>\n",
       "      <td>04101Brewer</td>\n",
       "      <td>4.000000</td>\n",
       "    </tr>\n",
       "    <tr>\n",
       "      <th>4</th>\n",
       "      <td>05Harley</td>\n",
       "      <td>4.175676</td>\n",
       "    </tr>\n",
       "  </tbody>\n",
       "</table>\n",
       "</div>"
      ],
      "text/plain": [
       "  review_profilename  review_overall\n",
       "0           0110x011        4.303030\n",
       "1           01Ryan10        5.000000\n",
       "2         03SVTCobra        1.000000\n",
       "3        04101Brewer        4.000000\n",
       "4           05Harley        4.175676"
      ]
     },
     "execution_count": 27,
     "metadata": {},
     "output_type": "execute_result"
    }
   ],
   "source": [
    "# In order to find the average user ratings, let's aggregate the ratings by users and find the corresponding average\n",
    "user_rating = beer_refined.groupby('review_profilename')['review_overall'].mean()\n",
    "user_rating.columns = ['average_rating']\n",
    "user_rating = user_rating.reset_index()\n",
    "user_rating.head()"
   ]
  },
  {
   "cell_type": "code",
   "execution_count": 28,
   "metadata": {},
   "outputs": [
    {
     "data": {
      "text/plain": [
       "{'whiskers': [<matplotlib.lines.Line2D at 0x299ca2629e8>,\n",
       "  <matplotlib.lines.Line2D at 0x299ca262da0>],\n",
       " 'caps': [<matplotlib.lines.Line2D at 0x299ca26f128>,\n",
       "  <matplotlib.lines.Line2D at 0x299ca26f470>],\n",
       " 'boxes': [<matplotlib.lines.Line2D at 0x299ca262898>],\n",
       " 'medians': [<matplotlib.lines.Line2D at 0x299ca26f7b8>],\n",
       " 'fliers': [<matplotlib.lines.Line2D at 0x299ca26fe10>],\n",
       " 'means': [<matplotlib.lines.Line2D at 0x299ca26fb00>]}"
      ]
     },
     "execution_count": 28,
     "metadata": {},
     "output_type": "execute_result"
    },
    {
     "data": {
      "image/png": "[encoded data removed]",
      "text/plain": [
       "<Figure size 432x288 with 1 Axes>"
      ]
     },
     "metadata": {},
     "output_type": "display_data"
    }
   ],
   "source": [
    "# Let's use a boxplot to visualize the user ratings column\n",
    "plt.boxplot(user_rating['review_overall'], showmeans=True)"
   ]
  },
  {
   "cell_type": "code",
   "execution_count": 29,
   "metadata": {},
   "outputs": [
    {
     "name": "stdout",
     "output_type": "stream",
     "text": [
      "The average user rating is 3.92\n"
     ]
    }
   ],
   "source": [
    "# We observe that there are a few rating below ~2.75 that act as outliers.\n",
    "# From the distribution, we observe that the 50th percetile of lies close to 4\n",
    "# Let's confirm the average value of beer rating from our distribution\n",
    "print('The average user rating is', round(user_rating['review_overall'].mean(),2))"
   ]
  },
  {
   "cell_type": "code",
   "execution_count": 30,
   "metadata": {},
   "outputs": [
    {
     "data": {
      "text/html": [
       "<div>\n",
       "<style scoped>\n",
       "    .dataframe tbody tr th:only-of-type {\n",
       "        vertical-align: middle;\n",
       "    }\n",
       "\n",
       "    .dataframe tbody tr th {\n",
       "        vertical-align: top;\n",
       "    }\n",
       "\n",
       "    .dataframe thead th {\n",
       "        text-align: right;\n",
       "    }\n",
       "</style>\n",
       "<table border=\"1\" class=\"dataframe\">\n",
       "  <thead>\n",
       "    <tr style=\"text-align: right;\">\n",
       "      <th></th>\n",
       "      <th>beer_beerid</th>\n",
       "      <th>rating_count</th>\n",
       "    </tr>\n",
       "  </thead>\n",
       "  <tbody>\n",
       "    <tr>\n",
       "      <th>0</th>\n",
       "      <td>4</td>\n",
       "      <td>6</td>\n",
       "    </tr>\n",
       "    <tr>\n",
       "      <th>1</th>\n",
       "      <td>5</td>\n",
       "      <td>113</td>\n",
       "    </tr>\n",
       "    <tr>\n",
       "      <th>2</th>\n",
       "      <td>6</td>\n",
       "      <td>253</td>\n",
       "    </tr>\n",
       "    <tr>\n",
       "      <th>3</th>\n",
       "      <td>7</td>\n",
       "      <td>206</td>\n",
       "    </tr>\n",
       "    <tr>\n",
       "      <th>4</th>\n",
       "      <td>8</td>\n",
       "      <td>23</td>\n",
       "    </tr>\n",
       "  </tbody>\n",
       "</table>\n",
       "</div>"
      ],
      "text/plain": [
       "   beer_beerid  rating_count\n",
       "0            4             6\n",
       "1            5           113\n",
       "2            6           253\n",
       "3            7           206\n",
       "4            8            23"
      ]
     },
     "execution_count": 30,
     "metadata": {},
     "output_type": "execute_result"
    }
   ],
   "source": [
    "# In order to find the average number of ratings given to the beers, let's aggregate the ratings by beers and find the corresponding count\n",
    "beer_rating_cnt = pd.DataFrame(beer_refined.groupby('beer_beerid')['beer_beerid'].count())\n",
    "beer_rating_cnt.columns = ['rating_count']\n",
    "beer_rating_cnt = beer_rating_cnt.reset_index()\n",
    "beer_rating_cnt.head()"
   ]
  },
  {
   "cell_type": "code",
   "execution_count": 31,
   "metadata": {},
   "outputs": [
    {
     "data": {
      "text/plain": [
       "{'whiskers': [<matplotlib.lines.Line2D at 0x299ca2cfcf8>,\n",
       "  <matplotlib.lines.Line2D at 0x299ca2dc0f0>],\n",
       " 'caps': [<matplotlib.lines.Line2D at 0x299ca2dc438>,\n",
       "  <matplotlib.lines.Line2D at 0x299ca2dc780>],\n",
       " 'boxes': [<matplotlib.lines.Line2D at 0x299ca2cfba8>],\n",
       " 'medians': [<matplotlib.lines.Line2D at 0x299ca2dcac8>],\n",
       " 'fliers': [<matplotlib.lines.Line2D at 0x299ca2e8160>],\n",
       " 'means': [<matplotlib.lines.Line2D at 0x299ca2dce10>]}"
      ]
     },
     "execution_count": 31,
     "metadata": {},
     "output_type": "execute_result"
    },
    {
     "data": {
      "image/png": "[encoded data removed]",
      "text/plain": [
       "<Figure size 432x288 with 1 Axes>"
      ]
     },
     "metadata": {},
     "output_type": "display_data"
    }
   ],
   "source": [
    "# Let's use a boxplot to visualize the beer rating count column\n",
    "plt.boxplot(beer_rating_cnt['rating_count'], showmeans=True)"
   ]
  },
  {
   "cell_type": "code",
   "execution_count": 32,
   "metadata": {},
   "outputs": [
    {
     "name": "stdout",
     "output_type": "stream",
     "text": [
      "The average number of ratings given to the beers is 39\n"
     ]
    }
   ],
   "source": [
    "# It's hard to tell from the distribution what the mean is due to the presence of many outliers\n",
    "# Let's confirm the mean value of rating count for beers\n",
    "print('The average number of ratings given to the beers is', round(beer_rating_cnt['rating_count'].mean()))"
   ]
  },
  {
   "cell_type": "code",
   "execution_count": 33,
   "metadata": {},
   "outputs": [
    {
     "name": "stdout",
     "output_type": "stream",
     "text": [
      "The median number of ratings given to the beers is 13\n"
     ]
    }
   ],
   "source": [
    "# The above value is highly skewed due to the presence of outliers in the dataset\n",
    "# A better estimate of the central tendency in this case would be the median\n",
    "print('The median number of ratings given to the beers is', round(beer_rating_cnt['rating_count'].median()))"
   ]
  },
  {
   "cell_type": "code",
   "execution_count": 34,
   "metadata": {},
   "outputs": [
    {
     "data": {
      "text/html": [
       "<div>\n",
       "<style scoped>\n",
       "    .dataframe tbody tr th:only-of-type {\n",
       "        vertical-align: middle;\n",
       "    }\n",
       "\n",
       "    .dataframe tbody tr th {\n",
       "        vertical-align: top;\n",
       "    }\n",
       "\n",
       "    .dataframe thead th {\n",
       "        text-align: right;\n",
       "    }\n",
       "</style>\n",
       "<table border=\"1\" class=\"dataframe\">\n",
       "  <thead>\n",
       "    <tr style=\"text-align: right;\">\n",
       "      <th></th>\n",
       "      <th>review_profilename</th>\n",
       "      <th>rating_count</th>\n",
       "    </tr>\n",
       "  </thead>\n",
       "  <tbody>\n",
       "    <tr>\n",
       "      <th>0</th>\n",
       "      <td>0110x011</td>\n",
       "      <td>33</td>\n",
       "    </tr>\n",
       "    <tr>\n",
       "      <th>1</th>\n",
       "      <td>01Ryan10</td>\n",
       "      <td>1</td>\n",
       "    </tr>\n",
       "    <tr>\n",
       "      <th>2</th>\n",
       "      <td>03SVTCobra</td>\n",
       "      <td>1</td>\n",
       "    </tr>\n",
       "    <tr>\n",
       "      <th>3</th>\n",
       "      <td>04101Brewer</td>\n",
       "      <td>1</td>\n",
       "    </tr>\n",
       "    <tr>\n",
       "      <th>4</th>\n",
       "      <td>05Harley</td>\n",
       "      <td>37</td>\n",
       "    </tr>\n",
       "  </tbody>\n",
       "</table>\n",
       "</div>"
      ],
      "text/plain": [
       "  review_profilename  rating_count\n",
       "0           0110x011            33\n",
       "1           01Ryan10             1\n",
       "2         03SVTCobra             1\n",
       "3        04101Brewer             1\n",
       "4           05Harley            37"
      ]
     },
     "execution_count": 34,
     "metadata": {},
     "output_type": "execute_result"
    }
   ],
   "source": [
    "# In order to find the average number of ratings given by the users, let's aggregate the ratings by users and find the corresponding count\n",
    "user_rating_cnt = pd.DataFrame(beer_refined.groupby('review_profilename')['beer_beerid'].count())\n",
    "user_rating_cnt.columns = ['rating_count']\n",
    "user_rating_cnt = user_rating_cnt.reset_index()\n",
    "user_rating_cnt.head()"
   ]
  },
  {
   "cell_type": "code",
   "execution_count": 35,
   "metadata": {},
   "outputs": [
    {
     "data": {
      "text/plain": [
       "{'whiskers': [<matplotlib.lines.Line2D at 0x299ca330f60>,\n",
       "  <matplotlib.lines.Line2D at 0x299ca33f358>],\n",
       " 'caps': [<matplotlib.lines.Line2D at 0x299ca33f6a0>,\n",
       "  <matplotlib.lines.Line2D at 0x299ca33f9e8>],\n",
       " 'boxes': [<matplotlib.lines.Line2D at 0x299ca330e10>],\n",
       " 'medians': [<matplotlib.lines.Line2D at 0x299ca33fd30>],\n",
       " 'fliers': [<matplotlib.lines.Line2D at 0x299ca34b3c8>],\n",
       " 'means': [<matplotlib.lines.Line2D at 0x299ca34b0b8>]}"
      ]
     },
     "execution_count": 35,
     "metadata": {},
     "output_type": "execute_result"
    },
    {
     "data": {
      "image/png": "[encoded data removed]",
      "text/plain": [
       "<Figure size 432x288 with 1 Axes>"
      ]
     },
     "metadata": {},
     "output_type": "display_data"
    }
   ],
   "source": [
    "# Let's use a boxplot to visualize the user rating count column\n",
    "plt.boxplot(user_rating_cnt['rating_count'], showmeans=True)"
   ]
  },
  {
   "cell_type": "code",
   "execution_count": 36,
   "metadata": {},
   "outputs": [
    {
     "name": "stdout",
     "output_type": "stream",
     "text": [
      "The average number of ratings given by the users is 20\n"
     ]
    }
   ],
   "source": [
    "# It's hard to tell from the distribution what the mean is due to the presence of many outliers\n",
    "# Let's confirm the mean value of rating count for beers\n",
    "print('The average number of ratings given by the users is', round(user_rating_cnt['rating_count'].mean()))"
   ]
  },
  {
   "cell_type": "code",
   "execution_count": 37,
   "metadata": {},
   "outputs": [
    {
     "name": "stdout",
     "output_type": "stream",
     "text": [
      "The median number of ratings given by the users is 3\n"
     ]
    }
   ],
   "source": [
    "# The above value is highly skewed due to the presence of outliers in the dataset\n",
    "# A better estimate of the central tendency in this case would be the median\n",
    "print('The median number of ratings given by the users is', round(user_rating_cnt['rating_count'].median()))"
   ]
  },
  {
   "cell_type": "markdown",
   "metadata": {},
   "source": [
    "PS. The above analysis and solutions provided for the questions asked are performed on the dataset where the filter for minimum number of reviews N (=5 in our case) was applied"
   ]
  },
  {
   "cell_type": "markdown",
   "metadata": {},
   "source": [
    "Now that we've performed the required data preparation and exploration steps, let's go ahead and create our recommender system"
   ]
  },
  {
   "cell_type": "markdown",
   "metadata": {},
   "source": [
    "### Recommendation Models"
   ]
  },
  {
   "cell_type": "code",
   "execution_count": 38,
   "metadata": {},
   "outputs": [],
   "source": [
    "# Looking at the dataset, it appears that there are cases where 1 user has rated a beer more than once\n",
    "# In order to feed this data to our recommender system, let's take the average rating given by any user to any beer\n",
    "beer_refined2 = pd.DataFrame(beer_refined.groupby(['beer_beerid','review_profilename'])['review_overall'].mean())\n",
    "beer_refined2 = beer_refined2.reset_index()"
   ]
  },
  {
   "cell_type": "markdown",
   "metadata": {},
   "source": [
    "Divide the data into training and testing dataset."
   ]
  },
  {
   "cell_type": "code",
   "execution_count": 39,
   "metadata": {},
   "outputs": [],
   "source": [
    "# Splitting the data into test (30%) - train (70%)\n",
    "from sklearn.model_selection import train_test_split\n",
    "train, test = train_test_split(beer_refined2, test_size=0.30, random_state=31)"
   ]
  },
  {
   "cell_type": "code",
   "execution_count": 40,
   "metadata": {},
   "outputs": [
    {
     "name": "stdout",
     "output_type": "stream",
     "text": [
      "(299052, 3)\n",
      "(128166, 3)\n"
     ]
    }
   ],
   "source": [
    "print(train.shape)\n",
    "print(test.shape)"
   ]
  },
  {
   "cell_type": "markdown",
   "metadata": {},
   "source": [
    "**Builiding User-Based Recommendation Model** "
   ]
  },
  {
   "cell_type": "code",
   "execution_count": 41,
   "metadata": {},
   "outputs": [],
   "source": [
    "# pivot ratings into movie features\n",
    "df_user_based = train.pivot(index='review_profilename', columns='beer_beerid', values='review_overall').fillna(0)"
   ]
  },
  {
   "cell_type": "code",
   "execution_count": 42,
   "metadata": {},
   "outputs": [
    {
     "data": {
      "text/html": [
       "<div>\n",
       "<style scoped>\n",
       "    .dataframe tbody tr th:only-of-type {\n",
       "        vertical-align: middle;\n",
       "    }\n",
       "\n",
       "    .dataframe tbody tr th {\n",
       "        vertical-align: top;\n",
       "    }\n",
       "\n",
       "    .dataframe thead th {\n",
       "        text-align: right;\n",
       "    }\n",
       "</style>\n",
       "<table border=\"1\" class=\"dataframe\">\n",
       "  <thead>\n",
       "    <tr style=\"text-align: right;\">\n",
       "      <th>beer_beerid</th>\n",
       "      <th>4</th>\n",
       "      <th>5</th>\n",
       "      <th>6</th>\n",
       "      <th>7</th>\n",
       "      <th>8</th>\n",
       "      <th>9</th>\n",
       "      <th>10</th>\n",
       "      <th>11</th>\n",
       "      <th>12</th>\n",
       "      <th>13</th>\n",
       "      <th>...</th>\n",
       "      <th>75978</th>\n",
       "      <th>76144</th>\n",
       "      <th>76170</th>\n",
       "      <th>76192</th>\n",
       "      <th>76323</th>\n",
       "      <th>76375</th>\n",
       "      <th>76440</th>\n",
       "      <th>76521</th>\n",
       "      <th>76525</th>\n",
       "      <th>76816</th>\n",
       "    </tr>\n",
       "    <tr>\n",
       "      <th>review_profilename</th>\n",
       "      <th></th>\n",
       "      <th></th>\n",
       "      <th></th>\n",
       "      <th></th>\n",
       "      <th></th>\n",
       "      <th></th>\n",
       "      <th></th>\n",
       "      <th></th>\n",
       "      <th></th>\n",
       "      <th></th>\n",
       "      <th></th>\n",
       "      <th></th>\n",
       "      <th></th>\n",
       "      <th></th>\n",
       "      <th></th>\n",
       "      <th></th>\n",
       "      <th></th>\n",
       "      <th></th>\n",
       "      <th></th>\n",
       "      <th></th>\n",
       "      <th></th>\n",
       "    </tr>\n",
       "  </thead>\n",
       "  <tbody>\n",
       "    <tr>\n",
       "      <th>0110x011</th>\n",
       "      <td>0.0</td>\n",
       "      <td>0.0</td>\n",
       "      <td>0.0</td>\n",
       "      <td>0.0</td>\n",
       "      <td>0.0</td>\n",
       "      <td>0.0</td>\n",
       "      <td>0.0</td>\n",
       "      <td>0.0</td>\n",
       "      <td>0.0</td>\n",
       "      <td>0.0</td>\n",
       "      <td>...</td>\n",
       "      <td>0.0</td>\n",
       "      <td>0.0</td>\n",
       "      <td>0.0</td>\n",
       "      <td>0.0</td>\n",
       "      <td>0.0</td>\n",
       "      <td>0.0</td>\n",
       "      <td>0.0</td>\n",
       "      <td>0.0</td>\n",
       "      <td>0.0</td>\n",
       "      <td>0.0</td>\n",
       "    </tr>\n",
       "    <tr>\n",
       "      <th>03SVTCobra</th>\n",
       "      <td>0.0</td>\n",
       "      <td>0.0</td>\n",
       "      <td>0.0</td>\n",
       "      <td>0.0</td>\n",
       "      <td>0.0</td>\n",
       "      <td>0.0</td>\n",
       "      <td>0.0</td>\n",
       "      <td>0.0</td>\n",
       "      <td>0.0</td>\n",
       "      <td>0.0</td>\n",
       "      <td>...</td>\n",
       "      <td>0.0</td>\n",
       "      <td>0.0</td>\n",
       "      <td>0.0</td>\n",
       "      <td>0.0</td>\n",
       "      <td>0.0</td>\n",
       "      <td>0.0</td>\n",
       "      <td>0.0</td>\n",
       "      <td>0.0</td>\n",
       "      <td>0.0</td>\n",
       "      <td>0.0</td>\n",
       "    </tr>\n",
       "    <tr>\n",
       "      <th>04101Brewer</th>\n",
       "      <td>0.0</td>\n",
       "      <td>0.0</td>\n",
       "      <td>0.0</td>\n",
       "      <td>0.0</td>\n",
       "      <td>0.0</td>\n",
       "      <td>0.0</td>\n",
       "      <td>0.0</td>\n",
       "      <td>0.0</td>\n",
       "      <td>0.0</td>\n",
       "      <td>0.0</td>\n",
       "      <td>...</td>\n",
       "      <td>0.0</td>\n",
       "      <td>0.0</td>\n",
       "      <td>0.0</td>\n",
       "      <td>0.0</td>\n",
       "      <td>0.0</td>\n",
       "      <td>0.0</td>\n",
       "      <td>0.0</td>\n",
       "      <td>0.0</td>\n",
       "      <td>0.0</td>\n",
       "      <td>0.0</td>\n",
       "    </tr>\n",
       "    <tr>\n",
       "      <th>05Harley</th>\n",
       "      <td>0.0</td>\n",
       "      <td>0.0</td>\n",
       "      <td>0.0</td>\n",
       "      <td>0.0</td>\n",
       "      <td>0.0</td>\n",
       "      <td>0.0</td>\n",
       "      <td>0.0</td>\n",
       "      <td>0.0</td>\n",
       "      <td>0.0</td>\n",
       "      <td>0.0</td>\n",
       "      <td>...</td>\n",
       "      <td>0.0</td>\n",
       "      <td>0.0</td>\n",
       "      <td>0.0</td>\n",
       "      <td>0.0</td>\n",
       "      <td>0.0</td>\n",
       "      <td>0.0</td>\n",
       "      <td>0.0</td>\n",
       "      <td>0.0</td>\n",
       "      <td>0.0</td>\n",
       "      <td>0.0</td>\n",
       "    </tr>\n",
       "    <tr>\n",
       "      <th>0beerguy0</th>\n",
       "      <td>0.0</td>\n",
       "      <td>0.0</td>\n",
       "      <td>0.0</td>\n",
       "      <td>0.0</td>\n",
       "      <td>0.0</td>\n",
       "      <td>0.0</td>\n",
       "      <td>0.0</td>\n",
       "      <td>0.0</td>\n",
       "      <td>0.0</td>\n",
       "      <td>0.0</td>\n",
       "      <td>...</td>\n",
       "      <td>0.0</td>\n",
       "      <td>0.0</td>\n",
       "      <td>0.0</td>\n",
       "      <td>0.0</td>\n",
       "      <td>0.0</td>\n",
       "      <td>0.0</td>\n",
       "      <td>0.0</td>\n",
       "      <td>0.0</td>\n",
       "      <td>0.0</td>\n",
       "      <td>0.0</td>\n",
       "    </tr>\n",
       "  </tbody>\n",
       "</table>\n",
       "<p>5 rows × 11071 columns</p>\n",
       "</div>"
      ],
      "text/plain": [
       "beer_beerid         4      5      6      7      8      9      10     11     \\\n",
       "review_profilename                                                           \n",
       "0110x011              0.0    0.0    0.0    0.0    0.0    0.0    0.0    0.0   \n",
       "03SVTCobra            0.0    0.0    0.0    0.0    0.0    0.0    0.0    0.0   \n",
       "04101Brewer           0.0    0.0    0.0    0.0    0.0    0.0    0.0    0.0   \n",
       "05Harley              0.0    0.0    0.0    0.0    0.0    0.0    0.0    0.0   \n",
       "0beerguy0             0.0    0.0    0.0    0.0    0.0    0.0    0.0    0.0   \n",
       "\n",
       "beer_beerid         12     13     ...  75978  76144  76170  76192  76323  \\\n",
       "review_profilename                ...                                      \n",
       "0110x011              0.0    0.0  ...    0.0    0.0    0.0    0.0    0.0   \n",
       "03SVTCobra            0.0    0.0  ...    0.0    0.0    0.0    0.0    0.0   \n",
       "04101Brewer           0.0    0.0  ...    0.0    0.0    0.0    0.0    0.0   \n",
       "05Harley              0.0    0.0  ...    0.0    0.0    0.0    0.0    0.0   \n",
       "0beerguy0             0.0    0.0  ...    0.0    0.0    0.0    0.0    0.0   \n",
       "\n",
       "beer_beerid         76375  76440  76521  76525  76816  \n",
       "review_profilename                                     \n",
       "0110x011              0.0    0.0    0.0    0.0    0.0  \n",
       "03SVTCobra            0.0    0.0    0.0    0.0    0.0  \n",
       "04101Brewer           0.0    0.0    0.0    0.0    0.0  \n",
       "05Harley              0.0    0.0    0.0    0.0    0.0  \n",
       "0beerguy0             0.0    0.0    0.0    0.0    0.0  \n",
       "\n",
       "[5 rows x 11071 columns]"
      ]
     },
     "execution_count": 42,
     "metadata": {},
     "output_type": "execute_result"
    }
   ],
   "source": [
    "df_user_based.head()"
   ]
  },
  {
   "cell_type": "code",
   "execution_count": 43,
   "metadata": {},
   "outputs": [],
   "source": [
    "# Copy train and test dataset as these datasets will be used for prediction and evaluation\n",
    "dummy_train = train.copy()\n",
    "dummy_test = test.copy()"
   ]
  },
  {
   "cell_type": "code",
   "execution_count": 44,
   "metadata": {},
   "outputs": [
    {
     "data": {
      "text/html": [
       "<div>\n",
       "<style scoped>\n",
       "    .dataframe tbody tr th:only-of-type {\n",
       "        vertical-align: middle;\n",
       "    }\n",
       "\n",
       "    .dataframe tbody tr th {\n",
       "        vertical-align: top;\n",
       "    }\n",
       "\n",
       "    .dataframe thead th {\n",
       "        text-align: right;\n",
       "    }\n",
       "</style>\n",
       "<table border=\"1\" class=\"dataframe\">\n",
       "  <thead>\n",
       "    <tr style=\"text-align: right;\">\n",
       "      <th></th>\n",
       "      <th>beer_beerid</th>\n",
       "      <th>review_profilename</th>\n",
       "      <th>review_overall</th>\n",
       "    </tr>\n",
       "  </thead>\n",
       "  <tbody>\n",
       "    <tr>\n",
       "      <th>367775</th>\n",
       "      <td>47678</td>\n",
       "      <td>tigg924</td>\n",
       "      <td>4.0</td>\n",
       "    </tr>\n",
       "    <tr>\n",
       "      <th>257602</th>\n",
       "      <td>20954</td>\n",
       "      <td>Alkey</td>\n",
       "      <td>4.5</td>\n",
       "    </tr>\n",
       "    <tr>\n",
       "      <th>288986</th>\n",
       "      <td>29211</td>\n",
       "      <td>sulldaddy</td>\n",
       "      <td>4.0</td>\n",
       "    </tr>\n",
       "    <tr>\n",
       "      <th>236038</th>\n",
       "      <td>16074</td>\n",
       "      <td>Jeebs</td>\n",
       "      <td>4.5</td>\n",
       "    </tr>\n",
       "    <tr>\n",
       "      <th>317032</th>\n",
       "      <td>36028</td>\n",
       "      <td>HUXC</td>\n",
       "      <td>4.0</td>\n",
       "    </tr>\n",
       "  </tbody>\n",
       "</table>\n",
       "</div>"
      ],
      "text/plain": [
       "        beer_beerid review_profilename  review_overall\n",
       "367775        47678            tigg924             4.0\n",
       "257602        20954              Alkey             4.5\n",
       "288986        29211          sulldaddy             4.0\n",
       "236038        16074              Jeebs             4.5\n",
       "317032        36028               HUXC             4.0"
      ]
     },
     "execution_count": 44,
     "metadata": {},
     "output_type": "execute_result"
    }
   ],
   "source": [
    "dummy_train.head()"
   ]
  },
  {
   "cell_type": "code",
   "execution_count": 45,
   "metadata": {},
   "outputs": [],
   "source": [
    "# Dummy train will be used for prediction of the beers which has not been rated by the user. \n",
    "# To ignore the beers already rated by the user, we will mark it as 0 during prediction. \n",
    "# The beers not rated by user is marked as 1 for prediction. \n",
    "dummy_train['review_overall'] = dummy_train['review_overall'].apply(lambda x: 0 if x>=1 else 1)\n",
    "\n",
    "# Dummy test will be used for evaluation. \n",
    "# To evaluate, we will only make prediction on the beers rated by the user. So, this is marked as 1\n",
    "dummy_test['review_overall'] = dummy_test['review_overall'].apply(lambda x: 1 if x>=1 else 0)"
   ]
  },
  {
   "cell_type": "code",
   "execution_count": 46,
   "metadata": {},
   "outputs": [],
   "source": [
    "# The beers not rated by user is marked as 1 for prediction. \n",
    "dummy_train = dummy_train.pivot(\n",
    "    index='review_profilename',\n",
    "    columns='beer_beerid',\n",
    "    values='review_overall'\n",
    ").fillna(1)\n",
    "\n",
    "# The beers not rated by user is marked as 0 for evaluation. \n",
    "dummy_test = dummy_test.pivot(\n",
    "    index='review_profilename',\n",
    "    columns='beer_beerid',\n",
    "    values='review_overall'\n",
    ").fillna(0)"
   ]
  },
  {
   "cell_type": "code",
   "execution_count": 47,
   "metadata": {},
   "outputs": [
    {
     "data": {
      "text/html": [
       "<div>\n",
       "<style scoped>\n",
       "    .dataframe tbody tr th:only-of-type {\n",
       "        vertical-align: middle;\n",
       "    }\n",
       "\n",
       "    .dataframe tbody tr th {\n",
       "        vertical-align: top;\n",
       "    }\n",
       "\n",
       "    .dataframe thead th {\n",
       "        text-align: right;\n",
       "    }\n",
       "</style>\n",
       "<table border=\"1\" class=\"dataframe\">\n",
       "  <thead>\n",
       "    <tr style=\"text-align: right;\">\n",
       "      <th>beer_beerid</th>\n",
       "      <th>4</th>\n",
       "      <th>5</th>\n",
       "      <th>6</th>\n",
       "      <th>7</th>\n",
       "      <th>8</th>\n",
       "      <th>9</th>\n",
       "      <th>10</th>\n",
       "      <th>11</th>\n",
       "      <th>12</th>\n",
       "      <th>13</th>\n",
       "      <th>...</th>\n",
       "      <th>75978</th>\n",
       "      <th>76144</th>\n",
       "      <th>76170</th>\n",
       "      <th>76192</th>\n",
       "      <th>76323</th>\n",
       "      <th>76375</th>\n",
       "      <th>76440</th>\n",
       "      <th>76521</th>\n",
       "      <th>76525</th>\n",
       "      <th>76816</th>\n",
       "    </tr>\n",
       "    <tr>\n",
       "      <th>review_profilename</th>\n",
       "      <th></th>\n",
       "      <th></th>\n",
       "      <th></th>\n",
       "      <th></th>\n",
       "      <th></th>\n",
       "      <th></th>\n",
       "      <th></th>\n",
       "      <th></th>\n",
       "      <th></th>\n",
       "      <th></th>\n",
       "      <th></th>\n",
       "      <th></th>\n",
       "      <th></th>\n",
       "      <th></th>\n",
       "      <th></th>\n",
       "      <th></th>\n",
       "      <th></th>\n",
       "      <th></th>\n",
       "      <th></th>\n",
       "      <th></th>\n",
       "      <th></th>\n",
       "    </tr>\n",
       "  </thead>\n",
       "  <tbody>\n",
       "    <tr>\n",
       "      <th>0110x011</th>\n",
       "      <td>1.0</td>\n",
       "      <td>1.0</td>\n",
       "      <td>1.0</td>\n",
       "      <td>1.0</td>\n",
       "      <td>1.0</td>\n",
       "      <td>1.0</td>\n",
       "      <td>1.0</td>\n",
       "      <td>1.0</td>\n",
       "      <td>1.0</td>\n",
       "      <td>1.0</td>\n",
       "      <td>...</td>\n",
       "      <td>1.0</td>\n",
       "      <td>1.0</td>\n",
       "      <td>1.0</td>\n",
       "      <td>1.0</td>\n",
       "      <td>1.0</td>\n",
       "      <td>1.0</td>\n",
       "      <td>1.0</td>\n",
       "      <td>1.0</td>\n",
       "      <td>1.0</td>\n",
       "      <td>1.0</td>\n",
       "    </tr>\n",
       "    <tr>\n",
       "      <th>03SVTCobra</th>\n",
       "      <td>1.0</td>\n",
       "      <td>1.0</td>\n",
       "      <td>1.0</td>\n",
       "      <td>1.0</td>\n",
       "      <td>1.0</td>\n",
       "      <td>1.0</td>\n",
       "      <td>1.0</td>\n",
       "      <td>1.0</td>\n",
       "      <td>1.0</td>\n",
       "      <td>1.0</td>\n",
       "      <td>...</td>\n",
       "      <td>1.0</td>\n",
       "      <td>1.0</td>\n",
       "      <td>1.0</td>\n",
       "      <td>1.0</td>\n",
       "      <td>1.0</td>\n",
       "      <td>1.0</td>\n",
       "      <td>1.0</td>\n",
       "      <td>1.0</td>\n",
       "      <td>1.0</td>\n",
       "      <td>1.0</td>\n",
       "    </tr>\n",
       "    <tr>\n",
       "      <th>04101Brewer</th>\n",
       "      <td>1.0</td>\n",
       "      <td>1.0</td>\n",
       "      <td>1.0</td>\n",
       "      <td>1.0</td>\n",
       "      <td>1.0</td>\n",
       "      <td>1.0</td>\n",
       "      <td>1.0</td>\n",
       "      <td>1.0</td>\n",
       "      <td>1.0</td>\n",
       "      <td>1.0</td>\n",
       "      <td>...</td>\n",
       "      <td>1.0</td>\n",
       "      <td>1.0</td>\n",
       "      <td>1.0</td>\n",
       "      <td>1.0</td>\n",
       "      <td>1.0</td>\n",
       "      <td>1.0</td>\n",
       "      <td>1.0</td>\n",
       "      <td>1.0</td>\n",
       "      <td>1.0</td>\n",
       "      <td>1.0</td>\n",
       "    </tr>\n",
       "    <tr>\n",
       "      <th>05Harley</th>\n",
       "      <td>1.0</td>\n",
       "      <td>1.0</td>\n",
       "      <td>1.0</td>\n",
       "      <td>1.0</td>\n",
       "      <td>1.0</td>\n",
       "      <td>1.0</td>\n",
       "      <td>1.0</td>\n",
       "      <td>1.0</td>\n",
       "      <td>1.0</td>\n",
       "      <td>1.0</td>\n",
       "      <td>...</td>\n",
       "      <td>1.0</td>\n",
       "      <td>1.0</td>\n",
       "      <td>1.0</td>\n",
       "      <td>1.0</td>\n",
       "      <td>1.0</td>\n",
       "      <td>1.0</td>\n",
       "      <td>1.0</td>\n",
       "      <td>1.0</td>\n",
       "      <td>1.0</td>\n",
       "      <td>1.0</td>\n",
       "    </tr>\n",
       "    <tr>\n",
       "      <th>0beerguy0</th>\n",
       "      <td>1.0</td>\n",
       "      <td>1.0</td>\n",
       "      <td>1.0</td>\n",
       "      <td>1.0</td>\n",
       "      <td>1.0</td>\n",
       "      <td>1.0</td>\n",
       "      <td>1.0</td>\n",
       "      <td>1.0</td>\n",
       "      <td>1.0</td>\n",
       "      <td>1.0</td>\n",
       "      <td>...</td>\n",
       "      <td>1.0</td>\n",
       "      <td>1.0</td>\n",
       "      <td>1.0</td>\n",
       "      <td>1.0</td>\n",
       "      <td>1.0</td>\n",
       "      <td>1.0</td>\n",
       "      <td>1.0</td>\n",
       "      <td>1.0</td>\n",
       "      <td>1.0</td>\n",
       "      <td>1.0</td>\n",
       "    </tr>\n",
       "  </tbody>\n",
       "</table>\n",
       "<p>5 rows × 11071 columns</p>\n",
       "</div>"
      ],
      "text/plain": [
       "beer_beerid         4      5      6      7      8      9      10     11     \\\n",
       "review_profilename                                                           \n",
       "0110x011              1.0    1.0    1.0    1.0    1.0    1.0    1.0    1.0   \n",
       "03SVTCobra            1.0    1.0    1.0    1.0    1.0    1.0    1.0    1.0   \n",
       "04101Brewer           1.0    1.0    1.0    1.0    1.0    1.0    1.0    1.0   \n",
       "05Harley              1.0    1.0    1.0    1.0    1.0    1.0    1.0    1.0   \n",
       "0beerguy0             1.0    1.0    1.0    1.0    1.0    1.0    1.0    1.0   \n",
       "\n",
       "beer_beerid         12     13     ...  75978  76144  76170  76192  76323  \\\n",
       "review_profilename                ...                                      \n",
       "0110x011              1.0    1.0  ...    1.0    1.0    1.0    1.0    1.0   \n",
       "03SVTCobra            1.0    1.0  ...    1.0    1.0    1.0    1.0    1.0   \n",
       "04101Brewer           1.0    1.0  ...    1.0    1.0    1.0    1.0    1.0   \n",
       "05Harley              1.0    1.0  ...    1.0    1.0    1.0    1.0    1.0   \n",
       "0beerguy0             1.0    1.0  ...    1.0    1.0    1.0    1.0    1.0   \n",
       "\n",
       "beer_beerid         76375  76440  76521  76525  76816  \n",
       "review_profilename                                     \n",
       "0110x011              1.0    1.0    1.0    1.0    1.0  \n",
       "03SVTCobra            1.0    1.0    1.0    1.0    1.0  \n",
       "04101Brewer           1.0    1.0    1.0    1.0    1.0  \n",
       "05Harley              1.0    1.0    1.0    1.0    1.0  \n",
       "0beerguy0             1.0    1.0    1.0    1.0    1.0  \n",
       "\n",
       "[5 rows x 11071 columns]"
      ]
     },
     "execution_count": 47,
     "metadata": {},
     "output_type": "execute_result"
    }
   ],
   "source": [
    "dummy_train.head()"
   ]
  },
  {
   "cell_type": "code",
   "execution_count": 48,
   "metadata": {},
   "outputs": [
    {
     "data": {
      "text/html": [
       "<div>\n",
       "<style scoped>\n",
       "    .dataframe tbody tr th:only-of-type {\n",
       "        vertical-align: middle;\n",
       "    }\n",
       "\n",
       "    .dataframe tbody tr th {\n",
       "        vertical-align: top;\n",
       "    }\n",
       "\n",
       "    .dataframe thead th {\n",
       "        text-align: right;\n",
       "    }\n",
       "</style>\n",
       "<table border=\"1\" class=\"dataframe\">\n",
       "  <thead>\n",
       "    <tr style=\"text-align: right;\">\n",
       "      <th>beer_beerid</th>\n",
       "      <th>4</th>\n",
       "      <th>5</th>\n",
       "      <th>6</th>\n",
       "      <th>7</th>\n",
       "      <th>8</th>\n",
       "      <th>9</th>\n",
       "      <th>10</th>\n",
       "      <th>11</th>\n",
       "      <th>12</th>\n",
       "      <th>13</th>\n",
       "      <th>...</th>\n",
       "      <th>75978</th>\n",
       "      <th>76144</th>\n",
       "      <th>76170</th>\n",
       "      <th>76192</th>\n",
       "      <th>76323</th>\n",
       "      <th>76375</th>\n",
       "      <th>76440</th>\n",
       "      <th>76521</th>\n",
       "      <th>76525</th>\n",
       "      <th>76816</th>\n",
       "    </tr>\n",
       "    <tr>\n",
       "      <th>review_profilename</th>\n",
       "      <th></th>\n",
       "      <th></th>\n",
       "      <th></th>\n",
       "      <th></th>\n",
       "      <th></th>\n",
       "      <th></th>\n",
       "      <th></th>\n",
       "      <th></th>\n",
       "      <th></th>\n",
       "      <th></th>\n",
       "      <th></th>\n",
       "      <th></th>\n",
       "      <th></th>\n",
       "      <th></th>\n",
       "      <th></th>\n",
       "      <th></th>\n",
       "      <th></th>\n",
       "      <th></th>\n",
       "      <th></th>\n",
       "      <th></th>\n",
       "      <th></th>\n",
       "    </tr>\n",
       "  </thead>\n",
       "  <tbody>\n",
       "    <tr>\n",
       "      <th>0110x011</th>\n",
       "      <td>0.0</td>\n",
       "      <td>0.0</td>\n",
       "      <td>0.0</td>\n",
       "      <td>0.0</td>\n",
       "      <td>0.0</td>\n",
       "      <td>0.0</td>\n",
       "      <td>0.0</td>\n",
       "      <td>0.0</td>\n",
       "      <td>0.0</td>\n",
       "      <td>0.0</td>\n",
       "      <td>...</td>\n",
       "      <td>0.0</td>\n",
       "      <td>0.0</td>\n",
       "      <td>0.0</td>\n",
       "      <td>0.0</td>\n",
       "      <td>0.0</td>\n",
       "      <td>0.0</td>\n",
       "      <td>0.0</td>\n",
       "      <td>0.0</td>\n",
       "      <td>0.0</td>\n",
       "      <td>0.0</td>\n",
       "    </tr>\n",
       "    <tr>\n",
       "      <th>01Ryan10</th>\n",
       "      <td>0.0</td>\n",
       "      <td>0.0</td>\n",
       "      <td>0.0</td>\n",
       "      <td>0.0</td>\n",
       "      <td>0.0</td>\n",
       "      <td>0.0</td>\n",
       "      <td>0.0</td>\n",
       "      <td>0.0</td>\n",
       "      <td>0.0</td>\n",
       "      <td>0.0</td>\n",
       "      <td>...</td>\n",
       "      <td>0.0</td>\n",
       "      <td>0.0</td>\n",
       "      <td>0.0</td>\n",
       "      <td>0.0</td>\n",
       "      <td>0.0</td>\n",
       "      <td>0.0</td>\n",
       "      <td>0.0</td>\n",
       "      <td>0.0</td>\n",
       "      <td>0.0</td>\n",
       "      <td>0.0</td>\n",
       "    </tr>\n",
       "    <tr>\n",
       "      <th>05Harley</th>\n",
       "      <td>0.0</td>\n",
       "      <td>0.0</td>\n",
       "      <td>0.0</td>\n",
       "      <td>0.0</td>\n",
       "      <td>0.0</td>\n",
       "      <td>0.0</td>\n",
       "      <td>0.0</td>\n",
       "      <td>0.0</td>\n",
       "      <td>0.0</td>\n",
       "      <td>0.0</td>\n",
       "      <td>...</td>\n",
       "      <td>0.0</td>\n",
       "      <td>0.0</td>\n",
       "      <td>0.0</td>\n",
       "      <td>0.0</td>\n",
       "      <td>0.0</td>\n",
       "      <td>0.0</td>\n",
       "      <td>0.0</td>\n",
       "      <td>0.0</td>\n",
       "      <td>0.0</td>\n",
       "      <td>0.0</td>\n",
       "    </tr>\n",
       "    <tr>\n",
       "      <th>0tt0</th>\n",
       "      <td>0.0</td>\n",
       "      <td>0.0</td>\n",
       "      <td>0.0</td>\n",
       "      <td>0.0</td>\n",
       "      <td>0.0</td>\n",
       "      <td>0.0</td>\n",
       "      <td>0.0</td>\n",
       "      <td>0.0</td>\n",
       "      <td>0.0</td>\n",
       "      <td>0.0</td>\n",
       "      <td>...</td>\n",
       "      <td>0.0</td>\n",
       "      <td>0.0</td>\n",
       "      <td>0.0</td>\n",
       "      <td>0.0</td>\n",
       "      <td>0.0</td>\n",
       "      <td>0.0</td>\n",
       "      <td>0.0</td>\n",
       "      <td>0.0</td>\n",
       "      <td>0.0</td>\n",
       "      <td>0.0</td>\n",
       "    </tr>\n",
       "    <tr>\n",
       "      <th>1001111</th>\n",
       "      <td>0.0</td>\n",
       "      <td>0.0</td>\n",
       "      <td>0.0</td>\n",
       "      <td>0.0</td>\n",
       "      <td>0.0</td>\n",
       "      <td>0.0</td>\n",
       "      <td>0.0</td>\n",
       "      <td>0.0</td>\n",
       "      <td>0.0</td>\n",
       "      <td>0.0</td>\n",
       "      <td>...</td>\n",
       "      <td>0.0</td>\n",
       "      <td>0.0</td>\n",
       "      <td>0.0</td>\n",
       "      <td>0.0</td>\n",
       "      <td>0.0</td>\n",
       "      <td>0.0</td>\n",
       "      <td>0.0</td>\n",
       "      <td>0.0</td>\n",
       "      <td>0.0</td>\n",
       "      <td>0.0</td>\n",
       "    </tr>\n",
       "  </tbody>\n",
       "</table>\n",
       "<p>5 rows × 10589 columns</p>\n",
       "</div>"
      ],
      "text/plain": [
       "beer_beerid         4      5      6      7      8      9      10     11     \\\n",
       "review_profilename                                                           \n",
       "0110x011              0.0    0.0    0.0    0.0    0.0    0.0    0.0    0.0   \n",
       "01Ryan10              0.0    0.0    0.0    0.0    0.0    0.0    0.0    0.0   \n",
       "05Harley              0.0    0.0    0.0    0.0    0.0    0.0    0.0    0.0   \n",
       "0tt0                  0.0    0.0    0.0    0.0    0.0    0.0    0.0    0.0   \n",
       "1001111               0.0    0.0    0.0    0.0    0.0    0.0    0.0    0.0   \n",
       "\n",
       "beer_beerid         12     13     ...  75978  76144  76170  76192  76323  \\\n",
       "review_profilename                ...                                      \n",
       "0110x011              0.0    0.0  ...    0.0    0.0    0.0    0.0    0.0   \n",
       "01Ryan10              0.0    0.0  ...    0.0    0.0    0.0    0.0    0.0   \n",
       "05Harley              0.0    0.0  ...    0.0    0.0    0.0    0.0    0.0   \n",
       "0tt0                  0.0    0.0  ...    0.0    0.0    0.0    0.0    0.0   \n",
       "1001111               0.0    0.0  ...    0.0    0.0    0.0    0.0    0.0   \n",
       "\n",
       "beer_beerid         76375  76440  76521  76525  76816  \n",
       "review_profilename                                     \n",
       "0110x011              0.0    0.0    0.0    0.0    0.0  \n",
       "01Ryan10              0.0    0.0    0.0    0.0    0.0  \n",
       "05Harley              0.0    0.0    0.0    0.0    0.0  \n",
       "0tt0                  0.0    0.0    0.0    0.0    0.0  \n",
       "1001111               0.0    0.0    0.0    0.0    0.0  \n",
       "\n",
       "[5 rows x 10589 columns]"
      ]
     },
     "execution_count": 48,
     "metadata": {},
     "output_type": "execute_result"
    }
   ],
   "source": [
    "dummy_test.head()"
   ]
  },
  {
   "cell_type": "markdown",
   "metadata": {},
   "source": [
    "**User Similarity Matrix - Using the Adjusted Cosine Similarity metric**"
   ]
  },
  {
   "cell_type": "code",
   "execution_count": 49,
   "metadata": {},
   "outputs": [],
   "source": [
    "# Since we'll be using the adjusted cosine similarity between users, we won't be filling up the NaN values with 0's\n",
    "# Hence, we'll only be calculating calculating the mean for the beers rated by the user\n",
    "df_user_based2 = train.pivot(index='review_profilename', columns='beer_beerid', values='review_overall')"
   ]
  },
  {
   "cell_type": "code",
   "execution_count": 50,
   "metadata": {},
   "outputs": [
    {
     "data": {
      "text/html": [
       "<div>\n",
       "<style scoped>\n",
       "    .dataframe tbody tr th:only-of-type {\n",
       "        vertical-align: middle;\n",
       "    }\n",
       "\n",
       "    .dataframe tbody tr th {\n",
       "        vertical-align: top;\n",
       "    }\n",
       "\n",
       "    .dataframe thead th {\n",
       "        text-align: right;\n",
       "    }\n",
       "</style>\n",
       "<table border=\"1\" class=\"dataframe\">\n",
       "  <thead>\n",
       "    <tr style=\"text-align: right;\">\n",
       "      <th>beer_beerid</th>\n",
       "      <th>4</th>\n",
       "      <th>5</th>\n",
       "      <th>6</th>\n",
       "      <th>7</th>\n",
       "      <th>8</th>\n",
       "      <th>9</th>\n",
       "      <th>10</th>\n",
       "      <th>11</th>\n",
       "      <th>12</th>\n",
       "      <th>13</th>\n",
       "      <th>...</th>\n",
       "      <th>75978</th>\n",
       "      <th>76144</th>\n",
       "      <th>76170</th>\n",
       "      <th>76192</th>\n",
       "      <th>76323</th>\n",
       "      <th>76375</th>\n",
       "      <th>76440</th>\n",
       "      <th>76521</th>\n",
       "      <th>76525</th>\n",
       "      <th>76816</th>\n",
       "    </tr>\n",
       "    <tr>\n",
       "      <th>review_profilename</th>\n",
       "      <th></th>\n",
       "      <th></th>\n",
       "      <th></th>\n",
       "      <th></th>\n",
       "      <th></th>\n",
       "      <th></th>\n",
       "      <th></th>\n",
       "      <th></th>\n",
       "      <th></th>\n",
       "      <th></th>\n",
       "      <th></th>\n",
       "      <th></th>\n",
       "      <th></th>\n",
       "      <th></th>\n",
       "      <th></th>\n",
       "      <th></th>\n",
       "      <th></th>\n",
       "      <th></th>\n",
       "      <th></th>\n",
       "      <th></th>\n",
       "      <th></th>\n",
       "    </tr>\n",
       "  </thead>\n",
       "  <tbody>\n",
       "    <tr>\n",
       "      <th>0110x011</th>\n",
       "      <td>NaN</td>\n",
       "      <td>NaN</td>\n",
       "      <td>NaN</td>\n",
       "      <td>NaN</td>\n",
       "      <td>NaN</td>\n",
       "      <td>NaN</td>\n",
       "      <td>NaN</td>\n",
       "      <td>NaN</td>\n",
       "      <td>NaN</td>\n",
       "      <td>NaN</td>\n",
       "      <td>...</td>\n",
       "      <td>NaN</td>\n",
       "      <td>NaN</td>\n",
       "      <td>NaN</td>\n",
       "      <td>NaN</td>\n",
       "      <td>NaN</td>\n",
       "      <td>NaN</td>\n",
       "      <td>NaN</td>\n",
       "      <td>NaN</td>\n",
       "      <td>NaN</td>\n",
       "      <td>NaN</td>\n",
       "    </tr>\n",
       "    <tr>\n",
       "      <th>03SVTCobra</th>\n",
       "      <td>NaN</td>\n",
       "      <td>NaN</td>\n",
       "      <td>NaN</td>\n",
       "      <td>NaN</td>\n",
       "      <td>NaN</td>\n",
       "      <td>NaN</td>\n",
       "      <td>NaN</td>\n",
       "      <td>NaN</td>\n",
       "      <td>NaN</td>\n",
       "      <td>NaN</td>\n",
       "      <td>...</td>\n",
       "      <td>NaN</td>\n",
       "      <td>NaN</td>\n",
       "      <td>NaN</td>\n",
       "      <td>NaN</td>\n",
       "      <td>NaN</td>\n",
       "      <td>NaN</td>\n",
       "      <td>NaN</td>\n",
       "      <td>NaN</td>\n",
       "      <td>NaN</td>\n",
       "      <td>NaN</td>\n",
       "    </tr>\n",
       "    <tr>\n",
       "      <th>04101Brewer</th>\n",
       "      <td>NaN</td>\n",
       "      <td>NaN</td>\n",
       "      <td>NaN</td>\n",
       "      <td>NaN</td>\n",
       "      <td>NaN</td>\n",
       "      <td>NaN</td>\n",
       "      <td>NaN</td>\n",
       "      <td>NaN</td>\n",
       "      <td>NaN</td>\n",
       "      <td>NaN</td>\n",
       "      <td>...</td>\n",
       "      <td>NaN</td>\n",
       "      <td>NaN</td>\n",
       "      <td>NaN</td>\n",
       "      <td>NaN</td>\n",
       "      <td>NaN</td>\n",
       "      <td>NaN</td>\n",
       "      <td>NaN</td>\n",
       "      <td>NaN</td>\n",
       "      <td>NaN</td>\n",
       "      <td>NaN</td>\n",
       "    </tr>\n",
       "    <tr>\n",
       "      <th>05Harley</th>\n",
       "      <td>NaN</td>\n",
       "      <td>NaN</td>\n",
       "      <td>NaN</td>\n",
       "      <td>NaN</td>\n",
       "      <td>NaN</td>\n",
       "      <td>NaN</td>\n",
       "      <td>NaN</td>\n",
       "      <td>NaN</td>\n",
       "      <td>NaN</td>\n",
       "      <td>NaN</td>\n",
       "      <td>...</td>\n",
       "      <td>NaN</td>\n",
       "      <td>NaN</td>\n",
       "      <td>NaN</td>\n",
       "      <td>NaN</td>\n",
       "      <td>NaN</td>\n",
       "      <td>NaN</td>\n",
       "      <td>NaN</td>\n",
       "      <td>NaN</td>\n",
       "      <td>NaN</td>\n",
       "      <td>NaN</td>\n",
       "    </tr>\n",
       "    <tr>\n",
       "      <th>0beerguy0</th>\n",
       "      <td>NaN</td>\n",
       "      <td>NaN</td>\n",
       "      <td>NaN</td>\n",
       "      <td>NaN</td>\n",
       "      <td>NaN</td>\n",
       "      <td>NaN</td>\n",
       "      <td>NaN</td>\n",
       "      <td>NaN</td>\n",
       "      <td>NaN</td>\n",
       "      <td>NaN</td>\n",
       "      <td>...</td>\n",
       "      <td>NaN</td>\n",
       "      <td>NaN</td>\n",
       "      <td>NaN</td>\n",
       "      <td>NaN</td>\n",
       "      <td>NaN</td>\n",
       "      <td>NaN</td>\n",
       "      <td>NaN</td>\n",
       "      <td>NaN</td>\n",
       "      <td>NaN</td>\n",
       "      <td>NaN</td>\n",
       "    </tr>\n",
       "  </tbody>\n",
       "</table>\n",
       "<p>5 rows × 11071 columns</p>\n",
       "</div>"
      ],
      "text/plain": [
       "beer_beerid         4      5      6      7      8      9      10     11     \\\n",
       "review_profilename                                                           \n",
       "0110x011              NaN    NaN    NaN    NaN    NaN    NaN    NaN    NaN   \n",
       "03SVTCobra            NaN    NaN    NaN    NaN    NaN    NaN    NaN    NaN   \n",
       "04101Brewer           NaN    NaN    NaN    NaN    NaN    NaN    NaN    NaN   \n",
       "05Harley              NaN    NaN    NaN    NaN    NaN    NaN    NaN    NaN   \n",
       "0beerguy0             NaN    NaN    NaN    NaN    NaN    NaN    NaN    NaN   \n",
       "\n",
       "beer_beerid         12     13     ...  75978  76144  76170  76192  76323  \\\n",
       "review_profilename                ...                                      \n",
       "0110x011              NaN    NaN  ...    NaN    NaN    NaN    NaN    NaN   \n",
       "03SVTCobra            NaN    NaN  ...    NaN    NaN    NaN    NaN    NaN   \n",
       "04101Brewer           NaN    NaN  ...    NaN    NaN    NaN    NaN    NaN   \n",
       "05Harley              NaN    NaN  ...    NaN    NaN    NaN    NaN    NaN   \n",
       "0beerguy0             NaN    NaN  ...    NaN    NaN    NaN    NaN    NaN   \n",
       "\n",
       "beer_beerid         76375  76440  76521  76525  76816  \n",
       "review_profilename                                     \n",
       "0110x011              NaN    NaN    NaN    NaN    NaN  \n",
       "03SVTCobra            NaN    NaN    NaN    NaN    NaN  \n",
       "04101Brewer           NaN    NaN    NaN    NaN    NaN  \n",
       "05Harley              NaN    NaN    NaN    NaN    NaN  \n",
       "0beerguy0             NaN    NaN    NaN    NaN    NaN  \n",
       "\n",
       "[5 rows x 11071 columns]"
      ]
     },
     "execution_count": 50,
     "metadata": {},
     "output_type": "execute_result"
    }
   ],
   "source": [
    "df_user_based2.head()"
   ]
  },
  {
   "cell_type": "code",
   "execution_count": 51,
   "metadata": {},
   "outputs": [],
   "source": [
    "# Normalising the rating of the beers by each user such that the mean is at 0\n",
    "mean = np.nanmean(df_user_based2, axis=1)\n",
    "df_subtracted = (df_user_based2.T-mean).T"
   ]
  },
  {
   "cell_type": "code",
   "execution_count": 52,
   "metadata": {},
   "outputs": [
    {
     "name": "stdout",
     "output_type": "stream",
     "text": [
      "[[1. 0. 0. ... 0. 0. 0.]\n",
      " [0. 1. 0. ... 0. 0. 0.]\n",
      " [0. 0. 1. ... 0. 0. 0.]\n",
      " ...\n",
      " [0. 0. 0. ... 1. 0. 0.]\n",
      " [0. 0. 0. ... 0. 1. 0.]\n",
      " [0. 0. 0. ... 0. 0. 1.]]\n"
     ]
    }
   ],
   "source": [
    "# Finding the Cosine Similarity\n",
    "from sklearn.metrics.pairwise import pairwise_distances\n",
    "\n",
    "# User Similarity Matrix\n",
    "user_correlation = 1 - pairwise_distances(df_subtracted.fillna(0), metric='cosine')\n",
    "user_correlation[np.isnan(user_correlation)] = 0\n",
    "print(user_correlation)"
   ]
  },
  {
   "cell_type": "markdown",
   "metadata": {},
   "source": [
    "Predictions"
   ]
  },
  {
   "cell_type": "code",
   "execution_count": 53,
   "metadata": {},
   "outputs": [
    {
     "data": {
      "text/plain": [
       "array([[1., 0., 0., ..., 0., 0., 0.],\n",
       "       [0., 1., 0., ..., 0., 0., 0.],\n",
       "       [0., 0., 1., ..., 0., 0., 0.],\n",
       "       ...,\n",
       "       [0., 0., 0., ..., 1., 0., 0.],\n",
       "       [0., 0., 0., ..., 0., 1., 0.],\n",
       "       [0., 0., 0., ..., 0., 0., 1.]])"
      ]
     },
     "execution_count": 53,
     "metadata": {},
     "output_type": "execute_result"
    }
   ],
   "source": [
    "# We'll only be considering those users that have a positive correlation with a particular user for the predictions\n",
    "# Because, these are the ones that show some level of similarity (as opposed to the negatively correlated ones)\n",
    "\n",
    "# Therefore, setting all the negatively correlated values to 0\n",
    "user_correlation2 = user_correlation.copy()\n",
    "user_correlation2[user_correlation2<0]=0\n",
    "user_correlation2"
   ]
  },
  {
   "cell_type": "code",
   "execution_count": 54,
   "metadata": {},
   "outputs": [
    {
     "data": {
      "text/plain": [
       "array([[0.        , 0.90602718, 2.51216324, ..., 0.        , 0.1289217 ,\n",
       "        0.02815832],\n",
       "       [0.        , 0.        , 0.        , ..., 0.        , 0.        ,\n",
       "        0.        ],\n",
       "       [0.        , 0.        , 0.        , ..., 0.        , 0.        ,\n",
       "        0.        ],\n",
       "       ...,\n",
       "       [0.        , 0.31731927, 0.24009802, ..., 0.        , 0.0593847 ,\n",
       "        0.18606321],\n",
       "       [0.        , 1.09276632, 5.74336301, ..., 0.        , 0.16952205,\n",
       "        0.37766878],\n",
       "       [0.        , 0.        , 0.        , ..., 0.        , 0.        ,\n",
       "        0.        ]])"
      ]
     },
     "execution_count": 54,
     "metadata": {},
     "output_type": "execute_result"
    }
   ],
   "source": [
    "# Rating predicted by the user (for beers rated as well as not rated) is the weighted sum of correlation with the beer rating\n",
    "user_predicted_ratings = np.dot(user_correlation2, df_user_based2.fillna(0))\n",
    "user_predicted_ratings"
   ]
  },
  {
   "cell_type": "code",
   "execution_count": 55,
   "metadata": {},
   "outputs": [
    {
     "data": {
      "text/plain": [
       "(19263, 11071)"
      ]
     },
     "execution_count": 55,
     "metadata": {},
     "output_type": "execute_result"
    }
   ],
   "source": [
    "user_predicted_ratings.shape"
   ]
  },
  {
   "cell_type": "code",
   "execution_count": 56,
   "metadata": {},
   "outputs": [
    {
     "data": {
      "text/html": [
       "<div>\n",
       "<style scoped>\n",
       "    .dataframe tbody tr th:only-of-type {\n",
       "        vertical-align: middle;\n",
       "    }\n",
       "\n",
       "    .dataframe tbody tr th {\n",
       "        vertical-align: top;\n",
       "    }\n",
       "\n",
       "    .dataframe thead th {\n",
       "        text-align: right;\n",
       "    }\n",
       "</style>\n",
       "<table border=\"1\" class=\"dataframe\">\n",
       "  <thead>\n",
       "    <tr style=\"text-align: right;\">\n",
       "      <th>beer_beerid</th>\n",
       "      <th>4</th>\n",
       "      <th>5</th>\n",
       "      <th>6</th>\n",
       "      <th>7</th>\n",
       "      <th>8</th>\n",
       "      <th>9</th>\n",
       "      <th>10</th>\n",
       "      <th>11</th>\n",
       "      <th>12</th>\n",
       "      <th>13</th>\n",
       "      <th>...</th>\n",
       "      <th>75978</th>\n",
       "      <th>76144</th>\n",
       "      <th>76170</th>\n",
       "      <th>76192</th>\n",
       "      <th>76323</th>\n",
       "      <th>76375</th>\n",
       "      <th>76440</th>\n",
       "      <th>76521</th>\n",
       "      <th>76525</th>\n",
       "      <th>76816</th>\n",
       "    </tr>\n",
       "    <tr>\n",
       "      <th>review_profilename</th>\n",
       "      <th></th>\n",
       "      <th></th>\n",
       "      <th></th>\n",
       "      <th></th>\n",
       "      <th></th>\n",
       "      <th></th>\n",
       "      <th></th>\n",
       "      <th></th>\n",
       "      <th></th>\n",
       "      <th></th>\n",
       "      <th></th>\n",
       "      <th></th>\n",
       "      <th></th>\n",
       "      <th></th>\n",
       "      <th></th>\n",
       "      <th></th>\n",
       "      <th></th>\n",
       "      <th></th>\n",
       "      <th></th>\n",
       "      <th></th>\n",
       "      <th></th>\n",
       "    </tr>\n",
       "  </thead>\n",
       "  <tbody>\n",
       "    <tr>\n",
       "      <th>0110x011</th>\n",
       "      <td>0.000000</td>\n",
       "      <td>0.906027</td>\n",
       "      <td>2.512163</td>\n",
       "      <td>1.413171</td>\n",
       "      <td>0.493424</td>\n",
       "      <td>0.367708</td>\n",
       "      <td>2.473340</td>\n",
       "      <td>0.090509</td>\n",
       "      <td>0.262155</td>\n",
       "      <td>0.155318</td>\n",
       "      <td>...</td>\n",
       "      <td>0.045516</td>\n",
       "      <td>0.357737</td>\n",
       "      <td>0.000000</td>\n",
       "      <td>0.011604</td>\n",
       "      <td>0.052667</td>\n",
       "      <td>0.000000</td>\n",
       "      <td>0.0</td>\n",
       "      <td>0.0</td>\n",
       "      <td>0.128922</td>\n",
       "      <td>0.028158</td>\n",
       "    </tr>\n",
       "    <tr>\n",
       "      <th>03SVTCobra</th>\n",
       "      <td>0.000000</td>\n",
       "      <td>0.000000</td>\n",
       "      <td>0.000000</td>\n",
       "      <td>0.000000</td>\n",
       "      <td>0.000000</td>\n",
       "      <td>0.000000</td>\n",
       "      <td>0.000000</td>\n",
       "      <td>0.000000</td>\n",
       "      <td>0.000000</td>\n",
       "      <td>0.000000</td>\n",
       "      <td>...</td>\n",
       "      <td>0.000000</td>\n",
       "      <td>0.000000</td>\n",
       "      <td>0.000000</td>\n",
       "      <td>0.000000</td>\n",
       "      <td>0.000000</td>\n",
       "      <td>0.000000</td>\n",
       "      <td>0.0</td>\n",
       "      <td>0.0</td>\n",
       "      <td>0.000000</td>\n",
       "      <td>0.000000</td>\n",
       "    </tr>\n",
       "    <tr>\n",
       "      <th>04101Brewer</th>\n",
       "      <td>0.000000</td>\n",
       "      <td>0.000000</td>\n",
       "      <td>0.000000</td>\n",
       "      <td>0.000000</td>\n",
       "      <td>0.000000</td>\n",
       "      <td>0.000000</td>\n",
       "      <td>0.000000</td>\n",
       "      <td>0.000000</td>\n",
       "      <td>0.000000</td>\n",
       "      <td>0.000000</td>\n",
       "      <td>...</td>\n",
       "      <td>0.000000</td>\n",
       "      <td>0.000000</td>\n",
       "      <td>0.000000</td>\n",
       "      <td>0.000000</td>\n",
       "      <td>0.000000</td>\n",
       "      <td>0.000000</td>\n",
       "      <td>0.0</td>\n",
       "      <td>0.0</td>\n",
       "      <td>0.000000</td>\n",
       "      <td>0.000000</td>\n",
       "    </tr>\n",
       "    <tr>\n",
       "      <th>05Harley</th>\n",
       "      <td>0.394173</td>\n",
       "      <td>2.220338</td>\n",
       "      <td>4.058734</td>\n",
       "      <td>3.669065</td>\n",
       "      <td>0.114971</td>\n",
       "      <td>0.662232</td>\n",
       "      <td>5.763295</td>\n",
       "      <td>0.310490</td>\n",
       "      <td>0.118914</td>\n",
       "      <td>0.428379</td>\n",
       "      <td>...</td>\n",
       "      <td>0.092745</td>\n",
       "      <td>1.579247</td>\n",
       "      <td>0.245678</td>\n",
       "      <td>0.000000</td>\n",
       "      <td>0.000000</td>\n",
       "      <td>0.116143</td>\n",
       "      <td>0.0</td>\n",
       "      <td>0.0</td>\n",
       "      <td>1.290903</td>\n",
       "      <td>0.910409</td>\n",
       "    </tr>\n",
       "    <tr>\n",
       "      <th>0beerguy0</th>\n",
       "      <td>0.000000</td>\n",
       "      <td>0.764824</td>\n",
       "      <td>1.680169</td>\n",
       "      <td>0.866190</td>\n",
       "      <td>0.541653</td>\n",
       "      <td>0.037214</td>\n",
       "      <td>1.612565</td>\n",
       "      <td>0.178263</td>\n",
       "      <td>0.149116</td>\n",
       "      <td>0.119740</td>\n",
       "      <td>...</td>\n",
       "      <td>0.149494</td>\n",
       "      <td>0.382934</td>\n",
       "      <td>0.166812</td>\n",
       "      <td>0.000000</td>\n",
       "      <td>0.000000</td>\n",
       "      <td>0.000000</td>\n",
       "      <td>0.0</td>\n",
       "      <td>0.0</td>\n",
       "      <td>0.048930</td>\n",
       "      <td>0.119744</td>\n",
       "    </tr>\n",
       "  </tbody>\n",
       "</table>\n",
       "<p>5 rows × 11071 columns</p>\n",
       "</div>"
      ],
      "text/plain": [
       "beer_beerid            4         5         6         7         8      \\\n",
       "review_profilename                                                     \n",
       "0110x011            0.000000  0.906027  2.512163  1.413171  0.493424   \n",
       "03SVTCobra          0.000000  0.000000  0.000000  0.000000  0.000000   \n",
       "04101Brewer         0.000000  0.000000  0.000000  0.000000  0.000000   \n",
       "05Harley            0.394173  2.220338  4.058734  3.669065  0.114971   \n",
       "0beerguy0           0.000000  0.764824  1.680169  0.866190  0.541653   \n",
       "\n",
       "beer_beerid            9         10        11        12        13     ...  \\\n",
       "review_profilename                                                    ...   \n",
       "0110x011            0.367708  2.473340  0.090509  0.262155  0.155318  ...   \n",
       "03SVTCobra          0.000000  0.000000  0.000000  0.000000  0.000000  ...   \n",
       "04101Brewer         0.000000  0.000000  0.000000  0.000000  0.000000  ...   \n",
       "05Harley            0.662232  5.763295  0.310490  0.118914  0.428379  ...   \n",
       "0beerguy0           0.037214  1.612565  0.178263  0.149116  0.119740  ...   \n",
       "\n",
       "beer_beerid            75978     76144     76170     76192     76323  \\\n",
       "review_profilename                                                     \n",
       "0110x011            0.045516  0.357737  0.000000  0.011604  0.052667   \n",
       "03SVTCobra          0.000000  0.000000  0.000000  0.000000  0.000000   \n",
       "04101Brewer         0.000000  0.000000  0.000000  0.000000  0.000000   \n",
       "05Harley            0.092745  1.579247  0.245678  0.000000  0.000000   \n",
       "0beerguy0           0.149494  0.382934  0.166812  0.000000  0.000000   \n",
       "\n",
       "beer_beerid            76375  76440  76521     76525     76816  \n",
       "review_profilename                                              \n",
       "0110x011            0.000000    0.0    0.0  0.128922  0.028158  \n",
       "03SVTCobra          0.000000    0.0    0.0  0.000000  0.000000  \n",
       "04101Brewer         0.000000    0.0    0.0  0.000000  0.000000  \n",
       "05Harley            0.116143    0.0    0.0  1.290903  0.910409  \n",
       "0beerguy0           0.000000    0.0    0.0  0.048930  0.119744  \n",
       "\n",
       "[5 rows x 11071 columns]"
      ]
     },
     "execution_count": 56,
     "metadata": {},
     "output_type": "execute_result"
    }
   ],
   "source": [
    "# Since we are interested only in beers not rated by the user, we will ignore the beers rated by the user by making it zero\n",
    "user_final_rating = np.multiply(user_predicted_ratings,dummy_train)\n",
    "user_final_rating.head()"
   ]
  },
  {
   "cell_type": "markdown",
   "metadata": {},
   "source": [
    "**Determine how similar the first 10 users are to each other and visualise it.**"
   ]
  },
  {
   "cell_type": "code",
   "execution_count": 57,
   "metadata": {},
   "outputs": [
    {
     "data": {
      "image/png": "[encoded data removed]",
      "text/plain": [
       "<Figure size 1080x288 with 2 Axes>"
      ]
     },
     "metadata": {},
     "output_type": "display_data"
    }
   ],
   "source": [
    "# To answer the above question, let's use a heat map on the similarity matrix created using the adjust consine similarity metric\n",
    "z_min, z_max = user_correlation[:10, :10].min(), user_correlation[:10, :10].max()\n",
    "\n",
    "import seaborn as sns\n",
    "fig = plt.figure(figsize=(15,4))\n",
    "ax = sns.heatmap(user_correlation[:10, :10], annot=True, cmap='YlGn', vmin=z_min, vmax=z_max)\n",
    "ax.set_xticklabels(dummy_train.index[:10])\n",
    "ax.set_yticklabels(dummy_train.index[:10])\n",
    "plt.yticks(rotation=0) \n",
    "\n",
    "plt.show()"
   ]
  },
  {
   "cell_type": "markdown",
   "metadata": {},
   "source": [
    "**Builiding Item-Based Recommendation Model** "
   ]
  },
  {
   "cell_type": "code",
   "execution_count": 58,
   "metadata": {},
   "outputs": [
    {
     "data": {
      "text/html": [
       "<div>\n",
       "<style scoped>\n",
       "    .dataframe tbody tr th:only-of-type {\n",
       "        vertical-align: middle;\n",
       "    }\n",
       "\n",
       "    .dataframe tbody tr th {\n",
       "        vertical-align: top;\n",
       "    }\n",
       "\n",
       "    .dataframe thead th {\n",
       "        text-align: right;\n",
       "    }\n",
       "</style>\n",
       "<table border=\"1\" class=\"dataframe\">\n",
       "  <thead>\n",
       "    <tr style=\"text-align: right;\">\n",
       "      <th></th>\n",
       "      <th>beer_beerid</th>\n",
       "      <th>review_profilename</th>\n",
       "      <th>review_overall</th>\n",
       "    </tr>\n",
       "  </thead>\n",
       "  <tbody>\n",
       "    <tr>\n",
       "      <th>367775</th>\n",
       "      <td>47678</td>\n",
       "      <td>tigg924</td>\n",
       "      <td>4.0</td>\n",
       "    </tr>\n",
       "    <tr>\n",
       "      <th>257602</th>\n",
       "      <td>20954</td>\n",
       "      <td>Alkey</td>\n",
       "      <td>4.5</td>\n",
       "    </tr>\n",
       "    <tr>\n",
       "      <th>288986</th>\n",
       "      <td>29211</td>\n",
       "      <td>sulldaddy</td>\n",
       "      <td>4.0</td>\n",
       "    </tr>\n",
       "    <tr>\n",
       "      <th>236038</th>\n",
       "      <td>16074</td>\n",
       "      <td>Jeebs</td>\n",
       "      <td>4.5</td>\n",
       "    </tr>\n",
       "    <tr>\n",
       "      <th>317032</th>\n",
       "      <td>36028</td>\n",
       "      <td>HUXC</td>\n",
       "      <td>4.0</td>\n",
       "    </tr>\n",
       "  </tbody>\n",
       "</table>\n",
       "</div>"
      ],
      "text/plain": [
       "        beer_beerid review_profilename  review_overall\n",
       "367775        47678            tigg924             4.0\n",
       "257602        20954              Alkey             4.5\n",
       "288986        29211          sulldaddy             4.0\n",
       "236038        16074              Jeebs             4.5\n",
       "317032        36028               HUXC             4.0"
      ]
     },
     "execution_count": 58,
     "metadata": {},
     "output_type": "execute_result"
    }
   ],
   "source": [
    "train.head()"
   ]
  },
  {
   "cell_type": "code",
   "execution_count": 59,
   "metadata": {},
   "outputs": [
    {
     "data": {
      "text/html": [
       "<div>\n",
       "<style scoped>\n",
       "    .dataframe tbody tr th:only-of-type {\n",
       "        vertical-align: middle;\n",
       "    }\n",
       "\n",
       "    .dataframe tbody tr th {\n",
       "        vertical-align: top;\n",
       "    }\n",
       "\n",
       "    .dataframe thead th {\n",
       "        text-align: right;\n",
       "    }\n",
       "</style>\n",
       "<table border=\"1\" class=\"dataframe\">\n",
       "  <thead>\n",
       "    <tr style=\"text-align: right;\">\n",
       "      <th>review_profilename</th>\n",
       "      <th>0110x011</th>\n",
       "      <th>03SVTCobra</th>\n",
       "      <th>04101Brewer</th>\n",
       "      <th>05Harley</th>\n",
       "      <th>0beerguy0</th>\n",
       "      <th>0runkp0s</th>\n",
       "      <th>0tt0</th>\n",
       "      <th>1000Bottles</th>\n",
       "      <th>1001111</th>\n",
       "      <th>100floods</th>\n",
       "      <th>...</th>\n",
       "      <th>zuffenhausen</th>\n",
       "      <th>zuggy9</th>\n",
       "      <th>zulufactor</th>\n",
       "      <th>zwalk8</th>\n",
       "      <th>zwan</th>\n",
       "      <th>zymurgy4all</th>\n",
       "      <th>zymurgywhiz</th>\n",
       "      <th>zythus</th>\n",
       "      <th>zyzygy</th>\n",
       "      <th>zzajjber</th>\n",
       "    </tr>\n",
       "    <tr>\n",
       "      <th>beer_beerid</th>\n",
       "      <th></th>\n",
       "      <th></th>\n",
       "      <th></th>\n",
       "      <th></th>\n",
       "      <th></th>\n",
       "      <th></th>\n",
       "      <th></th>\n",
       "      <th></th>\n",
       "      <th></th>\n",
       "      <th></th>\n",
       "      <th></th>\n",
       "      <th></th>\n",
       "      <th></th>\n",
       "      <th></th>\n",
       "      <th></th>\n",
       "      <th></th>\n",
       "      <th></th>\n",
       "      <th></th>\n",
       "      <th></th>\n",
       "      <th></th>\n",
       "      <th></th>\n",
       "    </tr>\n",
       "  </thead>\n",
       "  <tbody>\n",
       "    <tr>\n",
       "      <th>4</th>\n",
       "      <td>NaN</td>\n",
       "      <td>NaN</td>\n",
       "      <td>NaN</td>\n",
       "      <td>NaN</td>\n",
       "      <td>NaN</td>\n",
       "      <td>NaN</td>\n",
       "      <td>NaN</td>\n",
       "      <td>NaN</td>\n",
       "      <td>NaN</td>\n",
       "      <td>NaN</td>\n",
       "      <td>...</td>\n",
       "      <td>NaN</td>\n",
       "      <td>NaN</td>\n",
       "      <td>NaN</td>\n",
       "      <td>NaN</td>\n",
       "      <td>NaN</td>\n",
       "      <td>NaN</td>\n",
       "      <td>NaN</td>\n",
       "      <td>NaN</td>\n",
       "      <td>NaN</td>\n",
       "      <td>NaN</td>\n",
       "    </tr>\n",
       "    <tr>\n",
       "      <th>5</th>\n",
       "      <td>NaN</td>\n",
       "      <td>NaN</td>\n",
       "      <td>NaN</td>\n",
       "      <td>NaN</td>\n",
       "      <td>NaN</td>\n",
       "      <td>NaN</td>\n",
       "      <td>NaN</td>\n",
       "      <td>NaN</td>\n",
       "      <td>NaN</td>\n",
       "      <td>NaN</td>\n",
       "      <td>...</td>\n",
       "      <td>NaN</td>\n",
       "      <td>NaN</td>\n",
       "      <td>NaN</td>\n",
       "      <td>NaN</td>\n",
       "      <td>NaN</td>\n",
       "      <td>NaN</td>\n",
       "      <td>NaN</td>\n",
       "      <td>NaN</td>\n",
       "      <td>NaN</td>\n",
       "      <td>NaN</td>\n",
       "    </tr>\n",
       "    <tr>\n",
       "      <th>6</th>\n",
       "      <td>NaN</td>\n",
       "      <td>NaN</td>\n",
       "      <td>NaN</td>\n",
       "      <td>NaN</td>\n",
       "      <td>NaN</td>\n",
       "      <td>NaN</td>\n",
       "      <td>NaN</td>\n",
       "      <td>NaN</td>\n",
       "      <td>NaN</td>\n",
       "      <td>NaN</td>\n",
       "      <td>...</td>\n",
       "      <td>NaN</td>\n",
       "      <td>NaN</td>\n",
       "      <td>NaN</td>\n",
       "      <td>NaN</td>\n",
       "      <td>NaN</td>\n",
       "      <td>NaN</td>\n",
       "      <td>NaN</td>\n",
       "      <td>NaN</td>\n",
       "      <td>NaN</td>\n",
       "      <td>NaN</td>\n",
       "    </tr>\n",
       "    <tr>\n",
       "      <th>7</th>\n",
       "      <td>NaN</td>\n",
       "      <td>NaN</td>\n",
       "      <td>NaN</td>\n",
       "      <td>NaN</td>\n",
       "      <td>NaN</td>\n",
       "      <td>NaN</td>\n",
       "      <td>NaN</td>\n",
       "      <td>NaN</td>\n",
       "      <td>NaN</td>\n",
       "      <td>NaN</td>\n",
       "      <td>...</td>\n",
       "      <td>NaN</td>\n",
       "      <td>NaN</td>\n",
       "      <td>NaN</td>\n",
       "      <td>NaN</td>\n",
       "      <td>NaN</td>\n",
       "      <td>NaN</td>\n",
       "      <td>NaN</td>\n",
       "      <td>NaN</td>\n",
       "      <td>NaN</td>\n",
       "      <td>NaN</td>\n",
       "    </tr>\n",
       "    <tr>\n",
       "      <th>8</th>\n",
       "      <td>NaN</td>\n",
       "      <td>NaN</td>\n",
       "      <td>NaN</td>\n",
       "      <td>NaN</td>\n",
       "      <td>NaN</td>\n",
       "      <td>NaN</td>\n",
       "      <td>NaN</td>\n",
       "      <td>NaN</td>\n",
       "      <td>NaN</td>\n",
       "      <td>NaN</td>\n",
       "      <td>...</td>\n",
       "      <td>NaN</td>\n",
       "      <td>NaN</td>\n",
       "      <td>NaN</td>\n",
       "      <td>NaN</td>\n",
       "      <td>NaN</td>\n",
       "      <td>NaN</td>\n",
       "      <td>NaN</td>\n",
       "      <td>NaN</td>\n",
       "      <td>NaN</td>\n",
       "      <td>NaN</td>\n",
       "    </tr>\n",
       "  </tbody>\n",
       "</table>\n",
       "<p>5 rows × 19263 columns</p>\n",
       "</div>"
      ],
      "text/plain": [
       "review_profilename  0110x011  03SVTCobra  04101Brewer  05Harley  0beerguy0  \\\n",
       "beer_beerid                                                                  \n",
       "4                        NaN         NaN          NaN       NaN        NaN   \n",
       "5                        NaN         NaN          NaN       NaN        NaN   \n",
       "6                        NaN         NaN          NaN       NaN        NaN   \n",
       "7                        NaN         NaN          NaN       NaN        NaN   \n",
       "8                        NaN         NaN          NaN       NaN        NaN   \n",
       "\n",
       "review_profilename  0runkp0s  0tt0  1000Bottles  1001111  100floods  ...  \\\n",
       "beer_beerid                                                          ...   \n",
       "4                        NaN   NaN          NaN      NaN        NaN  ...   \n",
       "5                        NaN   NaN          NaN      NaN        NaN  ...   \n",
       "6                        NaN   NaN          NaN      NaN        NaN  ...   \n",
       "7                        NaN   NaN          NaN      NaN        NaN  ...   \n",
       "8                        NaN   NaN          NaN      NaN        NaN  ...   \n",
       "\n",
       "review_profilename  zuffenhausen  zuggy9  zulufactor  zwalk8  zwan  \\\n",
       "beer_beerid                                                          \n",
       "4                            NaN     NaN         NaN     NaN   NaN   \n",
       "5                            NaN     NaN         NaN     NaN   NaN   \n",
       "6                            NaN     NaN         NaN     NaN   NaN   \n",
       "7                            NaN     NaN         NaN     NaN   NaN   \n",
       "8                            NaN     NaN         NaN     NaN   NaN   \n",
       "\n",
       "review_profilename  zymurgy4all  zymurgywhiz  zythus  zyzygy  zzajjber  \n",
       "beer_beerid                                                             \n",
       "4                           NaN          NaN     NaN     NaN       NaN  \n",
       "5                           NaN          NaN     NaN     NaN       NaN  \n",
       "6                           NaN          NaN     NaN     NaN       NaN  \n",
       "7                           NaN          NaN     NaN     NaN       NaN  \n",
       "8                           NaN          NaN     NaN     NaN       NaN  \n",
       "\n",
       "[5 rows x 19263 columns]"
      ]
     },
     "execution_count": 59,
     "metadata": {},
     "output_type": "execute_result"
    }
   ],
   "source": [
    "# Here, we're essentially taking the transform of the user-based matrix, so that we're aggregating the data with beers as index\n",
    "# Also, since we're using the adjusted cosine similarity, we'll not be replacing NaN values in the data with 0\n",
    "df_item_based = train.pivot(index='review_profilename', columns='beer_beerid', values='review_overall').T\n",
    "\n",
    "df_item_based.head()"
   ]
  },
  {
   "cell_type": "code",
   "execution_count": 60,
   "metadata": {},
   "outputs": [],
   "source": [
    "# Normalizing the beer rating to have mean at 0\n",
    "mean = np.nanmean(df_item_based, axis=1)\n",
    "df_subtracted = (df_item_based.T-mean).T"
   ]
  },
  {
   "cell_type": "code",
   "execution_count": 61,
   "metadata": {},
   "outputs": [
    {
     "data": {
      "text/html": [
       "<div>\n",
       "<style scoped>\n",
       "    .dataframe tbody tr th:only-of-type {\n",
       "        vertical-align: middle;\n",
       "    }\n",
       "\n",
       "    .dataframe tbody tr th {\n",
       "        vertical-align: top;\n",
       "    }\n",
       "\n",
       "    .dataframe thead th {\n",
       "        text-align: right;\n",
       "    }\n",
       "</style>\n",
       "<table border=\"1\" class=\"dataframe\">\n",
       "  <thead>\n",
       "    <tr style=\"text-align: right;\">\n",
       "      <th>review_profilename</th>\n",
       "      <th>0110x011</th>\n",
       "      <th>03SVTCobra</th>\n",
       "      <th>04101Brewer</th>\n",
       "      <th>05Harley</th>\n",
       "      <th>0beerguy0</th>\n",
       "      <th>0runkp0s</th>\n",
       "      <th>0tt0</th>\n",
       "      <th>1000Bottles</th>\n",
       "      <th>1001111</th>\n",
       "      <th>100floods</th>\n",
       "      <th>...</th>\n",
       "      <th>zuffenhausen</th>\n",
       "      <th>zuggy9</th>\n",
       "      <th>zulufactor</th>\n",
       "      <th>zwalk8</th>\n",
       "      <th>zwan</th>\n",
       "      <th>zymurgy4all</th>\n",
       "      <th>zymurgywhiz</th>\n",
       "      <th>zythus</th>\n",
       "      <th>zyzygy</th>\n",
       "      <th>zzajjber</th>\n",
       "    </tr>\n",
       "    <tr>\n",
       "      <th>beer_beerid</th>\n",
       "      <th></th>\n",
       "      <th></th>\n",
       "      <th></th>\n",
       "      <th></th>\n",
       "      <th></th>\n",
       "      <th></th>\n",
       "      <th></th>\n",
       "      <th></th>\n",
       "      <th></th>\n",
       "      <th></th>\n",
       "      <th></th>\n",
       "      <th></th>\n",
       "      <th></th>\n",
       "      <th></th>\n",
       "      <th></th>\n",
       "      <th></th>\n",
       "      <th></th>\n",
       "      <th></th>\n",
       "      <th></th>\n",
       "      <th></th>\n",
       "      <th></th>\n",
       "    </tr>\n",
       "  </thead>\n",
       "  <tbody>\n",
       "    <tr>\n",
       "      <th>4</th>\n",
       "      <td>NaN</td>\n",
       "      <td>NaN</td>\n",
       "      <td>NaN</td>\n",
       "      <td>NaN</td>\n",
       "      <td>NaN</td>\n",
       "      <td>NaN</td>\n",
       "      <td>NaN</td>\n",
       "      <td>NaN</td>\n",
       "      <td>NaN</td>\n",
       "      <td>NaN</td>\n",
       "      <td>...</td>\n",
       "      <td>NaN</td>\n",
       "      <td>NaN</td>\n",
       "      <td>NaN</td>\n",
       "      <td>NaN</td>\n",
       "      <td>NaN</td>\n",
       "      <td>NaN</td>\n",
       "      <td>NaN</td>\n",
       "      <td>NaN</td>\n",
       "      <td>NaN</td>\n",
       "      <td>NaN</td>\n",
       "    </tr>\n",
       "    <tr>\n",
       "      <th>5</th>\n",
       "      <td>NaN</td>\n",
       "      <td>NaN</td>\n",
       "      <td>NaN</td>\n",
       "      <td>NaN</td>\n",
       "      <td>NaN</td>\n",
       "      <td>NaN</td>\n",
       "      <td>NaN</td>\n",
       "      <td>NaN</td>\n",
       "      <td>NaN</td>\n",
       "      <td>NaN</td>\n",
       "      <td>...</td>\n",
       "      <td>NaN</td>\n",
       "      <td>NaN</td>\n",
       "      <td>NaN</td>\n",
       "      <td>NaN</td>\n",
       "      <td>NaN</td>\n",
       "      <td>NaN</td>\n",
       "      <td>NaN</td>\n",
       "      <td>NaN</td>\n",
       "      <td>NaN</td>\n",
       "      <td>NaN</td>\n",
       "    </tr>\n",
       "    <tr>\n",
       "      <th>6</th>\n",
       "      <td>NaN</td>\n",
       "      <td>NaN</td>\n",
       "      <td>NaN</td>\n",
       "      <td>NaN</td>\n",
       "      <td>NaN</td>\n",
       "      <td>NaN</td>\n",
       "      <td>NaN</td>\n",
       "      <td>NaN</td>\n",
       "      <td>NaN</td>\n",
       "      <td>NaN</td>\n",
       "      <td>...</td>\n",
       "      <td>NaN</td>\n",
       "      <td>NaN</td>\n",
       "      <td>NaN</td>\n",
       "      <td>NaN</td>\n",
       "      <td>NaN</td>\n",
       "      <td>NaN</td>\n",
       "      <td>NaN</td>\n",
       "      <td>NaN</td>\n",
       "      <td>NaN</td>\n",
       "      <td>NaN</td>\n",
       "    </tr>\n",
       "    <tr>\n",
       "      <th>7</th>\n",
       "      <td>NaN</td>\n",
       "      <td>NaN</td>\n",
       "      <td>NaN</td>\n",
       "      <td>NaN</td>\n",
       "      <td>NaN</td>\n",
       "      <td>NaN</td>\n",
       "      <td>NaN</td>\n",
       "      <td>NaN</td>\n",
       "      <td>NaN</td>\n",
       "      <td>NaN</td>\n",
       "      <td>...</td>\n",
       "      <td>NaN</td>\n",
       "      <td>NaN</td>\n",
       "      <td>NaN</td>\n",
       "      <td>NaN</td>\n",
       "      <td>NaN</td>\n",
       "      <td>NaN</td>\n",
       "      <td>NaN</td>\n",
       "      <td>NaN</td>\n",
       "      <td>NaN</td>\n",
       "      <td>NaN</td>\n",
       "    </tr>\n",
       "    <tr>\n",
       "      <th>8</th>\n",
       "      <td>NaN</td>\n",
       "      <td>NaN</td>\n",
       "      <td>NaN</td>\n",
       "      <td>NaN</td>\n",
       "      <td>NaN</td>\n",
       "      <td>NaN</td>\n",
       "      <td>NaN</td>\n",
       "      <td>NaN</td>\n",
       "      <td>NaN</td>\n",
       "      <td>NaN</td>\n",
       "      <td>...</td>\n",
       "      <td>NaN</td>\n",
       "      <td>NaN</td>\n",
       "      <td>NaN</td>\n",
       "      <td>NaN</td>\n",
       "      <td>NaN</td>\n",
       "      <td>NaN</td>\n",
       "      <td>NaN</td>\n",
       "      <td>NaN</td>\n",
       "      <td>NaN</td>\n",
       "      <td>NaN</td>\n",
       "    </tr>\n",
       "  </tbody>\n",
       "</table>\n",
       "<p>5 rows × 19263 columns</p>\n",
       "</div>"
      ],
      "text/plain": [
       "review_profilename  0110x011  03SVTCobra  04101Brewer  05Harley  0beerguy0  \\\n",
       "beer_beerid                                                                  \n",
       "4                        NaN         NaN          NaN       NaN        NaN   \n",
       "5                        NaN         NaN          NaN       NaN        NaN   \n",
       "6                        NaN         NaN          NaN       NaN        NaN   \n",
       "7                        NaN         NaN          NaN       NaN        NaN   \n",
       "8                        NaN         NaN          NaN       NaN        NaN   \n",
       "\n",
       "review_profilename  0runkp0s  0tt0  1000Bottles  1001111  100floods  ...  \\\n",
       "beer_beerid                                                          ...   \n",
       "4                        NaN   NaN          NaN      NaN        NaN  ...   \n",
       "5                        NaN   NaN          NaN      NaN        NaN  ...   \n",
       "6                        NaN   NaN          NaN      NaN        NaN  ...   \n",
       "7                        NaN   NaN          NaN      NaN        NaN  ...   \n",
       "8                        NaN   NaN          NaN      NaN        NaN  ...   \n",
       "\n",
       "review_profilename  zuffenhausen  zuggy9  zulufactor  zwalk8  zwan  \\\n",
       "beer_beerid                                                          \n",
       "4                            NaN     NaN         NaN     NaN   NaN   \n",
       "5                            NaN     NaN         NaN     NaN   NaN   \n",
       "6                            NaN     NaN         NaN     NaN   NaN   \n",
       "7                            NaN     NaN         NaN     NaN   NaN   \n",
       "8                            NaN     NaN         NaN     NaN   NaN   \n",
       "\n",
       "review_profilename  zymurgy4all  zymurgywhiz  zythus  zyzygy  zzajjber  \n",
       "beer_beerid                                                             \n",
       "4                           NaN          NaN     NaN     NaN       NaN  \n",
       "5                           NaN          NaN     NaN     NaN       NaN  \n",
       "6                           NaN          NaN     NaN     NaN       NaN  \n",
       "7                           NaN          NaN     NaN     NaN       NaN  \n",
       "8                           NaN          NaN     NaN     NaN       NaN  \n",
       "\n",
       "[5 rows x 19263 columns]"
      ]
     },
     "execution_count": 61,
     "metadata": {},
     "output_type": "execute_result"
    }
   ],
   "source": [
    "df_subtracted.head()"
   ]
  },
  {
   "cell_type": "code",
   "execution_count": 62,
   "metadata": {},
   "outputs": [
    {
     "name": "stdout",
     "output_type": "stream",
     "text": [
      "[[1.00000000e+00 0.00000000e+00 0.00000000e+00 ... 0.00000000e+00\n",
      "  0.00000000e+00 0.00000000e+00]\n",
      " [0.00000000e+00 1.00000000e+00 1.85190394e-02 ... 0.00000000e+00\n",
      "  0.00000000e+00 2.43997894e-04]\n",
      " [0.00000000e+00 1.85190394e-02 1.00000000e+00 ... 0.00000000e+00\n",
      "  1.22271299e-02 0.00000000e+00]\n",
      " ...\n",
      " [0.00000000e+00 0.00000000e+00 0.00000000e+00 ... 1.00000000e+00\n",
      "  0.00000000e+00 0.00000000e+00]\n",
      " [0.00000000e+00 0.00000000e+00 1.22271299e-02 ... 0.00000000e+00\n",
      "  1.00000000e+00 0.00000000e+00]\n",
      " [0.00000000e+00 2.43997894e-04 0.00000000e+00 ... 0.00000000e+00\n",
      "  0.00000000e+00 1.00000000e+00]]\n"
     ]
    }
   ],
   "source": [
    "# Finding the Cosine Similarity\n",
    "from sklearn.metrics.pairwise import pairwise_distances\n",
    "\n",
    "# Item Similarity Matrix\n",
    "item_correlation = 1 - pairwise_distances(df_subtracted.fillna(0), metric='cosine')\n",
    "item_correlation[np.isnan(item_correlation)] = 0\n",
    "print(item_correlation)"
   ]
  },
  {
   "cell_type": "markdown",
   "metadata": {},
   "source": [
    "Preditions"
   ]
  },
  {
   "cell_type": "code",
   "execution_count": 63,
   "metadata": {},
   "outputs": [
    {
     "data": {
      "text/plain": [
       "array([[1.00000000e+00, 0.00000000e+00, 0.00000000e+00, ...,\n",
       "        0.00000000e+00, 0.00000000e+00, 0.00000000e+00],\n",
       "       [0.00000000e+00, 1.00000000e+00, 1.85190394e-02, ...,\n",
       "        0.00000000e+00, 0.00000000e+00, 2.43997894e-04],\n",
       "       [0.00000000e+00, 1.85190394e-02, 1.00000000e+00, ...,\n",
       "        0.00000000e+00, 1.22271299e-02, 0.00000000e+00],\n",
       "       ...,\n",
       "       [0.00000000e+00, 0.00000000e+00, 0.00000000e+00, ...,\n",
       "        1.00000000e+00, 0.00000000e+00, 0.00000000e+00],\n",
       "       [0.00000000e+00, 0.00000000e+00, 1.22271299e-02, ...,\n",
       "        0.00000000e+00, 1.00000000e+00, 0.00000000e+00],\n",
       "       [0.00000000e+00, 2.43997894e-04, 0.00000000e+00, ...,\n",
       "        0.00000000e+00, 0.00000000e+00, 1.00000000e+00]])"
      ]
     },
     "execution_count": 63,
     "metadata": {},
     "output_type": "execute_result"
    }
   ],
   "source": [
    "# We'll only be considering those items that have a positive correlation with a particular item for the predictions\n",
    "# Because, these are the ones that show some level of similarity (as opposed to the negatively correlated ones)\n",
    "\n",
    "# Therefore, setting all the negatively correlated values to 0\n",
    "item_correlation2 = item_correlation.copy()\n",
    "item_correlation2[item_correlation2<0]=0\n",
    "item_correlation2"
   ]
  },
  {
   "cell_type": "code",
   "execution_count": 64,
   "metadata": {},
   "outputs": [
    {
     "data": {
      "text/plain": [
       "array([[0.        , 0.28688919, 1.50060047, ..., 0.03111519, 0.4490871 ,\n",
       "        0.12786867],\n",
       "       [0.        , 0.        , 0.00546814, ..., 0.        , 0.        ,\n",
       "        0.        ],\n",
       "       [0.        , 0.        , 0.10758335, ..., 0.        , 0.        ,\n",
       "        0.        ],\n",
       "       ...,\n",
       "       [0.        , 0.0490412 , 0.01521743, ..., 0.        , 0.        ,\n",
       "        0.05255958],\n",
       "       [0.34611672, 0.05378556, 0.18785458, ..., 0.11020483, 0.04075263,\n",
       "        0.02861459],\n",
       "       [0.        , 0.03224415, 0.        , ..., 0.        , 0.        ,\n",
       "        0.03622116]])"
      ]
     },
     "execution_count": 64,
     "metadata": {},
     "output_type": "execute_result"
    }
   ],
   "source": [
    "item_predicted_ratings = np.dot((df_item_based.fillna(0).T),item_correlation2)\n",
    "item_predicted_ratings"
   ]
  },
  {
   "cell_type": "code",
   "execution_count": 65,
   "metadata": {},
   "outputs": [
    {
     "name": "stdout",
     "output_type": "stream",
     "text": [
      "(19263, 11071)\n",
      "(19263, 11071)\n"
     ]
    }
   ],
   "source": [
    "print(item_predicted_ratings.shape)\n",
    "print(dummy_train.shape)"
   ]
  },
  {
   "cell_type": "code",
   "execution_count": 66,
   "metadata": {},
   "outputs": [
    {
     "data": {
      "text/html": [
       "<div>\n",
       "<style scoped>\n",
       "    .dataframe tbody tr th:only-of-type {\n",
       "        vertical-align: middle;\n",
       "    }\n",
       "\n",
       "    .dataframe tbody tr th {\n",
       "        vertical-align: top;\n",
       "    }\n",
       "\n",
       "    .dataframe thead th {\n",
       "        text-align: right;\n",
       "    }\n",
       "</style>\n",
       "<table border=\"1\" class=\"dataframe\">\n",
       "  <thead>\n",
       "    <tr style=\"text-align: right;\">\n",
       "      <th>beer_beerid</th>\n",
       "      <th>4</th>\n",
       "      <th>5</th>\n",
       "      <th>6</th>\n",
       "      <th>7</th>\n",
       "      <th>8</th>\n",
       "      <th>9</th>\n",
       "      <th>10</th>\n",
       "      <th>11</th>\n",
       "      <th>12</th>\n",
       "      <th>13</th>\n",
       "      <th>...</th>\n",
       "      <th>75978</th>\n",
       "      <th>76144</th>\n",
       "      <th>76170</th>\n",
       "      <th>76192</th>\n",
       "      <th>76323</th>\n",
       "      <th>76375</th>\n",
       "      <th>76440</th>\n",
       "      <th>76521</th>\n",
       "      <th>76525</th>\n",
       "      <th>76816</th>\n",
       "    </tr>\n",
       "    <tr>\n",
       "      <th>review_profilename</th>\n",
       "      <th></th>\n",
       "      <th></th>\n",
       "      <th></th>\n",
       "      <th></th>\n",
       "      <th></th>\n",
       "      <th></th>\n",
       "      <th></th>\n",
       "      <th></th>\n",
       "      <th></th>\n",
       "      <th></th>\n",
       "      <th></th>\n",
       "      <th></th>\n",
       "      <th></th>\n",
       "      <th></th>\n",
       "      <th></th>\n",
       "      <th></th>\n",
       "      <th></th>\n",
       "      <th></th>\n",
       "      <th></th>\n",
       "      <th></th>\n",
       "      <th></th>\n",
       "    </tr>\n",
       "  </thead>\n",
       "  <tbody>\n",
       "    <tr>\n",
       "      <th>0110x011</th>\n",
       "      <td>0.000000</td>\n",
       "      <td>0.286889</td>\n",
       "      <td>1.500600</td>\n",
       "      <td>1.385790</td>\n",
       "      <td>0.569030</td>\n",
       "      <td>0.265154</td>\n",
       "      <td>0.711439</td>\n",
       "      <td>0.202338</td>\n",
       "      <td>0.726445</td>\n",
       "      <td>0.000000</td>\n",
       "      <td>...</td>\n",
       "      <td>0.0</td>\n",
       "      <td>0.741747</td>\n",
       "      <td>0.000000</td>\n",
       "      <td>1.328527</td>\n",
       "      <td>0.000000</td>\n",
       "      <td>0.000000</td>\n",
       "      <td>0.119377</td>\n",
       "      <td>0.031115</td>\n",
       "      <td>0.449087</td>\n",
       "      <td>0.127869</td>\n",
       "    </tr>\n",
       "    <tr>\n",
       "      <th>03SVTCobra</th>\n",
       "      <td>0.000000</td>\n",
       "      <td>0.000000</td>\n",
       "      <td>0.005468</td>\n",
       "      <td>0.000000</td>\n",
       "      <td>0.000000</td>\n",
       "      <td>0.000000</td>\n",
       "      <td>0.000000</td>\n",
       "      <td>0.000000</td>\n",
       "      <td>0.000000</td>\n",
       "      <td>0.000000</td>\n",
       "      <td>...</td>\n",
       "      <td>0.0</td>\n",
       "      <td>0.000000</td>\n",
       "      <td>0.000000</td>\n",
       "      <td>0.000000</td>\n",
       "      <td>0.000000</td>\n",
       "      <td>0.000000</td>\n",
       "      <td>0.000000</td>\n",
       "      <td>0.000000</td>\n",
       "      <td>0.000000</td>\n",
       "      <td>0.000000</td>\n",
       "    </tr>\n",
       "    <tr>\n",
       "      <th>04101Brewer</th>\n",
       "      <td>0.000000</td>\n",
       "      <td>0.000000</td>\n",
       "      <td>0.107583</td>\n",
       "      <td>0.102808</td>\n",
       "      <td>0.140979</td>\n",
       "      <td>0.000000</td>\n",
       "      <td>0.000000</td>\n",
       "      <td>0.000000</td>\n",
       "      <td>0.000000</td>\n",
       "      <td>0.000000</td>\n",
       "      <td>...</td>\n",
       "      <td>0.0</td>\n",
       "      <td>0.000000</td>\n",
       "      <td>0.000000</td>\n",
       "      <td>0.000000</td>\n",
       "      <td>0.000000</td>\n",
       "      <td>0.000000</td>\n",
       "      <td>0.879519</td>\n",
       "      <td>0.000000</td>\n",
       "      <td>0.000000</td>\n",
       "      <td>0.000000</td>\n",
       "    </tr>\n",
       "    <tr>\n",
       "      <th>05Harley</th>\n",
       "      <td>0.165062</td>\n",
       "      <td>0.546635</td>\n",
       "      <td>1.035755</td>\n",
       "      <td>0.852032</td>\n",
       "      <td>0.896901</td>\n",
       "      <td>0.497129</td>\n",
       "      <td>0.735920</td>\n",
       "      <td>0.505735</td>\n",
       "      <td>0.097681</td>\n",
       "      <td>0.292557</td>\n",
       "      <td>...</td>\n",
       "      <td>0.0</td>\n",
       "      <td>0.870439</td>\n",
       "      <td>0.224297</td>\n",
       "      <td>0.000000</td>\n",
       "      <td>0.527025</td>\n",
       "      <td>0.123420</td>\n",
       "      <td>0.816166</td>\n",
       "      <td>0.105159</td>\n",
       "      <td>0.480958</td>\n",
       "      <td>0.111398</td>\n",
       "    </tr>\n",
       "    <tr>\n",
       "      <th>0beerguy0</th>\n",
       "      <td>0.000000</td>\n",
       "      <td>0.000000</td>\n",
       "      <td>0.278235</td>\n",
       "      <td>0.124724</td>\n",
       "      <td>0.416214</td>\n",
       "      <td>0.016296</td>\n",
       "      <td>0.017037</td>\n",
       "      <td>0.145330</td>\n",
       "      <td>0.108721</td>\n",
       "      <td>0.042709</td>\n",
       "      <td>...</td>\n",
       "      <td>0.0</td>\n",
       "      <td>0.234367</td>\n",
       "      <td>0.049512</td>\n",
       "      <td>0.000000</td>\n",
       "      <td>0.000000</td>\n",
       "      <td>0.146797</td>\n",
       "      <td>0.626690</td>\n",
       "      <td>0.000000</td>\n",
       "      <td>0.000000</td>\n",
       "      <td>0.000000</td>\n",
       "    </tr>\n",
       "  </tbody>\n",
       "</table>\n",
       "<p>5 rows × 11071 columns</p>\n",
       "</div>"
      ],
      "text/plain": [
       "beer_beerid            4         5         6         7         8      \\\n",
       "review_profilename                                                     \n",
       "0110x011            0.000000  0.286889  1.500600  1.385790  0.569030   \n",
       "03SVTCobra          0.000000  0.000000  0.005468  0.000000  0.000000   \n",
       "04101Brewer         0.000000  0.000000  0.107583  0.102808  0.140979   \n",
       "05Harley            0.165062  0.546635  1.035755  0.852032  0.896901   \n",
       "0beerguy0           0.000000  0.000000  0.278235  0.124724  0.416214   \n",
       "\n",
       "beer_beerid            9         10        11        12        13     ...  \\\n",
       "review_profilename                                                    ...   \n",
       "0110x011            0.265154  0.711439  0.202338  0.726445  0.000000  ...   \n",
       "03SVTCobra          0.000000  0.000000  0.000000  0.000000  0.000000  ...   \n",
       "04101Brewer         0.000000  0.000000  0.000000  0.000000  0.000000  ...   \n",
       "05Harley            0.497129  0.735920  0.505735  0.097681  0.292557  ...   \n",
       "0beerguy0           0.016296  0.017037  0.145330  0.108721  0.042709  ...   \n",
       "\n",
       "beer_beerid         75978     76144     76170     76192     76323     76375  \\\n",
       "review_profilename                                                            \n",
       "0110x011              0.0  0.741747  0.000000  1.328527  0.000000  0.000000   \n",
       "03SVTCobra            0.0  0.000000  0.000000  0.000000  0.000000  0.000000   \n",
       "04101Brewer           0.0  0.000000  0.000000  0.000000  0.000000  0.000000   \n",
       "05Harley              0.0  0.870439  0.224297  0.000000  0.527025  0.123420   \n",
       "0beerguy0             0.0  0.234367  0.049512  0.000000  0.000000  0.146797   \n",
       "\n",
       "beer_beerid            76440     76521     76525     76816  \n",
       "review_profilename                                          \n",
       "0110x011            0.119377  0.031115  0.449087  0.127869  \n",
       "03SVTCobra          0.000000  0.000000  0.000000  0.000000  \n",
       "04101Brewer         0.879519  0.000000  0.000000  0.000000  \n",
       "05Harley            0.816166  0.105159  0.480958  0.111398  \n",
       "0beerguy0           0.626690  0.000000  0.000000  0.000000  \n",
       "\n",
       "[5 rows x 11071 columns]"
      ]
     },
     "execution_count": 66,
     "metadata": {},
     "output_type": "execute_result"
    }
   ],
   "source": [
    "# Since we're interested only in users who haven't rated a beer, we'll ignore users who have rated the beer by making it zero\n",
    "item_final_rating = np.multiply(item_predicted_ratings,dummy_train)\n",
    "item_final_rating.head()"
   ]
  },
  {
   "cell_type": "markdown",
   "metadata": {},
   "source": [
    "**Compute and visualise the similarity between the first 10 beers.**"
   ]
  },
  {
   "cell_type": "code",
   "execution_count": 67,
   "metadata": {},
   "outputs": [
    {
     "data": {
      "image/png": "[encoded data removed]",
      "text/plain": [
       "<Figure size 1080x288 with 2 Axes>"
      ]
     },
     "metadata": {},
     "output_type": "display_data"
    }
   ],
   "source": [
    "# To answer the above question, let's use a heat map on the similarity matrix created using the adjust consine similarity metric\n",
    "z_min, z_max = item_correlation[:10, :10].min(), item_correlation[:10, :10].max()\n",
    "\n",
    "import seaborn as sns\n",
    "fig = plt.figure(figsize=(15,4))\n",
    "ax = sns.heatmap(item_correlation[:10, :10], annot=True, cmap='YlGn', vmin=z_min, vmax=z_max)\n",
    "ax.set_xticklabels(dummy_train.columns[:10])\n",
    "ax.set_yticklabels(dummy_train.columns[:10])\n",
    "plt.yticks(rotation=0) \n",
    "\n",
    "plt.show()"
   ]
  },
  {
   "cell_type": "markdown",
   "metadata": {},
   "source": [
    "\n",
    "**Compare the performance of the two models using test data and suggest the one that should be deployed. (Evaluation)**"
   ]
  },
  {
   "cell_type": "markdown",
   "metadata": {},
   "source": [
    "Calculating RMSE for User-Based Model"
   ]
  },
  {
   "cell_type": "code",
   "execution_count": 68,
   "metadata": {},
   "outputs": [
    {
     "name": "stdout",
     "output_type": "stream",
     "text": [
      "[[1. 0. 0. ... 0. 0. 0.]\n",
      " [0. 1. 0. ... 0. 0. 0.]\n",
      " [0. 0. 1. ... 0. 0. 0.]\n",
      " ...\n",
      " [0. 0. 0. ... 1. 0. 0.]\n",
      " [0. 0. 0. ... 0. 1. 0.]\n",
      " [0. 0. 0. ... 0. 0. 1.]]\n"
     ]
    }
   ],
   "source": [
    "df_user_based_test = test.pivot(index='review_profilename', columns='beer_beerid', values='review_overall')\n",
    "\n",
    "mean = np.nanmean(df_user_based_test, axis=1)\n",
    "test_df_subtracted = (df_user_based_test.T-mean).T\n",
    "\n",
    "# User Similarity Matrix\n",
    "test_user_correlation = 1 - pairwise_distances(test_df_subtracted.fillna(0), metric='cosine')\n",
    "test_user_correlation[np.isnan(test_user_correlation)] = 0\n",
    "print(test_user_correlation)"
   ]
  },
  {
   "cell_type": "code",
   "execution_count": 69,
   "metadata": {},
   "outputs": [
    {
     "data": {
      "text/plain": [
       "array([[6.83295226e-02, 2.19175416e-02, 8.74058350e-02, ...,\n",
       "        0.00000000e+00, 1.33932228e-01, 6.23798104e-02],\n",
       "       [0.00000000e+00, 0.00000000e+00, 0.00000000e+00, ...,\n",
       "        0.00000000e+00, 0.00000000e+00, 0.00000000e+00],\n",
       "       [6.18336463e-04, 2.44525360e-01, 7.17455984e-01, ...,\n",
       "        3.09963003e-02, 0.00000000e+00, 2.99028631e-01],\n",
       "       ...,\n",
       "       [0.00000000e+00, 1.33317838e-01, 6.34434072e-01, ...,\n",
       "        0.00000000e+00, 0.00000000e+00, 0.00000000e+00],\n",
       "       [0.00000000e+00, 0.00000000e+00, 0.00000000e+00, ...,\n",
       "        0.00000000e+00, 0.00000000e+00, 0.00000000e+00],\n",
       "       [0.00000000e+00, 0.00000000e+00, 0.00000000e+00, ...,\n",
       "        0.00000000e+00, 0.00000000e+00, 0.00000000e+00]])"
      ]
     },
     "execution_count": 69,
     "metadata": {},
     "output_type": "execute_result"
    }
   ],
   "source": [
    "# Setting all the negatively correlated values to 0 as these don't depict any similarity\n",
    "test_user_correlation[test_user_correlation<0]=0\n",
    "\n",
    "test_user_predicted_ratings = np.dot(test_user_correlation, df_user_based_test.fillna(0))\n",
    "test_user_predicted_ratings"
   ]
  },
  {
   "cell_type": "code",
   "execution_count": 70,
   "metadata": {},
   "outputs": [],
   "source": [
    "# Predictions for the beers already rated by the users\n",
    "test_user_final_rating = np.multiply(test_user_predicted_ratings,dummy_test)"
   ]
  },
  {
   "cell_type": "code",
   "execution_count": 71,
   "metadata": {},
   "outputs": [
    {
     "name": "stdout",
     "output_type": "stream",
     "text": [
      "MinMaxScaler(copy=True, feature_range=(0, 5))\n",
      "[[0. 0. 0. ... 0. 0. 0.]\n",
      " [0. 0. 0. ... 0. 0. 0.]\n",
      " [0. 0. 0. ... 0. 0. 0.]\n",
      " ...\n",
      " [0. 0. 0. ... 0. 0. 0.]\n",
      " [0. 0. 0. ... 0. 0. 0.]\n",
      " [0. 0. 0. ... 0. 0. 0.]]\n"
     ]
    }
   ],
   "source": [
    "# Calculating the RMSE for only the beers rated by the user. For RMSE, let's normalise the rating to (0,5) range\n",
    "from sklearn.preprocessing import MinMaxScaler\n",
    "from numpy import *\n",
    "\n",
    "X  = test_user_final_rating.copy() \n",
    "\n",
    "scaler = MinMaxScaler(feature_range=(0, 5))\n",
    "print(scaler.fit(X))\n",
    "y = (scaler.transform(X))\n",
    "\n",
    "print(y)"
   ]
  },
  {
   "cell_type": "code",
   "execution_count": 72,
   "metadata": {},
   "outputs": [],
   "source": [
    "test_ = test.pivot(index='review_profilename', columns='beer_beerid', values='review_overall')"
   ]
  },
  {
   "cell_type": "code",
   "execution_count": 73,
   "metadata": {},
   "outputs": [],
   "source": [
    "# Finding total non-NaN value\n",
    "total_non_nan = np.count_nonzero(y)"
   ]
  },
  {
   "cell_type": "code",
   "execution_count": 74,
   "metadata": {},
   "outputs": [
    {
     "name": "stdout",
     "output_type": "stream",
     "text": [
      "1.82\n"
     ]
    }
   ],
   "source": [
    "# Calculating RMSE of the user-based model\n",
    "rmse = (sum(sum((test_ - y )**2))/total_non_nan)**0.5\n",
    "print(round(rmse,2))"
   ]
  },
  {
   "cell_type": "markdown",
   "metadata": {},
   "source": [
    "Calculating RMSE for Item-based model"
   ]
  },
  {
   "cell_type": "code",
   "execution_count": 75,
   "metadata": {},
   "outputs": [
    {
     "name": "stdout",
     "output_type": "stream",
     "text": [
      "[[1.         0.         0.         ... 0.         0.         0.        ]\n",
      " [0.         1.         0.01050951 ... 0.         0.         0.        ]\n",
      " [0.         0.01050951 1.         ... 0.         0.         0.        ]\n",
      " ...\n",
      " [0.         0.         0.         ... 1.         0.         0.        ]\n",
      " [0.         0.         0.         ... 0.         1.         0.33949509]\n",
      " [0.         0.         0.         ... 0.         0.33949509 1.        ]]\n"
     ]
    }
   ],
   "source": [
    "df_item_based_test = test.pivot(index='review_profilename', columns='beer_beerid', values='review_overall').T\n",
    "\n",
    "mean = np.nanmean(df_item_based_test, axis=1)\n",
    "test_df_subtracted = (df_item_based_test.T-mean).T\n",
    "\n",
    "# User Similarity Matrix\n",
    "test_item_correlation = 1 - pairwise_distances(test_df_subtracted.fillna(0), metric='cosine')\n",
    "test_item_correlation[np.isnan(test_item_correlation)] = 0\n",
    "print(test_item_correlation)"
   ]
  },
  {
   "cell_type": "code",
   "execution_count": 76,
   "metadata": {},
   "outputs": [
    {
     "data": {
      "text/plain": [
       "array([[3.26048437e-01, 2.03571741e-01, 3.45361517e-02, ...,\n",
       "        0.00000000e+00, 2.75578732e-04, 0.00000000e+00],\n",
       "       [0.00000000e+00, 0.00000000e+00, 0.00000000e+00, ...,\n",
       "        0.00000000e+00, 0.00000000e+00, 0.00000000e+00],\n",
       "       [0.00000000e+00, 0.00000000e+00, 4.51242027e-02, ...,\n",
       "        0.00000000e+00, 0.00000000e+00, 0.00000000e+00],\n",
       "       ...,\n",
       "       [0.00000000e+00, 0.00000000e+00, 1.42588858e-01, ...,\n",
       "        0.00000000e+00, 0.00000000e+00, 0.00000000e+00],\n",
       "       [0.00000000e+00, 0.00000000e+00, 1.96194359e-02, ...,\n",
       "        0.00000000e+00, 0.00000000e+00, 0.00000000e+00],\n",
       "       [0.00000000e+00, 0.00000000e+00, 0.00000000e+00, ...,\n",
       "        0.00000000e+00, 0.00000000e+00, 0.00000000e+00]])"
      ]
     },
     "execution_count": 76,
     "metadata": {},
     "output_type": "execute_result"
    }
   ],
   "source": [
    "# Setting all the negatively correlated values to 0 as these don't depict any similarity\n",
    "test_item_correlation[test_item_correlation<0]=0\n",
    "\n",
    "test_item_predicted_ratings = np.dot(test_item_correlation, df_item_based_test.fillna(0)).T\n",
    "test_item_predicted_ratings"
   ]
  },
  {
   "cell_type": "code",
   "execution_count": 77,
   "metadata": {},
   "outputs": [],
   "source": [
    "# Predictions for the users that gave a rating\n",
    "test_item_final_rating = np.multiply(test_item_predicted_ratings,dummy_test)"
   ]
  },
  {
   "cell_type": "code",
   "execution_count": 78,
   "metadata": {},
   "outputs": [
    {
     "data": {
      "text/html": [
       "<div>\n",
       "<style scoped>\n",
       "    .dataframe tbody tr th:only-of-type {\n",
       "        vertical-align: middle;\n",
       "    }\n",
       "\n",
       "    .dataframe tbody tr th {\n",
       "        vertical-align: top;\n",
       "    }\n",
       "\n",
       "    .dataframe thead th {\n",
       "        text-align: right;\n",
       "    }\n",
       "</style>\n",
       "<table border=\"1\" class=\"dataframe\">\n",
       "  <thead>\n",
       "    <tr style=\"text-align: right;\">\n",
       "      <th>beer_beerid</th>\n",
       "      <th>4</th>\n",
       "      <th>5</th>\n",
       "      <th>6</th>\n",
       "      <th>7</th>\n",
       "      <th>8</th>\n",
       "      <th>9</th>\n",
       "      <th>10</th>\n",
       "      <th>11</th>\n",
       "      <th>12</th>\n",
       "      <th>13</th>\n",
       "      <th>...</th>\n",
       "      <th>75978</th>\n",
       "      <th>76144</th>\n",
       "      <th>76170</th>\n",
       "      <th>76192</th>\n",
       "      <th>76323</th>\n",
       "      <th>76375</th>\n",
       "      <th>76440</th>\n",
       "      <th>76521</th>\n",
       "      <th>76525</th>\n",
       "      <th>76816</th>\n",
       "    </tr>\n",
       "    <tr>\n",
       "      <th>review_profilename</th>\n",
       "      <th></th>\n",
       "      <th></th>\n",
       "      <th></th>\n",
       "      <th></th>\n",
       "      <th></th>\n",
       "      <th></th>\n",
       "      <th></th>\n",
       "      <th></th>\n",
       "      <th></th>\n",
       "      <th></th>\n",
       "      <th></th>\n",
       "      <th></th>\n",
       "      <th></th>\n",
       "      <th></th>\n",
       "      <th></th>\n",
       "      <th></th>\n",
       "      <th></th>\n",
       "      <th></th>\n",
       "      <th></th>\n",
       "      <th></th>\n",
       "      <th></th>\n",
       "    </tr>\n",
       "  </thead>\n",
       "  <tbody>\n",
       "    <tr>\n",
       "      <th>0110x011</th>\n",
       "      <td>0.0</td>\n",
       "      <td>0.0</td>\n",
       "      <td>0.0</td>\n",
       "      <td>0.0</td>\n",
       "      <td>0.0</td>\n",
       "      <td>0.0</td>\n",
       "      <td>0.0</td>\n",
       "      <td>0.0</td>\n",
       "      <td>0.0</td>\n",
       "      <td>0.0</td>\n",
       "      <td>...</td>\n",
       "      <td>0.0</td>\n",
       "      <td>0.0</td>\n",
       "      <td>0.0</td>\n",
       "      <td>0.0</td>\n",
       "      <td>0.0</td>\n",
       "      <td>0.0</td>\n",
       "      <td>0.0</td>\n",
       "      <td>0.0</td>\n",
       "      <td>0.0</td>\n",
       "      <td>0.0</td>\n",
       "    </tr>\n",
       "    <tr>\n",
       "      <th>01Ryan10</th>\n",
       "      <td>0.0</td>\n",
       "      <td>0.0</td>\n",
       "      <td>0.0</td>\n",
       "      <td>0.0</td>\n",
       "      <td>0.0</td>\n",
       "      <td>0.0</td>\n",
       "      <td>0.0</td>\n",
       "      <td>0.0</td>\n",
       "      <td>0.0</td>\n",
       "      <td>0.0</td>\n",
       "      <td>...</td>\n",
       "      <td>0.0</td>\n",
       "      <td>0.0</td>\n",
       "      <td>0.0</td>\n",
       "      <td>0.0</td>\n",
       "      <td>0.0</td>\n",
       "      <td>0.0</td>\n",
       "      <td>0.0</td>\n",
       "      <td>0.0</td>\n",
       "      <td>0.0</td>\n",
       "      <td>0.0</td>\n",
       "    </tr>\n",
       "    <tr>\n",
       "      <th>05Harley</th>\n",
       "      <td>0.0</td>\n",
       "      <td>0.0</td>\n",
       "      <td>0.0</td>\n",
       "      <td>0.0</td>\n",
       "      <td>0.0</td>\n",
       "      <td>0.0</td>\n",
       "      <td>0.0</td>\n",
       "      <td>0.0</td>\n",
       "      <td>0.0</td>\n",
       "      <td>0.0</td>\n",
       "      <td>...</td>\n",
       "      <td>0.0</td>\n",
       "      <td>0.0</td>\n",
       "      <td>0.0</td>\n",
       "      <td>0.0</td>\n",
       "      <td>0.0</td>\n",
       "      <td>0.0</td>\n",
       "      <td>0.0</td>\n",
       "      <td>0.0</td>\n",
       "      <td>0.0</td>\n",
       "      <td>0.0</td>\n",
       "    </tr>\n",
       "    <tr>\n",
       "      <th>0tt0</th>\n",
       "      <td>0.0</td>\n",
       "      <td>0.0</td>\n",
       "      <td>0.0</td>\n",
       "      <td>0.0</td>\n",
       "      <td>0.0</td>\n",
       "      <td>0.0</td>\n",
       "      <td>0.0</td>\n",
       "      <td>0.0</td>\n",
       "      <td>0.0</td>\n",
       "      <td>0.0</td>\n",
       "      <td>...</td>\n",
       "      <td>0.0</td>\n",
       "      <td>0.0</td>\n",
       "      <td>0.0</td>\n",
       "      <td>0.0</td>\n",
       "      <td>0.0</td>\n",
       "      <td>0.0</td>\n",
       "      <td>0.0</td>\n",
       "      <td>0.0</td>\n",
       "      <td>0.0</td>\n",
       "      <td>0.0</td>\n",
       "    </tr>\n",
       "    <tr>\n",
       "      <th>1001111</th>\n",
       "      <td>0.0</td>\n",
       "      <td>0.0</td>\n",
       "      <td>0.0</td>\n",
       "      <td>0.0</td>\n",
       "      <td>0.0</td>\n",
       "      <td>0.0</td>\n",
       "      <td>0.0</td>\n",
       "      <td>0.0</td>\n",
       "      <td>0.0</td>\n",
       "      <td>0.0</td>\n",
       "      <td>...</td>\n",
       "      <td>0.0</td>\n",
       "      <td>0.0</td>\n",
       "      <td>0.0</td>\n",
       "      <td>0.0</td>\n",
       "      <td>0.0</td>\n",
       "      <td>0.0</td>\n",
       "      <td>0.0</td>\n",
       "      <td>0.0</td>\n",
       "      <td>0.0</td>\n",
       "      <td>0.0</td>\n",
       "    </tr>\n",
       "  </tbody>\n",
       "</table>\n",
       "<p>5 rows × 10589 columns</p>\n",
       "</div>"
      ],
      "text/plain": [
       "beer_beerid         4      5      6      7      8      9      10     11     \\\n",
       "review_profilename                                                           \n",
       "0110x011              0.0    0.0    0.0    0.0    0.0    0.0    0.0    0.0   \n",
       "01Ryan10              0.0    0.0    0.0    0.0    0.0    0.0    0.0    0.0   \n",
       "05Harley              0.0    0.0    0.0    0.0    0.0    0.0    0.0    0.0   \n",
       "0tt0                  0.0    0.0    0.0    0.0    0.0    0.0    0.0    0.0   \n",
       "1001111               0.0    0.0    0.0    0.0    0.0    0.0    0.0    0.0   \n",
       "\n",
       "beer_beerid         12     13     ...  75978  76144  76170  76192  76323  \\\n",
       "review_profilename                ...                                      \n",
       "0110x011              0.0    0.0  ...    0.0    0.0    0.0    0.0    0.0   \n",
       "01Ryan10              0.0    0.0  ...    0.0    0.0    0.0    0.0    0.0   \n",
       "05Harley              0.0    0.0  ...    0.0    0.0    0.0    0.0    0.0   \n",
       "0tt0                  0.0    0.0  ...    0.0    0.0    0.0    0.0    0.0   \n",
       "1001111               0.0    0.0  ...    0.0    0.0    0.0    0.0    0.0   \n",
       "\n",
       "beer_beerid         76375  76440  76521  76525  76816  \n",
       "review_profilename                                     \n",
       "0110x011              0.0    0.0    0.0    0.0    0.0  \n",
       "01Ryan10              0.0    0.0    0.0    0.0    0.0  \n",
       "05Harley              0.0    0.0    0.0    0.0    0.0  \n",
       "0tt0                  0.0    0.0    0.0    0.0    0.0  \n",
       "1001111               0.0    0.0    0.0    0.0    0.0  \n",
       "\n",
       "[5 rows x 10589 columns]"
      ]
     },
     "execution_count": 78,
     "metadata": {},
     "output_type": "execute_result"
    }
   ],
   "source": [
    "test_item_final_rating.head()"
   ]
  },
  {
   "cell_type": "code",
   "execution_count": 79,
   "metadata": {},
   "outputs": [
    {
     "name": "stdout",
     "output_type": "stream",
     "text": [
      "MinMaxScaler(copy=True, feature_range=(0, 5))\n",
      "[[0. 0. 0. ... 0. 0. 0.]\n",
      " [0. 0. 0. ... 0. 0. 0.]\n",
      " [0. 0. 0. ... 0. 0. 0.]\n",
      " ...\n",
      " [0. 0. 0. ... 0. 0. 0.]\n",
      " [0. 0. 0. ... 0. 0. 0.]\n",
      " [0. 0. 0. ... 0. 0. 0.]]\n"
     ]
    }
   ],
   "source": [
    "# Calculating the RMSE for only the users that rated for beers. For RMSE, let's normalise the rating to (0,5) range\n",
    "from sklearn.preprocessing import MinMaxScaler\n",
    "from numpy import *\n",
    "\n",
    "X  = test_item_final_rating.copy() \n",
    "\n",
    "scaler = MinMaxScaler(feature_range=(0, 5))\n",
    "print(scaler.fit(X))\n",
    "y = (scaler.transform(X))\n",
    "\n",
    "print(y)"
   ]
  },
  {
   "cell_type": "code",
   "execution_count": 80,
   "metadata": {},
   "outputs": [],
   "source": [
    "test2_ = test.pivot(index='review_profilename', columns='beer_beerid', values='review_overall')"
   ]
  },
  {
   "cell_type": "code",
   "execution_count": 81,
   "metadata": {},
   "outputs": [],
   "source": [
    "# Finding total non-NaN value\n",
    "total_non_nan = np.count_nonzero(y)"
   ]
  },
  {
   "cell_type": "code",
   "execution_count": 82,
   "metadata": {},
   "outputs": [
    {
     "name": "stdout",
     "output_type": "stream",
     "text": [
      "2.5\n"
     ]
    }
   ],
   "source": [
    "# Calculating RMSE of the user-based model\n",
    "rmse = (sum(sum((test2_ - y )**2))/total_non_nan)**0.5\n",
    "print(round(rmse,2))"
   ]
  },
  {
   "cell_type": "markdown",
   "metadata": {},
   "source": [
    "We can see that the User-Based Collaborative Filtering model performed better than the Item-Based one when considering the rmse.\n",
    "- The RMSE for the User-based model was 1.82\n",
    "- The RMSE for the Item-based model was 2.5"
   ]
  },
  {
   "cell_type": "markdown",
   "metadata": {},
   "source": [
    "**Give the names of the top 5 beers that you would recommend to the users 'cokes', 'genog' and 'giblet' using both the models.**"
   ]
  },
  {
   "cell_type": "code",
   "execution_count": 83,
   "metadata": {},
   "outputs": [
    {
     "name": "stdout",
     "output_type": "stream",
     "text": [
      "Top 5 beers to recommend using our User-Based Model to cokes\n",
      "beer_beerid\n",
      "1093    25.274568\n",
      "412     25.246517\n",
      "92      24.321427\n",
      "276     24.111357\n",
      "1904    24.003248\n",
      "Name: cokes, dtype: float64\n",
      "\n",
      "\n",
      "Top 5 beers to recommend using our User-Based Model to genog\n",
      "beer_beerid\n",
      "2093    32.842668\n",
      "1093    32.263179\n",
      "4083    29.814257\n",
      "412     29.430562\n",
      "1013    26.725405\n",
      "Name: genog, dtype: float64\n",
      "\n",
      "\n",
      "Top 5 beers to recommend using our User-Based Model to giblet\n",
      "beer_beerid\n",
      "412     43.343257\n",
      "2093    42.653815\n",
      "1904    40.723405\n",
      "355     40.330353\n",
      "1708    37.576957\n",
      "Name: giblet, dtype: float64\n",
      "\n",
      "\n"
     ]
    }
   ],
   "source": [
    "# Top 5 beers to recommend to the mentioned users using the User Based Model\n",
    "user_final_rating_final = user_final_rating.reset_index()\n",
    "\n",
    "users = ['cokes', 'genog', 'giblet']\n",
    "\n",
    "for i in users:\n",
    "    index_flag = user_final_rating_final.loc[user_final_rating_final['review_profilename']==i, :].index[0]\n",
    "    print('Top 5 beers to recommend using our User-Based Model to', i)\n",
    "    print(user_final_rating.iloc[index_flag].sort_values(ascending=False)[0:5])\n",
    "    print('\\n')\n"
   ]
  },
  {
   "cell_type": "code",
   "execution_count": 84,
   "metadata": {},
   "outputs": [
    {
     "name": "stdout",
     "output_type": "stream",
     "text": [
      "Top 5 beers to recommend using our Item-Based Model to cokes\n",
      "beer_beerid\n",
      "1129     20.891205\n",
      "7033     20.663289\n",
      "12335    20.160433\n",
      "31196    19.889658\n",
      "9490     19.425756\n",
      "Name: cokes, dtype: float64\n",
      "\n",
      "\n",
      "Top 5 beers to recommend using our Item-Based Model to genog\n",
      "beer_beerid\n",
      "36014    6.445937\n",
      "1913     5.876540\n",
      "46407    5.672334\n",
      "41008    5.636992\n",
      "44951    5.556025\n",
      "Name: genog, dtype: float64\n",
      "\n",
      "\n",
      "Top 5 beers to recommend using our Item-Based Model to giblet\n",
      "beer_beerid\n",
      "36014    6.672341\n",
      "25590    6.131726\n",
      "5154     6.033492\n",
      "22139    5.711136\n",
      "844      5.673259\n",
      "Name: giblet, dtype: float64\n",
      "\n",
      "\n"
     ]
    }
   ],
   "source": [
    "# Top 5 beers to recommend to the mentioned users using the Item Based Model\n",
    "# Top 5 beers to recommend to the mentioned users using the User Based Model\n",
    "item_final_rating_final = item_final_rating.reset_index()\n",
    "\n",
    "users = ['cokes', 'genog', 'giblet']\n",
    "\n",
    "for i in users:\n",
    "    index_flag = item_final_rating_final.loc[item_final_rating_final['review_profilename']==i, :].index[0]\n",
    "    print('Top 5 beers to recommend using our Item-Based Model to', i)\n",
    "    print(item_final_rating.iloc[index_flag].sort_values(ascending=False)[0:5])\n",
    "    print('\\n')\n"
   ]
  },
  {
   "cell_type": "code",
   "execution_count": null,
   "metadata": {},
   "outputs": [],
   "source": []
  }
 ],
 "metadata": {
  "kernelspec": {
   "display_name": "Python 3",
   "language": "python",
   "name": "python3"
  },
  "language_info": {
   "codemirror_mode": {
    "name": "ipython",
    "version": 3
   },
   "file_extension": ".py",
   "mimetype": "text/x-python",
   "name": "python",
   "nbconvert_exporter": "python",
   "pygments_lexer": "ipython3",
   "version": "3.6.5"
  }
 },
 "nbformat": 4,
 "nbformat_minor": 2
}
