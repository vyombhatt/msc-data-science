{
 "cells": [
  {
   "cell_type": "code",
   "execution_count": 603,
   "metadata": {},
   "outputs": [],
   "source": [
    "# Supress Warnings\n",
    "import warnings\n",
    "warnings.filterwarnings('ignore')\n",
    "\n",
    "# Import the numpy and pandas packages\n",
    "import numpy as np\n",
    "import pandas as pd\n",
    "import seaborn as sns\n",
    "import matplotlib.pyplot as plt\n",
    "from datetime import timedelta"
   ]
  },
  {
   "cell_type": "markdown",
   "metadata": {},
   "source": [
    "#### Load and inspect the dataframe"
   ]
  },
  {
   "cell_type": "code",
   "execution_count": 604,
   "metadata": {},
   "outputs": [],
   "source": [
    "uber_data = pd.read_csv(\"Uber Request Data.csv\")"
   ]
  },
  {
   "cell_type": "code",
   "execution_count": 605,
   "metadata": {},
   "outputs": [
    {
     "data": {
      "text/html": [
       "<div>\n",
       "<style scoped>\n",
       "    .dataframe tbody tr th:only-of-type {\n",
       "        vertical-align: middle;\n",
       "    }\n",
       "\n",
       "    .dataframe tbody tr th {\n",
       "        vertical-align: top;\n",
       "    }\n",
       "\n",
       "    .dataframe thead th {\n",
       "        text-align: right;\n",
       "    }\n",
       "</style>\n",
       "<table border=\"1\" class=\"dataframe\">\n",
       "  <thead>\n",
       "    <tr style=\"text-align: right;\">\n",
       "      <th></th>\n",
       "      <th>Request id</th>\n",
       "      <th>Pickup point</th>\n",
       "      <th>Driver id</th>\n",
       "      <th>Status</th>\n",
       "      <th>Request timestamp</th>\n",
       "      <th>Drop timestamp</th>\n",
       "    </tr>\n",
       "  </thead>\n",
       "  <tbody>\n",
       "    <tr>\n",
       "      <th>0</th>\n",
       "      <td>619</td>\n",
       "      <td>Airport</td>\n",
       "      <td>1.0</td>\n",
       "      <td>Trip Completed</td>\n",
       "      <td>11/7/2016 11:51</td>\n",
       "      <td>11/7/2016 13:00</td>\n",
       "    </tr>\n",
       "    <tr>\n",
       "      <th>1</th>\n",
       "      <td>867</td>\n",
       "      <td>Airport</td>\n",
       "      <td>1.0</td>\n",
       "      <td>Trip Completed</td>\n",
       "      <td>11/7/2016 17:57</td>\n",
       "      <td>11/7/2016 18:47</td>\n",
       "    </tr>\n",
       "    <tr>\n",
       "      <th>2</th>\n",
       "      <td>1807</td>\n",
       "      <td>City</td>\n",
       "      <td>1.0</td>\n",
       "      <td>Trip Completed</td>\n",
       "      <td>12/7/2016 9:17</td>\n",
       "      <td>12/7/2016 9:58</td>\n",
       "    </tr>\n",
       "    <tr>\n",
       "      <th>3</th>\n",
       "      <td>2532</td>\n",
       "      <td>Airport</td>\n",
       "      <td>1.0</td>\n",
       "      <td>Trip Completed</td>\n",
       "      <td>12/7/2016 21:08</td>\n",
       "      <td>12/7/2016 22:03</td>\n",
       "    </tr>\n",
       "    <tr>\n",
       "      <th>4</th>\n",
       "      <td>3112</td>\n",
       "      <td>City</td>\n",
       "      <td>1.0</td>\n",
       "      <td>Trip Completed</td>\n",
       "      <td>13-07-2016 08:33:16</td>\n",
       "      <td>13-07-2016 09:25:47</td>\n",
       "    </tr>\n",
       "  </tbody>\n",
       "</table>\n",
       "</div>"
      ],
      "text/plain": [
       "   Request id Pickup point  Driver id          Status    Request timestamp  \\\n",
       "0         619      Airport        1.0  Trip Completed      11/7/2016 11:51   \n",
       "1         867      Airport        1.0  Trip Completed      11/7/2016 17:57   \n",
       "2        1807         City        1.0  Trip Completed       12/7/2016 9:17   \n",
       "3        2532      Airport        1.0  Trip Completed      12/7/2016 21:08   \n",
       "4        3112         City        1.0  Trip Completed  13-07-2016 08:33:16   \n",
       "\n",
       "        Drop timestamp  \n",
       "0      11/7/2016 13:00  \n",
       "1      11/7/2016 18:47  \n",
       "2       12/7/2016 9:58  \n",
       "3      12/7/2016 22:03  \n",
       "4  13-07-2016 09:25:47  "
      ]
     },
     "execution_count": 605,
     "metadata": {},
     "output_type": "execute_result"
    }
   ],
   "source": [
    "uber_data.head()"
   ]
  },
  {
   "cell_type": "code",
   "execution_count": 606,
   "metadata": {},
   "outputs": [
    {
     "name": "stdout",
     "output_type": "stream",
     "text": [
      "(6745, 6)\n",
      "2\n",
      "Request id             int64\n",
      "Pickup point          object\n",
      "Driver id            float64\n",
      "Status                object\n",
      "Request timestamp     object\n",
      "Drop timestamp        object\n",
      "dtype: object\n",
      "        Request id    Driver id\n",
      "count  6745.000000  4095.000000\n",
      "mean   3384.644922   149.501343\n",
      "std    1955.099667    86.051994\n",
      "min       1.000000     1.000000\n",
      "25%    1691.000000    75.000000\n",
      "50%    3387.000000   149.000000\n",
      "75%    5080.000000   224.000000\n",
      "max    6766.000000   300.000000\n"
     ]
    }
   ],
   "source": [
    "# Inspect the dataframe\n",
    "#Check the Shape and Dimensions of the dataframe\n",
    "print(uber_data.shape)\n",
    "print(uber_data.ndim)\n",
    "\n",
    "#Check the columns and their datatypes within the dataframe\n",
    "print(uber_data.dtypes)\n",
    "\n",
    "#Check the basic statistics of the columns in the dataframe\n",
    "print(uber_data.describe())\n"
   ]
  },
  {
   "cell_type": "code",
   "execution_count": 607,
   "metadata": {},
   "outputs": [],
   "source": [
    "# Convert the date columns to timestamp format\n",
    "uber_data[\"Request timestamp\"] = pd.to_datetime(uber_data[\"Request timestamp\"])\n",
    "uber_data[\"Drop timestamp\"] = pd.to_datetime(uber_data[\"Drop timestamp\"])"
   ]
  },
  {
   "cell_type": "code",
   "execution_count": 608,
   "metadata": {},
   "outputs": [
    {
     "data": {
      "text/plain": [
       "Request id                    int64\n",
       "Pickup point                 object\n",
       "Driver id                   float64\n",
       "Status                       object\n",
       "Request timestamp    datetime64[ns]\n",
       "Drop timestamp       datetime64[ns]\n",
       "dtype: object"
      ]
     },
     "execution_count": 608,
     "metadata": {},
     "output_type": "execute_result"
    }
   ],
   "source": [
    "uber_data.dtypes"
   ]
  },
  {
   "cell_type": "code",
   "execution_count": 609,
   "metadata": {},
   "outputs": [
    {
     "data": {
      "text/html": [
       "<div>\n",
       "<style scoped>\n",
       "    .dataframe tbody tr th:only-of-type {\n",
       "        vertical-align: middle;\n",
       "    }\n",
       "\n",
       "    .dataframe tbody tr th {\n",
       "        vertical-align: top;\n",
       "    }\n",
       "\n",
       "    .dataframe thead th {\n",
       "        text-align: right;\n",
       "    }\n",
       "</style>\n",
       "<table border=\"1\" class=\"dataframe\">\n",
       "  <thead>\n",
       "    <tr style=\"text-align: right;\">\n",
       "      <th></th>\n",
       "      <th>Request id</th>\n",
       "      <th>Pickup point</th>\n",
       "      <th>Driver id</th>\n",
       "      <th>Status</th>\n",
       "      <th>Request timestamp</th>\n",
       "      <th>Drop timestamp</th>\n",
       "    </tr>\n",
       "  </thead>\n",
       "  <tbody>\n",
       "    <tr>\n",
       "      <th>0</th>\n",
       "      <td>619</td>\n",
       "      <td>Airport</td>\n",
       "      <td>1.0</td>\n",
       "      <td>Trip Completed</td>\n",
       "      <td>2016-11-07 11:51:00</td>\n",
       "      <td>2016-11-07 13:00:00</td>\n",
       "    </tr>\n",
       "    <tr>\n",
       "      <th>1</th>\n",
       "      <td>867</td>\n",
       "      <td>Airport</td>\n",
       "      <td>1.0</td>\n",
       "      <td>Trip Completed</td>\n",
       "      <td>2016-11-07 17:57:00</td>\n",
       "      <td>2016-11-07 18:47:00</td>\n",
       "    </tr>\n",
       "    <tr>\n",
       "      <th>2</th>\n",
       "      <td>1807</td>\n",
       "      <td>City</td>\n",
       "      <td>1.0</td>\n",
       "      <td>Trip Completed</td>\n",
       "      <td>2016-12-07 09:17:00</td>\n",
       "      <td>2016-12-07 09:58:00</td>\n",
       "    </tr>\n",
       "    <tr>\n",
       "      <th>3</th>\n",
       "      <td>2532</td>\n",
       "      <td>Airport</td>\n",
       "      <td>1.0</td>\n",
       "      <td>Trip Completed</td>\n",
       "      <td>2016-12-07 21:08:00</td>\n",
       "      <td>2016-12-07 22:03:00</td>\n",
       "    </tr>\n",
       "    <tr>\n",
       "      <th>4</th>\n",
       "      <td>3112</td>\n",
       "      <td>City</td>\n",
       "      <td>1.0</td>\n",
       "      <td>Trip Completed</td>\n",
       "      <td>2016-07-13 08:33:16</td>\n",
       "      <td>2016-07-13 09:25:47</td>\n",
       "    </tr>\n",
       "  </tbody>\n",
       "</table>\n",
       "</div>"
      ],
      "text/plain": [
       "   Request id Pickup point  Driver id          Status   Request timestamp  \\\n",
       "0         619      Airport        1.0  Trip Completed 2016-11-07 11:51:00   \n",
       "1         867      Airport        1.0  Trip Completed 2016-11-07 17:57:00   \n",
       "2        1807         City        1.0  Trip Completed 2016-12-07 09:17:00   \n",
       "3        2532      Airport        1.0  Trip Completed 2016-12-07 21:08:00   \n",
       "4        3112         City        1.0  Trip Completed 2016-07-13 08:33:16   \n",
       "\n",
       "       Drop timestamp  \n",
       "0 2016-11-07 13:00:00  \n",
       "1 2016-11-07 18:47:00  \n",
       "2 2016-12-07 09:58:00  \n",
       "3 2016-12-07 22:03:00  \n",
       "4 2016-07-13 09:25:47  "
      ]
     },
     "execution_count": 609,
     "metadata": {},
     "output_type": "execute_result"
    }
   ],
   "source": [
    "uber_data.head()"
   ]
  },
  {
   "cell_type": "code",
   "execution_count": 610,
   "metadata": {},
   "outputs": [
    {
     "data": {
      "text/plain": [
       "Trip Completed       2831\n",
       "No Cars Available    2650\n",
       "Cancelled            1264\n",
       "Name: Status, dtype: int64"
      ]
     },
     "execution_count": 610,
     "metadata": {},
     "output_type": "execute_result"
    }
   ],
   "source": [
    "uber_data[\"Status\"].value_counts()"
   ]
  },
  {
   "cell_type": "code",
   "execution_count": 611,
   "metadata": {},
   "outputs": [
    {
     "data": {
      "text/plain": [
       "Request id              0\n",
       "Pickup point            0\n",
       "Driver id            2650\n",
       "Status                  0\n",
       "Request timestamp       0\n",
       "Drop timestamp       3914\n",
       "dtype: int64"
      ]
     },
     "execution_count": 611,
     "metadata": {},
     "output_type": "execute_result"
    }
   ],
   "source": [
    "# Check missing values in the data\n",
    "uber_data.isnull().sum()"
   ]
  },
  {
   "cell_type": "markdown",
   "metadata": {},
   "source": [
    "We observe that there are 2650 rows with no driver id's. This count of rows are in line with the number of rows where the Status is \"No cars Available\". In total, there are 3914 rows where we don't have any value for the \"Drop timestamp\" column. On analyzing the missing values in the \"Status\" column, we observe that there are exactly 3914 rows where the trip is **not completed** ( 2650 no cars available + 1264 cancelled). Hence the missing values in the data is as per the context of the business and no missing value treatment is required "
   ]
  },
  {
   "cell_type": "code",
   "execution_count": 612,
   "metadata": {},
   "outputs": [
    {
     "name": "stdout",
     "output_type": "stream",
     "text": [
      "6745\n",
      "2\n",
      "300\n",
      "3\n",
      "5618\n",
      "2598\n"
     ]
    }
   ],
   "source": [
    "# Calculate the count of distinct values in each column to identify the primary key in the dataset\n",
    "print(uber_data[\"Request id\"].nunique())\n",
    "print(uber_data[\"Pickup point\"].nunique())\n",
    "print(uber_data[\"Driver id\"].nunique())\n",
    "print(uber_data[\"Status\"].nunique())\n",
    "print(uber_data[\"Request timestamp\"].nunique())\n",
    "print(uber_data[\"Drop timestamp\"].nunique())"
   ]
  },
  {
   "cell_type": "markdown",
   "metadata": {},
   "source": [
    "Since the number of distinct vales in the Request id column are equal to the total rows in the dataset, that column alone can be treated as the primary key of the dataset"
   ]
  },
  {
   "cell_type": "code",
   "execution_count": 613,
   "metadata": {},
   "outputs": [
    {
     "data": {
      "text/html": [
       "<div>\n",
       "<style scoped>\n",
       "    .dataframe tbody tr th:only-of-type {\n",
       "        vertical-align: middle;\n",
       "    }\n",
       "\n",
       "    .dataframe tbody tr th {\n",
       "        vertical-align: top;\n",
       "    }\n",
       "\n",
       "    .dataframe thead th {\n",
       "        text-align: right;\n",
       "    }\n",
       "</style>\n",
       "<table border=\"1\" class=\"dataframe\">\n",
       "  <thead>\n",
       "    <tr style=\"text-align: right;\">\n",
       "      <th></th>\n",
       "      <th>Request id</th>\n",
       "      <th>Pickup point</th>\n",
       "      <th>Driver id</th>\n",
       "      <th>Status</th>\n",
       "      <th>Request timestamp</th>\n",
       "      <th>Drop timestamp</th>\n",
       "    </tr>\n",
       "  </thead>\n",
       "  <tbody>\n",
       "    <tr>\n",
       "      <th>0</th>\n",
       "      <td>619</td>\n",
       "      <td>Airport</td>\n",
       "      <td>1.0</td>\n",
       "      <td>Trip Completed</td>\n",
       "      <td>2016-11-07 11:51:00</td>\n",
       "      <td>2016-11-07 13:00:00</td>\n",
       "    </tr>\n",
       "    <tr>\n",
       "      <th>1</th>\n",
       "      <td>867</td>\n",
       "      <td>Airport</td>\n",
       "      <td>1.0</td>\n",
       "      <td>Trip Completed</td>\n",
       "      <td>2016-11-07 17:57:00</td>\n",
       "      <td>2016-11-07 18:47:00</td>\n",
       "    </tr>\n",
       "    <tr>\n",
       "      <th>2</th>\n",
       "      <td>1807</td>\n",
       "      <td>City</td>\n",
       "      <td>1.0</td>\n",
       "      <td>Trip Completed</td>\n",
       "      <td>2016-12-07 09:17:00</td>\n",
       "      <td>2016-12-07 09:58:00</td>\n",
       "    </tr>\n",
       "    <tr>\n",
       "      <th>3</th>\n",
       "      <td>2532</td>\n",
       "      <td>Airport</td>\n",
       "      <td>1.0</td>\n",
       "      <td>Trip Completed</td>\n",
       "      <td>2016-12-07 21:08:00</td>\n",
       "      <td>2016-12-07 22:03:00</td>\n",
       "    </tr>\n",
       "    <tr>\n",
       "      <th>4</th>\n",
       "      <td>3112</td>\n",
       "      <td>City</td>\n",
       "      <td>1.0</td>\n",
       "      <td>Trip Completed</td>\n",
       "      <td>2016-07-13 08:33:16</td>\n",
       "      <td>2016-07-13 09:25:47</td>\n",
       "    </tr>\n",
       "  </tbody>\n",
       "</table>\n",
       "</div>"
      ],
      "text/plain": [
       "   Request id Pickup point  Driver id          Status   Request timestamp  \\\n",
       "0         619      Airport        1.0  Trip Completed 2016-11-07 11:51:00   \n",
       "1         867      Airport        1.0  Trip Completed 2016-11-07 17:57:00   \n",
       "2        1807         City        1.0  Trip Completed 2016-12-07 09:17:00   \n",
       "3        2532      Airport        1.0  Trip Completed 2016-12-07 21:08:00   \n",
       "4        3112         City        1.0  Trip Completed 2016-07-13 08:33:16   \n",
       "\n",
       "       Drop timestamp  \n",
       "0 2016-11-07 13:00:00  \n",
       "1 2016-11-07 18:47:00  \n",
       "2 2016-12-07 09:58:00  \n",
       "3 2016-12-07 22:03:00  \n",
       "4 2016-07-13 09:25:47  "
      ]
     },
     "execution_count": 613,
     "metadata": {},
     "output_type": "execute_result"
    }
   ],
   "source": [
    "uber_data.head()"
   ]
  },
  {
   "cell_type": "markdown",
   "metadata": {},
   "source": [
    "Now that we have inspected the dataset, identified what each column represents and the primary key of the table, let's go ahead with the problem statement and further analyze the dataset"
   ]
  },
  {
   "cell_type": "markdown",
   "metadata": {},
   "source": [
    "#### Exploratory Data Analysis"
   ]
  },
  {
   "cell_type": "markdown",
   "metadata": {},
   "source": [
    "Create a new column for hour of cab request and hour od cab drop"
   ]
  },
  {
   "cell_type": "code",
   "execution_count": 614,
   "metadata": {},
   "outputs": [],
   "source": [
    "# New column for Request Hour\n",
    "uber_data[\"Request Hour\"] = uber_data[\"Request timestamp\"].dt.hour"
   ]
  },
  {
   "cell_type": "markdown",
   "metadata": {},
   "source": [
    "Create a new column for the duration of the cab journey"
   ]
  },
  {
   "cell_type": "code",
   "execution_count": 615,
   "metadata": {},
   "outputs": [],
   "source": [
    "uber_data.loc[uber_data[\"Status\"]==\"Trip Completed\", \"Journey Duration\"] = uber_data['Drop timestamp'] - uber_data[\"Request timestamp\"]"
   ]
  },
  {
   "cell_type": "code",
   "execution_count": 616,
   "metadata": {},
   "outputs": [
    {
     "data": {
      "text/html": [
       "<div>\n",
       "<style scoped>\n",
       "    .dataframe tbody tr th:only-of-type {\n",
       "        vertical-align: middle;\n",
       "    }\n",
       "\n",
       "    .dataframe tbody tr th {\n",
       "        vertical-align: top;\n",
       "    }\n",
       "\n",
       "    .dataframe thead th {\n",
       "        text-align: right;\n",
       "    }\n",
       "</style>\n",
       "<table border=\"1\" class=\"dataframe\">\n",
       "  <thead>\n",
       "    <tr style=\"text-align: right;\">\n",
       "      <th></th>\n",
       "      <th>Request id</th>\n",
       "      <th>Pickup point</th>\n",
       "      <th>Driver id</th>\n",
       "      <th>Status</th>\n",
       "      <th>Request timestamp</th>\n",
       "      <th>Drop timestamp</th>\n",
       "      <th>Request Hour</th>\n",
       "      <th>Journey Duration</th>\n",
       "    </tr>\n",
       "  </thead>\n",
       "  <tbody>\n",
       "    <tr>\n",
       "      <th>0</th>\n",
       "      <td>619</td>\n",
       "      <td>Airport</td>\n",
       "      <td>1.0</td>\n",
       "      <td>Trip Completed</td>\n",
       "      <td>2016-11-07 11:51:00</td>\n",
       "      <td>2016-11-07 13:00:00</td>\n",
       "      <td>11</td>\n",
       "      <td>01:09:00</td>\n",
       "    </tr>\n",
       "    <tr>\n",
       "      <th>1</th>\n",
       "      <td>867</td>\n",
       "      <td>Airport</td>\n",
       "      <td>1.0</td>\n",
       "      <td>Trip Completed</td>\n",
       "      <td>2016-11-07 17:57:00</td>\n",
       "      <td>2016-11-07 18:47:00</td>\n",
       "      <td>17</td>\n",
       "      <td>00:50:00</td>\n",
       "    </tr>\n",
       "    <tr>\n",
       "      <th>2</th>\n",
       "      <td>1807</td>\n",
       "      <td>City</td>\n",
       "      <td>1.0</td>\n",
       "      <td>Trip Completed</td>\n",
       "      <td>2016-12-07 09:17:00</td>\n",
       "      <td>2016-12-07 09:58:00</td>\n",
       "      <td>9</td>\n",
       "      <td>00:41:00</td>\n",
       "    </tr>\n",
       "    <tr>\n",
       "      <th>3</th>\n",
       "      <td>2532</td>\n",
       "      <td>Airport</td>\n",
       "      <td>1.0</td>\n",
       "      <td>Trip Completed</td>\n",
       "      <td>2016-12-07 21:08:00</td>\n",
       "      <td>2016-12-07 22:03:00</td>\n",
       "      <td>21</td>\n",
       "      <td>00:55:00</td>\n",
       "    </tr>\n",
       "    <tr>\n",
       "      <th>4</th>\n",
       "      <td>3112</td>\n",
       "      <td>City</td>\n",
       "      <td>1.0</td>\n",
       "      <td>Trip Completed</td>\n",
       "      <td>2016-07-13 08:33:16</td>\n",
       "      <td>2016-07-13 09:25:47</td>\n",
       "      <td>8</td>\n",
       "      <td>00:52:31</td>\n",
       "    </tr>\n",
       "  </tbody>\n",
       "</table>\n",
       "</div>"
      ],
      "text/plain": [
       "   Request id Pickup point  Driver id          Status   Request timestamp  \\\n",
       "0         619      Airport        1.0  Trip Completed 2016-11-07 11:51:00   \n",
       "1         867      Airport        1.0  Trip Completed 2016-11-07 17:57:00   \n",
       "2        1807         City        1.0  Trip Completed 2016-12-07 09:17:00   \n",
       "3        2532      Airport        1.0  Trip Completed 2016-12-07 21:08:00   \n",
       "4        3112         City        1.0  Trip Completed 2016-07-13 08:33:16   \n",
       "\n",
       "       Drop timestamp  Request Hour Journey Duration  \n",
       "0 2016-11-07 13:00:00            11         01:09:00  \n",
       "1 2016-11-07 18:47:00            17         00:50:00  \n",
       "2 2016-12-07 09:58:00             9         00:41:00  \n",
       "3 2016-12-07 22:03:00            21         00:55:00  \n",
       "4 2016-07-13 09:25:47             8         00:52:31  "
      ]
     },
     "execution_count": 616,
     "metadata": {},
     "output_type": "execute_result"
    }
   ],
   "source": [
    "uber_data.head()"
   ]
  },
  {
   "cell_type": "markdown",
   "metadata": {},
   "source": [
    "Perform **univariate analysis** on the Journey Duration column to identify that there are no outliers in that column"
   ]
  },
  {
   "cell_type": "code",
   "execution_count": 617,
   "metadata": {},
   "outputs": [
    {
     "name": "stdout",
     "output_type": "stream",
     "text": [
      "0.0    1889\n",
      "1.0     942\n",
      "Name: hours, dtype: int64\n"
     ]
    },
    {
     "data": {
      "text/plain": [
       "<matplotlib.axes._subplots.AxesSubplot at 0x26375eb7f60>"
      ]
     },
     "execution_count": 617,
     "metadata": {},
     "output_type": "execute_result"
    },
    {
     "data": {
      "image/png": "[encoded data removed]",
      "text/plain": [
       "<Figure size 360x144 with 1 Axes>"
      ]
     },
     "metadata": {},
     "output_type": "display_data"
    }
   ],
   "source": [
    "plt.figure(figsize=(5, 2))\n",
    "print(uber_data[\"Journey Duration\"].dt.components['hours'].value_counts())\n",
    "sns.boxplot(y=uber_data[\"Journey Duration\"].dt.components['hours'])\n"
   ]
  },
  {
   "cell_type": "markdown",
   "metadata": {},
   "source": [
    "Looking at the box plot analysis above, we observe that all the cab journeys completed between 0 to 2 hours, hence there are no anomalies in the data"
   ]
  },
  {
   "cell_type": "markdown",
   "metadata": {},
   "source": [
    "Perform **univariate analysis** to observe the frequency of cab requests that get completed, cancelled, or unavailable cabs"
   ]
  },
  {
   "cell_type": "code",
   "execution_count": 618,
   "metadata": {},
   "outputs": [
    {
     "data": {
      "image/png": "[encoded data removed]",
      "text/plain": [
       "<Figure size 720x288 with 1 Axes>"
      ]
     },
     "metadata": {},
     "output_type": "display_data"
    }
   ],
   "source": [
    "plt.figure(figsize=(10, 4))\n",
    "sns.barplot(x='Status',y= \"Request id\", estimator=lambda x: len(x)/len(uber_data), data=uber_data, ci=None)\n",
    "plt.title(\"Frequency of Cab Requests by Status\")\n",
    "plt.ylabel(\"Count\")\n",
    "plt.show()"
   ]
  },
  {
   "cell_type": "code",
   "execution_count": 619,
   "metadata": {},
   "outputs": [
    {
     "data": {
      "text/plain": [
       "Trip Completed       41.971831\n",
       "No Cars Available    39.288362\n",
       "Cancelled            18.739807\n",
       "Name: Status, dtype: float64"
      ]
     },
     "execution_count": 619,
     "metadata": {},
     "output_type": "execute_result"
    }
   ],
   "source": [
    "uber_data[\"Status\"].value_counts(normalize=True)*100"
   ]
  },
  {
   "cell_type": "markdown",
   "metadata": {},
   "source": [
    "We observe that approximately 60% of trip requests get either cancelled or fail because of no available cabs"
   ]
  },
  {
   "cell_type": "markdown",
   "metadata": {},
   "source": [
    "Now that we have identified the pressing proble, let's take a look at what pickup point/journey is observing the largest issue"
   ]
  },
  {
   "cell_type": "code",
   "execution_count": 620,
   "metadata": {},
   "outputs": [
    {
     "data": {
      "text/plain": [
       "Pickup point  Status           \n",
       "Airport       Cancelled             2.935508\n",
       "              No Cars Available    25.396590\n",
       "              Trip Completed       19.673832\n",
       "City          Cancelled            15.804299\n",
       "              No Cars Available    13.891772\n",
       "              Trip Completed       22.297999\n",
       "Name: Request id, dtype: float64"
      ]
     },
     "execution_count": 620,
     "metadata": {},
     "output_type": "execute_result"
    }
   ],
   "source": [
    "uber_data.groupby([\"Pickup point\", \"Status\"])[\"Request id\"].nunique()/len(uber_data)*100"
   ]
  },
  {
   "cell_type": "markdown",
   "metadata": {},
   "source": [
    "Perform **univariate analysis** to observe the frequency of cab requests across each hour of day"
   ]
  },
  {
   "cell_type": "code",
   "execution_count": 621,
   "metadata": {},
   "outputs": [
    {
     "data": {
      "image/png": "[encoded data removed]",
      "text/plain": [
       "<Figure size 1080x360 with 1 Axes>"
      ]
     },
     "metadata": {},
     "output_type": "display_data"
    }
   ],
   "source": [
    "plt.figure(figsize=(15, 5))\n",
    "plt.hist(uber_data[\"Request Hour\"], color='c', bins=24)\n",
    "plt.xlabel(\"Hour of Booking\")\n",
    "plt.ylabel(\"Frequency\")\n",
    "plt.show()"
   ]
  },
  {
   "cell_type": "markdown",
   "metadata": {},
   "source": [
    "From the above plot, we can deduce that majority of the bookings were made from 5am - 9am in the mornings and 5pm - 10 pm in the evenings"
   ]
  },
  {
   "cell_type": "markdown",
   "metadata": {},
   "source": [
    "To get a better understanding of what timeslots during the entire day generate the most number of bookings, we can bucket the reuqest hours as follows: <br>\n",
    "- Mid-Night: 0-4 hrs<br>\n",
    "- Early Morning: 5-9 hrs<br>\n",
    "- Late Morning: 10-12 hrs<br>\n",
    "- Afternoon: 13-16 hrs<br>\n",
    "- Evening: 17-20 hrs<br>\n",
    "- Night: 20-23 hrs<br>"
   ]
  },
  {
   "cell_type": "code",
   "execution_count": 622,
   "metadata": {},
   "outputs": [
    {
     "data": {
      "text/html": [
       "<div>\n",
       "<style scoped>\n",
       "    .dataframe tbody tr th:only-of-type {\n",
       "        vertical-align: middle;\n",
       "    }\n",
       "\n",
       "    .dataframe tbody tr th {\n",
       "        vertical-align: top;\n",
       "    }\n",
       "\n",
       "    .dataframe thead th {\n",
       "        text-align: right;\n",
       "    }\n",
       "</style>\n",
       "<table border=\"1\" class=\"dataframe\">\n",
       "  <thead>\n",
       "    <tr style=\"text-align: right;\">\n",
       "      <th></th>\n",
       "      <th>Request id</th>\n",
       "      <th>Pickup point</th>\n",
       "      <th>Driver id</th>\n",
       "      <th>Status</th>\n",
       "      <th>Request timestamp</th>\n",
       "      <th>Drop timestamp</th>\n",
       "      <th>Request Hour</th>\n",
       "      <th>Journey Duration</th>\n",
       "    </tr>\n",
       "  </thead>\n",
       "  <tbody>\n",
       "    <tr>\n",
       "      <th>0</th>\n",
       "      <td>619</td>\n",
       "      <td>Airport</td>\n",
       "      <td>1.0</td>\n",
       "      <td>Trip Completed</td>\n",
       "      <td>2016-11-07 11:51:00</td>\n",
       "      <td>2016-11-07 13:00:00</td>\n",
       "      <td>11</td>\n",
       "      <td>01:09:00</td>\n",
       "    </tr>\n",
       "    <tr>\n",
       "      <th>1</th>\n",
       "      <td>867</td>\n",
       "      <td>Airport</td>\n",
       "      <td>1.0</td>\n",
       "      <td>Trip Completed</td>\n",
       "      <td>2016-11-07 17:57:00</td>\n",
       "      <td>2016-11-07 18:47:00</td>\n",
       "      <td>17</td>\n",
       "      <td>00:50:00</td>\n",
       "    </tr>\n",
       "    <tr>\n",
       "      <th>2</th>\n",
       "      <td>1807</td>\n",
       "      <td>City</td>\n",
       "      <td>1.0</td>\n",
       "      <td>Trip Completed</td>\n",
       "      <td>2016-12-07 09:17:00</td>\n",
       "      <td>2016-12-07 09:58:00</td>\n",
       "      <td>9</td>\n",
       "      <td>00:41:00</td>\n",
       "    </tr>\n",
       "    <tr>\n",
       "      <th>3</th>\n",
       "      <td>2532</td>\n",
       "      <td>Airport</td>\n",
       "      <td>1.0</td>\n",
       "      <td>Trip Completed</td>\n",
       "      <td>2016-12-07 21:08:00</td>\n",
       "      <td>2016-12-07 22:03:00</td>\n",
       "      <td>21</td>\n",
       "      <td>00:55:00</td>\n",
       "    </tr>\n",
       "    <tr>\n",
       "      <th>4</th>\n",
       "      <td>3112</td>\n",
       "      <td>City</td>\n",
       "      <td>1.0</td>\n",
       "      <td>Trip Completed</td>\n",
       "      <td>2016-07-13 08:33:16</td>\n",
       "      <td>2016-07-13 09:25:47</td>\n",
       "      <td>8</td>\n",
       "      <td>00:52:31</td>\n",
       "    </tr>\n",
       "  </tbody>\n",
       "</table>\n",
       "</div>"
      ],
      "text/plain": [
       "   Request id Pickup point  Driver id          Status   Request timestamp  \\\n",
       "0         619      Airport        1.0  Trip Completed 2016-11-07 11:51:00   \n",
       "1         867      Airport        1.0  Trip Completed 2016-11-07 17:57:00   \n",
       "2        1807         City        1.0  Trip Completed 2016-12-07 09:17:00   \n",
       "3        2532      Airport        1.0  Trip Completed 2016-12-07 21:08:00   \n",
       "4        3112         City        1.0  Trip Completed 2016-07-13 08:33:16   \n",
       "\n",
       "       Drop timestamp  Request Hour Journey Duration  \n",
       "0 2016-11-07 13:00:00            11         01:09:00  \n",
       "1 2016-11-07 18:47:00            17         00:50:00  \n",
       "2 2016-12-07 09:58:00             9         00:41:00  \n",
       "3 2016-12-07 22:03:00            21         00:55:00  \n",
       "4 2016-07-13 09:25:47             8         00:52:31  "
      ]
     },
     "execution_count": 622,
     "metadata": {},
     "output_type": "execute_result"
    }
   ],
   "source": [
    "uber_data.head()"
   ]
  },
  {
   "cell_type": "code",
   "execution_count": 623,
   "metadata": {},
   "outputs": [],
   "source": [
    "uber_data.loc[(uber_data[\"Request Hour\"]>=0) & (uber_data[\"Request Hour\"]<=4), \"Timeslot\"] = \"Mid-Night\"\n",
    "uber_data.loc[(uber_data[\"Request Hour\"]>=5) & (uber_data[\"Request Hour\"]<=9), \"Timeslot\"] = \"Early Morning\"\n",
    "uber_data.loc[(uber_data[\"Request Hour\"]>=10) & (uber_data[\"Request Hour\"]<=12), \"Timeslot\"] = \"Late Morning\"\n",
    "uber_data.loc[(uber_data[\"Request Hour\"]>=13) & (uber_data[\"Request Hour\"]<=16), \"Timeslot\"] = \"Afternoon\"\n",
    "uber_data.loc[(uber_data[\"Request Hour\"]>=17) & (uber_data[\"Request Hour\"]<=20), \"Timeslot\"] = \"Evening\"\n",
    "uber_data.loc[(uber_data[\"Request Hour\"]>=21) & (uber_data[\"Request Hour\"]<=24), \"Timeslot\"] = \"Night\"\n"
   ]
  },
  {
   "cell_type": "code",
   "execution_count": 624,
   "metadata": {},
   "outputs": [
    {
     "data": {
      "text/html": [
       "<div>\n",
       "<style scoped>\n",
       "    .dataframe tbody tr th:only-of-type {\n",
       "        vertical-align: middle;\n",
       "    }\n",
       "\n",
       "    .dataframe tbody tr th {\n",
       "        vertical-align: top;\n",
       "    }\n",
       "\n",
       "    .dataframe thead th {\n",
       "        text-align: right;\n",
       "    }\n",
       "</style>\n",
       "<table border=\"1\" class=\"dataframe\">\n",
       "  <thead>\n",
       "    <tr style=\"text-align: right;\">\n",
       "      <th></th>\n",
       "      <th>Request id</th>\n",
       "      <th>Pickup point</th>\n",
       "      <th>Driver id</th>\n",
       "      <th>Status</th>\n",
       "      <th>Request timestamp</th>\n",
       "      <th>Drop timestamp</th>\n",
       "      <th>Request Hour</th>\n",
       "      <th>Journey Duration</th>\n",
       "      <th>Timeslot</th>\n",
       "    </tr>\n",
       "  </thead>\n",
       "  <tbody>\n",
       "    <tr>\n",
       "      <th>0</th>\n",
       "      <td>619</td>\n",
       "      <td>Airport</td>\n",
       "      <td>1.0</td>\n",
       "      <td>Trip Completed</td>\n",
       "      <td>2016-11-07 11:51:00</td>\n",
       "      <td>2016-11-07 13:00:00</td>\n",
       "      <td>11</td>\n",
       "      <td>01:09:00</td>\n",
       "      <td>Late Morning</td>\n",
       "    </tr>\n",
       "    <tr>\n",
       "      <th>1</th>\n",
       "      <td>867</td>\n",
       "      <td>Airport</td>\n",
       "      <td>1.0</td>\n",
       "      <td>Trip Completed</td>\n",
       "      <td>2016-11-07 17:57:00</td>\n",
       "      <td>2016-11-07 18:47:00</td>\n",
       "      <td>17</td>\n",
       "      <td>00:50:00</td>\n",
       "      <td>Evening</td>\n",
       "    </tr>\n",
       "    <tr>\n",
       "      <th>2</th>\n",
       "      <td>1807</td>\n",
       "      <td>City</td>\n",
       "      <td>1.0</td>\n",
       "      <td>Trip Completed</td>\n",
       "      <td>2016-12-07 09:17:00</td>\n",
       "      <td>2016-12-07 09:58:00</td>\n",
       "      <td>9</td>\n",
       "      <td>00:41:00</td>\n",
       "      <td>Early Morning</td>\n",
       "    </tr>\n",
       "    <tr>\n",
       "      <th>3</th>\n",
       "      <td>2532</td>\n",
       "      <td>Airport</td>\n",
       "      <td>1.0</td>\n",
       "      <td>Trip Completed</td>\n",
       "      <td>2016-12-07 21:08:00</td>\n",
       "      <td>2016-12-07 22:03:00</td>\n",
       "      <td>21</td>\n",
       "      <td>00:55:00</td>\n",
       "      <td>Night</td>\n",
       "    </tr>\n",
       "    <tr>\n",
       "      <th>4</th>\n",
       "      <td>3112</td>\n",
       "      <td>City</td>\n",
       "      <td>1.0</td>\n",
       "      <td>Trip Completed</td>\n",
       "      <td>2016-07-13 08:33:16</td>\n",
       "      <td>2016-07-13 09:25:47</td>\n",
       "      <td>8</td>\n",
       "      <td>00:52:31</td>\n",
       "      <td>Early Morning</td>\n",
       "    </tr>\n",
       "  </tbody>\n",
       "</table>\n",
       "</div>"
      ],
      "text/plain": [
       "   Request id Pickup point  Driver id          Status   Request timestamp  \\\n",
       "0         619      Airport        1.0  Trip Completed 2016-11-07 11:51:00   \n",
       "1         867      Airport        1.0  Trip Completed 2016-11-07 17:57:00   \n",
       "2        1807         City        1.0  Trip Completed 2016-12-07 09:17:00   \n",
       "3        2532      Airport        1.0  Trip Completed 2016-12-07 21:08:00   \n",
       "4        3112         City        1.0  Trip Completed 2016-07-13 08:33:16   \n",
       "\n",
       "       Drop timestamp  Request Hour Journey Duration       Timeslot  \n",
       "0 2016-11-07 13:00:00            11         01:09:00   Late Morning  \n",
       "1 2016-11-07 18:47:00            17         00:50:00        Evening  \n",
       "2 2016-12-07 09:58:00             9         00:41:00  Early Morning  \n",
       "3 2016-12-07 22:03:00            21         00:55:00          Night  \n",
       "4 2016-07-13 09:25:47             8         00:52:31  Early Morning  "
      ]
     },
     "execution_count": 624,
     "metadata": {},
     "output_type": "execute_result"
    }
   ],
   "source": [
    "uber_data.head()"
   ]
  },
  {
   "cell_type": "markdown",
   "metadata": {},
   "source": [
    "Observe the distribution of the frequency of bookings within each of the timeslots"
   ]
  },
  {
   "cell_type": "code",
   "execution_count": 625,
   "metadata": {
    "scrolled": true
   },
   "outputs": [
    {
     "data": {
      "image/png": "[encoded data removed]",
      "text/plain": [
       "<Figure size 1080x360 with 1 Axes>"
      ]
     },
     "metadata": {},
     "output_type": "display_data"
    }
   ],
   "source": [
    "plt.figure(figsize=(15, 5))\n",
    "sns.barplot(x='Timeslot',y= \"Request id\", estimator=lambda x: len(x), data=uber_data, ci=None, order=[\"Mid-Night\",\"Early Morning\",\"Late Morning\",\"Afternoon\",\"Evening\", \"Night\"])\n",
    "plt.xlabel(\"Hour of Booking\")\n",
    "plt.ylabel(\"Frequency\")\n",
    "plt.show()"
   ]
  },
  {
   "cell_type": "markdown",
   "metadata": {},
   "source": [
    "From the above plot, we can deduce that majority of the bookings were made during _Early Morning_ and _Evening_"
   ]
  },
  {
   "cell_type": "markdown",
   "metadata": {},
   "source": [
    "To get a better understanding on request hours, perform **Bivariate analysis** to identify the distribution Hour of Bookings across pickup locations"
   ]
  },
  {
   "cell_type": "code",
   "execution_count": 626,
   "metadata": {},
   "outputs": [
    {
     "data": {
      "image/png": "[encoded data removed]",
      "text/plain": [
       "<Figure size 1440x576 with 1 Axes>"
      ]
     },
     "metadata": {},
     "output_type": "display_data"
    }
   ],
   "source": [
    "# specify hue=\"categorical_variable\"\n",
    "plt.figure(figsize=(20, 8))\n",
    "sns.countplot(x='Request Hour', hue=\"Pickup point\", data=uber_data)\n",
    "sns.set(rc={'figure.figsize':(20,20)})\n",
    "plt.show()\n"
   ]
  },
  {
   "cell_type": "markdown",
   "metadata": {},
   "source": [
    "When breaking the request hour frequency by different pickup locations, we get a really interesting piece of insight! <br>\n",
    "_Majority of demand for the pickups from City is in the mornings between 5am - 10am and majority of demand for the pickups from Airport is in the evenings between 5pm - 11pm_"
   ]
  },
  {
   "cell_type": "markdown",
   "metadata": {},
   "source": [
    "On performing the same analysis above in the bucketed timeslots:"
   ]
  },
  {
   "cell_type": "code",
   "execution_count": 627,
   "metadata": {
    "scrolled": true
   },
   "outputs": [
    {
     "data": {
      "image/png": "[encoded data removed]",
      "text/plain": [
       "<Figure size 720x288 with 1 Axes>"
      ]
     },
     "metadata": {},
     "output_type": "display_data"
    }
   ],
   "source": [
    "# specify hue=\"categorical_variable\"\n",
    "plt.figure(figsize=(10, 4))\n",
    "sns.countplot(x='Timeslot', hue=\"Pickup point\", data=uber_data, order=[\"Mid-Night\",\"Early Morning\",\"Late Morning\",\"Afternoon\",\"Evening\", \"Night\"])\n",
    "sns.set(rc={'figure.figsize':(20,20)})\n",
    "plt.show()"
   ]
  },
  {
   "cell_type": "markdown",
   "metadata": {},
   "source": [
    "Majority of the bookings from Airport - City happen in the evenings, and majority of the bookings from City - Airport happen during Early Mornings"
   ]
  },
  {
   "cell_type": "markdown",
   "metadata": {},
   "source": [
    "Next, let's try addressing the major problem that Uber seems to be facing - the problem of trips getting cancelled or no cabls available, as both of these cases are costing Uber"
   ]
  },
  {
   "cell_type": "markdown",
   "metadata": {},
   "source": [
    "Frequency of requests that get 'cancelled' or show 'no cabs available'"
   ]
  },
  {
   "cell_type": "code",
   "execution_count": 628,
   "metadata": {},
   "outputs": [
    {
     "data": {
      "image/png": "[encoded data removed]",
      "text/plain": [
       "<Figure size 360x576 with 1 Axes>"
      ]
     },
     "metadata": {},
     "output_type": "display_data"
    },
    {
     "data": {
      "image/png": "[encoded data removed]",
      "text/plain": [
       "<Figure size 360x576 with 1 Axes>"
      ]
     },
     "metadata": {},
     "output_type": "display_data"
    }
   ],
   "source": [
    "uber_data_not_completed = uber_data.loc[uber_data[\"Status\"]!=\"Trip Completed\"]\n",
    "\n",
    "plt.figure(figsize=(5, 8))\n",
    "plt.subplot(2,1,1)\n",
    "sns.countplot(x='Status', data=uber_data_not_completed.loc[uber_data_not_completed[\"Pickup point\"]==\"Airport\"])\n",
    "plt.title(\"Airport\")\n",
    "plt.show()\n",
    "\n",
    "plt.figure(figsize=(5, 8))\n",
    "plt.subplot(2,1,2)\n",
    "sns.countplot(x='Status', data=uber_data_not_completed.loc[uber_data_not_completed[\"Pickup point\"]!=\"Airport\"])\n",
    "plt.title(\"City\")\n",
    "plt.show()"
   ]
  },
  {
   "cell_type": "markdown",
   "metadata": {},
   "source": [
    "From the above charts and analysis, we can observe that the major issue with pickups at the Airport is unavailability of cabs <br>\n",
    "For the city, the issues with pickups is almost equally likely due to drivers cancelling the cab or there are no cabs available"
   ]
  },
  {
   "cell_type": "markdown",
   "metadata": {},
   "source": [
    "Let's look at the above data at an hourly level across the day - **multivariate analysis** (considering 3 variables: status, pickup point, request hour)"
   ]
  },
  {
   "cell_type": "code",
   "execution_count": 629,
   "metadata": {},
   "outputs": [
    {
     "data": {
      "image/png": "[encoded data removed]",
      "text/plain": [
       "<Figure size 1440x576 with 1 Axes>"
      ]
     },
     "metadata": {},
     "output_type": "display_data"
    },
    {
     "data": {
      "image/png": "[encoded data removed]",
      "text/plain": [
       "<Figure size 1440x576 with 1 Axes>"
      ]
     },
     "metadata": {},
     "output_type": "display_data"
    }
   ],
   "source": [
    "uber_data_not_completed = uber_data.loc[uber_data[\"Status\"]!=\"Trip Completed\"]\n",
    "\n",
    "plt.figure(figsize=(20, 8))\n",
    "plt.subplot(2,1,1)\n",
    "sns.barplot(x='Request Hour',y= \"Request id\", hue = \"Status\", estimator=lambda x: len(x), data=uber_data_not_completed.loc[uber_data_not_completed[\"Pickup point\"]==\"Airport\"], ci=None)\n",
    "plt.title(\"Airport\")\n",
    "plt.ylabel(\"Count\")\n",
    "plt.show()\n",
    "\n",
    "plt.figure(figsize=(20,8))\n",
    "plt.subplot(2,1,2)\n",
    "sns.barplot(x='Request Hour',y= \"Request id\", hue = \"Status\", estimator=lambda x: len(x), data=uber_data_not_completed.loc[uber_data_not_completed[\"Pickup point\"]!=\"Airport\"], ci=None)\n",
    "plt.ylabel(\"Count\")\n",
    "plt.title(\"City\")\n",
    "plt.show()"
   ]
  },
  {
   "cell_type": "markdown",
   "metadata": {},
   "source": [
    "From the above plots, it is evident that the most problematic timeslots for requests is: <br>\n",
    "    Evening 5pm-11pm: mainly because of unavailability of cabs in the airport <br>\n",
    "    Morning 5am-10am: mainly because of drivers cancelling cab pickups from the City"
   ]
  },
  {
   "cell_type": "markdown",
   "metadata": {},
   "source": [
    "We can perform the above analysis at the bucketed timeslot level to derive the insight for the problematic timeslots:"
   ]
  },
  {
   "cell_type": "code",
   "execution_count": 630,
   "metadata": {
    "scrolled": true
   },
   "outputs": [
    {
     "data": {
      "image/png": "[encoded data removed]",
      "text/plain": [
       "<Figure size 1440x360 with 1 Axes>"
      ]
     },
     "metadata": {},
     "output_type": "display_data"
    },
    {
     "data": {
      "image/png": "[encoded data removed]",
      "text/plain": [
       "<Figure size 1440x360 with 1 Axes>"
      ]
     },
     "metadata": {},
     "output_type": "display_data"
    }
   ],
   "source": [
    "uber_data_not_completed = uber_data.loc[uber_data[\"Status\"]!=\"Trip Completed\"]\n",
    "\n",
    "plt.figure(figsize=(20, 5))\n",
    "plt.subplot(2,1,1)\n",
    "sns.barplot(x='Timeslot',y= \"Request id\", hue = \"Status\", estimator=lambda x: len(x), data=uber_data_not_completed.loc[uber_data_not_completed[\"Pickup point\"]==\"Airport\"], ci=None, order=[\"Mid-Night\",\"Early Morning\",\"Late Morning\",\"Afternoon\",\"Evening\", \"Night\"])\n",
    "plt.title(\"Airport\")\n",
    "plt.ylabel(\"Count\")\n",
    "plt.show()\n",
    "\n",
    "plt.figure(figsize=(20,5))\n",
    "plt.subplot(2,1,2)\n",
    "sns.barplot(x='Timeslot',y= \"Request id\", hue = \"Status\", estimator=lambda x: len(x), data=uber_data_not_completed.loc[uber_data_not_completed[\"Pickup point\"]!=\"Airport\"], ci=None, order=[\"Mid-Night\",\"Early Morning\",\"Late Morning\",\"Afternoon\",\"Evening\", \"Night\"])\n",
    "plt.ylabel(\"Count\")\n",
    "plt.title(\"City\")\n",
    "plt.show()"
   ]
  },
  {
   "cell_type": "markdown",
   "metadata": {},
   "source": [
    "From the above plots, it is evident that the most problematic timeslots for requests is: <br>\n",
    "    Evenings: mainly because of unavailability of cabs in the airport <br>\n",
    "    Early Mornings: mainly because of drivers cancelling cab pickups from the City"
   ]
  },
  {
   "cell_type": "markdown",
   "metadata": {},
   "source": [
    "#### Identifying the Gap between Supply and Demand"
   ]
  },
  {
   "cell_type": "markdown",
   "metadata": {},
   "source": [
    "The gap between supply and demand basically refers to the gap that exists in terms of how many cabs are requested by users and the number of cabs that are actually available at any point of time. Based on our data, we can consider the trips where status was \"Trip Completed\" as data where the demand was met by the supply. In case where the status was \"Cancelled\" or \"No cars available\", this is where demand exceeds supply"
   ]
  },
  {
   "cell_type": "code",
   "execution_count": 631,
   "metadata": {},
   "outputs": [
    {
     "data": {
      "text/html": [
       "<div>\n",
       "<style scoped>\n",
       "    .dataframe tbody tr th:only-of-type {\n",
       "        vertical-align: middle;\n",
       "    }\n",
       "\n",
       "    .dataframe tbody tr th {\n",
       "        vertical-align: top;\n",
       "    }\n",
       "\n",
       "    .dataframe thead th {\n",
       "        text-align: right;\n",
       "    }\n",
       "</style>\n",
       "<table border=\"1\" class=\"dataframe\">\n",
       "  <thead>\n",
       "    <tr style=\"text-align: right;\">\n",
       "      <th></th>\n",
       "      <th>Request id</th>\n",
       "      <th>Pickup point</th>\n",
       "      <th>Driver id</th>\n",
       "      <th>Status</th>\n",
       "      <th>Request timestamp</th>\n",
       "      <th>Drop timestamp</th>\n",
       "      <th>Request Hour</th>\n",
       "      <th>Journey Duration</th>\n",
       "      <th>Timeslot</th>\n",
       "    </tr>\n",
       "  </thead>\n",
       "  <tbody>\n",
       "    <tr>\n",
       "      <th>0</th>\n",
       "      <td>619</td>\n",
       "      <td>Airport</td>\n",
       "      <td>1.0</td>\n",
       "      <td>Trip Completed</td>\n",
       "      <td>2016-11-07 11:51:00</td>\n",
       "      <td>2016-11-07 13:00:00</td>\n",
       "      <td>11</td>\n",
       "      <td>01:09:00</td>\n",
       "      <td>Late Morning</td>\n",
       "    </tr>\n",
       "    <tr>\n",
       "      <th>1</th>\n",
       "      <td>867</td>\n",
       "      <td>Airport</td>\n",
       "      <td>1.0</td>\n",
       "      <td>Trip Completed</td>\n",
       "      <td>2016-11-07 17:57:00</td>\n",
       "      <td>2016-11-07 18:47:00</td>\n",
       "      <td>17</td>\n",
       "      <td>00:50:00</td>\n",
       "      <td>Evening</td>\n",
       "    </tr>\n",
       "    <tr>\n",
       "      <th>2</th>\n",
       "      <td>1807</td>\n",
       "      <td>City</td>\n",
       "      <td>1.0</td>\n",
       "      <td>Trip Completed</td>\n",
       "      <td>2016-12-07 09:17:00</td>\n",
       "      <td>2016-12-07 09:58:00</td>\n",
       "      <td>9</td>\n",
       "      <td>00:41:00</td>\n",
       "      <td>Early Morning</td>\n",
       "    </tr>\n",
       "    <tr>\n",
       "      <th>3</th>\n",
       "      <td>2532</td>\n",
       "      <td>Airport</td>\n",
       "      <td>1.0</td>\n",
       "      <td>Trip Completed</td>\n",
       "      <td>2016-12-07 21:08:00</td>\n",
       "      <td>2016-12-07 22:03:00</td>\n",
       "      <td>21</td>\n",
       "      <td>00:55:00</td>\n",
       "      <td>Night</td>\n",
       "    </tr>\n",
       "    <tr>\n",
       "      <th>4</th>\n",
       "      <td>3112</td>\n",
       "      <td>City</td>\n",
       "      <td>1.0</td>\n",
       "      <td>Trip Completed</td>\n",
       "      <td>2016-07-13 08:33:16</td>\n",
       "      <td>2016-07-13 09:25:47</td>\n",
       "      <td>8</td>\n",
       "      <td>00:52:31</td>\n",
       "      <td>Early Morning</td>\n",
       "    </tr>\n",
       "  </tbody>\n",
       "</table>\n",
       "</div>"
      ],
      "text/plain": [
       "   Request id Pickup point  Driver id          Status   Request timestamp  \\\n",
       "0         619      Airport        1.0  Trip Completed 2016-11-07 11:51:00   \n",
       "1         867      Airport        1.0  Trip Completed 2016-11-07 17:57:00   \n",
       "2        1807         City        1.0  Trip Completed 2016-12-07 09:17:00   \n",
       "3        2532      Airport        1.0  Trip Completed 2016-12-07 21:08:00   \n",
       "4        3112         City        1.0  Trip Completed 2016-07-13 08:33:16   \n",
       "\n",
       "       Drop timestamp  Request Hour Journey Duration       Timeslot  \n",
       "0 2016-11-07 13:00:00            11         01:09:00   Late Morning  \n",
       "1 2016-11-07 18:47:00            17         00:50:00        Evening  \n",
       "2 2016-12-07 09:58:00             9         00:41:00  Early Morning  \n",
       "3 2016-12-07 22:03:00            21         00:55:00          Night  \n",
       "4 2016-07-13 09:25:47             8         00:52:31  Early Morning  "
      ]
     },
     "execution_count": 631,
     "metadata": {},
     "output_type": "execute_result"
    }
   ],
   "source": [
    "# Creat a new dataframe uber_data_v2 - we will now work on this dataset for the analysis ahead\n",
    "uber_data_v2 = uber_data\n",
    "uber_data_v2.head()"
   ]
  },
  {
   "cell_type": "code",
   "execution_count": 632,
   "metadata": {},
   "outputs": [],
   "source": [
    "# Add a new column as supply (if Trip is completed, then supply is 1)\n",
    "uber_data_v2.loc[uber_data_v2[\"Status\"]==\"Trip Completed\", \"Supply\"] = 1\n",
    "uber_data_v2.loc[uber_data_v2[\"Status\"]!=\"Trip Completed\", \"Supply\"] = 0\n",
    "\n",
    "# Add a new column as demand (demand is 1 for every row in the dataframe)\n",
    "uber_data_v2[\"Demand\"] = 1\n",
    "\n",
    "# Add a new column D_S_Gap (demand - supply)\n",
    "uber_data_v2[\"D_S_Gap\"] = uber_data_v2[\"Demand\"] - uber_data_v2[\"Supply\"]"
   ]
  },
  {
   "cell_type": "code",
   "execution_count": 633,
   "metadata": {},
   "outputs": [
    {
     "data": {
      "text/plain": [
       "0.0    3914\n",
       "1.0    2831\n",
       "Name: Supply, dtype: int64"
      ]
     },
     "execution_count": 633,
     "metadata": {},
     "output_type": "execute_result"
    }
   ],
   "source": [
    "uber_data_v2[\"Supply\"].value_counts()"
   ]
  },
  {
   "cell_type": "code",
   "execution_count": 634,
   "metadata": {},
   "outputs": [
    {
     "data": {
      "text/html": [
       "<div>\n",
       "<style scoped>\n",
       "    .dataframe tbody tr th:only-of-type {\n",
       "        vertical-align: middle;\n",
       "    }\n",
       "\n",
       "    .dataframe tbody tr th {\n",
       "        vertical-align: top;\n",
       "    }\n",
       "\n",
       "    .dataframe thead th {\n",
       "        text-align: right;\n",
       "    }\n",
       "</style>\n",
       "<table border=\"1\" class=\"dataframe\">\n",
       "  <thead>\n",
       "    <tr style=\"text-align: right;\">\n",
       "      <th></th>\n",
       "      <th>Request id</th>\n",
       "      <th>Pickup point</th>\n",
       "      <th>Driver id</th>\n",
       "      <th>Status</th>\n",
       "      <th>Request timestamp</th>\n",
       "      <th>Drop timestamp</th>\n",
       "      <th>Request Hour</th>\n",
       "      <th>Journey Duration</th>\n",
       "      <th>Timeslot</th>\n",
       "      <th>Supply</th>\n",
       "      <th>Demand</th>\n",
       "      <th>D_S_Gap</th>\n",
       "    </tr>\n",
       "  </thead>\n",
       "  <tbody>\n",
       "    <tr>\n",
       "      <th>0</th>\n",
       "      <td>619</td>\n",
       "      <td>Airport</td>\n",
       "      <td>1.0</td>\n",
       "      <td>Trip Completed</td>\n",
       "      <td>2016-11-07 11:51:00</td>\n",
       "      <td>2016-11-07 13:00:00</td>\n",
       "      <td>11</td>\n",
       "      <td>01:09:00</td>\n",
       "      <td>Late Morning</td>\n",
       "      <td>1.0</td>\n",
       "      <td>1</td>\n",
       "      <td>0.0</td>\n",
       "    </tr>\n",
       "    <tr>\n",
       "      <th>1</th>\n",
       "      <td>867</td>\n",
       "      <td>Airport</td>\n",
       "      <td>1.0</td>\n",
       "      <td>Trip Completed</td>\n",
       "      <td>2016-11-07 17:57:00</td>\n",
       "      <td>2016-11-07 18:47:00</td>\n",
       "      <td>17</td>\n",
       "      <td>00:50:00</td>\n",
       "      <td>Evening</td>\n",
       "      <td>1.0</td>\n",
       "      <td>1</td>\n",
       "      <td>0.0</td>\n",
       "    </tr>\n",
       "    <tr>\n",
       "      <th>2</th>\n",
       "      <td>1807</td>\n",
       "      <td>City</td>\n",
       "      <td>1.0</td>\n",
       "      <td>Trip Completed</td>\n",
       "      <td>2016-12-07 09:17:00</td>\n",
       "      <td>2016-12-07 09:58:00</td>\n",
       "      <td>9</td>\n",
       "      <td>00:41:00</td>\n",
       "      <td>Early Morning</td>\n",
       "      <td>1.0</td>\n",
       "      <td>1</td>\n",
       "      <td>0.0</td>\n",
       "    </tr>\n",
       "    <tr>\n",
       "      <th>3</th>\n",
       "      <td>2532</td>\n",
       "      <td>Airport</td>\n",
       "      <td>1.0</td>\n",
       "      <td>Trip Completed</td>\n",
       "      <td>2016-12-07 21:08:00</td>\n",
       "      <td>2016-12-07 22:03:00</td>\n",
       "      <td>21</td>\n",
       "      <td>00:55:00</td>\n",
       "      <td>Night</td>\n",
       "      <td>1.0</td>\n",
       "      <td>1</td>\n",
       "      <td>0.0</td>\n",
       "    </tr>\n",
       "    <tr>\n",
       "      <th>4</th>\n",
       "      <td>3112</td>\n",
       "      <td>City</td>\n",
       "      <td>1.0</td>\n",
       "      <td>Trip Completed</td>\n",
       "      <td>2016-07-13 08:33:16</td>\n",
       "      <td>2016-07-13 09:25:47</td>\n",
       "      <td>8</td>\n",
       "      <td>00:52:31</td>\n",
       "      <td>Early Morning</td>\n",
       "      <td>1.0</td>\n",
       "      <td>1</td>\n",
       "      <td>0.0</td>\n",
       "    </tr>\n",
       "  </tbody>\n",
       "</table>\n",
       "</div>"
      ],
      "text/plain": [
       "   Request id Pickup point  Driver id          Status   Request timestamp  \\\n",
       "0         619      Airport        1.0  Trip Completed 2016-11-07 11:51:00   \n",
       "1         867      Airport        1.0  Trip Completed 2016-11-07 17:57:00   \n",
       "2        1807         City        1.0  Trip Completed 2016-12-07 09:17:00   \n",
       "3        2532      Airport        1.0  Trip Completed 2016-12-07 21:08:00   \n",
       "4        3112         City        1.0  Trip Completed 2016-07-13 08:33:16   \n",
       "\n",
       "       Drop timestamp  Request Hour Journey Duration       Timeslot  Supply  \\\n",
       "0 2016-11-07 13:00:00            11         01:09:00   Late Morning     1.0   \n",
       "1 2016-11-07 18:47:00            17         00:50:00        Evening     1.0   \n",
       "2 2016-12-07 09:58:00             9         00:41:00  Early Morning     1.0   \n",
       "3 2016-12-07 22:03:00            21         00:55:00          Night     1.0   \n",
       "4 2016-07-13 09:25:47             8         00:52:31  Early Morning     1.0   \n",
       "\n",
       "   Demand  D_S_Gap  \n",
       "0       1      0.0  \n",
       "1       1      0.0  \n",
       "2       1      0.0  \n",
       "3       1      0.0  \n",
       "4       1      0.0  "
      ]
     },
     "execution_count": 634,
     "metadata": {},
     "output_type": "execute_result"
    }
   ],
   "source": [
    "uber_data_v2.head()"
   ]
  },
  {
   "cell_type": "markdown",
   "metadata": {},
   "source": [
    "At an hourly level, plot the demand, supply and the supply gap (demand - supply)"
   ]
  },
  {
   "cell_type": "code",
   "execution_count": 635,
   "metadata": {},
   "outputs": [
    {
     "data": {
      "text/html": [
       "<div>\n",
       "<style scoped>\n",
       "    .dataframe tbody tr th:only-of-type {\n",
       "        vertical-align: middle;\n",
       "    }\n",
       "\n",
       "    .dataframe tbody tr th {\n",
       "        vertical-align: top;\n",
       "    }\n",
       "\n",
       "    .dataframe thead th {\n",
       "        text-align: right;\n",
       "    }\n",
       "</style>\n",
       "<table border=\"1\" class=\"dataframe\">\n",
       "  <thead>\n",
       "    <tr style=\"text-align: right;\">\n",
       "      <th></th>\n",
       "      <th>Pickup point</th>\n",
       "      <th>Request Hour</th>\n",
       "      <th>variable</th>\n",
       "      <th>value</th>\n",
       "    </tr>\n",
       "  </thead>\n",
       "  <tbody>\n",
       "    <tr>\n",
       "      <th>0</th>\n",
       "      <td>Airport</td>\n",
       "      <td>11</td>\n",
       "      <td>Supply</td>\n",
       "      <td>1.0</td>\n",
       "    </tr>\n",
       "    <tr>\n",
       "      <th>1</th>\n",
       "      <td>Airport</td>\n",
       "      <td>17</td>\n",
       "      <td>Supply</td>\n",
       "      <td>1.0</td>\n",
       "    </tr>\n",
       "    <tr>\n",
       "      <th>2</th>\n",
       "      <td>City</td>\n",
       "      <td>9</td>\n",
       "      <td>Supply</td>\n",
       "      <td>1.0</td>\n",
       "    </tr>\n",
       "    <tr>\n",
       "      <th>3</th>\n",
       "      <td>Airport</td>\n",
       "      <td>21</td>\n",
       "      <td>Supply</td>\n",
       "      <td>1.0</td>\n",
       "    </tr>\n",
       "    <tr>\n",
       "      <th>4</th>\n",
       "      <td>City</td>\n",
       "      <td>8</td>\n",
       "      <td>Supply</td>\n",
       "      <td>1.0</td>\n",
       "    </tr>\n",
       "  </tbody>\n",
       "</table>\n",
       "</div>"
      ],
      "text/plain": [
       "  Pickup point  Request Hour variable  value\n",
       "0      Airport            11   Supply    1.0\n",
       "1      Airport            17   Supply    1.0\n",
       "2         City             9   Supply    1.0\n",
       "3      Airport            21   Supply    1.0\n",
       "4         City             8   Supply    1.0"
      ]
     },
     "execution_count": 635,
     "metadata": {},
     "output_type": "execute_result"
    }
   ],
   "source": [
    "demand_supply_gap = pd.melt(frame=uber_data_v2[[\"Pickup point\", \"Request Hour\", \"Supply\", \"Demand\", \"D_S_Gap\"]], id_vars=[\"Pickup point\", \"Request Hour\"])\n",
    "demand_supply_gap.head()"
   ]
  },
  {
   "cell_type": "code",
   "execution_count": 636,
   "metadata": {},
   "outputs": [
    {
     "data": {
      "image/png": "[encoded data removed]",
      "text/plain": [
       "<Figure size 1440x576 with 1 Axes>"
      ]
     },
     "metadata": {},
     "output_type": "display_data"
    }
   ],
   "source": [
    "plt.figure(figsize=(20, 8))\n",
    "plt.subplot(2,1,1)\n",
    "sns.barplot(x='Request Hour',y= \"value\", hue = \"variable\", estimator=np.sum, data=demand_supply_gap, ci=None)\n",
    "plt.title(\"Combined Pickup Points - Demand-Supply Gap\")\n",
    "plt.ylabel(\"Request\")\n",
    "plt.show()"
   ]
  },
  {
   "cell_type": "markdown",
   "metadata": {},
   "source": [
    "As can be observed from the above plot, the greatest demand-supply gap over the period of the day exists between 5am - 9am in the morning and between 5pm - 10 pm in the evening <br><br>\n",
    "In order to figure out what may be causing these 2 timeslots to peak in terms of demand-supply gap, let's breake down the above analysis by the differnt Pickup Types\n"
   ]
  },
  {
   "cell_type": "code",
   "execution_count": 637,
   "metadata": {},
   "outputs": [
    {
     "data": {
      "image/png": "[encoded data removed]",
      "text/plain": [
       "<Figure size 1440x576 with 1 Axes>"
      ]
     },
     "metadata": {},
     "output_type": "display_data"
    },
    {
     "data": {
      "image/png": "[encoded data removed]",
      "text/plain": [
       "<Figure size 1440x576 with 1 Axes>"
      ]
     },
     "metadata": {},
     "output_type": "display_data"
    }
   ],
   "source": [
    "plt.figure(figsize=(20, 8))\n",
    "plt.subplot(2,1,1)\n",
    "sns.barplot(x='Request Hour',y= \"value\", hue = \"variable\", estimator=np.sum, data=demand_supply_gap.loc[demand_supply_gap[\"Pickup point\"]==\"Airport\"], ci=None)\n",
    "plt.title(\"Airport\")\n",
    "plt.ylabel(\"Request\")\n",
    "plt.show()\n",
    "\n",
    "plt.figure(figsize=(20,8))\n",
    "plt.subplot(2,1,2)\n",
    "sns.barplot(x='Request Hour',y= \"value\", hue = \"variable\", estimator=np.sum, data=demand_supply_gap.loc[demand_supply_gap[\"Pickup point\"]!=\"Airport\"], ci=None)\n",
    "plt.ylabel(\"Request\")\n",
    "plt.title(\"City\")\n",
    "plt.show()"
   ]
  },
  {
   "cell_type": "markdown",
   "metadata": {},
   "source": [
    "To get a better understanding of what **timeslot** in the day does the maximum gap in supply and demand for cabs exists, performing the above analysis at a timeslot will give a better indication"
   ]
  },
  {
   "cell_type": "code",
   "execution_count": 638,
   "metadata": {},
   "outputs": [
    {
     "data": {
      "text/html": [
       "<div>\n",
       "<style scoped>\n",
       "    .dataframe tbody tr th:only-of-type {\n",
       "        vertical-align: middle;\n",
       "    }\n",
       "\n",
       "    .dataframe tbody tr th {\n",
       "        vertical-align: top;\n",
       "    }\n",
       "\n",
       "    .dataframe thead th {\n",
       "        text-align: right;\n",
       "    }\n",
       "</style>\n",
       "<table border=\"1\" class=\"dataframe\">\n",
       "  <thead>\n",
       "    <tr style=\"text-align: right;\">\n",
       "      <th></th>\n",
       "      <th>Request id</th>\n",
       "      <th>Pickup point</th>\n",
       "      <th>Driver id</th>\n",
       "      <th>Status</th>\n",
       "      <th>Request timestamp</th>\n",
       "      <th>Drop timestamp</th>\n",
       "      <th>Request Hour</th>\n",
       "      <th>Journey Duration</th>\n",
       "      <th>Timeslot</th>\n",
       "      <th>Supply</th>\n",
       "      <th>Demand</th>\n",
       "      <th>D_S_Gap</th>\n",
       "    </tr>\n",
       "  </thead>\n",
       "  <tbody>\n",
       "    <tr>\n",
       "      <th>0</th>\n",
       "      <td>619</td>\n",
       "      <td>Airport</td>\n",
       "      <td>1.0</td>\n",
       "      <td>Trip Completed</td>\n",
       "      <td>2016-11-07 11:51:00</td>\n",
       "      <td>2016-11-07 13:00:00</td>\n",
       "      <td>11</td>\n",
       "      <td>01:09:00</td>\n",
       "      <td>Late Morning</td>\n",
       "      <td>1.0</td>\n",
       "      <td>1</td>\n",
       "      <td>0.0</td>\n",
       "    </tr>\n",
       "    <tr>\n",
       "      <th>1</th>\n",
       "      <td>867</td>\n",
       "      <td>Airport</td>\n",
       "      <td>1.0</td>\n",
       "      <td>Trip Completed</td>\n",
       "      <td>2016-11-07 17:57:00</td>\n",
       "      <td>2016-11-07 18:47:00</td>\n",
       "      <td>17</td>\n",
       "      <td>00:50:00</td>\n",
       "      <td>Evening</td>\n",
       "      <td>1.0</td>\n",
       "      <td>1</td>\n",
       "      <td>0.0</td>\n",
       "    </tr>\n",
       "    <tr>\n",
       "      <th>2</th>\n",
       "      <td>1807</td>\n",
       "      <td>City</td>\n",
       "      <td>1.0</td>\n",
       "      <td>Trip Completed</td>\n",
       "      <td>2016-12-07 09:17:00</td>\n",
       "      <td>2016-12-07 09:58:00</td>\n",
       "      <td>9</td>\n",
       "      <td>00:41:00</td>\n",
       "      <td>Early Morning</td>\n",
       "      <td>1.0</td>\n",
       "      <td>1</td>\n",
       "      <td>0.0</td>\n",
       "    </tr>\n",
       "    <tr>\n",
       "      <th>3</th>\n",
       "      <td>2532</td>\n",
       "      <td>Airport</td>\n",
       "      <td>1.0</td>\n",
       "      <td>Trip Completed</td>\n",
       "      <td>2016-12-07 21:08:00</td>\n",
       "      <td>2016-12-07 22:03:00</td>\n",
       "      <td>21</td>\n",
       "      <td>00:55:00</td>\n",
       "      <td>Night</td>\n",
       "      <td>1.0</td>\n",
       "      <td>1</td>\n",
       "      <td>0.0</td>\n",
       "    </tr>\n",
       "    <tr>\n",
       "      <th>4</th>\n",
       "      <td>3112</td>\n",
       "      <td>City</td>\n",
       "      <td>1.0</td>\n",
       "      <td>Trip Completed</td>\n",
       "      <td>2016-07-13 08:33:16</td>\n",
       "      <td>2016-07-13 09:25:47</td>\n",
       "      <td>8</td>\n",
       "      <td>00:52:31</td>\n",
       "      <td>Early Morning</td>\n",
       "      <td>1.0</td>\n",
       "      <td>1</td>\n",
       "      <td>0.0</td>\n",
       "    </tr>\n",
       "  </tbody>\n",
       "</table>\n",
       "</div>"
      ],
      "text/plain": [
       "   Request id Pickup point  Driver id          Status   Request timestamp  \\\n",
       "0         619      Airport        1.0  Trip Completed 2016-11-07 11:51:00   \n",
       "1         867      Airport        1.0  Trip Completed 2016-11-07 17:57:00   \n",
       "2        1807         City        1.0  Trip Completed 2016-12-07 09:17:00   \n",
       "3        2532      Airport        1.0  Trip Completed 2016-12-07 21:08:00   \n",
       "4        3112         City        1.0  Trip Completed 2016-07-13 08:33:16   \n",
       "\n",
       "       Drop timestamp  Request Hour Journey Duration       Timeslot  Supply  \\\n",
       "0 2016-11-07 13:00:00            11         01:09:00   Late Morning     1.0   \n",
       "1 2016-11-07 18:47:00            17         00:50:00        Evening     1.0   \n",
       "2 2016-12-07 09:58:00             9         00:41:00  Early Morning     1.0   \n",
       "3 2016-12-07 22:03:00            21         00:55:00          Night     1.0   \n",
       "4 2016-07-13 09:25:47             8         00:52:31  Early Morning     1.0   \n",
       "\n",
       "   Demand  D_S_Gap  \n",
       "0       1      0.0  \n",
       "1       1      0.0  \n",
       "2       1      0.0  \n",
       "3       1      0.0  \n",
       "4       1      0.0  "
      ]
     },
     "execution_count": 638,
     "metadata": {},
     "output_type": "execute_result"
    }
   ],
   "source": [
    "uber_data_v2.head()"
   ]
  },
  {
   "cell_type": "code",
   "execution_count": 639,
   "metadata": {},
   "outputs": [
    {
     "data": {
      "text/html": [
       "<div>\n",
       "<style scoped>\n",
       "    .dataframe tbody tr th:only-of-type {\n",
       "        vertical-align: middle;\n",
       "    }\n",
       "\n",
       "    .dataframe tbody tr th {\n",
       "        vertical-align: top;\n",
       "    }\n",
       "\n",
       "    .dataframe thead th {\n",
       "        text-align: right;\n",
       "    }\n",
       "</style>\n",
       "<table border=\"1\" class=\"dataframe\">\n",
       "  <thead>\n",
       "    <tr style=\"text-align: right;\">\n",
       "      <th></th>\n",
       "      <th>Pickup point</th>\n",
       "      <th>Timeslot</th>\n",
       "      <th>variable</th>\n",
       "      <th>value</th>\n",
       "    </tr>\n",
       "  </thead>\n",
       "  <tbody>\n",
       "    <tr>\n",
       "      <th>0</th>\n",
       "      <td>Airport</td>\n",
       "      <td>Late Morning</td>\n",
       "      <td>Supply</td>\n",
       "      <td>1.0</td>\n",
       "    </tr>\n",
       "    <tr>\n",
       "      <th>1</th>\n",
       "      <td>Airport</td>\n",
       "      <td>Evening</td>\n",
       "      <td>Supply</td>\n",
       "      <td>1.0</td>\n",
       "    </tr>\n",
       "    <tr>\n",
       "      <th>2</th>\n",
       "      <td>City</td>\n",
       "      <td>Early Morning</td>\n",
       "      <td>Supply</td>\n",
       "      <td>1.0</td>\n",
       "    </tr>\n",
       "    <tr>\n",
       "      <th>3</th>\n",
       "      <td>Airport</td>\n",
       "      <td>Night</td>\n",
       "      <td>Supply</td>\n",
       "      <td>1.0</td>\n",
       "    </tr>\n",
       "    <tr>\n",
       "      <th>4</th>\n",
       "      <td>City</td>\n",
       "      <td>Early Morning</td>\n",
       "      <td>Supply</td>\n",
       "      <td>1.0</td>\n",
       "    </tr>\n",
       "  </tbody>\n",
       "</table>\n",
       "</div>"
      ],
      "text/plain": [
       "  Pickup point       Timeslot variable  value\n",
       "0      Airport   Late Morning   Supply    1.0\n",
       "1      Airport        Evening   Supply    1.0\n",
       "2         City  Early Morning   Supply    1.0\n",
       "3      Airport          Night   Supply    1.0\n",
       "4         City  Early Morning   Supply    1.0"
      ]
     },
     "execution_count": 639,
     "metadata": {},
     "output_type": "execute_result"
    }
   ],
   "source": [
    "demand_supply_gap = pd.melt(frame=uber_data_v2[[\"Pickup point\", \"Timeslot\", \"Supply\", \"Demand\", \"D_S_Gap\"]], id_vars=[\"Pickup point\", \"Timeslot\"])\n",
    "demand_supply_gap.head()"
   ]
  },
  {
   "cell_type": "code",
   "execution_count": 640,
   "metadata": {},
   "outputs": [
    {
     "data": {
      "image/png": "[encoded data removed]",
      "text/plain": [
       "<Figure size 1440x576 with 1 Axes>"
      ]
     },
     "metadata": {},
     "output_type": "display_data"
    }
   ],
   "source": [
    "plt.figure(figsize=(20, 8))\n",
    "sns.barplot(x='Timeslot',y= \"value\", hue = \"variable\", estimator=np.sum, data=demand_supply_gap, ci=None, order=[\"Mid-Night\",\"Early Morning\",\"Late Morning\",\"Afternoon\",\"Evening\", \"Night\"])\n",
    "plt.title(\"Combined Pickup Points - Demand-Supply Gap\")\n",
    "plt.ylabel(\"Request\")\n",
    "plt.show()"
   ]
  },
  {
   "cell_type": "markdown",
   "metadata": {},
   "source": [
    "As can be observed from the above plot, the greatest demand-supply gap over the period of the day exists during Early Mornings and Evenings <br><br>\n",
    "In order to figure out what may be causing these 2 timeslots to peak in terms of demand-supply gap, let's breake down the above analysis by the differnt Pickup Types\n"
   ]
  },
  {
   "cell_type": "code",
   "execution_count": 641,
   "metadata": {},
   "outputs": [
    {
     "data": {
      "image/png": "[encoded data removed]",
      "text/plain": [
       "<Figure size 1440x576 with 1 Axes>"
      ]
     },
     "metadata": {},
     "output_type": "display_data"
    },
    {
     "data": {
      "image/png": "[encoded data removed]",
      "text/plain": [
       "<Figure size 1440x576 with 1 Axes>"
      ]
     },
     "metadata": {},
     "output_type": "display_data"
    }
   ],
   "source": [
    "plt.figure(figsize=(20, 8))\n",
    "plt.subplot(2,1,1)\n",
    "sns.barplot(x='Timeslot',y= \"value\", hue = \"variable\", estimator=np.sum, data=demand_supply_gap.loc[demand_supply_gap[\"Pickup point\"]==\"Airport\"], ci=None, order=[\"Mid-Night\",\"Early Morning\",\"Late Morning\",\"Afternoon\",\"Evening\", \"Night\"])\n",
    "plt.title(\"Airport\")\n",
    "plt.ylabel(\"Request\")\n",
    "plt.show()\n",
    "\n",
    "plt.figure(figsize=(20,8))\n",
    "plt.subplot(2,1,2)\n",
    "sns.barplot(x='Timeslot',y= \"value\", hue = \"variable\", estimator=np.sum, data=demand_supply_gap.loc[demand_supply_gap[\"Pickup point\"]!=\"Airport\"], ci=None, order=[\"Mid-Night\",\"Early Morning\",\"Late Morning\",\"Afternoon\",\"Evening\", \"Night\"])\n",
    "plt.ylabel(\"Request\")\n",
    "plt.title(\"City\")\n",
    "plt.show()"
   ]
  },
  {
   "cell_type": "code",
   "execution_count": 642,
   "metadata": {},
   "outputs": [
    {
     "name": "stdout",
     "output_type": "stream",
     "text": [
      "                   value\n",
      "Timeslot                \n",
      "Afternoon       4.709576\n",
      "Early Morning   2.302459\n",
      "Evening        59.916274\n",
      "Late Morning    3.192046\n",
      "Mid-Night       7.849294\n",
      "Night          22.030351\n",
      "                   value\n",
      "Timeslot                \n",
      "Afternoon       8.287569\n",
      "Early Morning  60.159760\n",
      "Evening         5.292062\n",
      "Late Morning    9.236146\n",
      "Mid-Night      10.683974\n",
      "Night           6.340489\n"
     ]
    }
   ],
   "source": [
    "ds_gap_airport = demand_supply_gap.loc[(demand_supply_gap[\"Pickup point\"]==\"Airport\")&(demand_supply_gap[\"variable\"]==\"D_S_Gap\"), [\"Timeslot\", \"variable\", \"value\"]]\n",
    "ds_gap_city = demand_supply_gap.loc[(demand_supply_gap[\"Pickup point\"]!=\"Airport\")&(demand_supply_gap[\"variable\"]==\"D_S_Gap\"), [\"Timeslot\", \"variable\", \"value\"]]\n",
    "\n",
    "# Percent distribution of the supply-demand gap in the Airport\n",
    "print(ds_gap_airport.groupby(\"Timeslot\").sum().transform(lambda x: x/np.sum(x)*100))\n",
    "\n",
    "# Percent distribution of the supply-demand gap in the City\n",
    "print(ds_gap_city.groupby(\"Timeslot\").sum().transform(lambda x: x/np.sum(x)*100))\n"
   ]
  },
  {
   "cell_type": "markdown",
   "metadata": {},
   "source": [
    "Looking at the Supply-Demand gap analysis, we can observe that:<br>\n",
    "   - The major gap in supply-demand for cabs from the Airport exists in the Evening (59.9% of the entire day's supply-demand gap in the Airport)\n",
    "   - The major gap in supply-demand for cabs from the City exists in the Early Morning (60.2% of the entire day's supply-demand gap in the City)"
   ]
  },
  {
   "cell_type": "markdown",
   "metadata": {},
   "source": [
    "#### Driver Wait time"
   ]
  },
  {
   "cell_type": "markdown",
   "metadata": {},
   "source": [
    "Now that we have identified the timeslots where the demand-supply gap is the highest, let's move ahead and find out what the dsitribution of waiting times looks like for drivers in airports and in the city"
   ]
  },
  {
   "cell_type": "markdown",
   "metadata": {},
   "source": [
    "In order to do this, we will consider only the data for drivers where Status is \"Trip completed\" or \"Cancelled\" as these are the 2 actions that involve the interference of the driver. Also, we are going to assume that for the Status type as \"Cancelled\", the driver has willingly cancelled the request and hence his wait time will start again from 0"
   ]
  },
  {
   "cell_type": "code",
   "execution_count": 643,
   "metadata": {},
   "outputs": [],
   "source": [
    "uber_driver_waiting = uber_data.loc[uber_data[\"Status\"]!=\"No Cars Available\"]"
   ]
  },
  {
   "cell_type": "code",
   "execution_count": 644,
   "metadata": {},
   "outputs": [],
   "source": [
    "# Now, order the data by driver id and Request timestamp in ascending order\n",
    "uber_driver_waiting = uber_driver_waiting.sort_values(by = [\"Driver id\", \"Request timestamp\"])"
   ]
  },
  {
   "cell_type": "code",
   "execution_count": 645,
   "metadata": {},
   "outputs": [
    {
     "data": {
      "text/html": [
       "<div>\n",
       "<style scoped>\n",
       "    .dataframe tbody tr th:only-of-type {\n",
       "        vertical-align: middle;\n",
       "    }\n",
       "\n",
       "    .dataframe tbody tr th {\n",
       "        vertical-align: top;\n",
       "    }\n",
       "\n",
       "    .dataframe thead th {\n",
       "        text-align: right;\n",
       "    }\n",
       "</style>\n",
       "<table border=\"1\" class=\"dataframe\">\n",
       "  <thead>\n",
       "    <tr style=\"text-align: right;\">\n",
       "      <th></th>\n",
       "      <th>Request id</th>\n",
       "      <th>Pickup point</th>\n",
       "      <th>Driver id</th>\n",
       "      <th>Status</th>\n",
       "      <th>Request timestamp</th>\n",
       "      <th>Drop timestamp</th>\n",
       "      <th>Request Hour</th>\n",
       "      <th>Journey Duration</th>\n",
       "      <th>Timeslot</th>\n",
       "      <th>Supply</th>\n",
       "      <th>Demand</th>\n",
       "      <th>D_S_Gap</th>\n",
       "    </tr>\n",
       "  </thead>\n",
       "  <tbody>\n",
       "    <tr>\n",
       "      <th>2831</th>\n",
       "      <td>2905</td>\n",
       "      <td>City</td>\n",
       "      <td>1.0</td>\n",
       "      <td>Cancelled</td>\n",
       "      <td>2016-07-13 06:08:41</td>\n",
       "      <td>NaT</td>\n",
       "      <td>6</td>\n",
       "      <td>NaT</td>\n",
       "      <td>Early Morning</td>\n",
       "      <td>0.0</td>\n",
       "      <td>1</td>\n",
       "      <td>1.0</td>\n",
       "    </tr>\n",
       "    <tr>\n",
       "      <th>4</th>\n",
       "      <td>3112</td>\n",
       "      <td>City</td>\n",
       "      <td>1.0</td>\n",
       "      <td>Trip Completed</td>\n",
       "      <td>2016-07-13 08:33:16</td>\n",
       "      <td>2016-07-13 09:25:47</td>\n",
       "      <td>8</td>\n",
       "      <td>00:52:31</td>\n",
       "      <td>Early Morning</td>\n",
       "      <td>1.0</td>\n",
       "      <td>1</td>\n",
       "      <td>0.0</td>\n",
       "    </tr>\n",
       "    <tr>\n",
       "      <th>5</th>\n",
       "      <td>3879</td>\n",
       "      <td>Airport</td>\n",
       "      <td>1.0</td>\n",
       "      <td>Trip Completed</td>\n",
       "      <td>2016-07-13 21:57:28</td>\n",
       "      <td>2016-07-13 22:28:59</td>\n",
       "      <td>21</td>\n",
       "      <td>00:31:31</td>\n",
       "      <td>Night</td>\n",
       "      <td>1.0</td>\n",
       "      <td>1</td>\n",
       "      <td>0.0</td>\n",
       "    </tr>\n",
       "    <tr>\n",
       "      <th>6</th>\n",
       "      <td>4270</td>\n",
       "      <td>Airport</td>\n",
       "      <td>1.0</td>\n",
       "      <td>Trip Completed</td>\n",
       "      <td>2016-07-14 06:15:32</td>\n",
       "      <td>2016-07-14 07:13:15</td>\n",
       "      <td>6</td>\n",
       "      <td>00:57:43</td>\n",
       "      <td>Early Morning</td>\n",
       "      <td>1.0</td>\n",
       "      <td>1</td>\n",
       "      <td>0.0</td>\n",
       "    </tr>\n",
       "    <tr>\n",
       "      <th>2832</th>\n",
       "      <td>4805</td>\n",
       "      <td>City</td>\n",
       "      <td>1.0</td>\n",
       "      <td>Cancelled</td>\n",
       "      <td>2016-07-14 17:07:58</td>\n",
       "      <td>NaT</td>\n",
       "      <td>17</td>\n",
       "      <td>NaT</td>\n",
       "      <td>Evening</td>\n",
       "      <td>0.0</td>\n",
       "      <td>1</td>\n",
       "      <td>1.0</td>\n",
       "    </tr>\n",
       "  </tbody>\n",
       "</table>\n",
       "</div>"
      ],
      "text/plain": [
       "      Request id Pickup point  Driver id          Status   Request timestamp  \\\n",
       "2831        2905         City        1.0       Cancelled 2016-07-13 06:08:41   \n",
       "4           3112         City        1.0  Trip Completed 2016-07-13 08:33:16   \n",
       "5           3879      Airport        1.0  Trip Completed 2016-07-13 21:57:28   \n",
       "6           4270      Airport        1.0  Trip Completed 2016-07-14 06:15:32   \n",
       "2832        4805         City        1.0       Cancelled 2016-07-14 17:07:58   \n",
       "\n",
       "          Drop timestamp  Request Hour Journey Duration       Timeslot  \\\n",
       "2831                 NaT             6              NaT  Early Morning   \n",
       "4    2016-07-13 09:25:47             8         00:52:31  Early Morning   \n",
       "5    2016-07-13 22:28:59            21         00:31:31          Night   \n",
       "6    2016-07-14 07:13:15             6         00:57:43  Early Morning   \n",
       "2832                 NaT            17              NaT        Evening   \n",
       "\n",
       "      Supply  Demand  D_S_Gap  \n",
       "2831     0.0       1      1.0  \n",
       "4        1.0       1      0.0  \n",
       "5        1.0       1      0.0  \n",
       "6        1.0       1      0.0  \n",
       "2832     0.0       1      1.0  "
      ]
     },
     "execution_count": 645,
     "metadata": {},
     "output_type": "execute_result"
    }
   ],
   "source": [
    "uber_driver_waiting.head()"
   ]
  },
  {
   "cell_type": "markdown",
   "metadata": {},
   "source": [
    "Now, we need to calculate the difference between the last \"Drop timestamp\" and the following \"Request timestamp\" for every driver individually - this will correspond to the wait times\n",
    "In case the driver has cancelled the request, his last timestamp will be considered as the cancel request timestamp and the next time stamp will be the new request timestamp"
   ]
  },
  {
   "cell_type": "code",
   "execution_count": 646,
   "metadata": {},
   "outputs": [],
   "source": [
    "# Replace all the cancelled Drop timestamps with request timemstamps\n",
    "uber_driver_waiting.loc[uber_driver_waiting['Status'] == \"Cancelled\", 'Drop timestamp'] = uber_driver_waiting[\"Request timestamp\"]\n",
    "\n",
    "# One approach that we can take in order to acheive what's explained above is by shifting the drop timestamp down by a row\n",
    "uber_driver_waiting['last_timestamp'] = uber_driver_waiting['Drop timestamp'].shift(1)\n",
    "\n",
    "# Create a flag column for when the driver id changes\n",
    "uber_driver_waiting['driver_check'] = uber_driver_waiting['Driver id'].shift() == uber_driver_waiting['Driver id']\n",
    "\n",
    "# Calculate the wait time as the differenct between request timestamp and last_timestamp\n",
    "uber_driver_waiting[\"wait_time\"] = uber_driver_waiting[\"Request timestamp\"] - uber_driver_waiting[\"last_timestamp\"]\n",
    "\n",
    "# Wherever we have a change in driver id, reset the wait_time\n",
    "uber_driver_waiting.loc[uber_driver_waiting[\"driver_check\"]==False, \"wait_time\"] = np.nan"
   ]
  },
  {
   "cell_type": "code",
   "execution_count": 647,
   "metadata": {},
   "outputs": [
    {
     "data": {
      "text/html": [
       "<div>\n",
       "<style scoped>\n",
       "    .dataframe tbody tr th:only-of-type {\n",
       "        vertical-align: middle;\n",
       "    }\n",
       "\n",
       "    .dataframe tbody tr th {\n",
       "        vertical-align: top;\n",
       "    }\n",
       "\n",
       "    .dataframe thead th {\n",
       "        text-align: right;\n",
       "    }\n",
       "</style>\n",
       "<table border=\"1\" class=\"dataframe\">\n",
       "  <thead>\n",
       "    <tr style=\"text-align: right;\">\n",
       "      <th></th>\n",
       "      <th>Request id</th>\n",
       "      <th>Pickup point</th>\n",
       "      <th>Driver id</th>\n",
       "      <th>Status</th>\n",
       "      <th>Request timestamp</th>\n",
       "      <th>Drop timestamp</th>\n",
       "      <th>Request Hour</th>\n",
       "      <th>Journey Duration</th>\n",
       "      <th>Timeslot</th>\n",
       "      <th>Supply</th>\n",
       "      <th>Demand</th>\n",
       "      <th>D_S_Gap</th>\n",
       "      <th>last_timestamp</th>\n",
       "      <th>driver_check</th>\n",
       "      <th>wait_time</th>\n",
       "    </tr>\n",
       "  </thead>\n",
       "  <tbody>\n",
       "    <tr>\n",
       "      <th>2831</th>\n",
       "      <td>2905</td>\n",
       "      <td>City</td>\n",
       "      <td>1.0</td>\n",
       "      <td>Cancelled</td>\n",
       "      <td>2016-07-13 06:08:41</td>\n",
       "      <td>2016-07-13 06:08:41</td>\n",
       "      <td>6</td>\n",
       "      <td>NaT</td>\n",
       "      <td>Early Morning</td>\n",
       "      <td>0.0</td>\n",
       "      <td>1</td>\n",
       "      <td>1.0</td>\n",
       "      <td>NaT</td>\n",
       "      <td>False</td>\n",
       "      <td>NaT</td>\n",
       "    </tr>\n",
       "    <tr>\n",
       "      <th>4</th>\n",
       "      <td>3112</td>\n",
       "      <td>City</td>\n",
       "      <td>1.0</td>\n",
       "      <td>Trip Completed</td>\n",
       "      <td>2016-07-13 08:33:16</td>\n",
       "      <td>2016-07-13 09:25:47</td>\n",
       "      <td>8</td>\n",
       "      <td>00:52:31</td>\n",
       "      <td>Early Morning</td>\n",
       "      <td>1.0</td>\n",
       "      <td>1</td>\n",
       "      <td>0.0</td>\n",
       "      <td>2016-07-13 06:08:41</td>\n",
       "      <td>True</td>\n",
       "      <td>02:24:35</td>\n",
       "    </tr>\n",
       "    <tr>\n",
       "      <th>5</th>\n",
       "      <td>3879</td>\n",
       "      <td>Airport</td>\n",
       "      <td>1.0</td>\n",
       "      <td>Trip Completed</td>\n",
       "      <td>2016-07-13 21:57:28</td>\n",
       "      <td>2016-07-13 22:28:59</td>\n",
       "      <td>21</td>\n",
       "      <td>00:31:31</td>\n",
       "      <td>Night</td>\n",
       "      <td>1.0</td>\n",
       "      <td>1</td>\n",
       "      <td>0.0</td>\n",
       "      <td>2016-07-13 09:25:47</td>\n",
       "      <td>True</td>\n",
       "      <td>12:31:41</td>\n",
       "    </tr>\n",
       "    <tr>\n",
       "      <th>6</th>\n",
       "      <td>4270</td>\n",
       "      <td>Airport</td>\n",
       "      <td>1.0</td>\n",
       "      <td>Trip Completed</td>\n",
       "      <td>2016-07-14 06:15:32</td>\n",
       "      <td>2016-07-14 07:13:15</td>\n",
       "      <td>6</td>\n",
       "      <td>00:57:43</td>\n",
       "      <td>Early Morning</td>\n",
       "      <td>1.0</td>\n",
       "      <td>1</td>\n",
       "      <td>0.0</td>\n",
       "      <td>2016-07-13 22:28:59</td>\n",
       "      <td>True</td>\n",
       "      <td>07:46:33</td>\n",
       "    </tr>\n",
       "    <tr>\n",
       "      <th>2832</th>\n",
       "      <td>4805</td>\n",
       "      <td>City</td>\n",
       "      <td>1.0</td>\n",
       "      <td>Cancelled</td>\n",
       "      <td>2016-07-14 17:07:58</td>\n",
       "      <td>2016-07-14 17:07:58</td>\n",
       "      <td>17</td>\n",
       "      <td>NaT</td>\n",
       "      <td>Evening</td>\n",
       "      <td>0.0</td>\n",
       "      <td>1</td>\n",
       "      <td>1.0</td>\n",
       "      <td>2016-07-14 07:13:15</td>\n",
       "      <td>True</td>\n",
       "      <td>09:54:43</td>\n",
       "    </tr>\n",
       "  </tbody>\n",
       "</table>\n",
       "</div>"
      ],
      "text/plain": [
       "      Request id Pickup point  Driver id          Status   Request timestamp  \\\n",
       "2831        2905         City        1.0       Cancelled 2016-07-13 06:08:41   \n",
       "4           3112         City        1.0  Trip Completed 2016-07-13 08:33:16   \n",
       "5           3879      Airport        1.0  Trip Completed 2016-07-13 21:57:28   \n",
       "6           4270      Airport        1.0  Trip Completed 2016-07-14 06:15:32   \n",
       "2832        4805         City        1.0       Cancelled 2016-07-14 17:07:58   \n",
       "\n",
       "          Drop timestamp  Request Hour Journey Duration       Timeslot  \\\n",
       "2831 2016-07-13 06:08:41             6              NaT  Early Morning   \n",
       "4    2016-07-13 09:25:47             8         00:52:31  Early Morning   \n",
       "5    2016-07-13 22:28:59            21         00:31:31          Night   \n",
       "6    2016-07-14 07:13:15             6         00:57:43  Early Morning   \n",
       "2832 2016-07-14 17:07:58            17              NaT        Evening   \n",
       "\n",
       "      Supply  Demand  D_S_Gap      last_timestamp  driver_check wait_time  \n",
       "2831     0.0       1      1.0                 NaT         False       NaT  \n",
       "4        1.0       1      0.0 2016-07-13 06:08:41          True  02:24:35  \n",
       "5        1.0       1      0.0 2016-07-13 09:25:47          True  12:31:41  \n",
       "6        1.0       1      0.0 2016-07-13 22:28:59          True  07:46:33  \n",
       "2832     0.0       1      1.0 2016-07-14 07:13:15          True  09:54:43  "
      ]
     },
     "execution_count": 647,
     "metadata": {},
     "output_type": "execute_result"
    }
   ],
   "source": [
    "uber_driver_waiting.head()"
   ]
  },
  {
   "cell_type": "code",
   "execution_count": 648,
   "metadata": {},
   "outputs": [],
   "source": [
    "# Check the distribution of wait times for Drivers in the different pickup point in terms of hours\n",
    "uber_driver_waiting.loc[uber_driver_waiting[\"driver_check\"] == True,\"wait_time_hours\"] = uber_driver_waiting.loc[uber_driver_waiting[\"driver_check\"] == True,'wait_time'].dt.components['hours']"
   ]
  },
  {
   "cell_type": "code",
   "execution_count": 649,
   "metadata": {},
   "outputs": [
    {
     "data": {
      "text/plain": [
       "<function matplotlib.pyplot.show(*args, **kw)>"
      ]
     },
     "execution_count": 649,
     "metadata": {},
     "output_type": "execute_result"
    },
    {
     "data": {
      "image/png": "[encoded data removed]",
      "text/plain": [
       "<Figure size 1440x576 with 1 Axes>"
      ]
     },
     "metadata": {},
     "output_type": "display_data"
    }
   ],
   "source": [
    "# Plot the distribution of the wait times accross the different pickup points\n",
    "plt.figure(figsize=(20, 8))\n",
    "sns.boxplot(x=uber_driver_waiting[\"Pickup point\"], y=uber_driver_waiting[\"wait_time_hours\"], data= uber_driver_waiting.loc[uber_driver_waiting[\"driver_check\"] == True])\n",
    "plt.ylabel(\"Wait time (in Hours)\")\n",
    "plt.xlabel(\"Pickup Points\")\n",
    "plt.title(\"Distribution of wait times by pickup points\")\n",
    "plt.show"
   ]
  },
  {
   "cell_type": "markdown",
   "metadata": {},
   "source": [
    "The spread of wait times in the city is a lot more than the spread of wait times in the airport. <br>\n",
    "The data above is a good indication of how many hours a driver has to wait in the Airport or in the city to get a request of a booking. Both the pickup points have a median wait time of 5 hours! <br><br>\n",
    "However, we need to keep in mind that the data we have is only limited to those requests from the city to airport, and airport to city. If we were to consider all the bookings data, then you would expect the wait times in the city to be drastically lower than the wait times in the airport"
   ]
  },
  {
   "cell_type": "markdown",
   "metadata": {},
   "source": [
    "Another way of going about the wait time analysis would be by only considering the rows where we have a driver going from city to airport (or vice versa), and then returning in the next request picked up by the driver"
   ]
  },
  {
   "cell_type": "code",
   "execution_count": 650,
   "metadata": {},
   "outputs": [],
   "source": [
    "# Shift the Pickup point column 1 row down to allow for comparison between current pickpu point and next pickup point\n",
    "uber_driver_waiting['prev_pickup'] = uber_driver_waiting['Pickup point'].shift(1)"
   ]
  },
  {
   "cell_type": "code",
   "execution_count": 651,
   "metadata": {},
   "outputs": [],
   "source": [
    "uber_driver_waiting_refined = uber_driver_waiting.loc[(uber_driver_waiting[\"prev_pickup\"]!=uber_driver_waiting[\"Pickup point\"]) & (uber_driver_waiting[\"driver_check\"] == True)]"
   ]
  },
  {
   "cell_type": "code",
   "execution_count": 652,
   "metadata": {},
   "outputs": [
    {
     "data": {
      "text/plain": [
       "<function matplotlib.pyplot.show(*args, **kw)>"
      ]
     },
     "execution_count": 652,
     "metadata": {},
     "output_type": "execute_result"
    },
    {
     "data": {
      "image/png": "[encoded data removed]",
      "text/plain": [
       "<Figure size 1440x576 with 1 Axes>"
      ]
     },
     "metadata": {},
     "output_type": "display_data"
    }
   ],
   "source": [
    "# Plot the distribution of the wait times accross the different pickup points\n",
    "plt.figure(figsize=(20, 8))\n",
    "sns.boxplot(x=uber_driver_waiting_refined[\"Pickup point\"], y=uber_driver_waiting_refined[\"wait_time_hours\"], data= uber_driver_waiting_refined)\n",
    "plt.ylabel(\"Wait time (in Hours)\")\n",
    "plt.xlabel(\"Pickup Points\")\n",
    "plt.title(\"Distribution of wait times by pickup points\")\n",
    "plt.show"
   ]
  },
  {
   "cell_type": "markdown",
   "metadata": {},
   "source": [
    "Just like the case when we considered the entire dataset, the spread of wait times in the city is a lot more than the spread of wait times in the airport. <br>\n",
    "The median wait time in the Airport is slightly less than the City"
   ]
  }
 ],
 "metadata": {
  "kernelspec": {
   "display_name": "Python 3",
   "language": "python",
   "name": "python3"
  },
  "language_info": {
   "codemirror_mode": {
    "name": "ipython",
    "version": 3
   },
   "file_extension": ".py",
   "mimetype": "text/x-python",
   "name": "python",
   "nbconvert_exporter": "python",
   "pygments_lexer": "ipython3",
   "version": "3.6.5"
  }
 },
 "nbformat": 4,
 "nbformat_minor": 2
}
