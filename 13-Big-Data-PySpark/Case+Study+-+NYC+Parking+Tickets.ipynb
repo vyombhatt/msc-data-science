{
 "cells": [
  {
   "cell_type": "markdown",
   "metadata": {},
   "source": [
    "# Case Study\n",
    "\n",
    "### NYC Parking Tickets: An Exploratory Analysis\n",
    "\n",
    "#### Problem Statement\n",
    "New York City is a thriving metropolis. Just like most other metros its size, one of the biggest problems its citizens face is parking. The classic combination of a huge number of cars and cramped geography leads to a huge number of parking tickets.\n",
    "\n",
    "In an attempt to scientifically analyse this phenomenon, the NYC Police Department has collected data for parking tickets. Of these, the data files for multiple years are publicly available on Kaggle. We will try and perform some exploratory analysis on a part of this data. Spark will allow us to analyse the full files at high speeds as opposed to taking a series of random samples that will approximate the population. For the scope of this analysis, we will analyse the parking tickets over the year 2017. \n",
    "\n",
    "Note: Although the broad goal of any analysis of this type is to have better parking and fewer tickets, we are not looking for recommendations on how to reduce the number of parking tickets—there are no specific points reserved for this.\n",
    "\n",
    "The purpose of this case study is to conduct an exploratory data analysis that will help you understand the data. Since the size of the dataset is large, your queries will take some time to run, and you will need to identify the correct queries quicker. The questions given below will guide your analysis."
   ]
  },
  {
   "cell_type": "code",
   "execution_count": 1,
   "metadata": {},
   "outputs": [],
   "source": [
    "# First, let's create a SparkSession.\n",
    "# A SparkSession can be used to create DataFrame, register DataFrame as tables, execute SQL over tables, cache tables etc.\n",
    "\n",
    "from pyspark.sql import SparkSession\n",
    "spark = SparkSession \\\n",
    "    .builder \\\n",
    "    .appName(\"Case Study EDA\") \\\n",
    "    .getOrCreate()"
   ]
  },
  {
   "cell_type": "code",
   "execution_count": 2,
   "metadata": {},
   "outputs": [
    {
     "data": {
      "text/plain": [
       "DataFrame[Summons Number: bigint, Plate ID: string, Registration State: string, Issue Date: timestamp, Violation Code: int, Vehicle Body Type: string, Vehicle Make: string, Violation Precinct: int, Issuer Precinct: int, Violation Time: string]"
      ]
     },
     "execution_count": 2,
     "metadata": {},
     "output_type": "execute_result"
    }
   ],
   "source": [
    "# Let's read the dataframe that has been placed on HDFS, also loading the first row as the column names\n",
    "df = spark.read.format(\"csv\").load(\"/common_folder/nyc_parking/Parking_Violations_Issued_-_Fiscal_Year_2017.csv\", \n",
    "                                   header = True, inferSchema = True)\n",
    "df"
   ]
  },
  {
   "cell_type": "code",
   "execution_count": 3,
   "metadata": {},
   "outputs": [
    {
     "name": "stdout",
     "output_type": "stream",
     "text": [
      "+--------------+--------+------------------+-------------------+--------------+-----------------+------------+------------------+---------------+--------------+\n",
      "|Summons Number|Plate ID|Registration State|         Issue Date|Violation Code|Vehicle Body Type|Vehicle Make|Violation Precinct|Issuer Precinct|Violation Time|\n",
      "+--------------+--------+------------------+-------------------+--------------+-----------------+------------+------------------+---------------+--------------+\n",
      "|    5092469481| GZH7067|                NY|2016-07-10 00:00:00|             7|             SUBN|       TOYOT|                 0|              0|         0143A|\n",
      "|    5092451658| GZH7067|                NY|2016-07-08 00:00:00|             7|             SUBN|       TOYOT|                 0|              0|         0400P|\n",
      "|    4006265037| FZX9232|                NY|2016-08-23 00:00:00|             5|             SUBN|        FORD|                 0|              0|         0233P|\n",
      "|    8478629828| 66623ME|                NY|2017-06-14 00:00:00|            47|             REFG|       MITSU|                14|             14|         1120A|\n",
      "|    7868300310| 37033JV|                NY|2016-11-21 00:00:00|            69|             DELV|       INTER|                13|             13|         0555P|\n",
      "+--------------+--------+------------------+-------------------+--------------+-----------------+------------+------------------+---------------+--------------+\n",
      "only showing top 5 rows\n",
      "\n"
     ]
    }
   ],
   "source": [
    "# Let's get a glance of what the dataframe looks like\n",
    "df.show(5)"
   ]
  },
  {
   "cell_type": "code",
   "execution_count": 4,
   "metadata": {},
   "outputs": [
    {
     "data": {
      "text/plain": [
       "DataFrame[Summons Number: bigint, Plate ID: string, Registration State: string, Issue Date: timestamp, Violation Code: int, Vehicle Body Type: string, Vehicle Make: string, Violation Precinct: int, Issuer Precinct: int, Violation Time: string]"
      ]
     },
     "execution_count": 4,
     "metadata": {},
     "output_type": "execute_result"
    }
   ],
   "source": [
    "# In order to boost performance, let's cache dataframe\n",
    "df.cache()"
   ]
  },
  {
   "cell_type": "markdown",
   "metadata": {},
   "source": [
    "Before moving on to answering the questions, let's performing a basic data check to get a feel of what the data looks like"
   ]
  },
  {
   "cell_type": "code",
   "execution_count": 5,
   "metadata": {},
   "outputs": [
    {
     "data": {
      "text/plain": [
       "[('Summons Number', 'bigint'),\n",
       " ('Plate ID', 'string'),\n",
       " ('Registration State', 'string'),\n",
       " ('Issue Date', 'timestamp'),\n",
       " ('Violation Code', 'int'),\n",
       " ('Vehicle Body Type', 'string'),\n",
       " ('Vehicle Make', 'string'),\n",
       " ('Violation Precinct', 'int'),\n",
       " ('Issuer Precinct', 'int'),\n",
       " ('Violation Time', 'string')]"
      ]
     },
     "execution_count": 5,
     "metadata": {},
     "output_type": "execute_result"
    }
   ],
   "source": [
    "# Firstly, let's look at what the data types are for each of the columns in the dataset\n",
    "df.dtypes"
   ]
  },
  {
   "cell_type": "code",
   "execution_count": 6,
   "metadata": {},
   "outputs": [
    {
     "name": "stdout",
     "output_type": "stream",
     "text": [
      "+--------------+--------+------------------+----------+--------------+-----------------+------------+------------------+---------------+--------------+\n",
      "|Summons Number|Plate ID|Registration State|Issue Date|Violation Code|Vehicle Body Type|Vehicle Make|Violation Precinct|Issuer Precinct|Violation Time|\n",
      "+--------------+--------+------------------+----------+--------------+-----------------+------------+------------------+---------------+--------------+\n",
      "|             0|       0|                 0|         0|             0|                0|           0|                 0|              0|             0|\n",
      "+--------------+--------+------------------+----------+--------------+-----------------+------------+------------------+---------------+--------------+\n",
      "\n"
     ]
    }
   ],
   "source": [
    "# Checking for null values in our data\n",
    "from pyspark.sql.functions import isnan, when, count, col\n",
    "df.select([count(when(col(c).isNull(), c)).alias(c) for c in df.columns]).show()"
   ]
  },
  {
   "cell_type": "code",
   "execution_count": 7,
   "metadata": {},
   "outputs": [
    {
     "name": "stdout",
     "output_type": "stream",
     "text": [
      "+--------------+--------+------------------+----------+--------------+-----------------+------------+------------------+---------------+--------------+\n",
      "|Summons Number|Plate ID|Registration State|Issue Date|Violation Code|Vehicle Body Type|Vehicle Make|Violation Precinct|Issuer Precinct|Violation Time|\n",
      "+--------------+--------+------------------+----------+--------------+-----------------+------------+------------------+---------------+--------------+\n",
      "|             0|     728|                 0|         0|             0|            42711|       73050|                 0|              0|            63|\n",
      "+--------------+--------+------------------+----------+--------------+-----------------+------------+------------------+---------------+--------------+\n",
      "\n"
     ]
    }
   ],
   "source": [
    "# Looking for nan values that may exist as a string in the dataset\n",
    "df.select([count(when(col(c)=='nan', c)).alias(c) for c in df.columns]).show()"
   ]
  },
  {
   "cell_type": "code",
   "execution_count": 8,
   "metadata": {},
   "outputs": [],
   "source": [
    "# There are no null values in our dataset\n",
    "# However, we can see that there do exist values in the string column of the datasets that hold 'nan'\n",
    "# Since these values are not consistent across all columns, and just exist for a certain columns, we'll ignore them for now\n",
    "# As we proceed with the analysis further, we'll exclude these values as and when needed"
   ]
  },
  {
   "cell_type": "code",
   "execution_count": 9,
   "metadata": {},
   "outputs": [],
   "source": [
    "# let's convert the Issue date column into timestamp format\n",
    "from pyspark.sql.functions import col, to_timestamp\n",
    "df = df.withColumn(\"Issue Date\", to_timestamp(col(\"Issue Date\"), \"yyyy-MM-dd  HH:mm:ss\"))"
   ]
  },
  {
   "cell_type": "code",
   "execution_count": 10,
   "metadata": {},
   "outputs": [
    {
     "data": {
      "image/png": "[encoded data removed]",
      "text/plain": [
       "<Figure size 1440x216 with 1 Axes>"
      ]
     },
     "metadata": {},
     "output_type": "display_data"
    }
   ],
   "source": [
    "# Let's analyze the Issue Date column to see how many year's worth of data do we have\n",
    "from pyspark.sql.functions import year\n",
    "from pyspark.sql.functions import count\n",
    "\n",
    "# Let's see using a plot of frequency by year on if there exists data outside of just 2017\n",
    "year_freq = df \\\n",
    "            .withColumn('Issue Date', year(col('Issue Date'))) \\\n",
    "            .groupBy('Issue Date') \\\n",
    "            .agg(count('Issue Date').alias('cnt')) \\\n",
    "            .orderBy('Issue Date')\n",
    "\n",
    "# Plotting the year wise frequency of the data in a bor plot to visualize the distribution \n",
    "import pandas as pd\n",
    "import matplotlib.pyplot as plt\n",
    "%matplotlib inline \n",
    "\n",
    "year_freq_pd = year_freq.toPandas()\n",
    "year_freq_pd.index = year_freq_pd['Issue Date']\n",
    "\n",
    "# plt.figure(figsize=(1,1))\n",
    "year_freq_pd.plot.bar()\n",
    "plt.xlabel('Year', fontsize=12)\n",
    "plt.ylabel('Tickets Collected', fontsize=12)\n",
    "plt.gcf().set_size_inches(20, 3)\n",
    "plt.show()"
   ]
  },
  {
   "cell_type": "code",
   "execution_count": 11,
   "metadata": {},
   "outputs": [],
   "source": [
    "# # We can see that the file holds data for a number of years, and not just 2017. We'll need to filter other years' data out\n",
    "# # We see that there is data for many years other than 2017\n",
    "# # Let's filter out the data so that it only holds data for 2017\n",
    "# df2017 = df.select('*').filter(year('Issue Date') == 2017)\n",
    "# df2017.show(2)"
   ]
  },
  {
   "cell_type": "markdown",
   "metadata": {},
   "source": [
    "The above piece of code would be used to extract the data for just ther year 2017. However, **since we've been explicitly asked by the TA to consider the entire data for this analysis, the above code has been commented out and we'll proceed with the entire data for further analysis**"
   ]
  },
  {
   "cell_type": "code",
   "execution_count": 12,
   "metadata": {},
   "outputs": [],
   "source": [
    "df2017 = df.select('*')"
   ]
  },
  {
   "cell_type": "code",
   "execution_count": 13,
   "metadata": {},
   "outputs": [],
   "source": [
    "# Next, in our analysis moving forward, we would be analyzing the data in form of a sql table.\n",
    "# Let's create a SQL table view from our df\n",
    "df2017.createOrReplaceTempView(\"df2017_sql\")"
   ]
  },
  {
   "cell_type": "code",
   "execution_count": 14,
   "metadata": {},
   "outputs": [
    {
     "data": {
      "text/plain": [
       "DataFrame[Summons Number: bigint, Plate ID: string, Registration State: string, Issue Date: timestamp, Violation Code: int, Vehicle Body Type: string, Vehicle Make: string, Violation Precinct: int, Issuer Precinct: int, Violation Time: string]"
      ]
     },
     "execution_count": 14,
     "metadata": {},
     "output_type": "execute_result"
    }
   ],
   "source": [
    "# Let's cache this table for quicker analysis\n",
    "df2017.cache()"
   ]
  },
  {
   "cell_type": "markdown",
   "metadata": {},
   "source": [
    "** Questions to Be Answered in the Analysis:**\n",
    "\n",
    "**Examine the data** \n",
    "1. Find the total number of tickets for the year."
   ]
  },
  {
   "cell_type": "code",
   "execution_count": 15,
   "metadata": {},
   "outputs": [
    {
     "data": {
      "text/plain": [
       "10803028"
      ]
     },
     "execution_count": 15,
     "metadata": {},
     "output_type": "execute_result"
    }
   ],
   "source": [
    "from pyspark.sql.functions import count\n",
    "\n",
    "df2017 \\\n",
    ".select(col('Summons Number')) \\\n",
    ".distinct() \\\n",
    ".count()"
   ]
  },
  {
   "cell_type": "markdown",
   "metadata": {},
   "source": [
    "2. Find out the number of unique states from where the cars that got parking tickets came. (Hint: Use the column 'Registration State'.)\n",
    "\n",
    "There is a numeric entry '99' in the column, which should be corrected. Replace it with the state having the maximum entries. Provide the number of unique states again."
   ]
  },
  {
   "cell_type": "code",
   "execution_count": 16,
   "metadata": {},
   "outputs": [
    {
     "data": {
      "image/png": "[encoded data removed]",
      "text/plain": [
       "<Figure size 1440x288 with 1 Axes>"
      ]
     },
     "metadata": {},
     "output_type": "display_data"
    }
   ],
   "source": [
    "# First, let's check the different Registration states in the data\n",
    "reg_state_freq = df2017 \\\n",
    "                 .groupBy('Registration State') \\\n",
    "                 .agg(count('Registration State').alias('cnt')) \\\n",
    "                 .orderBy('cnt', ascending = False)\n",
    "\n",
    "# Plotting the Registration State wise tickets collected in a bor plot to visualize the distribution \n",
    "import pandas as pd\n",
    "import matplotlib.pyplot as plt\n",
    "%matplotlib inline \n",
    "\n",
    "reg_state_freq_pd = reg_state_freq.toPandas()\n",
    "reg_state_freq_pd.index = reg_state_freq_pd['Registration State']\n",
    "\n",
    "# plt.figure(figsize=(1,1))\n",
    "reg_state_freq_pd.plot.bar()\n",
    "plt.xlabel('Registration State', fontsize=12)\n",
    "plt.ylabel('Tickets Collected', fontsize=12)\n",
    "plt.gcf().set_size_inches(20, 4)\n",
    "plt.show()"
   ]
  },
  {
   "cell_type": "code",
   "execution_count": 17,
   "metadata": {},
   "outputs": [],
   "source": [
    "# We see that the State with most registrations is NY.\n",
    "# Also, we observe that there is a state entry as '99'. \n",
    "# As requested, let's replace these entries with NY (state with most registrations)\n",
    "from pyspark.sql.functions import regexp_replace\n",
    "\n",
    "df2017 = df2017.withColumn('Registration State', regexp_replace(col('Registration State'),'99', 'NY'))"
   ]
  },
  {
   "cell_type": "code",
   "execution_count": 18,
   "metadata": {},
   "outputs": [
    {
     "name": "stdout",
     "output_type": "stream",
     "text": [
      "+--------+\n",
      "|count(1)|\n",
      "+--------+\n",
      "|      66|\n",
      "+--------+\n",
      "\n"
     ]
    }
   ],
   "source": [
    "# Now getting to the question, the number of unique states from where the cars that got parking tickets came\n",
    "df2017 \\\n",
    ".select('Registration State') \\\n",
    ".distinct() \\\n",
    ".agg(count('*')).show()"
   ]
  },
  {
   "cell_type": "code",
   "execution_count": 19,
   "metadata": {},
   "outputs": [],
   "source": [
    "# We see that there are 66 unique states from where the cars got parking tickets"
   ]
  },
  {
   "cell_type": "markdown",
   "metadata": {},
   "source": [
    "**Aggregation tasks**\n",
    "1. How often does each violation code occur? Display the frequency of the top five violation codes."
   ]
  },
  {
   "cell_type": "code",
   "execution_count": 20,
   "metadata": {},
   "outputs": [],
   "source": [
    "# First, let's perform an aggregation on Violation Code to identify the count of entries for each in the data\n",
    "violation_code_freq = df2017 \\\n",
    "                      .groupBy('Violation Code') \\\n",
    "                      .agg(count('Violation Code').alias('Frequency')) \\\n",
    "                      .orderBy('Violation Code')"
   ]
  },
  {
   "cell_type": "code",
   "execution_count": 21,
   "metadata": {},
   "outputs": [
    {
     "data": {
      "image/png": "[encoded data removed]",
      "text/plain": [
       "<Figure size 1440x288 with 1 Axes>"
      ]
     },
     "metadata": {},
     "output_type": "display_data"
    }
   ],
   "source": [
    "# Plotting the Violation Code Frequency in a bor plot to visualize the distribution \n",
    "import pandas as pd\n",
    "import matplotlib.pyplot as plt\n",
    "%matplotlib inline \n",
    "\n",
    "violation_code_freq_pd = violation_code_freq.toPandas()\n",
    "violation_code_freq_pd.index = violation_code_freq_pd['Violation Code']\n",
    "\n",
    "# plt.figure(figsize=(1,1))\n",
    "violation_code_freq_pd.plot.bar()\n",
    "plt.xlabel('Violation Code', fontsize=12)\n",
    "plt.ylabel('Tickets Collected', fontsize=12)\n",
    "plt.gcf().set_size_inches(20, 4)\n",
    "plt.show()"
   ]
  },
  {
   "cell_type": "code",
   "execution_count": 22,
   "metadata": {},
   "outputs": [
    {
     "name": "stdout",
     "output_type": "stream",
     "text": [
      "+--------------+---------+\n",
      "|Violation Code|Frequency|\n",
      "+--------------+---------+\n",
      "|            21|  1528588|\n",
      "|            36|  1400614|\n",
      "|            38|  1062304|\n",
      "|            14|   893498|\n",
      "|            20|   618593|\n",
      "+--------------+---------+\n",
      "only showing top 5 rows\n",
      "\n"
     ]
    }
   ],
   "source": [
    "# Displaying the frequency numbers for the top 5 violation codes\n",
    "violation_code_freq.orderBy('Frequency', ascending = False).show(5)"
   ]
  },
  {
   "cell_type": "markdown",
   "metadata": {},
   "source": [
    "2. How often does each 'vehicle body type' get a parking ticket? How about the 'vehicle make'? (Hint: Find the top 5 for both.)"
   ]
  },
  {
   "cell_type": "code",
   "execution_count": 23,
   "metadata": {},
   "outputs": [],
   "source": [
    "# First, let's perform an aggregation on Violation Code to identify the count of entries for each in the data\n",
    "vehicle_body_freq = df2017 \\\n",
    "                    .groupBy('Vehicle Body Type') \\\n",
    "                    .agg(count('Vehicle Body Type').alias('Frequency')) \\\n",
    "                    .orderBy('Frequency', ascending = False)"
   ]
  },
  {
   "cell_type": "code",
   "execution_count": 24,
   "metadata": {},
   "outputs": [
    {
     "data": {
      "image/png": "[encoded data removed]",
      "text/plain": [
       "<Figure size 1440x288 with 1 Axes>"
      ]
     },
     "metadata": {},
     "output_type": "display_data"
    }
   ],
   "source": [
    "# Plotting the Vehicle Body Type Frequency in a bor plot to visualize the distribution (atleast more than 1000 tickets collected)\n",
    "import pandas as pd\n",
    "import matplotlib.pyplot as plt\n",
    "%matplotlib inline \n",
    "\n",
    "vehicle_body_freq_pd = vehicle_body_freq.toPandas()\n",
    "vehicle_body_freq_pd.index = vehicle_body_freq_pd['Vehicle Body Type']\n",
    "\n",
    "# plt.figure(figsize=(1,1))\n",
    "vehicle_body_freq_pd.loc[vehicle_body_freq_pd['Frequency']>1000, :].plot.bar()\n",
    "plt.xlabel('Vehicle Body Type', fontsize=12)\n",
    "plt.ylabel('Tickets Collected', fontsize=12)\n",
    "plt.gcf().set_size_inches(20, 4)\n",
    "plt.show()"
   ]
  },
  {
   "cell_type": "code",
   "execution_count": 25,
   "metadata": {},
   "outputs": [
    {
     "name": "stdout",
     "output_type": "stream",
     "text": [
      "+-----------------+---------+\n",
      "|Vehicle Body Type|Frequency|\n",
      "+-----------------+---------+\n",
      "|             SUBN|  3719802|\n",
      "|             4DSD|  3082020|\n",
      "|              VAN|  1411970|\n",
      "|             DELV|   687330|\n",
      "|              SDN|   438191|\n",
      "+-----------------+---------+\n",
      "only showing top 5 rows\n",
      "\n"
     ]
    }
   ],
   "source": [
    "# Displaying the top 5 'vehicle body type' frequencies\n",
    "vehicle_body_freq.show(5)"
   ]
  },
  {
   "cell_type": "code",
   "execution_count": 26,
   "metadata": {},
   "outputs": [],
   "source": [
    "# Next, let's perform an aggregation on Vehicle Make to identify the count of entries for each in the data\n",
    "vehicle_make_freq = df2017 \\\n",
    "                    .groupBy('Vehicle Make') \\\n",
    "                    .agg(count('Vehicle Make').alias('Frequency')) \\\n",
    "                    .orderBy('Frequency', ascending = False)"
   ]
  },
  {
   "cell_type": "code",
   "execution_count": 27,
   "metadata": {},
   "outputs": [
    {
     "data": {
      "image/png": "[encoded data removed]",
      "text/plain": [
       "<Figure size 1440x288 with 1 Axes>"
      ]
     },
     "metadata": {},
     "output_type": "display_data"
    }
   ],
   "source": [
    "# Plotting the Vehicle Make Frequency in a bor plot to visualize the distribution (atleast more than 1000 tickets collected)\n",
    "import pandas as pd\n",
    "import matplotlib.pyplot as plt\n",
    "%matplotlib inline \n",
    "\n",
    "vehicle_make_freq_pd = vehicle_make_freq.toPandas()\n",
    "vehicle_make_freq_pd.index = vehicle_make_freq_pd['Vehicle Make']\n",
    "\n",
    "# plt.figure(figsize=(1,1))\n",
    "vehicle_make_freq_pd.loc[vehicle_make_freq_pd['Frequency']>1000, :].plot.bar()\n",
    "plt.xlabel('Vehicle Make', fontsize=12)\n",
    "plt.ylabel('Tickets Collected', fontsize=12)\n",
    "plt.gcf().set_size_inches(20, 4)\n",
    "plt.show()"
   ]
  },
  {
   "cell_type": "code",
   "execution_count": 28,
   "metadata": {},
   "outputs": [
    {
     "name": "stdout",
     "output_type": "stream",
     "text": [
      "+------------+---------+\n",
      "|Vehicle Make|Frequency|\n",
      "+------------+---------+\n",
      "|        FORD|  1280958|\n",
      "|       TOYOT|  1211451|\n",
      "|       HONDA|  1079238|\n",
      "|       NISSA|   918590|\n",
      "|       CHEVR|   714655|\n",
      "+------------+---------+\n",
      "only showing top 5 rows\n",
      "\n"
     ]
    }
   ],
   "source": [
    "# Displaying the top 5 'vehicle make' frequencies\n",
    "vehicle_make_freq.show(5)"
   ]
  },
  {
   "cell_type": "markdown",
   "metadata": {},
   "source": [
    "3. A precinct is a police station that has a certain zone of the city under its command. Find the (5 highest) frequencies of tickets for each of the following:\n",
    "    - 'Violation Precinct' (This is the precinct of the zone where the violation occurred). Using this, can you draw any insights for parking violations in any specific areas of the city?\n",
    "    - 'Issuer Precinct' (This is the precinct that issued the ticket.)\n",
    "\n",
    "Here, you would have noticed that the dataframe has the 'Violating Precinct' or 'Issuing Precinct' as '0'. These are erroneous entries. Hence, you need to provide the records for five correct precincts. (Hint: Print the top six entries after sorting.)"
   ]
  },
  {
   "cell_type": "code",
   "execution_count": 29,
   "metadata": {},
   "outputs": [
    {
     "name": "stdout",
     "output_type": "stream",
     "text": [
      "+------------------+---------+\n",
      "|Violation Precinct|Frequency|\n",
      "+------------------+---------+\n",
      "|                 0|  2072400|\n",
      "|                19|   535671|\n",
      "|                14|   352450|\n",
      "|                 1|   331810|\n",
      "|                18|   306920|\n",
      "|               114|   296514|\n",
      "+------------------+---------+\n",
      "only showing top 6 rows\n",
      "\n"
     ]
    }
   ],
   "source": [
    "# Displaying the top 5 'Violation Precinct' frequencies\n",
    "# We see that there is an erroneos value of 0 in the columns, hence we'll be printing the top 6\n",
    "violation_precinct_freq = df2017 \\\n",
    "                          .groupBy('Violation Precinct') \\\n",
    "                          .agg(count('Violation Precinct').alias('Frequency')) \\\n",
    "                          .orderBy('Frequency', ascending = False)\n",
    "\n",
    "violation_precinct_freq.show(6)"
   ]
  },
  {
   "cell_type": "code",
   "execution_count": 30,
   "metadata": {},
   "outputs": [
    {
     "name": "stdout",
     "output_type": "stream",
     "text": [
      "+---------------+---------+\n",
      "|Issuer Precinct|Frequency|\n",
      "+---------------+---------+\n",
      "|              0|  2388479|\n",
      "|             19|   521513|\n",
      "|             14|   344977|\n",
      "|              1|   321170|\n",
      "|             18|   296553|\n",
      "|            114|   289950|\n",
      "+---------------+---------+\n",
      "only showing top 6 rows\n",
      "\n"
     ]
    }
   ],
   "source": [
    "issuer_precinct_freq = df2017 \\\n",
    "                       .groupBy('Issuer Precinct') \\\n",
    "                       .agg(count('Issuer Precinct').alias('Frequency')) \\\n",
    "                       .orderBy('Frequency', ascending = False)\n",
    "\n",
    "issuer_precinct_freq.show(6)"
   ]
  },
  {
   "cell_type": "code",
   "execution_count": 31,
   "metadata": {},
   "outputs": [
    {
     "data": {
      "image/png": "[encoded data removed]",
      "text/plain": [
       "<Figure size 360x216 with 1 Axes>"
      ]
     },
     "metadata": {},
     "output_type": "display_data"
    },
    {
     "data": {
      "image/png": "[encoded data removed]",
      "text/plain": [
       "<Figure size 360x216 with 1 Axes>"
      ]
     },
     "metadata": {},
     "output_type": "display_data"
    }
   ],
   "source": [
    "# Let's visualize the issuer precincts with most number of tickets collected (excluding 0)\n",
    "import pandas as pd\n",
    "import matplotlib.pyplot as plt\n",
    "%matplotlib inline \n",
    "\n",
    "violation_precinct_freq_pd = violation_precinct_freq.toPandas()\n",
    "violation_precinct_freq_pd.index = violation_precinct_freq_pd['Violation Precinct']\n",
    "\n",
    "issuer_precinct_freq_pd = issuer_precinct_freq.toPandas()\n",
    "issuer_precinct_freq_pd.index = issuer_precinct_freq_pd['Issuer Precinct']\n",
    "\n",
    "# plt.figure(figsize=(1,1))\n",
    "violation_precinct_freq_pd.loc[violation_precinct_freq_pd['Violation Precinct']!=0,:].head(5).plot.bar()\n",
    "plt.xlabel('Violation Precinct', fontsize=12)\n",
    "plt.ylabel('Tickets Collected', fontsize=12)\n",
    "plt.title('Top Violation Precincts in terms of Tickets Collected')\n",
    "plt.gcf().set_size_inches(5, 3)\n",
    "\n",
    "issuer_precinct_freq_pd.loc[issuer_precinct_freq_pd['Issuer Precinct']!=0,:].head(5).plot.bar()\n",
    "plt.xlabel('Issuer Precinct', fontsize=12)\n",
    "plt.ylabel('Tickets Collected', fontsize=12)\n",
    "plt.title('Top Issuer Precincts in terms of Tickets Collected')\n",
    "plt.gcf().set_size_inches(5, 3)\n"
   ]
  },
  {
   "cell_type": "code",
   "execution_count": 32,
   "metadata": {},
   "outputs": [],
   "source": [
    "# We can see that the trend is the same for the top Issuer and Violation Precincts.\n",
    "# This tells us that, for the most cases, the issues are being registered in the same place where the violations occur"
   ]
  },
  {
   "cell_type": "markdown",
   "metadata": {},
   "source": [
    "4. Find the violation code frequencies for three precincts that have issued the most number of tickets. Do these precinct zones have an exceptionally high frequency of certain violation codes? Are these codes common across precincts? \n",
    "\n",
    "    (Hint: In the SQL view, use the 'where' attribute to filter among three precincts.)"
   ]
  },
  {
   "cell_type": "code",
   "execution_count": 33,
   "metadata": {},
   "outputs": [],
   "source": [
    "# Looking at the hint, we're expected to use SQL based table/view to perform the analysis\n",
    "# Let's recreate a SQL table view from our df\n",
    "df2017.createOrReplaceTempView(\"df2017_sql\")\n",
    "\n",
    "# The top 3 Issuer Precincts in terms of tickets issued are 19,14,1\n",
    "ip19_violations = spark.sql('select `Issuer Precinct`, `Violation Code`, count(*) as Frequency \\\n",
    "                             from df2017_sql \\\n",
    "                             where `Issuer Precinct` = 19 \\\n",
    "                             group by 1, 2 \\\n",
    "                             order by 1, 3 desc')\n",
    "\n",
    "ip14_violations = spark.sql('select `Issuer Precinct`, `Violation Code`, count(*) as Frequency \\\n",
    "                             from df2017_sql \\\n",
    "                             where `Issuer Precinct` = 14 \\\n",
    "                             group by 1, 2 \\\n",
    "                             order by 1, 3 desc')\n",
    "\n",
    "ip1_violations = spark.sql('select `Issuer Precinct`, `Violation Code`, count(*) as Frequency \\\n",
    "                            from df2017_sql \\\n",
    "                            where `Issuer Precinct` = 1 \\\n",
    "                            group by 1, 2 \\\n",
    "                            order by 1, 3 desc')"
   ]
  },
  {
   "cell_type": "code",
   "execution_count": 34,
   "metadata": {},
   "outputs": [
    {
     "data": {
      "image/png": "[encoded data removed]",
      "text/plain": [
       "<Figure size 720x216 with 1 Axes>"
      ]
     },
     "metadata": {},
     "output_type": "display_data"
    },
    {
     "data": {
      "image/png": "[encoded data removed]",
      "text/plain": [
       "<Figure size 720x216 with 1 Axes>"
      ]
     },
     "metadata": {},
     "output_type": "display_data"
    },
    {
     "data": {
      "image/png": "[encoded data removed]",
      "text/plain": [
       "<Figure size 720x216 with 1 Axes>"
      ]
     },
     "metadata": {},
     "output_type": "display_data"
    }
   ],
   "source": [
    "# Plotting the 3 Issuer precincts' data to understand whether they have a high frequency of certain violation codes\n",
    "# Let's plot the top 30 Violation Codes within each precinct\n",
    "import pandas as pd\n",
    "import matplotlib.pyplot as plt\n",
    "%matplotlib inline \n",
    "\n",
    "ip19_violations_pd = ip19_violations.select('Violation Code', 'Frequency').toPandas()\n",
    "ip19_violations_pd.index = ip19_violations_pd['Violation Code']\n",
    "\n",
    "ip14_violations_pd = ip14_violations.select('Violation Code', 'Frequency').toPandas()\n",
    "ip14_violations_pd.index = ip14_violations_pd['Violation Code']\n",
    "\n",
    "ip1_violations_pd = ip1_violations.select('Violation Code', 'Frequency').toPandas()\n",
    "ip1_violations_pd.index = ip1_violations_pd['Violation Code']\n",
    "\n",
    "# plt.figure(figsize=(1,1))\n",
    "ip19_violations_pd.head(30).plot.bar()\n",
    "plt.xlabel('Violation Code', fontsize=12)\n",
    "plt.ylabel('Tickets Collected', fontsize=12)\n",
    "plt.title('Issuer Precinct 19')\n",
    "plt.gcf().set_size_inches(10, 3)\n",
    "\n",
    "ip14_violations_pd.head(30).plot.bar()\n",
    "plt.xlabel('Violation Code', fontsize=12)\n",
    "plt.ylabel('Tickets Collected', fontsize=12)\n",
    "plt.title('Issuer Precinct 14')\n",
    "plt.gcf().set_size_inches(10, 3)\n",
    "\n",
    "ip1_violations_pd.head(30).plot.bar()\n",
    "plt.xlabel('Violation Code', fontsize=12)\n",
    "plt.ylabel('Tickets Collected', fontsize=12)\n",
    "plt.title('Issuer Precinct 1')\n",
    "plt.gcf().set_size_inches(10, 3)\n",
    "\n",
    "plt.show()\n"
   ]
  },
  {
   "cell_type": "code",
   "execution_count": 35,
   "metadata": {},
   "outputs": [],
   "source": [
    "# We observe that the different precincts have different distributions of violation codes in terms of tickets collected.\n",
    "# Precinct 19's top 3 violation codes were 46, 37, 38\n",
    "# Precinct 14's top 3 violation codes were 14, 69, 31\n",
    "# Precinct 1's top 3 violation codes were 14, 16, 20\n",
    "# The violations therefore vary across different precincts\n",
    "# However, the violation code 14 is one that appeared among the top of all the 3 precincts analyzed"
   ]
  },
  {
   "cell_type": "markdown",
   "metadata": {},
   "source": [
    "5. Find out the properties of parking violations across different times of the day:\n",
    "    - Find a way to deal with missing values, if any.\n",
    "    (Hint: Check for the null values using 'isNull' under the SQL. Also, to remove the null values, check the 'dropna' command in the API documentation.)\n",
    "\n",
    "    - The Violation Time field is specified in a strange format. Find a way to make this a time attribute that you can use to divide into groups.\n",
    "\n",
    "    - Divide 24 hours into six equal discrete bins of time. Choose the intervals as you see fit. For each of these groups, find the three most commonly occurring violations.\n",
    "    (Hint: Use the CASE-WHEN in SQL view to segregate into bins. To find the most commonly occurring violations, you can use an approach similar to the one mentioned in the hint for question 4.)\n",
    "\n",
    "    - Now, try another direction. For the three most commonly occurring violation codes, find the most common time of the day (in terms of the bins from the previous part)."
   ]
  },
  {
   "cell_type": "code",
   "execution_count": 36,
   "metadata": {},
   "outputs": [
    {
     "name": "stdout",
     "output_type": "stream",
     "text": [
      "+-------------------+--------------+---------------+----------------+--------------------+-------------------+--------------+------------------------+---------------------+--------------------+\n",
      "|summon_number_nulls|plate_id_nulls|reg_state_nulls|issue_date_nulls|violation_code_nulls|veh_body_type_nulls|veh_make_nulls|violation_precinct_nulls|issuer_precinct_nulls|violation_time_nulls|\n",
      "+-------------------+--------------+---------------+----------------+--------------------+-------------------+--------------+------------------------+---------------------+--------------------+\n",
      "|                  0|             0|              0|               0|                   0|                  0|             0|                       0|                    0|                   0|\n",
      "+-------------------+--------------+---------------+----------------+--------------------+-------------------+--------------+------------------------+---------------------+--------------------+\n",
      "\n"
     ]
    }
   ],
   "source": [
    "# Firstly, let's check for any missing values in the data\n",
    "# We will do this individually for each of the columns in the dataset using the sql is null command\n",
    "spark.sql('select sum(case when `Summons Number` is null then 1 else 0 end) as summon_number_nulls, \\\n",
    "           sum(case when `Plate ID` is null then 1 else 0 end) as plate_id_nulls, \\\n",
    "           sum(case when `Registration State` is null then 1 else 0 end) as reg_state_nulls, \\\n",
    "           sum(case when `Issue Date` is null then 1 else 0 end) as issue_date_nulls, \\\n",
    "           sum(case when `Violation Code` is null then 1 else 0 end) as violation_code_nulls, \\\n",
    "           sum(case when `Vehicle Body Type` is null then 1 else 0 end) as veh_body_type_nulls, \\\n",
    "           sum(case when `Vehicle Make` is null then 1 else 0 end) as veh_make_nulls, \\\n",
    "           sum(case when `Violation Precinct` is null then 1 else 0 end) as violation_precinct_nulls, \\\n",
    "           sum(case when `Issuer Precinct` is null then 1 else 0 end) as issuer_precinct_nulls, \\\n",
    "           sum(case when `Violation Time` is null then 1 else 0 end) as violation_time_nulls \\\n",
    "           from df2017_sql').show()\n"
   ]
  },
  {
   "cell_type": "code",
   "execution_count": 37,
   "metadata": {},
   "outputs": [],
   "source": [
    "# We can see that there are no null values in the dataset\n",
    "# Next, we've been asked to convert the Violation Time into a lot more understandable format\n",
    "\n",
    "# The Violation Time column is in the format HHmmA where the last character stands for AM/PM.\n",
    "# Let's convert this into 24 hour format timestamp (we'll take the date value from Issue Date and the time component from the violation time)\n",
    "df2017_time = spark.sql(\"select *, \\\n",
    "        case when `Violation Time` like '%A' then \\\n",
    "            cast(UNIX_TIMESTAMP(concat(to_date(`Issue Date`), cast(substring(time_new, 0, 2) as int),':',substring(time_new, 3, 2),':00'), 'yyyy-mm-ddHH:mm:ss') as timestamp) \\\n",
    "        else cast(UNIX_TIMESTAMP(concat(to_date(`Issue Date`), cast(substring(time_new, 0, 2) as int)+12 ,':',substring(time_new, 3, 2),':00'), 'yyyy-mm-ddHH:mm:ss') as timestamp) end as `Violation Time New`  \\\n",
    "        from (select *, \\\n",
    "              concat(replace(substring(`Violation Time`, 0, 2), '12', '00'), substring(`Violation Time`, 3, 3)) as time_new \\\n",
    "              from df2017_sql)\")\n",
    "\n",
    "# Let's create a SQL table/view for the above created table\n",
    "df2017_time.createOrReplaceTempView(\"df2017_time\")\n",
    "\n",
    "# Next, we'll create a new column for the Violation Hour where we'll extract the hour from the 24-hour format violation time\n",
    "# This new hour column will then be used for bucketing later\n",
    "df2017_time = spark.sql(\"select *, hour(`Violation Time New`) as `Violation Hour` \\\n",
    "                         from df2017_time\")\n",
    "\n",
    "df2017_time.createOrReplaceTempView(\"df2017_time\")"
   ]
  },
  {
   "cell_type": "code",
   "execution_count": 38,
   "metadata": {},
   "outputs": [],
   "source": [
    "# Divide 24 hours into six equal discrete bins of time - this means each bucket should be within a 4-hour interval\n",
    "# Let's use the following bins (0:4 - MidNight, 4:8 - Early Morning, 8:12 - Late Morning, 12:16 - Afternoon, 16:20 - Evening, 20:24 - Night)\n",
    "df2017_time = spark.sql(\"select *, \\\n",
    "                         case when `Violation Hour`<4 then 'Mid-Night' \\\n",
    "                              when `Violation Hour`>=4 and `Violation Hour`<8 then 'Early Morning' \\\n",
    "                              when `Violation Hour`>=8 and `Violation Hour`<12 then 'Late Morning' \\\n",
    "                              when `Violation Hour`>=12 and `Violation Hour`<16 then 'Afternoon' \\\n",
    "                              when `Violation Hour`>=16 and `Violation Hour`<20 then 'Evening' \\\n",
    "                              when `Violation Hour`>=20 then 'Night' \\\n",
    "                              else null end as day_part \\\n",
    "                         from df2017_time\")\n",
    "\n",
    "df2017_time.createOrReplaceTempView(\"df2017_time\")"
   ]
  },
  {
   "cell_type": "code",
   "execution_count": 39,
   "metadata": {},
   "outputs": [
    {
     "name": "stdout",
     "output_type": "stream",
     "text": [
      "+--------------+\n",
      "|Violation Time|\n",
      "+--------------+\n",
      "|         .240P|\n",
      "|         .359A|\n",
      "|         .933A|\n",
      "|         0+45A|\n",
      "|         0.22A|\n",
      "+--------------+\n",
      "only showing top 5 rows\n",
      "\n"
     ]
    }
   ],
   "source": [
    "# Looking at a sample for the Violation Time\n",
    "df2017_time \\\n",
    ".select('Violation Time') \\\n",
    ".orderBy('Violation Time').show(5)"
   ]
  },
  {
   "cell_type": "code",
   "execution_count": 40,
   "metadata": {},
   "outputs": [],
   "source": [
    "# We can see that there are nan values in the Violation Time column, which we couldn't find using the isnull command.\n",
    "# Also, there are some data points in the column that are erroneous. We will be excluding these values in the following analysis"
   ]
  },
  {
   "cell_type": "code",
   "execution_count": 41,
   "metadata": {},
   "outputs": [
    {
     "name": "stdout",
     "output_type": "stream",
     "text": [
      "+-------------+--------------+---------+\n",
      "|     day_part|Violation Code|Frequency|\n",
      "+-------------+--------------+---------+\n",
      "|      Evening|            38|   203232|\n",
      "|      Evening|            37|   145784|\n",
      "|      Evening|            14|   144748|\n",
      "|Early Morning|            14|   141275|\n",
      "|Early Morning|            21|   119466|\n",
      "|Early Morning|            40|   112186|\n",
      "|    Afternoon|            36|   588395|\n",
      "|    Afternoon|            38|   462758|\n",
      "|    Afternoon|            37|   337075|\n",
      "| Late Morning|            21|  1182676|\n",
      "| Late Morning|            36|   751422|\n",
      "| Late Morning|            38|   346518|\n",
      "|        Night|             7|    65593|\n",
      "|        Night|            38|    47029|\n",
      "|        Night|            14|    44778|\n",
      "|    Mid-Night|            21|    77461|\n",
      "|    Mid-Night|            40|    50947|\n",
      "|    Mid-Night|            78|    32243|\n",
      "+-------------+--------------+---------+\n",
      "\n"
     ]
    }
   ],
   "source": [
    "# For each of these groups, find the three most commonly occurring violations.\n",
    "# First, let's create a temporary table holding the frequency values for each of the violation codes within a daypart\n",
    "daypart_temp = spark.sql('select day_part, `Violation Code`, count(*) as Frequency \\\n",
    "                          from df2017_time \\\n",
    "                          where day_part is not null \\\n",
    "                          group by 1,2')\n",
    "\n",
    "daypart_temp.createOrReplaceTempView(\"daypart_temp\")\n",
    "\n",
    "# Next Let, assign a rank to ach value in descending order of Frequency partitioned by the day_part\n",
    "daypart_temp2 = spark.sql(\"select day_part, `Violation Code`, Frequency, \\\n",
    "                                  rank() over (partition by day_part order by Frequency desc) as rnk \\\n",
    "                           from daypart_temp\")\n",
    "\n",
    "daypart_temp2.createOrReplaceTempView(\"daypart_temp2\")\n",
    "\n",
    "# Finally, let's find the top 3 violations in each day_part\n",
    "day_violation_freq = spark.sql(\"select day_part, `Violation Code`, Frequency \\\n",
    "                                from daypart_temp2 \\\n",
    "                                where rnk<=3\")\n",
    "day_violation_freq.show()"
   ]
  },
  {
   "cell_type": "code",
   "execution_count": 42,
   "metadata": {},
   "outputs": [],
   "source": [
    "# The 3 most occuring Violation Codes for each of the day buckets are as shown above\n",
    "# Early Morning: 14, 21, 40\n",
    "# Late Morning: 21, 36, 38\n",
    "# Afternoon: 36, 38, 37\n",
    "# Evening: 38, 37, 14\n",
    "# Night: 7, 38, 14\n",
    "# Mid-Night: 21, 40, 78"
   ]
  },
  {
   "cell_type": "code",
   "execution_count": 43,
   "metadata": {},
   "outputs": [
    {
     "name": "stdout",
     "output_type": "stream",
     "text": [
      "+--------------+---------+\n",
      "|Violation Code|Frequency|\n",
      "+--------------+---------+\n",
      "|            21|  1528588|\n",
      "|            36|  1400614|\n",
      "|            38|  1062304|\n",
      "+--------------+---------+\n",
      "only showing top 3 rows\n",
      "\n"
     ]
    }
   ],
   "source": [
    "# Now, For the three most commonly occurring violation codes, find the most common time of the day (in terms of the bins from the previous part).\n",
    "# First, let's find the 3 most commonly occuring violation codes\n",
    "df2017_time.groupBy('Violation Code') \\\n",
    "           .agg(count('*').alias('Frequency')) \\\n",
    "           .orderBy('Frequency', ascending = False).show(3)"
   ]
  },
  {
   "cell_type": "code",
   "execution_count": 44,
   "metadata": {},
   "outputs": [
    {
     "name": "stdout",
     "output_type": "stream",
     "text": [
      "+--------------+-------------+---------+\n",
      "|Violation Code|     day_part|Frequency|\n",
      "+--------------+-------------+---------+\n",
      "|            38|    Afternoon|   462758|\n",
      "|            38| Late Morning|   346518|\n",
      "|            38|      Evening|   203232|\n",
      "|            38|        Night|    47029|\n",
      "|            38|Early Morning|     2300|\n",
      "|            38|    Mid-Night|      464|\n",
      "|            36| Late Morning|   751422|\n",
      "|            36|    Afternoon|   588395|\n",
      "|            36|Early Morning|    33939|\n",
      "|            36|      Evening|    26858|\n",
      "|            21| Late Morning|  1182676|\n",
      "|            21|    Afternoon|   148012|\n",
      "|            21|Early Morning|   119466|\n",
      "|            21|    Mid-Night|    77461|\n",
      "|            21|      Evening|      551|\n",
      "|            21|        Night|      365|\n",
      "+--------------+-------------+---------+\n",
      "\n"
     ]
    }
   ],
   "source": [
    "# Next, let's find the most common times of day where tickets are issued for each of the top 3 violation codes\n",
    "df2017_time.select('Violation Code', 'day_part') \\\n",
    "           .where((col('Violation Code').isin(21,36,38)) & (col('day_part').isNotNull())) \\\n",
    "           .groupBy('Violation Code', 'day_part') \\\n",
    "           .agg(count('day_part').alias('Frequency')) \\\n",
    "           .orderBy('Violation Code', 'Frequency', ascending = False).show()"
   ]
  },
  {
   "cell_type": "markdown",
   "metadata": {},
   "source": [
    "6. Let’s try and find some seasonality in this data:\n",
    "\n",
    "    - First, divide the year into a certain number of seasons, and find the frequencies of tickets for each season. (Hint: Use Issue Date to segregate into seasons.)\n",
    "\n",
    "    - Then, find the three most common violations for each of these seasons.\n",
    "    (Hint: You can use an approach similar to the one mentioned in the hint for question 4.)"
   ]
  },
  {
   "cell_type": "code",
   "execution_count": 45,
   "metadata": {},
   "outputs": [],
   "source": [
    "# Considering we're looking at data for the US, let's identify the different seasons that exist during the year in the year\n",
    "# Spring (March - May), Summer (June - August), Autumn (September - November), Winter (December - February)\n",
    "# Let's first create a column in the df2017 dataset which will hold the month of issue date\n",
    "from pyspark.sql.functions import month\n",
    "df2017_time = df2017_time.withColumn('Issue Month', month('Issue Date'))\n",
    "df2017_time.createOrReplaceTempView(\"df2017_time\")\n",
    "\n",
    "# Let's add the seasons data to the dataframe corresponding to the months of the year\n",
    "df2017_time = spark.sql(\"select *, \\\n",
    "                                case when `Issue Month`>=3 and `Issue Month`<=5 then 'Spring' \\\n",
    "                                     when `Issue Month`>=6 and `Issue Month`<=8 then 'Summer' \\\n",
    "                                     when `Issue Month`>=9 and `Issue Month`<=11 then 'Autumn' \\\n",
    "                                     else 'Winter' end as Season \\\n",
    "                         from df2017_time\")\n",
    "\n",
    "df2017_time.createOrReplaceTempView(\"df2017_time\")"
   ]
  },
  {
   "cell_type": "code",
   "execution_count": 46,
   "metadata": {},
   "outputs": [
    {
     "name": "stdout",
     "output_type": "stream",
     "text": [
      "+------+---------+\n",
      "|Season|Frequency|\n",
      "+------+---------+\n",
      "|Spring|  2880687|\n",
      "|Autumn|  2830802|\n",
      "|Summer|  2606208|\n",
      "|Winter|  2485331|\n",
      "+------+---------+\n",
      "\n"
     ]
    }
   ],
   "source": [
    "# Let's find the frequency of tickets in each season\n",
    "df2017_time.groupBy('Season') \\\n",
    "           .agg(count('*').alias('Frequency')) \\\n",
    "           .orderBy('Frequency', ascending = False).show()"
   ]
  },
  {
   "cell_type": "code",
   "execution_count": 47,
   "metadata": {},
   "outputs": [
    {
     "name": "stdout",
     "output_type": "stream",
     "text": [
      "+------+--------------+---------+\n",
      "|Season|Violation Code|Frequency|\n",
      "+------+--------------+---------+\n",
      "|Spring|            21|   402807|\n",
      "|Spring|            36|   344834|\n",
      "|Spring|            38|   271192|\n",
      "|Summer|            21|   405961|\n",
      "|Summer|            38|   247561|\n",
      "|Summer|            36|   240396|\n",
      "|Autumn|            36|   456046|\n",
      "|Autumn|            21|   357479|\n",
      "|Autumn|            38|   283828|\n",
      "|Winter|            21|   362341|\n",
      "|Winter|            36|   359338|\n",
      "|Winter|            38|   259723|\n",
      "+------+--------------+---------+\n",
      "\n"
     ]
    }
   ],
   "source": [
    "# For each of the seasons, find the three most commonly occurring violations.\n",
    "# First, let's create a temporary table holding the frequency values for each of the violation codes within a season\n",
    "season_temp = spark.sql('select Season, `Violation Code`, count(*) as Frequency \\\n",
    "                         from df2017_time \\\n",
    "                         group by 1,2')\n",
    "\n",
    "season_temp.createOrReplaceTempView(\"season_temp\")\n",
    "\n",
    "# Next Let, assign a rank to ach value in descending order of Frequency partitioned by the day_part\n",
    "season_temp2 = spark.sql(\"select Season, `Violation Code`, Frequency, \\\n",
    "                                 rank() over (partition by Season order by Frequency desc) as rnk \\\n",
    "                          from season_temp\")\n",
    "\n",
    "season_temp2.createOrReplaceTempView(\"season_temp2\")\n",
    "\n",
    "# Finally, let's find the top 3 violations in each day_part\n",
    "spark.sql(\"select Season, `Violation Code`, Frequency \\\n",
    "           from season_temp2 \\\n",
    "           where rnk<=3\").show()"
   ]
  },
  {
   "cell_type": "code",
   "execution_count": 48,
   "metadata": {},
   "outputs": [],
   "source": [
    "# The 3 most occuring Violation Codes for each of the seasons are as shown above\n",
    "# Spring: 21, 36, 38\n",
    "# Summer: 21, 38, 36\n",
    "# Autumn: 36, 21, 38\n",
    "# Winter: 21, 36, 38"
   ]
  },
  {
   "cell_type": "code",
   "execution_count": 49,
   "metadata": {},
   "outputs": [],
   "source": [
    "# We can see that across all the seasons, the top 3 violation codes are more or less very similar (interchangeably)"
   ]
  },
  {
   "cell_type": "markdown",
   "metadata": {},
   "source": [
    "7. The fines collected from all the instances of parking violation constitute a source of revenue for the NYC Police Department. Let’s take an example of estimating this for the three most commonly occurring codes:\n",
    "    - Find the total occurrences of the three most common violation codes.\n",
    "    - Then, visit the website: http://www1.nyc.gov/site/finance/vehicles/services-violation-codes.page\n",
    "    - It lists the fines associated with different violation codes. They’re divided into two categories: one for the highest-density locations in the city and the other for the rest of the city. For the sake of simplicity, take the average of the two.\n",
    "    - Using this information, find the total amount collected for the three violation codes with the maximum tickets. State the code that has the highest total collection.\n",
    "    - What can you intuitively infer from these findings?"
   ]
  },
  {
   "cell_type": "code",
   "execution_count": 50,
   "metadata": {},
   "outputs": [
    {
     "name": "stdout",
     "output_type": "stream",
     "text": [
      "+--------------+---------+\n",
      "|Violation Code|Frequency|\n",
      "+--------------+---------+\n",
      "|            21|  1528588|\n",
      "|            36|  1400614|\n",
      "|            38|  1062304|\n",
      "+--------------+---------+\n",
      "only showing top 3 rows\n",
      "\n"
     ]
    }
   ],
   "source": [
    "# First let's find the total occurence of the 3 most common violation codes\n",
    "violation_code_freq2 = df2017_time.groupBy('Violation Code') \\\n",
    "                                  .agg(count('*').alias('Frequency')) \\\n",
    "                                  .orderBy('Frequency', ascending = False)\n",
    "\n",
    "violation_code_freq2.createOrReplaceTempView(\"violation_code_freq2\")\n",
    "violation_code_freq2.show(3)"
   ]
  },
  {
   "cell_type": "code",
   "execution_count": 51,
   "metadata": {},
   "outputs": [],
   "source": [
    "# From the above analysis, we can infer that the top violation codes were 21, 36 and 38 in terms of tickets collected\n",
    "# Using the data on the site listed, the average price for the violation codes is as follows:\n",
    "# 21 --> (65+45)/2 = 55, 36 --> (50+50)/2 = 50, 38 --> (65+35)/2 = 50"
   ]
  },
  {
   "cell_type": "code",
   "execution_count": 52,
   "metadata": {},
   "outputs": [
    {
     "name": "stdout",
     "output_type": "stream",
     "text": [
      "+--------------+-----------------+------------+\n",
      "|Violation Code|Tickets Collected|Total Amount|\n",
      "+--------------+-----------------+------------+\n",
      "|            21|          1528588|    84072340|\n",
      "|            36|          1400614|    70030700|\n",
      "|            38|          1062304|    53115200|\n",
      "+--------------+-----------------+------------+\n",
      "\n"
     ]
    }
   ],
   "source": [
    "# Let's use this to find the total amount collected for the 3 violation codes with the maximum tickets:\n",
    "spark.sql(\"select `Violation Code`, Frequency as `Tickets Collected`, \\\n",
    "                   case when `Violation Code` = 21 then Frequency*55 \\\n",
    "                        when `Violation Code` = 36 then Frequency*50 \\\n",
    "                        when `Violation Code` = 38 then Frequency*50 \\\n",
    "                        else null end as `Total Amount` \\\n",
    "           from violation_code_freq2 \\\n",
    "           where `Violation Code` in (21, 36, 38)\").show()"
   ]
  },
  {
   "cell_type": "code",
   "execution_count": 53,
   "metadata": {},
   "outputs": [],
   "source": [
    "# From the above analysis, we can infer that the majority of the tickets were collected for the Violation Code 21\n",
    "# Offense Definition- Street Cleaning: No parking where parking is not allowed by sign, street marking or traffic control device\n",
    "# In terms of the amount collected, the highest was collected for the Violation Code 21 too!"
   ]
  },
  {
   "cell_type": "code",
   "execution_count": 54,
   "metadata": {},
   "outputs": [],
   "source": [
    "# Now that we're done with the analysis, let's stop the Spark cluster\n",
    "spark.stop()"
   ]
  }
 ],
 "metadata": {
  "kernelspec": {
   "display_name": "PySpark",
   "language": "python",
   "name": "pyspark"
  },
  "language_info": {
   "codemirror_mode": {
    "name": "ipython",
    "version": 3
   },
   "file_extension": ".py",
   "mimetype": "text/x-python",
   "name": "python",
   "nbconvert_exporter": "python",
   "pygments_lexer": "ipython3",
   "version": "3.6.5"
  }
 },
 "nbformat": 4,
 "nbformat_minor": 2
}
